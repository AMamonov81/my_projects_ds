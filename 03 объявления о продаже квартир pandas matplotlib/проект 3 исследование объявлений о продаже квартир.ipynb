{
 "cells": [
  {
   "cell_type": "markdown",
   "metadata": {},
   "source": [
    "# Исследование объявлений о продаже квартир\n",
    "\n",
    "В вашем распоряжении данные сервиса Яндекс.Недвижимость — архив объявлений о продаже квартир в Санкт-Петербурге и соседних населённых пунктов за несколько лет. Нужно научиться определять рыночную стоимость объектов недвижимости. Ваша задача — установить параметры. Это позволит построить автоматизированную систему: она отследит аномалии и мошенническую деятельность. \n",
    "\n",
    "По каждой квартире на продажу доступны два вида данных. Первые вписаны пользователем, вторые — получены автоматически на основе картографических данных. Например, расстояние до центра, аэропорта, ближайшего парка и водоёма. "
   ]
  },
  {
   "cell_type": "markdown",
   "metadata": {},
   "source": [
    "### Откройте файл с данными и изучите общую информацию. "
   ]
  },
  {
   "cell_type": "code",
   "execution_count": 3,
   "metadata": {
    "scrolled": false
   },
   "outputs": [],
   "source": [
    "import pandas as pd\n",
    "import matplotlib.pyplot as plt\n",
    "import numpy as np"
   ]
  },
  {
   "cell_type": "code",
   "execution_count": 4,
   "metadata": {},
   "outputs": [],
   "source": [
    "data = pd.read_csv('real_estate_data.csv', sep='\\t')"
   ]
  },
  {
   "cell_type": "code",
   "execution_count": 5,
   "metadata": {},
   "outputs": [
    {
     "data": {
      "text/html": [
       "<div>\n",
       "<style scoped>\n",
       "    .dataframe tbody tr th:only-of-type {\n",
       "        vertical-align: middle;\n",
       "    }\n",
       "\n",
       "    .dataframe tbody tr th {\n",
       "        vertical-align: top;\n",
       "    }\n",
       "\n",
       "    .dataframe thead th {\n",
       "        text-align: right;\n",
       "    }\n",
       "</style>\n",
       "<table border=\"1\" class=\"dataframe\">\n",
       "  <thead>\n",
       "    <tr style=\"text-align: right;\">\n",
       "      <th></th>\n",
       "      <th>total_images</th>\n",
       "      <th>last_price</th>\n",
       "      <th>total_area</th>\n",
       "      <th>first_day_exposition</th>\n",
       "      <th>rooms</th>\n",
       "      <th>ceiling_height</th>\n",
       "      <th>floors_total</th>\n",
       "      <th>living_area</th>\n",
       "      <th>floor</th>\n",
       "      <th>is_apartment</th>\n",
       "      <th>...</th>\n",
       "      <th>kitchen_area</th>\n",
       "      <th>balcony</th>\n",
       "      <th>locality_name</th>\n",
       "      <th>airports_nearest</th>\n",
       "      <th>cityCenters_nearest</th>\n",
       "      <th>parks_around3000</th>\n",
       "      <th>parks_nearest</th>\n",
       "      <th>ponds_around3000</th>\n",
       "      <th>ponds_nearest</th>\n",
       "      <th>days_exposition</th>\n",
       "    </tr>\n",
       "  </thead>\n",
       "  <tbody>\n",
       "    <tr>\n",
       "      <th>0</th>\n",
       "      <td>20</td>\n",
       "      <td>13000000.0</td>\n",
       "      <td>108.0</td>\n",
       "      <td>2019-03-07T00:00:00</td>\n",
       "      <td>3</td>\n",
       "      <td>2.70</td>\n",
       "      <td>16.0</td>\n",
       "      <td>51.0</td>\n",
       "      <td>8</td>\n",
       "      <td>NaN</td>\n",
       "      <td>...</td>\n",
       "      <td>25.0</td>\n",
       "      <td>NaN</td>\n",
       "      <td>Санкт-Петербург</td>\n",
       "      <td>18863.0</td>\n",
       "      <td>16028.0</td>\n",
       "      <td>1.0</td>\n",
       "      <td>482.0</td>\n",
       "      <td>2.0</td>\n",
       "      <td>755.0</td>\n",
       "      <td>NaN</td>\n",
       "    </tr>\n",
       "    <tr>\n",
       "      <th>1</th>\n",
       "      <td>7</td>\n",
       "      <td>3350000.0</td>\n",
       "      <td>40.4</td>\n",
       "      <td>2018-12-04T00:00:00</td>\n",
       "      <td>1</td>\n",
       "      <td>NaN</td>\n",
       "      <td>11.0</td>\n",
       "      <td>18.6</td>\n",
       "      <td>1</td>\n",
       "      <td>NaN</td>\n",
       "      <td>...</td>\n",
       "      <td>11.0</td>\n",
       "      <td>2.0</td>\n",
       "      <td>посёлок Шушары</td>\n",
       "      <td>12817.0</td>\n",
       "      <td>18603.0</td>\n",
       "      <td>0.0</td>\n",
       "      <td>NaN</td>\n",
       "      <td>0.0</td>\n",
       "      <td>NaN</td>\n",
       "      <td>81.0</td>\n",
       "    </tr>\n",
       "    <tr>\n",
       "      <th>2</th>\n",
       "      <td>10</td>\n",
       "      <td>5196000.0</td>\n",
       "      <td>56.0</td>\n",
       "      <td>2015-08-20T00:00:00</td>\n",
       "      <td>2</td>\n",
       "      <td>NaN</td>\n",
       "      <td>5.0</td>\n",
       "      <td>34.3</td>\n",
       "      <td>4</td>\n",
       "      <td>NaN</td>\n",
       "      <td>...</td>\n",
       "      <td>8.3</td>\n",
       "      <td>0.0</td>\n",
       "      <td>Санкт-Петербург</td>\n",
       "      <td>21741.0</td>\n",
       "      <td>13933.0</td>\n",
       "      <td>1.0</td>\n",
       "      <td>90.0</td>\n",
       "      <td>2.0</td>\n",
       "      <td>574.0</td>\n",
       "      <td>558.0</td>\n",
       "    </tr>\n",
       "    <tr>\n",
       "      <th>3</th>\n",
       "      <td>0</td>\n",
       "      <td>64900000.0</td>\n",
       "      <td>159.0</td>\n",
       "      <td>2015-07-24T00:00:00</td>\n",
       "      <td>3</td>\n",
       "      <td>NaN</td>\n",
       "      <td>14.0</td>\n",
       "      <td>NaN</td>\n",
       "      <td>9</td>\n",
       "      <td>NaN</td>\n",
       "      <td>...</td>\n",
       "      <td>NaN</td>\n",
       "      <td>0.0</td>\n",
       "      <td>Санкт-Петербург</td>\n",
       "      <td>28098.0</td>\n",
       "      <td>6800.0</td>\n",
       "      <td>2.0</td>\n",
       "      <td>84.0</td>\n",
       "      <td>3.0</td>\n",
       "      <td>234.0</td>\n",
       "      <td>424.0</td>\n",
       "    </tr>\n",
       "    <tr>\n",
       "      <th>4</th>\n",
       "      <td>2</td>\n",
       "      <td>10000000.0</td>\n",
       "      <td>100.0</td>\n",
       "      <td>2018-06-19T00:00:00</td>\n",
       "      <td>2</td>\n",
       "      <td>3.03</td>\n",
       "      <td>14.0</td>\n",
       "      <td>32.0</td>\n",
       "      <td>13</td>\n",
       "      <td>NaN</td>\n",
       "      <td>...</td>\n",
       "      <td>41.0</td>\n",
       "      <td>NaN</td>\n",
       "      <td>Санкт-Петербург</td>\n",
       "      <td>31856.0</td>\n",
       "      <td>8098.0</td>\n",
       "      <td>2.0</td>\n",
       "      <td>112.0</td>\n",
       "      <td>1.0</td>\n",
       "      <td>48.0</td>\n",
       "      <td>121.0</td>\n",
       "    </tr>\n",
       "  </tbody>\n",
       "</table>\n",
       "<p>5 rows × 22 columns</p>\n",
       "</div>"
      ],
      "text/plain": [
       "   total_images  last_price  total_area first_day_exposition  rooms  \\\n",
       "0            20  13000000.0       108.0  2019-03-07T00:00:00      3   \n",
       "1             7   3350000.0        40.4  2018-12-04T00:00:00      1   \n",
       "2            10   5196000.0        56.0  2015-08-20T00:00:00      2   \n",
       "3             0  64900000.0       159.0  2015-07-24T00:00:00      3   \n",
       "4             2  10000000.0       100.0  2018-06-19T00:00:00      2   \n",
       "\n",
       "   ceiling_height  floors_total  living_area  floor is_apartment  ...  \\\n",
       "0            2.70          16.0         51.0      8          NaN  ...   \n",
       "1             NaN          11.0         18.6      1          NaN  ...   \n",
       "2             NaN           5.0         34.3      4          NaN  ...   \n",
       "3             NaN          14.0          NaN      9          NaN  ...   \n",
       "4            3.03          14.0         32.0     13          NaN  ...   \n",
       "\n",
       "   kitchen_area  balcony    locality_name  airports_nearest  \\\n",
       "0          25.0      NaN  Санкт-Петербург           18863.0   \n",
       "1          11.0      2.0   посёлок Шушары           12817.0   \n",
       "2           8.3      0.0  Санкт-Петербург           21741.0   \n",
       "3           NaN      0.0  Санкт-Петербург           28098.0   \n",
       "4          41.0      NaN  Санкт-Петербург           31856.0   \n",
       "\n",
       "  cityCenters_nearest  parks_around3000  parks_nearest  ponds_around3000  \\\n",
       "0             16028.0               1.0          482.0               2.0   \n",
       "1             18603.0               0.0            NaN               0.0   \n",
       "2             13933.0               1.0           90.0               2.0   \n",
       "3              6800.0               2.0           84.0               3.0   \n",
       "4              8098.0               2.0          112.0               1.0   \n",
       "\n",
       "   ponds_nearest  days_exposition  \n",
       "0          755.0              NaN  \n",
       "1            NaN             81.0  \n",
       "2          574.0            558.0  \n",
       "3          234.0            424.0  \n",
       "4           48.0            121.0  \n",
       "\n",
       "[5 rows x 22 columns]"
      ]
     },
     "execution_count": 5,
     "metadata": {},
     "output_type": "execute_result"
    }
   ],
   "source": [
    "data.head()"
   ]
  },
  {
   "cell_type": "code",
   "execution_count": 6,
   "metadata": {},
   "outputs": [
    {
     "name": "stdout",
     "output_type": "stream",
     "text": [
      "<class 'pandas.core.frame.DataFrame'>\n",
      "RangeIndex: 23699 entries, 0 to 23698\n",
      "Data columns (total 22 columns):\n",
      " #   Column                Non-Null Count  Dtype  \n",
      "---  ------                --------------  -----  \n",
      " 0   total_images          23699 non-null  int64  \n",
      " 1   last_price            23699 non-null  float64\n",
      " 2   total_area            23699 non-null  float64\n",
      " 3   first_day_exposition  23699 non-null  object \n",
      " 4   rooms                 23699 non-null  int64  \n",
      " 5   ceiling_height        14504 non-null  float64\n",
      " 6   floors_total          23613 non-null  float64\n",
      " 7   living_area           21796 non-null  float64\n",
      " 8   floor                 23699 non-null  int64  \n",
      " 9   is_apartment          2775 non-null   object \n",
      " 10  studio                23699 non-null  bool   \n",
      " 11  open_plan             23699 non-null  bool   \n",
      " 12  kitchen_area          21421 non-null  float64\n",
      " 13  balcony               12180 non-null  float64\n",
      " 14  locality_name         23650 non-null  object \n",
      " 15  airports_nearest      18157 non-null  float64\n",
      " 16  cityCenters_nearest   18180 non-null  float64\n",
      " 17  parks_around3000      18181 non-null  float64\n",
      " 18  parks_nearest         8079 non-null   float64\n",
      " 19  ponds_around3000      18181 non-null  float64\n",
      " 20  ponds_nearest         9110 non-null   float64\n",
      " 21  days_exposition       20518 non-null  float64\n",
      "dtypes: bool(2), float64(14), int64(3), object(3)\n",
      "memory usage: 3.7+ MB\n"
     ]
    }
   ],
   "source": [
    "data.info()"
   ]
  },
  {
   "cell_type": "code",
   "execution_count": 7,
   "metadata": {},
   "outputs": [
    {
     "data": {
      "text/html": [
       "<div>\n",
       "<style scoped>\n",
       "    .dataframe tbody tr th:only-of-type {\n",
       "        vertical-align: middle;\n",
       "    }\n",
       "\n",
       "    .dataframe tbody tr th {\n",
       "        vertical-align: top;\n",
       "    }\n",
       "\n",
       "    .dataframe thead th {\n",
       "        text-align: right;\n",
       "    }\n",
       "</style>\n",
       "<table border=\"1\" class=\"dataframe\">\n",
       "  <thead>\n",
       "    <tr style=\"text-align: right;\">\n",
       "      <th></th>\n",
       "      <th>total_images</th>\n",
       "      <th>last_price</th>\n",
       "      <th>total_area</th>\n",
       "      <th>rooms</th>\n",
       "      <th>ceiling_height</th>\n",
       "      <th>floors_total</th>\n",
       "      <th>living_area</th>\n",
       "      <th>floor</th>\n",
       "      <th>kitchen_area</th>\n",
       "      <th>balcony</th>\n",
       "      <th>airports_nearest</th>\n",
       "      <th>cityCenters_nearest</th>\n",
       "      <th>parks_around3000</th>\n",
       "      <th>parks_nearest</th>\n",
       "      <th>ponds_around3000</th>\n",
       "      <th>ponds_nearest</th>\n",
       "      <th>days_exposition</th>\n",
       "    </tr>\n",
       "  </thead>\n",
       "  <tbody>\n",
       "    <tr>\n",
       "      <th>count</th>\n",
       "      <td>23699.000000</td>\n",
       "      <td>2.369900e+04</td>\n",
       "      <td>23699.000000</td>\n",
       "      <td>23699.000000</td>\n",
       "      <td>14504.000000</td>\n",
       "      <td>23613.000000</td>\n",
       "      <td>21796.000000</td>\n",
       "      <td>23699.000000</td>\n",
       "      <td>21421.000000</td>\n",
       "      <td>12180.000000</td>\n",
       "      <td>18157.000000</td>\n",
       "      <td>18180.000000</td>\n",
       "      <td>18181.000000</td>\n",
       "      <td>8079.000000</td>\n",
       "      <td>18181.000000</td>\n",
       "      <td>9110.000000</td>\n",
       "      <td>20518.000000</td>\n",
       "    </tr>\n",
       "    <tr>\n",
       "      <th>mean</th>\n",
       "      <td>9.858475</td>\n",
       "      <td>6.541549e+06</td>\n",
       "      <td>60.348651</td>\n",
       "      <td>2.070636</td>\n",
       "      <td>2.771499</td>\n",
       "      <td>10.673824</td>\n",
       "      <td>34.457852</td>\n",
       "      <td>5.892358</td>\n",
       "      <td>10.569807</td>\n",
       "      <td>1.150082</td>\n",
       "      <td>28793.672193</td>\n",
       "      <td>14191.277833</td>\n",
       "      <td>0.611408</td>\n",
       "      <td>490.804555</td>\n",
       "      <td>0.770255</td>\n",
       "      <td>517.980900</td>\n",
       "      <td>180.888634</td>\n",
       "    </tr>\n",
       "    <tr>\n",
       "      <th>std</th>\n",
       "      <td>5.682529</td>\n",
       "      <td>1.088701e+07</td>\n",
       "      <td>35.654083</td>\n",
       "      <td>1.078405</td>\n",
       "      <td>1.261056</td>\n",
       "      <td>6.597173</td>\n",
       "      <td>22.030445</td>\n",
       "      <td>4.885249</td>\n",
       "      <td>5.905438</td>\n",
       "      <td>1.071300</td>\n",
       "      <td>12630.880622</td>\n",
       "      <td>8608.386210</td>\n",
       "      <td>0.802074</td>\n",
       "      <td>342.317995</td>\n",
       "      <td>0.938346</td>\n",
       "      <td>277.720643</td>\n",
       "      <td>219.727988</td>\n",
       "    </tr>\n",
       "    <tr>\n",
       "      <th>min</th>\n",
       "      <td>0.000000</td>\n",
       "      <td>1.219000e+04</td>\n",
       "      <td>12.000000</td>\n",
       "      <td>0.000000</td>\n",
       "      <td>1.000000</td>\n",
       "      <td>1.000000</td>\n",
       "      <td>2.000000</td>\n",
       "      <td>1.000000</td>\n",
       "      <td>1.300000</td>\n",
       "      <td>0.000000</td>\n",
       "      <td>0.000000</td>\n",
       "      <td>181.000000</td>\n",
       "      <td>0.000000</td>\n",
       "      <td>1.000000</td>\n",
       "      <td>0.000000</td>\n",
       "      <td>13.000000</td>\n",
       "      <td>1.000000</td>\n",
       "    </tr>\n",
       "    <tr>\n",
       "      <th>25%</th>\n",
       "      <td>6.000000</td>\n",
       "      <td>3.400000e+06</td>\n",
       "      <td>40.000000</td>\n",
       "      <td>1.000000</td>\n",
       "      <td>2.520000</td>\n",
       "      <td>5.000000</td>\n",
       "      <td>18.600000</td>\n",
       "      <td>2.000000</td>\n",
       "      <td>7.000000</td>\n",
       "      <td>0.000000</td>\n",
       "      <td>18585.000000</td>\n",
       "      <td>9238.000000</td>\n",
       "      <td>0.000000</td>\n",
       "      <td>288.000000</td>\n",
       "      <td>0.000000</td>\n",
       "      <td>294.000000</td>\n",
       "      <td>45.000000</td>\n",
       "    </tr>\n",
       "    <tr>\n",
       "      <th>50%</th>\n",
       "      <td>9.000000</td>\n",
       "      <td>4.650000e+06</td>\n",
       "      <td>52.000000</td>\n",
       "      <td>2.000000</td>\n",
       "      <td>2.650000</td>\n",
       "      <td>9.000000</td>\n",
       "      <td>30.000000</td>\n",
       "      <td>4.000000</td>\n",
       "      <td>9.100000</td>\n",
       "      <td>1.000000</td>\n",
       "      <td>26726.000000</td>\n",
       "      <td>13098.500000</td>\n",
       "      <td>0.000000</td>\n",
       "      <td>455.000000</td>\n",
       "      <td>1.000000</td>\n",
       "      <td>502.000000</td>\n",
       "      <td>95.000000</td>\n",
       "    </tr>\n",
       "    <tr>\n",
       "      <th>75%</th>\n",
       "      <td>14.000000</td>\n",
       "      <td>6.800000e+06</td>\n",
       "      <td>69.900000</td>\n",
       "      <td>3.000000</td>\n",
       "      <td>2.800000</td>\n",
       "      <td>16.000000</td>\n",
       "      <td>42.300000</td>\n",
       "      <td>8.000000</td>\n",
       "      <td>12.000000</td>\n",
       "      <td>2.000000</td>\n",
       "      <td>37273.000000</td>\n",
       "      <td>16293.000000</td>\n",
       "      <td>1.000000</td>\n",
       "      <td>612.000000</td>\n",
       "      <td>1.000000</td>\n",
       "      <td>729.000000</td>\n",
       "      <td>232.000000</td>\n",
       "    </tr>\n",
       "    <tr>\n",
       "      <th>max</th>\n",
       "      <td>50.000000</td>\n",
       "      <td>7.630000e+08</td>\n",
       "      <td>900.000000</td>\n",
       "      <td>19.000000</td>\n",
       "      <td>100.000000</td>\n",
       "      <td>60.000000</td>\n",
       "      <td>409.700000</td>\n",
       "      <td>33.000000</td>\n",
       "      <td>112.000000</td>\n",
       "      <td>5.000000</td>\n",
       "      <td>84869.000000</td>\n",
       "      <td>65968.000000</td>\n",
       "      <td>3.000000</td>\n",
       "      <td>3190.000000</td>\n",
       "      <td>3.000000</td>\n",
       "      <td>1344.000000</td>\n",
       "      <td>1580.000000</td>\n",
       "    </tr>\n",
       "  </tbody>\n",
       "</table>\n",
       "</div>"
      ],
      "text/plain": [
       "       total_images    last_price    total_area         rooms  ceiling_height  \\\n",
       "count  23699.000000  2.369900e+04  23699.000000  23699.000000    14504.000000   \n",
       "mean       9.858475  6.541549e+06     60.348651      2.070636        2.771499   \n",
       "std        5.682529  1.088701e+07     35.654083      1.078405        1.261056   \n",
       "min        0.000000  1.219000e+04     12.000000      0.000000        1.000000   \n",
       "25%        6.000000  3.400000e+06     40.000000      1.000000        2.520000   \n",
       "50%        9.000000  4.650000e+06     52.000000      2.000000        2.650000   \n",
       "75%       14.000000  6.800000e+06     69.900000      3.000000        2.800000   \n",
       "max       50.000000  7.630000e+08    900.000000     19.000000      100.000000   \n",
       "\n",
       "       floors_total   living_area         floor  kitchen_area       balcony  \\\n",
       "count  23613.000000  21796.000000  23699.000000  21421.000000  12180.000000   \n",
       "mean      10.673824     34.457852      5.892358     10.569807      1.150082   \n",
       "std        6.597173     22.030445      4.885249      5.905438      1.071300   \n",
       "min        1.000000      2.000000      1.000000      1.300000      0.000000   \n",
       "25%        5.000000     18.600000      2.000000      7.000000      0.000000   \n",
       "50%        9.000000     30.000000      4.000000      9.100000      1.000000   \n",
       "75%       16.000000     42.300000      8.000000     12.000000      2.000000   \n",
       "max       60.000000    409.700000     33.000000    112.000000      5.000000   \n",
       "\n",
       "       airports_nearest  cityCenters_nearest  parks_around3000  parks_nearest  \\\n",
       "count      18157.000000         18180.000000      18181.000000    8079.000000   \n",
       "mean       28793.672193         14191.277833          0.611408     490.804555   \n",
       "std        12630.880622          8608.386210          0.802074     342.317995   \n",
       "min            0.000000           181.000000          0.000000       1.000000   \n",
       "25%        18585.000000          9238.000000          0.000000     288.000000   \n",
       "50%        26726.000000         13098.500000          0.000000     455.000000   \n",
       "75%        37273.000000         16293.000000          1.000000     612.000000   \n",
       "max        84869.000000         65968.000000          3.000000    3190.000000   \n",
       "\n",
       "       ponds_around3000  ponds_nearest  days_exposition  \n",
       "count      18181.000000    9110.000000     20518.000000  \n",
       "mean           0.770255     517.980900       180.888634  \n",
       "std            0.938346     277.720643       219.727988  \n",
       "min            0.000000      13.000000         1.000000  \n",
       "25%            0.000000     294.000000        45.000000  \n",
       "50%            1.000000     502.000000        95.000000  \n",
       "75%            1.000000     729.000000       232.000000  \n",
       "max            3.000000    1344.000000      1580.000000  "
      ]
     },
     "execution_count": 7,
     "metadata": {},
     "output_type": "execute_result"
    }
   ],
   "source": [
    "data.describe()"
   ]
  },
  {
   "cell_type": "code",
   "execution_count": 70,
   "metadata": {},
   "outputs": [
    {
     "data": {
      "image/png": "[encoded data removed]",
      "text/plain": [
       "<Figure size 1080x1440 with 30 Axes>"
      ]
     },
     "metadata": {
      "needs_background": "light"
     },
     "output_type": "display_data"
    }
   ],
   "source": [
    "data.hist(figsize=(15, 20));"
   ]
  },
  {
   "cell_type": "markdown",
   "metadata": {},
   "source": [
    "#### Промежуточный вывод"
   ]
  },
  {
   "cell_type": "markdown",
   "metadata": {},
   "source": [
    "В данных достаточно много пропусков в разных колонках. Некоторые данные (высота потолка, цена), по видимому, внесены ошибочно. Но в целом качество данных можно считать удовлетворительным."
   ]
  },
  {
   "cell_type": "markdown",
   "metadata": {},
   "source": []
  },
  {
   "cell_type": "markdown",
   "metadata": {},
   "source": [
    "### Предобработка данных"
   ]
  },
  {
   "cell_type": "code",
   "execution_count": 9,
   "metadata": {},
   "outputs": [
    {
     "data": {
      "text/plain": [
       "total_images                0\n",
       "last_price                  0\n",
       "total_area                  0\n",
       "first_day_exposition        0\n",
       "rooms                       0\n",
       "ceiling_height           9195\n",
       "floors_total               86\n",
       "living_area              1903\n",
       "floor                       0\n",
       "is_apartment            20924\n",
       "studio                      0\n",
       "open_plan                   0\n",
       "kitchen_area             2278\n",
       "balcony                 11519\n",
       "locality_name              49\n",
       "airports_nearest         5542\n",
       "cityCenters_nearest      5519\n",
       "parks_around3000         5518\n",
       "parks_nearest           15620\n",
       "ponds_around3000         5518\n",
       "ponds_nearest           14589\n",
       "days_exposition          3181\n",
       "dtype: int64"
      ]
     },
     "execution_count": 9,
     "metadata": {},
     "output_type": "execute_result"
    }
   ],
   "source": [
    "data.isna().sum()  #оценка пропущенных значений"
   ]
  },
  {
   "cell_type": "code",
   "execution_count": 10,
   "metadata": {},
   "outputs": [
    {
     "data": {
      "text/plain": [
       "count    14504.000000\n",
       "mean         2.771499\n",
       "std          1.261056\n",
       "min          1.000000\n",
       "25%          2.520000\n",
       "50%          2.650000\n",
       "75%          2.800000\n",
       "max        100.000000\n",
       "Name: ceiling_height, dtype: float64"
      ]
     },
     "execution_count": 10,
     "metadata": {},
     "output_type": "execute_result"
    }
   ],
   "source": [
    "data['ceiling_height'].describe()\n",
    "# пропусков много, среди значений есть явные ошибки (100 метров). Однако судя по средниму значению и медиане ошибочных\n",
    "# значений немного."
   ]
  },
  {
   "cell_type": "code",
   "execution_count": 11,
   "metadata": {},
   "outputs": [
    {
     "data": {
      "text/plain": [
       "array([  2.7 ,    nan,   3.03,   2.5 ,   2.67,   2.56,   3.05,   2.75,\n",
       "         2.6 ,   2.9 ,   2.8 ,   2.55,   3.  ,   2.65,   3.2 ,   2.61,\n",
       "         3.25,   3.45,   2.77,   2.85,   2.64,   2.57,   4.15,   3.5 ,\n",
       "         3.3 ,   2.71,   4.  ,   2.47,   2.73,   2.84,   3.1 ,   2.34,\n",
       "         3.4 ,   3.06,   2.72,   2.54,   2.51,   2.78,   2.76,  25.  ,\n",
       "         2.58,   3.7 ,   2.52,   5.2 ,   2.87,   2.66,   2.59,   2.  ,\n",
       "         2.45,   3.6 ,   2.92,   3.11,   3.13,   3.8 ,   3.15,   3.55,\n",
       "         3.16,   3.62,   3.12,   2.53,   2.74,   2.96,   2.46,   5.3 ,\n",
       "         5.  ,   2.79,   2.95,   4.06,   2.94,   3.82,   3.54,   3.53,\n",
       "         2.83,   4.7 ,   2.4 ,   3.38,   3.01,   5.6 ,   3.65,   3.9 ,\n",
       "         3.18,   3.35,   2.3 ,   3.57,   2.48,   2.62,   2.82,   3.98,\n",
       "         2.63,   3.83,   3.52,   3.95,   3.75,   2.88,   3.67,   3.87,\n",
       "         3.66,   3.85,   3.86,   4.19,   3.24,   4.8 ,   4.5 ,   4.2 ,\n",
       "         3.36,  32.  ,   3.08,   3.68,   3.07,   3.37,   3.09,   8.  ,\n",
       "         3.26,   3.34,   2.81,   3.44,   2.97,   3.14,   4.37,   2.68,\n",
       "         3.22,   3.27,  27.  ,   4.1 ,   2.93,   3.46,  24.  ,   3.47,\n",
       "         3.33,   3.63,   3.32,  26.  ,   1.2 ,   8.3 ,   2.98,   2.86,\n",
       "         3.17,   4.4 ,   3.28,   3.04,   4.45,   5.5 ,   3.84,   3.23,\n",
       "         3.02,   3.21,   3.43,   3.78,   4.3 ,   3.39,   2.69,   3.31,\n",
       "         4.65,   3.56,   2.2 ,   3.51,   3.93,   3.42,   2.99,   3.49,\n",
       "        14.  ,   4.14,   2.91,   3.88,   1.75,   4.25,   3.29,  20.  ,\n",
       "         2.25,   3.76,   3.69,   6.  ,  22.6 ,   2.89,   3.58,   5.8 ,\n",
       "        27.5 ,   2.49,   4.9 ,   3.48,  10.3 ,   1.  , 100.  ,   3.59])"
      ]
     },
     "execution_count": 11,
     "metadata": {},
     "output_type": "execute_result"
    }
   ],
   "source": [
    "data['ceiling_height'].unique() #поиск аномальных значений"
   ]
  },
  {
   "cell_type": "code",
   "execution_count": 12,
   "metadata": {},
   "outputs": [
    {
     "data": {
      "text/plain": [
       "count    14504.000000\n",
       "mean         2.728739\n",
       "std          0.306050\n",
       "min          1.000000\n",
       "25%          2.510000\n",
       "50%          2.650000\n",
       "75%          2.800000\n",
       "max         10.300000\n",
       "Name: ceiling_height, dtype: float64"
      ]
     },
     "execution_count": 12,
     "metadata": {},
     "output_type": "execute_result"
    }
   ],
   "source": [
    "data['ceiling_height'] = data['ceiling_height'].replace({\n",
    "    14.0: 1.4,\n",
    "    27.5: 2.75,\n",
    "    32.0: 3.2,\n",
    "    25.0: 2.5,\n",
    "    27.0: 2.7,\n",
    "    26.0: 2.6,\n",
    "    22.6: 2.26,\n",
    "    24.0: 2.4,\n",
    "    20.0: 2.0,\n",
    "    100.0: 10.0,\n",
    "    })\n",
    "data['ceiling_height'].describe() #замена предположительно ошибочно введённых данных и проверка результата"
   ]
  },
  {
   "cell_type": "code",
   "execution_count": 13,
   "metadata": {},
   "outputs": [
    {
     "data": {
      "text/plain": [
       "total_images                0\n",
       "last_price                  0\n",
       "total_area                  0\n",
       "first_day_exposition        0\n",
       "rooms                       0\n",
       "ceiling_height              0\n",
       "floors_total               86\n",
       "living_area              1903\n",
       "floor                       0\n",
       "is_apartment            20924\n",
       "studio                      0\n",
       "open_plan                   0\n",
       "kitchen_area             2278\n",
       "balcony                 11519\n",
       "locality_name              49\n",
       "airports_nearest         5542\n",
       "cityCenters_nearest      5519\n",
       "parks_around3000         5518\n",
       "parks_nearest           15620\n",
       "ponds_around3000         5518\n",
       "ponds_nearest           14589\n",
       "days_exposition          3181\n",
       "dtype: int64"
      ]
     },
     "execution_count": 13,
     "metadata": {},
     "output_type": "execute_result"
    }
   ],
   "source": [
    "data['ceiling_height'] = data['ceiling_height'].fillna(data['ceiling_height'].median())\n",
    "data.isna().sum()   \n",
    "#замена пропущенных значений общим медианным, для разбивки на категории и заменой пропуска на средние или \n",
    "#медианное значение внутри категории нет данных (тип дома и т.п.)"
   ]
  },
  {
   "cell_type": "code",
   "execution_count": 14,
   "metadata": {},
   "outputs": [
    {
     "data": {
      "text/html": [
       "<div>\n",
       "<style scoped>\n",
       "    .dataframe tbody tr th:only-of-type {\n",
       "        vertical-align: middle;\n",
       "    }\n",
       "\n",
       "    .dataframe tbody tr th {\n",
       "        vertical-align: top;\n",
       "    }\n",
       "\n",
       "    .dataframe thead th {\n",
       "        text-align: right;\n",
       "    }\n",
       "</style>\n",
       "<table border=\"1\" class=\"dataframe\">\n",
       "  <thead>\n",
       "    <tr style=\"text-align: right;\">\n",
       "      <th></th>\n",
       "      <th>living_area</th>\n",
       "    </tr>\n",
       "    <tr>\n",
       "      <th>rooms</th>\n",
       "      <th></th>\n",
       "    </tr>\n",
       "  </thead>\n",
       "  <tbody>\n",
       "    <tr>\n",
       "      <th>0</th>\n",
       "      <td>18.000</td>\n",
       "    </tr>\n",
       "    <tr>\n",
       "      <th>1</th>\n",
       "      <td>17.600</td>\n",
       "    </tr>\n",
       "    <tr>\n",
       "      <th>2</th>\n",
       "      <td>30.500</td>\n",
       "    </tr>\n",
       "    <tr>\n",
       "      <th>3</th>\n",
       "      <td>45.000</td>\n",
       "    </tr>\n",
       "    <tr>\n",
       "      <th>4</th>\n",
       "      <td>63.600</td>\n",
       "    </tr>\n",
       "    <tr>\n",
       "      <th>5</th>\n",
       "      <td>91.785</td>\n",
       "    </tr>\n",
       "    <tr>\n",
       "      <th>6</th>\n",
       "      <td>123.900</td>\n",
       "    </tr>\n",
       "    <tr>\n",
       "      <th>7</th>\n",
       "      <td>145.000</td>\n",
       "    </tr>\n",
       "    <tr>\n",
       "      <th>8</th>\n",
       "      <td>161.000</td>\n",
       "    </tr>\n",
       "    <tr>\n",
       "      <th>9</th>\n",
       "      <td>179.200</td>\n",
       "    </tr>\n",
       "    <tr>\n",
       "      <th>10</th>\n",
       "      <td>161.400</td>\n",
       "    </tr>\n",
       "    <tr>\n",
       "      <th>11</th>\n",
       "      <td>133.900</td>\n",
       "    </tr>\n",
       "    <tr>\n",
       "      <th>12</th>\n",
       "      <td>409.700</td>\n",
       "    </tr>\n",
       "    <tr>\n",
       "      <th>14</th>\n",
       "      <td>195.150</td>\n",
       "    </tr>\n",
       "    <tr>\n",
       "      <th>15</th>\n",
       "      <td>409.000</td>\n",
       "    </tr>\n",
       "    <tr>\n",
       "      <th>16</th>\n",
       "      <td>180.000</td>\n",
       "    </tr>\n",
       "    <tr>\n",
       "      <th>19</th>\n",
       "      <td>264.500</td>\n",
       "    </tr>\n",
       "  </tbody>\n",
       "</table>\n",
       "</div>"
      ],
      "text/plain": [
       "       living_area\n",
       "rooms             \n",
       "0           18.000\n",
       "1           17.600\n",
       "2           30.500\n",
       "3           45.000\n",
       "4           63.600\n",
       "5           91.785\n",
       "6          123.900\n",
       "7          145.000\n",
       "8          161.000\n",
       "9          179.200\n",
       "10         161.400\n",
       "11         133.900\n",
       "12         409.700\n",
       "14         195.150\n",
       "15         409.000\n",
       "16         180.000\n",
       "19         264.500"
      ]
     },
     "execution_count": 14,
     "metadata": {},
     "output_type": "execute_result"
    }
   ],
   "source": [
    "data[['living_area', 'rooms']].groupby(['rooms']).median() "
   ]
  },
  {
   "cell_type": "code",
   "execution_count": 15,
   "metadata": {},
   "outputs": [
    {
     "data": {
      "text/plain": [
       "total_images                0\n",
       "last_price                  0\n",
       "total_area                  0\n",
       "first_day_exposition        0\n",
       "rooms                       0\n",
       "ceiling_height              0\n",
       "floors_total               86\n",
       "living_area                 0\n",
       "floor                       0\n",
       "is_apartment            20924\n",
       "studio                      0\n",
       "open_plan                   0\n",
       "kitchen_area             2278\n",
       "balcony                 11519\n",
       "locality_name              49\n",
       "airports_nearest         5542\n",
       "cityCenters_nearest      5519\n",
       "parks_around3000         5518\n",
       "parks_nearest           15620\n",
       "ponds_around3000         5518\n",
       "ponds_nearest           14589\n",
       "days_exposition          3181\n",
       "dtype: int64"
      ]
     },
     "execution_count": 15,
     "metadata": {},
     "output_type": "execute_result"
    }
   ],
   "source": [
    "data['living_area'] = data['living_area'].fillna(data[['living_area', 'rooms']].groupby(['rooms'])['living_area'].transform('median'))\n",
    "data.isna().sum() #пропуски заполняются медианным значением в зависимости от количества комнат"
   ]
  },
  {
   "cell_type": "code",
   "execution_count": 16,
   "metadata": {},
   "outputs": [
    {
     "data": {
      "text/plain": [
       "array([nan, False, True], dtype=object)"
      ]
     },
     "execution_count": 16,
     "metadata": {},
     "output_type": "execute_result"
    }
   ],
   "source": [
    "data['is_apartment'].unique()"
   ]
  },
  {
   "cell_type": "code",
   "execution_count": 17,
   "metadata": {},
   "outputs": [
    {
     "data": {
      "text/plain": [
       "array([False,  True])"
      ]
     },
     "execution_count": 17,
     "metadata": {},
     "output_type": "execute_result"
    }
   ],
   "source": [
    "data['is_apartment'] = data['is_apartment'].fillna(value=False)\n",
    "data['is_apartment'].unique() \n",
    "#пропуск принимаем за отрицательный ответ (т.е. не апартамент)"
   ]
  },
  {
   "cell_type": "code",
   "execution_count": 18,
   "metadata": {},
   "outputs": [
    {
     "data": {
      "text/plain": [
       "total_images                0\n",
       "last_price                  0\n",
       "total_area                  0\n",
       "first_day_exposition        0\n",
       "rooms                       0\n",
       "ceiling_height              0\n",
       "floors_total               86\n",
       "living_area                 0\n",
       "floor                       0\n",
       "is_apartment                0\n",
       "studio                      0\n",
       "open_plan                   0\n",
       "kitchen_area             2278\n",
       "balcony                 11519\n",
       "locality_name              49\n",
       "airports_nearest         5542\n",
       "cityCenters_nearest      5519\n",
       "parks_around3000         5518\n",
       "parks_nearest           15620\n",
       "ponds_around3000         5518\n",
       "ponds_nearest           14589\n",
       "days_exposition          3181\n",
       "dtype: int64"
      ]
     },
     "execution_count": 18,
     "metadata": {},
     "output_type": "execute_result"
    }
   ],
   "source": [
    "data.is_apartment = data.is_apartment.astype(int) #изменение типа данных для облегчения анализа\n",
    "data.isna().sum()"
   ]
  },
  {
   "cell_type": "code",
   "execution_count": 19,
   "metadata": {
    "scrolled": true
   },
   "outputs": [
    {
     "data": {
      "text/plain": [
       "0    23550\n",
       "1      149\n",
       "Name: studio, dtype: int64"
      ]
     },
     "execution_count": 19,
     "metadata": {},
     "output_type": "execute_result"
    }
   ],
   "source": [
    "data.studio = data.studio.astype(int)  #изменение типа данных для облегчения анализа\n",
    "data.studio.value_counts() "
   ]
  },
  {
   "cell_type": "code",
   "execution_count": 20,
   "metadata": {},
   "outputs": [
    {
     "data": {
      "text/plain": [
       "0    23632\n",
       "1       67\n",
       "Name: open_plan, dtype: int64"
      ]
     },
     "execution_count": 20,
     "metadata": {},
     "output_type": "execute_result"
    }
   ],
   "source": [
    "data.open_plan = data.open_plan.astype(int)   #изменение типа данных для облегчения анализа\n",
    "data.open_plan.value_counts()"
   ]
  },
  {
   "cell_type": "code",
   "execution_count": 21,
   "metadata": {},
   "outputs": [
    {
     "data": {
      "text/plain": [
       "total_images                0\n",
       "last_price                  0\n",
       "total_area                  0\n",
       "first_day_exposition        0\n",
       "rooms                       0\n",
       "ceiling_height              0\n",
       "floors_total               86\n",
       "living_area                 0\n",
       "floor                       0\n",
       "is_apartment                0\n",
       "studio                      0\n",
       "open_plan                   0\n",
       "kitchen_area             2278\n",
       "balcony                     0\n",
       "locality_name              49\n",
       "airports_nearest         5542\n",
       "cityCenters_nearest      5519\n",
       "parks_around3000         5518\n",
       "parks_nearest           15620\n",
       "ponds_around3000         5518\n",
       "ponds_nearest           14589\n",
       "days_exposition          3181\n",
       "dtype: int64"
      ]
     },
     "execution_count": 21,
     "metadata": {},
     "output_type": "execute_result"
    }
   ],
   "source": [
    "data['balcony'] = data['balcony'].fillna(0) #пропуск принимаем за отрицательный ответ (т.е. балкон отсутствует)\n",
    "data.isna().sum()"
   ]
  },
  {
   "cell_type": "code",
   "execution_count": 22,
   "metadata": {},
   "outputs": [
    {
     "name": "stdout",
     "output_type": "stream",
     "text": [
      "['Бокситогорск' 'Волосово' 'Волхов' 'Всеволожск' 'Выборг' 'Высоцк'\n",
      " 'Гатчина' 'Зеленогорск' 'Ивангород' 'Каменногорск' 'Кингисепп' 'Кириши'\n",
      " 'Кировск' 'Колпино' 'Коммунар' 'Красное Село' 'Кронштадт' 'Кудрово'\n",
      " 'Лодейное Поле' 'Ломоносов' 'Луга' 'Любань' 'Мурино' 'Никольское'\n",
      " 'Новая Ладога' 'Отрадное' 'Павловск' 'Петергоф' 'Пикалёво' 'Подпорожье'\n",
      " 'Приморск' 'Приозерск' 'Пушкин' 'Санкт-Петербург' 'Светогорск'\n",
      " 'Сертолово' 'Сестрорецк' 'Сланцы' 'Сосновый Бор' 'Сясьстрой' 'Тихвин'\n",
      " 'Тосно' 'Шлиссельбург' 'городской поселок Большая Ижора'\n",
      " 'городской поселок Янино-1' 'городской посёлок Будогощь'\n",
      " 'городской посёлок Виллози' 'городской посёлок Лесогорский'\n",
      " 'городской посёлок Мга' 'городской посёлок Назия'\n",
      " 'городской посёлок Новоселье' 'городской посёлок Павлово'\n",
      " 'городской посёлок Рощино' 'городской посёлок Свирьстрой'\n",
      " 'городской посёлок Советский' 'городской посёлок Фёдоровское'\n",
      " 'городской посёлок Янино-1' 'деревня Агалатово' 'деревня Аро'\n",
      " 'деревня Батово' 'деревня Бегуницы' 'деревня Белогорка'\n",
      " 'деревня Большая Вруда' 'деревня Большая Пустомержа'\n",
      " 'деревня Большие Колпаны' 'деревня Большое Рейзино'\n",
      " 'деревня Большой Сабск' 'деревня Бор' 'деревня Борисова Грива'\n",
      " 'деревня Ваганово' 'деревня Вартемяги' 'деревня Вахнова Кара'\n",
      " 'деревня Выскатка' 'деревня Гарболово' 'деревня Глинка'\n",
      " 'деревня Горбунки' 'деревня Гостилицы' 'деревня Заклинье'\n",
      " 'деревня Заневка' 'деревня Зимитицы' 'деревня Извара' 'деревня Иссад'\n",
      " 'деревня Калитино' 'деревня Кальтино' 'деревня Камышовка'\n",
      " 'деревня Каськово' 'деревня Келози' 'деревня Кипень' 'деревня Кисельня'\n",
      " 'деревня Колтуши' 'деревня Коркино' 'деревня Котлы' 'деревня Кривко'\n",
      " 'деревня Кудрово' 'деревня Кузьмолово' 'деревня Курковицы'\n",
      " 'деревня Куровицы' 'деревня Куттузи' 'деревня Лаврики' 'деревня Лаголово'\n",
      " 'деревня Лампово' 'деревня Лесколово' 'деревня Лопухинка'\n",
      " 'деревня Лупполово' 'деревня Малая Романовка' 'деревня Малое Верево'\n",
      " 'деревня Малое Карлино' 'деревня Малые Колпаны' 'деревня Мануйлово'\n",
      " 'деревня Меньково' 'деревня Мины' 'деревня Мистолово' 'деревня Ненимяки'\n",
      " 'деревня Нижние Осельки' 'деревня Нижняя' 'деревня Низино'\n",
      " 'деревня Новое Девяткино' 'деревня Новолисино' 'деревня Нурма'\n",
      " 'деревня Оржицы' 'деревня Парицы' 'деревня Пельгора' 'деревня Пеники'\n",
      " 'деревня Пижма' 'деревня Пикколово' 'деревня Пудомяги' 'деревня Пустынка'\n",
      " 'деревня Пчева' 'деревня Рабитицы' 'деревня Разбегаево'\n",
      " 'деревня Раздолье' 'деревня Разметелево' 'деревня Рапполово'\n",
      " 'деревня Реброво' 'деревня Русско' 'деревня Сижно' 'деревня Снегирёвка'\n",
      " 'деревня Старая' 'деревня Старая Пустошь' 'деревня Старое Хинколово'\n",
      " 'деревня Старополье' 'деревня Старосиверская' 'деревня Старые Бегуницы'\n",
      " 'деревня Суоранда' 'деревня Сяськелево' 'деревня Тарасово'\n",
      " 'деревня Терпилицы' 'деревня Тихковицы' 'деревня Тойворово'\n",
      " 'деревня Торосово' 'деревня Торошковичи' 'деревня Трубников Бор'\n",
      " 'деревня Фалилеево' 'деревня Фёдоровское' 'деревня Хапо-Ое'\n",
      " 'деревня Хязельки' 'деревня Чудской Бор' 'деревня Шпаньково'\n",
      " 'деревня Щеглово' 'деревня Юкки' 'деревня Ялгино' 'деревня Яльгелево'\n",
      " 'деревня Ям-Тесово' 'коттеджный поселок Кивеннапа Север'\n",
      " 'коттеджный поселок Счастье' 'коттеджный посёлок Лесное' 'поселок Аннино'\n",
      " 'поселок Барышево' 'поселок Бугры' 'поселок Возрождение'\n",
      " 'поселок Войсковицы' 'поселок Володарское' 'поселок Гаврилово'\n",
      " 'поселок Гарболово' 'поселок Гладкое' 'поселок Глажево'\n",
      " 'поселок Глебычево' 'поселок Гончарово' 'поселок Громово'\n",
      " 'поселок Дружноселье' 'поселок Елизаветино' 'поселок Жилгородок'\n",
      " 'поселок Жилпосёлок' 'поселок Житково' 'поселок Заводской'\n",
      " 'поселок Запорожское' 'поселок Зимитицы' 'поселок Ильичёво'\n",
      " 'поселок Калитино' 'поселок Каложицы' 'поселок Кингисеппский'\n",
      " 'поселок Кирпичное' 'поселок Кобралово' 'поселок Кобринское'\n",
      " 'поселок Коммунары' 'поселок Коробицыно' 'поселок Котельский'\n",
      " 'поселок Красная Долина' 'поселок Красносельское' 'поселок Лесное'\n",
      " 'поселок Лисий Нос' 'поселок Лукаши' 'поселок Любань'\n",
      " 'поселок Мельниково' 'поселок Мичуринское' 'поселок Молодцово'\n",
      " 'поселок Мурино' 'поселок Новый Свет' 'поселок Новый Учхоз'\n",
      " 'поселок Оредеж' 'поселок Пансионат Зелёный Бор' 'поселок Первомайское'\n",
      " 'поселок Перово' 'поселок Петровское' 'поселок Победа' 'поселок Поляны'\n",
      " 'поселок Почап' 'поселок Починок' 'поселок Пушное' 'поселок Пчевжа'\n",
      " 'поселок Рабитицы' 'поселок Романовка' 'поселок Ромашки' 'поселок Рябово'\n",
      " 'поселок Севастьяново' 'поселок Селезнёво' 'поселок Сельцо'\n",
      " 'поселок Семиозерье' 'поселок Семрино' 'поселок Серебрянский'\n",
      " 'поселок Совхозный' 'поселок Старая Малукса' 'поселок Стеклянный'\n",
      " 'поселок Сумино' 'поселок Суходолье' 'поселок Тельмана'\n",
      " 'поселок Терволово' 'поселок Торковичи' 'поселок Тёсово-4'\n",
      " 'поселок Углово' 'поселок Усть-Луга' 'поселок Ушаки'\n",
      " 'поселок Цвелодубово' 'поселок Цвылёво'\n",
      " 'поселок городского типа Большая Ижора' 'поселок городского типа Вырица'\n",
      " 'поселок городского типа Дружная Горка'\n",
      " 'поселок городского типа Дубровка' 'поселок городского типа Ефимовский'\n",
      " 'поселок городского типа Кондратьево'\n",
      " 'поселок городского типа Красный Бор'\n",
      " 'поселок городского типа Кузьмоловский' 'поселок городского типа Лебяжье'\n",
      " 'поселок городского типа Лесогорский' 'поселок городского типа Назия'\n",
      " 'поселок городского типа Никольский'\n",
      " 'поселок городского типа Приладожский' 'поселок городского типа Рахья'\n",
      " 'поселок городского типа Рощино' 'поселок городского типа Рябово'\n",
      " 'поселок городского типа Синявино' 'поселок городского типа Советский'\n",
      " 'поселок городского типа Токсово' 'поселок городского типа Форносово'\n",
      " 'поселок городского типа имени Свердлова' 'поселок станции Вещево'\n",
      " 'поселок станции Корнево' 'поселок станции Лужайка'\n",
      " 'поселок станции Приветнинское' 'посёлок Александровская'\n",
      " 'посёлок Алексеевка' 'посёлок Аннино' 'посёлок Белоостров'\n",
      " 'посёлок Бугры' 'посёлок Возрождение' 'посёлок Войскорово'\n",
      " 'посёлок Высокоключевой' 'посёлок Гаврилово' 'посёлок Дзержинского'\n",
      " 'посёлок Жилгородок' 'посёлок Ильичёво' 'посёлок Кикерино'\n",
      " 'посёлок Кобралово' 'посёлок Коробицыно' 'посёлок Левашово'\n",
      " 'посёлок Ленинское' 'посёлок Лисий Нос' 'посёлок Мельниково'\n",
      " 'посёлок Металлострой' 'посёлок Мичуринское' 'посёлок Молодёжное'\n",
      " 'посёлок Мурино' 'посёлок Мыза-Ивановка' 'посёлок Новогорелово'\n",
      " 'посёлок Новый Свет' 'посёлок Пансионат Зелёный Бор' 'посёлок Парголово'\n",
      " 'посёлок Перово' 'посёлок Песочный' 'посёлок Петро-Славянка'\n",
      " 'посёлок Петровское' 'посёлок Платформа 69-й километр' 'посёлок Плодовое'\n",
      " 'посёлок Плоское' 'посёлок Победа' 'посёлок Поляны' 'посёлок Понтонный'\n",
      " 'посёлок Пригородный' 'посёлок Пудость' 'посёлок Репино' 'посёлок Ропша'\n",
      " 'посёлок Сапёрное' 'посёлок Сапёрный' 'посёлок Сосново'\n",
      " 'посёлок Старая Малукса' 'посёлок Стеклянный' 'посёлок Стрельна'\n",
      " 'посёлок Суйда' 'посёлок Сумино' 'посёлок Тельмана' 'посёлок Терволово'\n",
      " 'посёлок Торфяное' 'посёлок Усть-Ижора' 'посёлок Усть-Луга'\n",
      " 'посёлок Форт Красная Горка' 'посёлок Шугозеро' 'посёлок Шушары'\n",
      " 'посёлок Щеглово' 'посёлок городского типа Важины'\n",
      " 'посёлок городского типа Вознесенье' 'посёлок городского типа Вырица'\n",
      " 'посёлок городского типа Красный Бор' 'посёлок городского типа Кузнечное'\n",
      " 'посёлок городского типа Кузьмоловский' 'посёлок городского типа Лебяжье'\n",
      " 'посёлок городского типа Мга' 'посёлок городского типа Павлово'\n",
      " 'посёлок городского типа Рощино' 'посёлок городского типа Рябово'\n",
      " 'посёлок городского типа Сиверский' 'посёлок городского типа Тайцы'\n",
      " 'посёлок городского типа Токсово' 'посёлок городского типа Ульяновка'\n",
      " 'посёлок городского типа Форносово'\n",
      " 'посёлок городского типа имени Морозова'\n",
      " 'посёлок городского типа имени Свердлова'\n",
      " 'посёлок при железнодорожной станции Вещево'\n",
      " 'посёлок при железнодорожной станции Приветнинское'\n",
      " 'посёлок станции Громово' 'посёлок станции Свирь'\n",
      " 'садоводческое некоммерческое товарищество Лесная Поляна'\n",
      " 'садовое товарищество Новая Ропша' 'садовое товарищество Приладожский'\n",
      " 'садовое товарищество Рахья' 'садовое товарищество Садко' 'село Копорье'\n",
      " 'село Никольское' 'село Павлово' 'село Паша' 'село Путилово'\n",
      " 'село Рождествено' 'село Русско-Высоцкое' 'село Старая Ладога' 'село Шум'\n",
      " nan]\n"
     ]
    }
   ],
   "source": [
    "print(data['locality_name'].sort_values().unique())            "
   ]
  },
  {
   "cell_type": "code",
   "execution_count": 23,
   "metadata": {},
   "outputs": [],
   "source": [
    "data['locality_name'] = data['locality_name'].replace({     #долгий и трудоёмкий способ, но я увидел много дублей связанных и с \n",
    "    'городской поселок Большая Ижора': 'Большая Ижора',      # ошибками е-ё и с изменениями административных статусов населённых  \n",
    "    'городской поселок Янино-1': 'Янино-1',                  # пунктов. \n",
    "    'городской посёлок Будогощь': 'Будогощь',\n",
    "    'городской посёлок Виллози': 'Виллози',\n",
    "    'городской посёлок Лесогорский': 'Лесогорский',\n",
    "    'городской посёлок Мга': 'Мга', \n",
    "    'городской посёлок Назия': 'Назия',\n",
    "    'городской посёлок Новоселье': 'Новоселье',\n",
    "    'городской посёлок Павлово': 'Павлово',\n",
    "    'городской посёлок Рощино': 'Рощино',\n",
    "    'городской посёлок Свирьстрой': 'Свирьстрой',\n",
    "    'городской посёлок Советский': 'Советский',\n",
    "    'городской посёлок Фёдоровское': 'Фёдоровское',\n",
    "    'городской посёлок Янино-1': 'Янино-1',\n",
    "    'деревня Агалатово': 'Агалатово',\n",
    "    'деревня Аро': 'Аро',\n",
    "    'деревня Батово': 'Батово',\n",
    "    'деревня Бегуницы': 'Бегуницы',\n",
    "    'деревня Белогорка': 'Белогорка',\n",
    "    'деревня Большая Вруда': 'Большая Вруда',\n",
    "    'деревня Большая Пустомержа': 'Большая Пустомержа',\n",
    "    'деревня Большие Колпаны': 'Большие Колпаны',\n",
    "    'деревня Большое Рейзино': 'Большое Рейзино',\n",
    "    'деревня Большой Сабск': 'Большой Сабск',\n",
    "    'деревня Бор': 'Бор',\n",
    "    'деревня Борисова Грива': 'Борисова Грива',\n",
    "    'деревня Ваганово': 'Ваганово',\n",
    "    'деревня Вартемяги': 'Вартемяги',\n",
    "    'деревня Вахнова Кара': 'Вахнова Кара',\n",
    "    'деревня Выскатка': 'Выскатка',\n",
    "    'деревня Гарболово': 'Гарболово',\n",
    "    'деревня Глинка': 'Глинка',\n",
    "    'деревня Горбунки': 'Горбунки',\n",
    "    'деревня Гостилицы': 'Гостилицы',\n",
    "    'деревня Заклинье': 'Заклинье',\n",
    "    'деревня Заневка': 'Заневка',\n",
    "    'деревня Зимитицы': 'Зимитицы',\n",
    "    'деревня Извара': 'Извара',\n",
    "    'деревня Иссад': 'Иссад',\n",
    "    'деревня Калитино': 'Калитино',\n",
    "    'деревня Кальтино': 'Кальтино',\n",
    "    'деревня Камышовка': 'Камышовка',\n",
    "    'деревня Каськово': 'Каськово',\n",
    "    'деревня Келози': 'Келози',\n",
    "    'деревня Кипень': 'Кипень',\n",
    "    'деревня Кисельня': 'Кисельня',\n",
    "    'деревня Колтуши': 'Колтуши',\n",
    "    'деревня Коркино': 'Коркино',\n",
    "    'деревня Котлы': 'Котлы',\n",
    "    'деревня Котлы': 'Котлы',\n",
    "    'деревня Кудрово': 'Кудрово',\n",
    "    'деревня Кузьмолово': 'Кузьмолово',\n",
    "    'деревня Курковицы': 'Курковицы',\n",
    "    'деревня Куровицы': 'Куровицы',\n",
    "    'деревня Куттузи': 'Куттузи',\n",
    "    'деревня Лаврики': 'Лаврики',\n",
    "    'деревня Лаголово': 'Лаголово',\n",
    "    'деревня Лампово': 'Лампово',\n",
    "    'деревня Лесколово': 'Лесколово',\n",
    "    'деревня Лопухинка': 'Лопухинка',\n",
    "    'деревня Лупполово': 'Лупполово',\n",
    "    'деревня Малая Романовка': 'Малая Романовка',\n",
    "    'деревня Малое Верево': 'Малое Верево',\n",
    "    'деревня Малое Карлино': 'Малое Карлино',\n",
    "    'деревня Малые Колпаны': 'Малые Колпаны',\n",
    "    'деревня Мануйлово': 'Мануйлово',\n",
    "    'деревня Меньково': 'Меньково',\n",
    "    'деревня Мины': 'Мины',\n",
    "    'деревня Мистолово': 'Мистолово',\n",
    "    'деревня Ненимяки': 'Ненимяки',\n",
    "    'деревня Нижние Осельки': 'Нижние Осельки',\n",
    "    'деревня Нижняя': 'Нижняя',\n",
    "    'деревня Низино': 'Низино',\n",
    "    'деревня Новое Девяткино': 'Новое Девяткино',\n",
    "    'деревня Новолисино': 'Новолисино',\n",
    "    'деревня Нурма': 'Нурма',\n",
    "    'деревня Оржицы': 'Оржицы',\n",
    "    'деревня Парицы': 'Парицы',\n",
    "    'деревня Пельгора': 'Пельгора',\n",
    "    'деревня Пеники': 'Пеники',\n",
    "    'деревня Пижма': 'Пижма',\n",
    "    'деревня Пикколово': 'Пикколово',\n",
    "    'деревня Пудомяги': 'Пудомяги',\n",
    "    'деревня Пустынка': 'Пустынка',\n",
    "    'деревня Пчева': 'Пчева',\n",
    "    'деревня Рабитицы': 'Рабитицы',\n",
    "    'деревня Разбегаево': 'Разбегаево',\n",
    "    'деревня Раздолье': 'Раздолье',\n",
    "    'деревня Разметелево': 'Разметелево',\n",
    "    'деревня Рапполово': 'Рапполово',\n",
    "    'деревня Реброво': 'Реброво',\n",
    "    'деревня Русско': 'Русско',\n",
    "    'деревня Сижно': 'Сижно',\n",
    "    'деревня Снегирёвка': 'Снегирёвка',\n",
    "    'деревня Старая': 'Старая',\n",
    "    'деревня Старая Пустошь': 'Старая Пустошь',\n",
    "    'деревня Старое Хинколово': 'Старое Хинколово',\n",
    "    'деревня Старополье': 'Старополье',\n",
    "    'деревня Старосиверская': 'Старосиверская',\n",
    "    'деревня Старые Бегуницы': 'Старые Бегуницы',\n",
    "    'деревня Суоранда': 'Суоранда',\n",
    "    'деревня Сяськелево': 'Сяськелево',\n",
    "    'деревня Тарасово': 'Тарасово',\n",
    "    'деревня Терпилицы': 'Терпилицы',\n",
    "    'деревня Тихковицы': 'Тихковицы',\n",
    "    'деревня Тойворово': 'Тойворово',\n",
    "    'деревня Торосово': 'Торосово',\n",
    "    'деревня Торошковичи': 'Торошковичи',\n",
    "    'деревня Трубников Бор': 'Трубников Бор',\n",
    "    'деревня Фалилеево': 'Фалилеево',\n",
    "    'деревня Фёдоровское': 'Фёдоровское',\n",
    "    'деревня Хапо-Ое': 'Хапо-Ое',\n",
    "    'деревня Хязельки': 'Хязельки',\n",
    "    'деревня Чудской Бор': 'Чудской Бор',\n",
    "    'деревня Шпаньково': 'Шпаньково',\n",
    "    'деревня Щеглово': 'Щеглово',\n",
    "    'деревня Юкки': 'Юкки',\n",
    "    'деревня Ялгино': 'Ялгино',\n",
    "    'деревня Яльгелево': 'Яльгелево',\n",
    "    'деревня Ям-Тесово': 'Ям-Тесово',\n",
    "    'коттеджный поселок Кивеннапа Север': 'Кивеннапа Север',\n",
    "    'коттеджный поселок Счастье': 'Счастье',\n",
    "    'коттеджный посёлок Лесное': 'Лесное',\n",
    "    'поселок Аннино': 'Аннино',\n",
    "    'поселок Барышево': 'Барышево',\n",
    "    'поселок Бугры': 'Бугры',\n",
    "    'поселок Возрождение': 'Возрождение',\n",
    "    'поселок Войсковицы': 'Войсковицы',\n",
    "    'поселок Володарское': 'Володарское',\n",
    "    'поселок Гаврилово': 'Гаврилово',\n",
    "    'поселок Гарболово': 'Гарболово',\n",
    "    'поселок Гладкое': 'Гладкое',\n",
    "    'поселок Глажево': 'Глажево',\n",
    "    'поселок Глебычево': 'Глебычево',\n",
    "    'поселок Гончарово': 'Гончарово',\n",
    "    'поселок Громово': 'Громово',\n",
    "    'поселок Дружноселье': 'Дружноселье',\n",
    "    'поселок Елизаветино': 'Елизаветино',\n",
    "    'поселок Жилгородок': 'Жилгородок',\n",
    "    'поселок Жилпосёлок': 'Жилпосёлок',\n",
    "    'поселок Житково': 'Житково',\n",
    "    'поселок Заводской': 'Заводской',\n",
    "    'поселок Запорожское': 'Запорожское',\n",
    "    'поселок Зимитицы': 'Зимитицы',\n",
    "    'поселок Ильичёво': 'Ильичёво',\n",
    "    'поселок Калитино': 'Калитино',\n",
    "    'поселок Каложицы': 'Каложицы',\n",
    "    'поселок Кингисеппский': 'Кингисеппский',\n",
    "    'поселок Кирпичное': 'Кирпичное',\n",
    "    'поселок Кобралово': 'Кобралово',\n",
    "    'поселок Кобринское': 'Кобринское',\n",
    "    'поселок Коммунары': 'Коммунары',\n",
    "    'поселок Коробицыно': 'Коробицыно',\n",
    "    'поселок Котельский': 'Котельский',\n",
    "    'поселок Красная Долина': 'Красная Долина',\n",
    "    'поселок Красносельское': 'Красносельское',\n",
    "    'поселок Лесное': 'Лесное',\n",
    "    'поселок Лисий Нос': 'Лисий Нос',\n",
    "    'поселок Лукаши': 'Лукаши',\n",
    "    'поселок Любань': 'Любань',\n",
    "    'поселок Мельниково': 'Мельниково',\n",
    "    'поселок Мичуринское': 'Мичуринское',\n",
    "    'поселок Молодцово': 'Молодцово',\n",
    "    'поселок Мурино': 'Мурино',\n",
    "    'поселок Новый Свет': 'Новый Свет',\n",
    "    'поселок Новый Учхоз': 'Новый Учхоз',\n",
    "    'поселок Оредеж': 'Оредеж',\n",
    "    'поселок Пансионат Зелёный Бор': 'Пансионат Зелёный Бор',\n",
    "    'поселок Первомайское': 'Первомайское',\n",
    "    'поселок Перово': 'Перово',\n",
    "    'поселок Петровское': 'Петровское',\n",
    "    'поселок Победа': 'Победа',\n",
    "    'поселок Поляны': 'Поляны',\n",
    "    'поселок Почап': 'Почап',\n",
    "    'поселок Починок': 'Починок',\n",
    "    'поселок Пушное': 'Пушное',\n",
    "    'поселок Пчевжа': 'Пчевжа',\n",
    "    'поселок Рабитицы': 'Рабитицы',\n",
    "    'поселок Романовка': 'Романовка',\n",
    "    'поселок Ромашки': 'Ромашки',\n",
    "    'поселок Рябово': 'Рябово',\n",
    "    'поселок Севастьяново': 'Севастьяново',\n",
    "    'поселок Селезнёво': 'Селезнёво',\n",
    "    'поселок Сельцо': 'Сельцо',\n",
    "    'поселок Семиозерье': 'Семиозерье',\n",
    "    'поселок Семрино': 'Семрино',\n",
    "    'поселок Серебрянский': 'Серебрянский',\n",
    "    'поселок Совхозный': 'Совхозный',\n",
    "    'поселок Старая Малукса': 'Старая Малукса',\n",
    "    'поселок Стеклянный': 'Стеклянный',\n",
    "    'поселок Сумино': 'Сумино',\n",
    "    'поселок Суходолье': 'Суходолье',\n",
    "    'поселок Тельмана': 'Тельмана',\n",
    "    'поселок Терволово': 'Терволово',\n",
    "    'поселок Торковичи': 'Торковичи',\n",
    "    'поселок Тёсово-4': 'Тёсово-4',\n",
    "    'поселок Углово': 'Углово',\n",
    "    'поселок Усть-Луга': 'Усть-Луга',\n",
    "    'поселок Ушаки': 'Ушаки',\n",
    "    'поселок Цвелодубово': 'Цвелодубово',\n",
    "    'поселок Цвылёво': 'Цвылёво',\n",
    "    'поселок городского типа Большая Ижора': 'Большая Ижора',\n",
    "    'поселок городского типа Вырица': 'Вырица',\n",
    "    'поселок городского типа Дружная Горка': 'Дружная Горка',\n",
    "    'поселок городского типа Дубровка': 'Дубровка',\n",
    "    'поселок городского типа Ефимовский': 'Ефимовский',\n",
    "    'поселок городского типа Кондратьево': 'Кондратьево',\n",
    "    'поселок городского типа Красный Бор': 'Красный Бор',\n",
    "    'поселок городского типа Кузьмоловский': 'Кузьмоловский',\n",
    "    'поселок городского типа Лебяжье': 'Лебяжье',\n",
    "    'поселок городского типа Лесогорский': 'Лесогорский',\n",
    "    'поселок городского типа Назия': 'Назия',\n",
    "    'поселок городского типа Никольский': 'Никольский',\n",
    " 'поселок городского типа Приладожский': 'Приладожский',\n",
    "    'поселок городского типа Рахья': 'Рахья',\n",
    " 'поселок городского типа Рощино': 'Рощино',\n",
    "    'поселок городского типа Рябово': 'Рябово',\n",
    " 'поселок городского типа Синявино': 'Синявино',\n",
    "    'поселок городского типа Советский': 'Советский',\n",
    " 'поселок городского типа Токсово': 'Токсово',\n",
    "    'поселок городского типа Форносово': 'Форносово',\n",
    " 'поселок городского типа имени Свердлова': 'имени Свердлова',\n",
    "    'поселок станции Вещево': 'Вещево',\n",
    " 'поселок станции Корнево': 'Корнево',\n",
    "    'поселок станции Лужайка': 'Лужайка',\n",
    " 'поселок станции Приветнинское': 'Приветнинское',\n",
    "    'посёлок Александровская': 'Александровская',\n",
    " 'посёлок Алексеевка': 'Алексеевка',\n",
    "    'посёлок Аннино': 'Аннино',\n",
    "    'посёлок Белоостров': 'Белоостров',\n",
    " 'посёлок Бугры': 'Бугры',\n",
    "    'посёлок Возрождение': 'Возрождение',\n",
    "    'посёлок Войскорово': 'Войскорово',\n",
    " 'посёлок Высокоключевой': 'Высокоключевой',\n",
    "    'посёлок Гаврилово': 'Гаврилово',\n",
    "    'посёлок Дзержинского': 'Дзержинского',\n",
    " 'посёлок Жилгородок': 'Жилгородок',\n",
    "    'посёлок Ильичёво': 'Ильичёво',\n",
    "    'посёлок Кикерино': 'Кикерино',\n",
    " 'посёлок Кобралово': 'Кобралово',\n",
    "    'посёлок Коробицыно': 'Коробицыно',\n",
    "    'посёлок Левашово': 'Левашово',\n",
    " 'посёлок Ленинское': 'Ленинское',\n",
    "    'посёлок Лисий Нос': 'Лисий Нос',\n",
    "    'посёлок Мельниково': 'Мельниково',\n",
    " 'посёлок Металлострой': 'Металлострой',\n",
    "    'посёлок Мичуринское': 'Мичуринское',\n",
    "    'посёлок Молодёжное': 'Молодёжное',\n",
    " 'посёлок Мурино': 'Мурино',\n",
    "    'посёлок Мыза-Ивановка': 'Мыза-Ивановка',\n",
    "    'посёлок Новогорелово': 'Новогорелово',\n",
    " 'посёлок Новый Свет': 'Новый Свет',\n",
    "    'посёлок Пансионат Зелёный Бор': 'Пансионат Зелёный Бор',\n",
    "    'посёлок Парголово': 'Парголово',\n",
    " 'посёлок Перово': 'Перово',\n",
    "    'посёлок Песочный': 'Песочный',\n",
    "    'посёлок Петро-Славянка': 'Петро-Славянка',\n",
    " 'посёлок Петровское': 'Петровское',\n",
    "    'посёлок Платформа 69-й километр': 'Платформа 69-й километр',\n",
    "    'посёлок Плодовое': 'Плодовое',\n",
    " 'посёлок Плоское': 'Плоское',\n",
    "    'посёлок Победа': 'Победа',\n",
    "    'посёлок Поляны': 'Поляны',\n",
    "    'посёлок Понтонный': 'Понтонный',\n",
    " 'посёлок Пригородный': 'Пригородный',\n",
    "    'посёлок Пудость': 'Пудость',\n",
    "    'посёлок Репино': 'Репино',\n",
    "    'посёлок Ропша': 'Ропша',\n",
    " 'посёлок Сапёрное': 'Сапёрное',\n",
    "    'посёлок Сапёрный': 'Сапёрный',\n",
    "    'посёлок Сосново': 'Сосново',\n",
    " 'посёлок Старая Малукса': 'Старая Малукса',\n",
    "    'посёлок Стеклянный': 'Стеклянный',\n",
    "    'посёлок Стрельна': 'Стрельна',\n",
    " 'посёлок Суйда': 'Суйда',\n",
    "    'посёлок Сумино': 'Сумино',\n",
    "    'посёлок Тельмана': 'Тельмана',\n",
    "    'посёлок Терволово': 'Терволово',\n",
    " 'посёлок Торфяное': 'Торфяное',\n",
    "    'посёлок Усть-Ижора': 'Усть-Ижора',\n",
    "    'посёлок Усть-Луга': 'Усть-Луга',\n",
    " 'посёлок Форт Красная Горка': 'Форт Красная Горка',\n",
    "    'посёлок Шугозеро': 'Шугозеро',\n",
    "    'посёлок Шушары': 'Шушары',\n",
    " 'посёлок Щеглово': 'Щеглово',\n",
    "    'посёлок городского типа Важины': 'Важины',\n",
    " 'посёлок городского типа Вознесенье': 'Вознесенье',\n",
    "    'посёлок городского типа Вырица': 'Вырица',\n",
    " 'посёлок городского типа Красный Бор': 'Красный Бор',\n",
    "    'посёлок городского типа Кузнечное': 'Кузнечное',\n",
    " 'посёлок городского типа Кузьмоловский': 'Кузьмоловский',\n",
    "    'посёлок городского типа Лебяжье': 'Лебяжье',\n",
    " 'посёлок городского типа Мга': 'Мга',\n",
    "    'посёлок городского типа Павлово': 'Павлово',\n",
    " 'посёлок городского типа Рощино': 'Рощино',\n",
    "    'посёлок городского типа Рябово': 'Рябово',\n",
    " 'посёлок городского типа Сиверский': 'Сиверский',\n",
    "    'посёлок городского типа Тайцы': 'Тайцы',\n",
    " 'посёлок городского типа Токсово': 'Токсово',\n",
    "    'посёлок городского типа Ульяновка': 'Ульяновка',\n",
    " 'посёлок городского типа Форносово': 'Форносово',\n",
    " 'посёлок городского типа имени Морозова': 'имени Морозова',\n",
    " 'посёлок городского типа имени Свердлова': 'имени Свердлова',\n",
    " 'посёлок при железнодорожной станции Вещево': 'Вещево',\n",
    " 'посёлок при железнодорожной станции Приветнинское': 'Приветнинское',\n",
    " 'посёлок станции Громово': 'Громово',\n",
    "    'посёлок станции Свирь': 'Свирь',\n",
    " 'садоводческое некоммерческое товарищество Лесная Поляна': 'Лесная Поляна',\n",
    " 'садовое товарищество Новая Ропша': 'Новая Ропша',\n",
    "    'садовое товарищество Приладожский': 'Приладожский',\n",
    " 'садовое товарищество Рахья': 'Рахья',\n",
    "    'садовое товарищество Садко': 'Садко',\n",
    "    'село Копорье': 'Копорье',\n",
    " 'село Никольское': 'Никольское',\n",
    "    'село Павлово': 'Павлово',\n",
    "    'село Паша': 'Паша',\n",
    "    'село Путилово': 'Путилово',\n",
    " 'село Рождествено': 'Рождествено',\n",
    "    'село Русско-Высоцкое': 'Русско-Высоцкое',\n",
    "    'село Старая Ладога': 'Старая Ладога',\n",
    "    'село Шум': 'Шум',\n",
    "})"
   ]
  },
  {
   "cell_type": "code",
   "execution_count": 24,
   "metadata": {},
   "outputs": [],
   "source": [
    "data.locality_name.fillna('unknown', inplace=True)"
   ]
  },
  {
   "cell_type": "code",
   "execution_count": 25,
   "metadata": {},
   "outputs": [
    {
     "name": "stdout",
     "output_type": "stream",
     "text": [
      "['unknown' 'Агалатово' 'Александровская' 'Алексеевка' 'Аннино' 'Аро'\n",
      " 'Барышево' 'Батово' 'Бегуницы' 'Белогорка' 'Белоостров' 'Бокситогорск'\n",
      " 'Большая Вруда' 'Большая Ижора' 'Большая Пустомержа' 'Большие Колпаны'\n",
      " 'Большое Рейзино' 'Большой Сабск' 'Бор' 'Борисова Грива' 'Бугры'\n",
      " 'Будогощь' 'Ваганово' 'Важины' 'Вартемяги' 'Вахнова Кара' 'Вещево'\n",
      " 'Виллози' 'Вознесенье' 'Возрождение' 'Войсковицы' 'Войскорово'\n",
      " 'Володарское' 'Волосово' 'Волхов' 'Всеволожск' 'Выборг' 'Вырица'\n",
      " 'Выскатка' 'Высокоключевой' 'Высоцк' 'Гаврилово' 'Гарболово' 'Гатчина'\n",
      " 'Гладкое' 'Глажево' 'Глебычево' 'Глинка' 'Гончарово' 'Горбунки'\n",
      " 'Гостилицы' 'Громово' 'Дзержинского' 'Дружная Горка' 'Дружноселье'\n",
      " 'Дубровка' 'Елизаветино' 'Ефимовский' 'Жилгородок' 'Жилпосёлок' 'Житково'\n",
      " 'Заводской' 'Заклинье' 'Заневка' 'Запорожское' 'Зеленогорск' 'Зимитицы'\n",
      " 'Ивангород' 'Извара' 'Ильичёво' 'Иссад' 'Калитино' 'Каложицы' 'Кальтино'\n",
      " 'Каменногорск' 'Камышовка' 'Каськово' 'Келози' 'Кивеннапа Север'\n",
      " 'Кикерино' 'Кингисепп' 'Кингисеппский' 'Кипень' 'Кириши' 'Кировск'\n",
      " 'Кирпичное' 'Кисельня' 'Кобралово' 'Кобринское' 'Колпино' 'Колтуши'\n",
      " 'Коммунар' 'Коммунары' 'Кондратьево' 'Копорье' 'Коркино' 'Корнево'\n",
      " 'Коробицыно' 'Котельский' 'Котлы' 'Красная Долина' 'Красное Село'\n",
      " 'Красносельское' 'Красный Бор' 'Кронштадт' 'Кудрово' 'Кузнечное'\n",
      " 'Кузьмолово' 'Кузьмоловский' 'Курковицы' 'Куровицы' 'Куттузи' 'Лаврики'\n",
      " 'Лаголово' 'Лампово' 'Лебяжье' 'Левашово' 'Ленинское' 'Лесколово'\n",
      " 'Лесная Поляна' 'Лесное' 'Лесогорский' 'Лисий Нос' 'Лодейное Поле'\n",
      " 'Ломоносов' 'Лопухинка' 'Луга' 'Лужайка' 'Лукаши' 'Лупполово' 'Любань'\n",
      " 'Малая Романовка' 'Малое Верево' 'Малое Карлино' 'Малые Колпаны'\n",
      " 'Мануйлово' 'Мга' 'Мельниково' 'Меньково' 'Металлострой' 'Мины'\n",
      " 'Мистолово' 'Мичуринское' 'Молодцово' 'Молодёжное' 'Мурино'\n",
      " 'Мыза-Ивановка' 'Назия' 'Ненимяки' 'Нижние Осельки' 'Нижняя' 'Низино'\n",
      " 'Никольский' 'Никольское' 'Новая Ладога' 'Новая Ропша' 'Новогорелово'\n",
      " 'Новое Девяткино' 'Новолисино' 'Новоселье' 'Новый Свет' 'Новый Учхоз'\n",
      " 'Нурма' 'Оредеж' 'Оржицы' 'Отрадное' 'Павлово' 'Павловск'\n",
      " 'Пансионат Зелёный Бор' 'Парголово' 'Парицы' 'Паша' 'Пельгора' 'Пеники'\n",
      " 'Первомайское' 'Перово' 'Песочный' 'Петергоф' 'Петро-Славянка'\n",
      " 'Петровское' 'Пижма' 'Пикалёво' 'Пикколово' 'Платформа 69-й километр'\n",
      " 'Плодовое' 'Плоское' 'Победа' 'Подпорожье' 'Поляны' 'Понтонный' 'Почап'\n",
      " 'Починок' 'Приветнинское' 'Пригородный' 'Приладожский' 'Приморск'\n",
      " 'Приозерск' 'Пудомяги' 'Пудость' 'Пустынка' 'Путилово' 'Пушкин' 'Пушное'\n",
      " 'Пчева' 'Пчевжа' 'Рабитицы' 'Разбегаево' 'Раздолье' 'Разметелево'\n",
      " 'Рапполово' 'Рахья' 'Реброво' 'Репино' 'Рождествено' 'Романовка'\n",
      " 'Ромашки' 'Ропша' 'Рощино' 'Русско' 'Русско-Высоцкое' 'Рябово' 'Садко'\n",
      " 'Санкт-Петербург' 'Сапёрное' 'Сапёрный' 'Светогорск' 'Свирь' 'Свирьстрой'\n",
      " 'Севастьяново' 'Селезнёво' 'Сельцо' 'Семиозерье' 'Семрино' 'Серебрянский'\n",
      " 'Сертолово' 'Сестрорецк' 'Сиверский' 'Сижно' 'Синявино' 'Сланцы'\n",
      " 'Снегирёвка' 'Советский' 'Совхозный' 'Сосново' 'Сосновый Бор' 'Старая'\n",
      " 'Старая Ладога' 'Старая Малукса' 'Старая Пустошь' 'Старое Хинколово'\n",
      " 'Старополье' 'Старосиверская' 'Старые Бегуницы' 'Стеклянный' 'Стрельна'\n",
      " 'Суйда' 'Сумино' 'Суоранда' 'Суходолье' 'Счастье' 'Сяськелево'\n",
      " 'Сясьстрой' 'Тайцы' 'Тарасово' 'Тельмана' 'Терволово' 'Терпилицы'\n",
      " 'Тихвин' 'Тихковицы' 'Тойворово' 'Токсово' 'Торковичи' 'Торосово'\n",
      " 'Торошковичи' 'Торфяное' 'Тосно' 'Трубников Бор' 'Тёсово-4' 'Углово'\n",
      " 'Ульяновка' 'Усть-Ижора' 'Усть-Луга' 'Ушаки' 'Фалилеево' 'Форносово'\n",
      " 'Форт Красная Горка' 'Фёдоровское' 'Хапо-Ое' 'Хязельки' 'Цвелодубово'\n",
      " 'Цвылёво' 'Чудской Бор' 'Шлиссельбург' 'Шпаньково' 'Шугозеро' 'Шум'\n",
      " 'Шушары' 'Щеглово' 'Юкки' 'Ялгино' 'Яльгелево' 'Ям-Тесово' 'Янино-1'\n",
      " 'деревня Кривко' 'имени Морозова' 'имени Свердлова']\n"
     ]
    }
   ],
   "source": [
    "print(data['locality_name'].sort_values().unique()) "
   ]
  },
  {
   "cell_type": "code",
   "execution_count": 26,
   "metadata": {},
   "outputs": [],
   "source": [
    "max_lim = data['last_price'].quantile(0.995)     #для удаления выбросов выбрал столбец цены как интегративный показатель,\n",
    "min_lim = data['last_price'].quantile(0.005)      #  и квантиль отсекающий 0,5% объектов с экстремально высокой и низкой        \n",
    "data = data[(data['last_price'] < max_lim) & (data['last_price'] > min_lim)]  #ценой. Применение этого же квантиля ко всем \n",
    "#численным показателям удаляет из массива данных до 70% строк.\n"
   ]
  },
  {
   "cell_type": "code",
   "execution_count": 27,
   "metadata": {},
   "outputs": [],
   "source": [
    "data['first_day_exposition'] = pd.to_datetime(data['first_day_exposition'], format='%Y-%m-%dT%H:%M:%S')\n",
    "data['first_day_exposition'] = data['first_day_exposition'].dt.round('1d') #изменение типа данных и округление до 1 дня"
   ]
  },
  {
   "cell_type": "code",
   "execution_count": 28,
   "metadata": {
    "scrolled": true
   },
   "outputs": [
    {
     "data": {
      "text/plain": [
       "0"
      ]
     },
     "execution_count": 28,
     "metadata": {},
     "output_type": "execute_result"
    }
   ],
   "source": [
    "data.duplicated().sum()"
   ]
  },
  {
   "cell_type": "code",
   "execution_count": 29,
   "metadata": {},
   "outputs": [
    {
     "data": {
      "text/plain": [
       "total_images                0\n",
       "last_price                  0\n",
       "total_area                  0\n",
       "first_day_exposition        0\n",
       "rooms                       0\n",
       "ceiling_height              0\n",
       "floors_total               86\n",
       "living_area                 0\n",
       "floor                       0\n",
       "is_apartment                0\n",
       "studio                      0\n",
       "open_plan                   0\n",
       "kitchen_area             2235\n",
       "balcony                     0\n",
       "locality_name               0\n",
       "airports_nearest         5415\n",
       "cityCenters_nearest      5394\n",
       "parks_around3000         5393\n",
       "parks_nearest           15470\n",
       "ponds_around3000         5393\n",
       "ponds_nearest           14448\n",
       "days_exposition          3138\n",
       "dtype: int64"
      ]
     },
     "execution_count": 29,
     "metadata": {},
     "output_type": "execute_result"
    }
   ],
   "source": [
    "data.isna().sum()\n",
    "# оставшиеся пропуски заполнить проблематично, этажность здания выяснить невозможно, так как нет данных о типе дома. \n",
    "# площадь кухни можно принять за 0 в строках, где указаны студии и свободная планировка,но это в лучшем случае уберёт \n",
    "# 10% пропусков (этих типов всего 216 строк). Характеристики окружения и расстояния до центра и аэропорта можно было бы\n",
    "# заполнить при наличии координат объектов. "
   ]
  },
  {
   "cell_type": "code",
   "execution_count": 30,
   "metadata": {},
   "outputs": [
    {
     "data": {
      "text/plain": [
       "count    18062.000000\n",
       "mean     14254.617207\n",
       "std       8598.481831\n",
       "min        181.000000\n",
       "25%       9377.000000\n",
       "50%      13145.000000\n",
       "75%      16318.000000\n",
       "max      65968.000000\n",
       "Name: cityCenters_nearest, dtype: float64"
      ]
     },
     "execution_count": 30,
     "metadata": {},
     "output_type": "execute_result"
    }
   ],
   "source": [
    "data['cityCenters_nearest'].describe() #данные без видимых аномалий, коррекции не требует"
   ]
  },
  {
   "cell_type": "code",
   "execution_count": 31,
   "metadata": {},
   "outputs": [
    {
     "data": {
      "text/plain": [
       "count    18041.00000\n",
       "mean     28808.38734\n",
       "std      12665.05848\n",
       "min          0.00000\n",
       "25%      18539.00000\n",
       "50%      26758.00000\n",
       "75%      37347.00000\n",
       "max      84869.00000\n",
       "Name: airports_nearest, dtype: float64"
      ]
     },
     "execution_count": 31,
     "metadata": {},
     "output_type": "execute_result"
    }
   ],
   "source": [
    "data['airports_nearest'].describe()  #данные без видимых аномалий, коррекции не требует"
   ]
  },
  {
   "cell_type": "code",
   "execution_count": 32,
   "metadata": {},
   "outputs": [
    {
     "data": {
      "text/plain": [
       "count    18063.000000\n",
       "mean         0.604717\n",
       "std          0.795558\n",
       "min          0.000000\n",
       "25%          0.000000\n",
       "50%          0.000000\n",
       "75%          1.000000\n",
       "max          3.000000\n",
       "Name: parks_around3000, dtype: float64"
      ]
     },
     "execution_count": 32,
     "metadata": {},
     "output_type": "execute_result"
    }
   ],
   "source": [
    "data['parks_around3000'].describe()  #данные без видимых аномалий, коррекции не требует"
   ]
  },
  {
   "cell_type": "code",
   "execution_count": 33,
   "metadata": {},
   "outputs": [
    {
     "data": {
      "text/plain": [
       "count    9008.000000\n",
       "mean      519.863233\n",
       "std       277.920202\n",
       "min        13.000000\n",
       "25%       296.000000\n",
       "50%       503.000000\n",
       "75%       733.000000\n",
       "max      1344.000000\n",
       "Name: ponds_nearest, dtype: float64"
      ]
     },
     "execution_count": 33,
     "metadata": {},
     "output_type": "execute_result"
    }
   ],
   "source": [
    "data['ponds_nearest'].describe()   #данные без видимых аномалий, коррекции не требует"
   ]
  },
  {
   "cell_type": "code",
   "execution_count": 34,
   "metadata": {},
   "outputs": [
    {
     "data": {
      "text/plain": [
       "count    20318.000000\n",
       "mean       180.258736\n",
       "std        219.265532\n",
       "min          1.000000\n",
       "25%         45.000000\n",
       "50%         95.000000\n",
       "75%        230.000000\n",
       "max       1580.000000\n",
       "Name: days_exposition, dtype: float64"
      ]
     },
     "execution_count": 34,
     "metadata": {},
     "output_type": "execute_result"
    }
   ],
   "source": [
    "data['days_exposition'].describe()  #данные без видимых аномалий, коррекции не требует"
   ]
  },
  {
   "cell_type": "code",
   "execution_count": 35,
   "metadata": {
    "scrolled": true
   },
   "outputs": [
    {
     "name": "stdout",
     "output_type": "stream",
     "text": [
      "<class 'pandas.core.frame.DataFrame'>\n",
      "Int64Index: 23456 entries, 0 to 23698\n",
      "Data columns (total 22 columns):\n",
      " #   Column                Non-Null Count  Dtype         \n",
      "---  ------                --------------  -----         \n",
      " 0   total_images          23456 non-null  int64         \n",
      " 1   last_price            23456 non-null  float64       \n",
      " 2   total_area            23456 non-null  float64       \n",
      " 3   first_day_exposition  23456 non-null  datetime64[ns]\n",
      " 4   rooms                 23456 non-null  int64         \n",
      " 5   ceiling_height        23456 non-null  float64       \n",
      " 6   floors_total          23370 non-null  float64       \n",
      " 7   living_area           23456 non-null  float64       \n",
      " 8   floor                 23456 non-null  int64         \n",
      " 9   is_apartment          23456 non-null  int32         \n",
      " 10  studio                23456 non-null  int32         \n",
      " 11  open_plan             23456 non-null  int32         \n",
      " 12  kitchen_area          21221 non-null  float64       \n",
      " 13  balcony               23456 non-null  int32         \n",
      " 14  locality_name         23456 non-null  object        \n",
      " 15  airports_nearest      18041 non-null  float64       \n",
      " 16  cityCenters_nearest   18062 non-null  float64       \n",
      " 17  parks_around3000      18063 non-null  float64       \n",
      " 18  parks_nearest         7986 non-null   float64       \n",
      " 19  ponds_around3000      18063 non-null  float64       \n",
      " 20  ponds_nearest         9008 non-null   float64       \n",
      " 21  days_exposition       20318 non-null  float64       \n",
      "dtypes: datetime64[ns](1), float64(13), int32(4), int64(3), object(1)\n",
      "memory usage: 3.8+ MB\n"
     ]
    }
   ],
   "source": [
    "data.balcony = data.balcony.astype(int)\n",
    "#data['floors_total'].dropna()\n",
    "#data.floors_total = data.floors_total.astype(int)\n",
    "data.info()"
   ]
  },
  {
   "cell_type": "markdown",
   "metadata": {},
   "source": [
    "#### Промежуточный вывод"
   ]
  },
  {
   "cell_type": "markdown",
   "metadata": {},
   "source": [
    "Не получилось заполнить все пропуски. Вероятнее всего, при заполнении граф расстояния от центра до аэропорта данные вносились вручную, автоматизировав этот шаг (определение координат по адресу с расчётом расстояний) можно было бы это исправить. Так же предложение заполнения адреса по полицейской базе с указанием типа поселения со временем приводит к искажению данных (в 2015 году Мурино и Кудрово - деревни, но в 2019 уже уже города)."
   ]
  },
  {
   "cell_type": "markdown",
   "metadata": {},
   "source": [
    "### Посчитайте и добавьте в таблицу новые столбцы"
   ]
  },
  {
   "cell_type": "code",
   "execution_count": 36,
   "metadata": {},
   "outputs": [],
   "source": [
    "data['price_m'] = data['last_price']/data['total_area']"
   ]
  },
  {
   "cell_type": "code",
   "execution_count": 37,
   "metadata": {},
   "outputs": [],
   "source": [
    "data['weekday'] = data['first_day_exposition'].dt.weekday"
   ]
  },
  {
   "cell_type": "code",
   "execution_count": 38,
   "metadata": {},
   "outputs": [],
   "source": [
    "data['month'] = data['first_day_exposition'].dt.month"
   ]
  },
  {
   "cell_type": "code",
   "execution_count": 39,
   "metadata": {},
   "outputs": [],
   "source": [
    "data['year'] = data['first_day_exposition'].dt.year"
   ]
  },
  {
   "cell_type": "code",
   "execution_count": 40,
   "metadata": {},
   "outputs": [],
   "source": [
    "def generate_floor_type (floor, floors_total):\n",
    "    if floor == 1:\n",
    "        return 'первый'\n",
    "    elif floor == floors_total:\n",
    "        return 'последний'\n",
    "    else:\n",
    "        return 'другой'\n",
    "data['floor_type'] = data.apply(lambda x: generate_floor_type(x['floor'], x['floors_total']), axis=1)\n",
    "# разбитие на 3 категории исходя из этажа объекта"
   ]
  },
  {
   "cell_type": "code",
   "execution_count": 41,
   "metadata": {},
   "outputs": [],
   "source": [
    "data['cityCenters_nearest_km'] = (data['cityCenters_nearest']/1000).apply(np.floor) #перевод в км"
   ]
  },
  {
   "cell_type": "markdown",
   "metadata": {},
   "source": [
    "### Проведите исследовательский анализ данных"
   ]
  },
  {
   "cell_type": "code",
   "execution_count": 42,
   "metadata": {},
   "outputs": [
    {
     "data": {
      "text/plain": [
       "count    23456.000000\n",
       "mean        59.412119\n",
       "std         31.342117\n",
       "min         12.000000\n",
       "25%         40.000000\n",
       "50%         52.000000\n",
       "75%         69.300000\n",
       "max        517.000000\n",
       "Name: total_area, dtype: float64"
      ]
     },
     "execution_count": 42,
     "metadata": {},
     "output_type": "execute_result"
    },
    {
     "data": {
      "image/png": "[encoded data removed]",
      "text/plain": [
       "<Figure size 360x216 with 1 Axes>"
      ]
     },
     "metadata": {
      "needs_background": "light"
     },
     "output_type": "display_data"
    },
    {
     "data": {
      "image/png": "[encoded data removed]",
      "text/plain": [
       "<Figure size 360x216 with 1 Axes>"
      ]
     },
     "metadata": {
      "needs_background": "light"
     },
     "output_type": "display_data"
    }
   ],
   "source": [
    "data.plot(y = 'total_area', kind = 'hist', bins = 100, grid=True, figsize = (5,3), range = (0,100))\n",
    "data.plot(y = 'total_area', kind = 'hist', bins = 100, grid=True, figsize = (5,3), range = (0,550))\n",
    "data['total_area'].describe()"
   ]
  },
  {
   "cell_type": "markdown",
   "metadata": {},
   "source": [
    "Распределение данных соответствует ожидаемому. Пики на гистограмме указывают на типичный метраж 1,2 и 3 -комнатных квартир. Медианное значение меньше среднего, что говорит о преобладании квартир небольшой площади на рынке."
   ]
  },
  {
   "cell_type": "code",
   "execution_count": 43,
   "metadata": {},
   "outputs": [
    {
     "data": {
      "text/plain": [
       "count    23456.000000\n",
       "mean        33.850151\n",
       "std         19.767131\n",
       "min          2.000000\n",
       "25%         18.400000\n",
       "50%         30.300000\n",
       "75%         42.500000\n",
       "max        332.000000\n",
       "Name: living_area, dtype: float64"
      ]
     },
     "execution_count": 43,
     "metadata": {},
     "output_type": "execute_result"
    },
    {
     "data": {
      "image/png": "[encoded data removed]",
      "text/plain": [
       "<Figure size 360x216 with 1 Axes>"
      ]
     },
     "metadata": {
      "needs_background": "light"
     },
     "output_type": "display_data"
    },
    {
     "data": {
      "image/png": "[encoded data removed]",
      "text/plain": [
       "<Figure size 360x216 with 1 Axes>"
      ]
     },
     "metadata": {
      "needs_background": "light"
     },
     "output_type": "display_data"
    }
   ],
   "source": [
    "data.plot(y = 'living_area', kind = 'hist', bins = 100, grid=True, figsize = (5,3), range = (0,400))\n",
    "data.plot(y = 'living_area', kind = 'hist', bins = 100, grid=True, figsize = (5,3), range = (0,100))\n",
    "data['living_area'].describe()"
   ]
  },
  {
   "cell_type": "markdown",
   "metadata": {},
   "source": [
    "Распределение данных соответствует ожидаемому. Пики на гистограмме указывают на типичный жилой метраж 1,2 и 3 -комнатных квартир. Медианное значение меньше среднего, что говорит о преобладании квартир небольшой площади на рынке."
   ]
  },
  {
   "cell_type": "code",
   "execution_count": 44,
   "metadata": {},
   "outputs": [
    {
     "data": {
      "text/plain": [
       "count    21221.000000\n",
       "mean        10.466957\n",
       "std          5.449043\n",
       "min          1.300000\n",
       "25%          7.000000\n",
       "50%          9.100000\n",
       "75%         12.000000\n",
       "max        100.700000\n",
       "Name: kitchen_area, dtype: float64"
      ]
     },
     "execution_count": 44,
     "metadata": {},
     "output_type": "execute_result"
    },
    {
     "data": {
      "image/png": "[encoded data removed]",
      "text/plain": [
       "<Figure size 360x216 with 1 Axes>"
      ]
     },
     "metadata": {
      "needs_background": "light"
     },
     "output_type": "display_data"
    },
    {
     "data": {
      "image/png": "[encoded data removed]",
      "text/plain": [
       "<Figure size 360x216 with 1 Axes>"
      ]
     },
     "metadata": {
      "needs_background": "light"
     },
     "output_type": "display_data"
    }
   ],
   "source": [
    "data.plot(y = 'kitchen_area', kind = 'hist', bins = 100, grid=True, figsize = (5,3), range = (0,100))\n",
    "data.plot(y = 'kitchen_area', kind = 'hist', bins = 100, grid=True, figsize = (5,3), range = (0,30))\n",
    "data['kitchen_area'].describe()"
   ]
  },
  {
   "cell_type": "markdown",
   "metadata": {},
   "source": [
    "Большинство предложений на рынке - квартиры с небольшими кухнями (вторичное жильё и новостройки эконом-класса), большие кухни (перепланировка старого фонда, кухни-гостиные) представлены слабо."
   ]
  },
  {
   "cell_type": "code",
   "execution_count": 45,
   "metadata": {},
   "outputs": [
    {
     "data": {
      "text/plain": [
       "count    2.345600e+04\n",
       "mean     6.051619e+06\n",
       "std      5.082551e+06\n",
       "min      8.200000e+05\n",
       "25%      3.450000e+06\n",
       "50%      4.650000e+06\n",
       "75%      6.750000e+06\n",
       "max      5.400000e+07\n",
       "Name: last_price, dtype: float64"
      ]
     },
     "execution_count": 45,
     "metadata": {},
     "output_type": "execute_result"
    },
    {
     "data": {
      "image/png": "[encoded data removed]",
      "text/plain": [
       "<Figure size 360x216 with 1 Axes>"
      ]
     },
     "metadata": {
      "needs_background": "light"
     },
     "output_type": "display_data"
    },
    {
     "data": {
      "image/png": "[encoded data removed]",
      "text/plain": [
       "<Figure size 360x216 with 1 Axes>"
      ]
     },
     "metadata": {
      "needs_background": "light"
     },
     "output_type": "display_data"
    }
   ],
   "source": [
    "data.plot(y = 'last_price', kind = 'hist', bins = 100, grid=True, figsize = (5,3))\n",
    "data.plot(y = 'last_price', kind = 'hist', bins = 100, grid=True, figsize = (5,3), range = (0,20000000))\n",
    "data['last_price'].describe()"
   ]
  },
  {
   "cell_type": "markdown",
   "metadata": {},
   "source": [
    "На рынке пребладает более дешёвое жильё."
   ]
  },
  {
   "cell_type": "code",
   "execution_count": 46,
   "metadata": {},
   "outputs": [
    {
     "data": {
      "text/plain": [
       "count    23456.000000\n",
       "mean         2.060454\n",
       "std          1.058113\n",
       "min          0.000000\n",
       "25%          1.000000\n",
       "50%          2.000000\n",
       "75%          3.000000\n",
       "max         19.000000\n",
       "Name: rooms, dtype: float64"
      ]
     },
     "execution_count": 46,
     "metadata": {},
     "output_type": "execute_result"
    },
    {
     "data": {
      "image/png": "[encoded data removed]",
      "text/plain": [
       "<Figure size 360x216 with 1 Axes>"
      ]
     },
     "metadata": {
      "needs_background": "light"
     },
     "output_type": "display_data"
    },
    {
     "data": {
      "image/png": "[encoded data removed]",
      "text/plain": [
       "<Figure size 360x216 with 1 Axes>"
      ]
     },
     "metadata": {
      "needs_background": "light"
     },
     "output_type": "display_data"
    }
   ],
   "source": [
    "data.plot(y = 'rooms', kind = 'hist', bins = 20, grid=True, figsize = (5,3), range = (0,20))\n",
    "data.plot(y = 'rooms', kind = 'hist', bins = 20, grid=True, figsize = (5,3), range = (0,5))\n",
    "data['rooms'].describe()"
   ]
  },
  {
   "cell_type": "markdown",
   "metadata": {},
   "source": [
    "На рынке преобладают одно- и двухкомнатные квартиры, неожиданно очень небольшое предложение студий."
   ]
  },
  {
   "cell_type": "code",
   "execution_count": 47,
   "metadata": {},
   "outputs": [
    {
     "data": {
      "text/plain": [
       "count    23456.000000\n",
       "mean         2.695744\n",
       "std          0.235040\n",
       "min          1.000000\n",
       "25%          2.600000\n",
       "50%          2.650000\n",
       "75%          2.700000\n",
       "max         10.300000\n",
       "Name: ceiling_height, dtype: float64"
      ]
     },
     "execution_count": 47,
     "metadata": {},
     "output_type": "execute_result"
    },
    {
     "data": {
      "image/png": "[encoded data removed]",
      "text/plain": [
       "<Figure size 360x216 with 1 Axes>"
      ]
     },
     "metadata": {
      "needs_background": "light"
     },
     "output_type": "display_data"
    },
    {
     "data": {
      "image/png": "[encoded data removed]",
      "text/plain": [
       "<Figure size 360x216 with 1 Axes>"
      ]
     },
     "metadata": {
      "needs_background": "light"
     },
     "output_type": "display_data"
    }
   ],
   "source": [
    "data.plot(y = 'ceiling_height', kind = 'hist', bins = 30, range = (1,10), grid=True, figsize = (5,3))\n",
    "data.plot(y = 'ceiling_height', kind = 'hist', bins = 30, range = (1,4), grid=True, figsize = (5,3))\n",
    "data['ceiling_height'].describe()"
   ]
  },
  {
   "cell_type": "markdown",
   "metadata": {},
   "source": [
    "Основная масса жилья с высотой потолка от 2,5 до 2,7 метра - это квартиры от 1960-х годов постройки до современного эконом класса, потолки от 3,0 до 3,3, вероятнее всего, \"сталинки\" или современное дорогое жильё, небольшое количество квартир в высотой потолка выше - старый фонд."
   ]
  },
  {
   "cell_type": "code",
   "execution_count": 48,
   "metadata": {},
   "outputs": [
    {
     "data": {
      "text/plain": [
       "count    23456.000000\n",
       "mean         5.911238\n",
       "std          4.896112\n",
       "min          1.000000\n",
       "25%          2.000000\n",
       "50%          4.000000\n",
       "75%          8.000000\n",
       "max         33.000000\n",
       "Name: floor, dtype: float64"
      ]
     },
     "execution_count": 48,
     "metadata": {},
     "output_type": "execute_result"
    },
    {
     "data": {
      "image/png": "[encoded data removed]",
      "text/plain": [
       "<Figure size 360x216 with 1 Axes>"
      ]
     },
     "metadata": {
      "needs_background": "light"
     },
     "output_type": "display_data"
    }
   ],
   "source": [
    "data.plot(y = 'floor', kind = 'hist', bins = 50, grid=True, figsize = (5,3))\n",
    "data['floor'].describe()"
   ]
  },
  {
   "cell_type": "markdown",
   "metadata": {},
   "source": [
    "Основная масса продающихся квартир расположены до 5 этажа включительно."
   ]
  },
  {
   "cell_type": "code",
   "execution_count": 49,
   "metadata": {},
   "outputs": [
    {
     "data": {
      "text/plain": [
       "<AxesSubplot:>"
      ]
     },
     "execution_count": 49,
     "metadata": {},
     "output_type": "execute_result"
    },
    {
     "data": {
      "image/png": "[encoded data removed]",
      "text/plain": [
       "<Figure size 432x288 with 1 Axes>"
      ]
     },
     "metadata": {
      "needs_background": "light"
     },
     "output_type": "display_data"
    }
   ],
   "source": [
    "data['floor_type'].hist()"
   ]
  },
  {
   "cell_type": "code",
   "execution_count": 50,
   "metadata": {},
   "outputs": [
    {
     "data": {
      "text/plain": [
       "<AxesSubplot:>"
      ]
     },
     "execution_count": 50,
     "metadata": {},
     "output_type": "execute_result"
    },
    {
     "data": {
      "image/png": "[encoded data removed]",
      "text/plain": [
       "<Figure size 432x288 with 1 Axes>"
      ]
     },
     "metadata": {
      "needs_background": "light"
     },
     "output_type": "display_data"
    }
   ],
   "source": [
    "data['floors_total'].hist(range = (1,20))"
   ]
  },
  {
   "cell_type": "markdown",
   "metadata": {},
   "source": [
    "Основная масса квартир расположены в 5 и 9-этажных домах (дома 60-80 гг постройки)"
   ]
  },
  {
   "cell_type": "code",
   "execution_count": 51,
   "metadata": {},
   "outputs": [
    {
     "data": {
      "text/plain": [
       "<AxesSubplot:>"
      ]
     },
     "execution_count": 51,
     "metadata": {},
     "output_type": "execute_result"
    },
    {
     "data": {
      "image/png": "[encoded data removed]",
      "text/plain": [
       "<Figure size 432x288 with 1 Axes>"
      ]
     },
     "metadata": {
      "needs_background": "light"
     },
     "output_type": "display_data"
    }
   ],
   "source": [
    "data['cityCenters_nearest_km'].hist(range = (1,30))"
   ]
  },
  {
   "cell_type": "markdown",
   "metadata": {},
   "source": [
    "Большая часть квартир расположенв в поясе от 10 до 15 км от центра города. Это соответствует спальным районам советской постройки."
   ]
  },
  {
   "cell_type": "code",
   "execution_count": 52,
   "metadata": {},
   "outputs": [
    {
     "data": {
      "text/plain": [
       "<AxesSubplot:>"
      ]
     },
     "execution_count": 52,
     "metadata": {},
     "output_type": "execute_result"
    },
    {
     "data": {
      "image/png": "[encoded data removed]",
      "text/plain": [
       "<Figure size 432x288 with 1 Axes>"
      ]
     },
     "metadata": {
      "needs_background": "light"
     },
     "output_type": "display_data"
    }
   ],
   "source": [
    "data['airports_nearest'].hist()"
   ]
  },
  {
   "cell_type": "code",
   "execution_count": 53,
   "metadata": {},
   "outputs": [
    {
     "data": {
      "text/plain": [
       "<AxesSubplot:>"
      ]
     },
     "execution_count": 53,
     "metadata": {},
     "output_type": "execute_result"
    },
    {
     "data": {
      "image/png": "[encoded data removed]",
      "text/plain": [
       "<Figure size 432x288 with 1 Axes>"
      ]
     },
     "metadata": {
      "needs_background": "light"
     },
     "output_type": "display_data"
    }
   ],
   "source": [
    "data['parks_nearest'].hist()"
   ]
  },
  {
   "cell_type": "markdown",
   "metadata": {},
   "source": [
    "С учётом того, что в этой колонке много пропусков, там, где этот показатель указывали, продавцы подчёркивали, что есть парк в шаговой доступности (до 1 км, т.е. 10-15 мин прогулки)"
   ]
  },
  {
   "cell_type": "code",
   "execution_count": 54,
   "metadata": {},
   "outputs": [
    {
     "data": {
      "text/plain": [
       "<AxesSubplot:>"
      ]
     },
     "execution_count": 54,
     "metadata": {},
     "output_type": "execute_result"
    },
    {
     "data": {
      "image/png": "[encoded data removed]",
      "text/plain": [
       "<Figure size 432x288 with 1 Axes>"
      ]
     },
     "metadata": {
      "needs_background": "light"
     },
     "output_type": "display_data"
    }
   ],
   "source": [
    "data['weekday'].hist(bins=7)"
   ]
  },
  {
   "cell_type": "markdown",
   "metadata": {},
   "source": [
    "Большая часть объявлений была размещена в рабочие дни. Связано это, вероятно, с тем, что поданы они агентствами по продаже нежвижимости (работающими 5-дневную рабочую неделю)"
   ]
  },
  {
   "cell_type": "code",
   "execution_count": 55,
   "metadata": {},
   "outputs": [
    {
     "data": {
      "text/plain": [
       "<AxesSubplot:>"
      ]
     },
     "execution_count": 55,
     "metadata": {},
     "output_type": "execute_result"
    },
    {
     "data": {
      "image/png": "[encoded data removed]",
      "text/plain": [
       "<Figure size 432x288 with 1 Axes>"
      ]
     },
     "metadata": {
      "needs_background": "light"
     },
     "output_type": "display_data"
    }
   ],
   "source": [
    "data['month'].hist(bins=12)"
   ]
  },
  {
   "cell_type": "markdown",
   "metadata": {},
   "source": [
    "Меньшее кол-во объявлений в январе, мае связано с большимм количеством праздников (рабочих дней мало, агентства не работают). В декабре финал годового рабочего цикла, меньше желание открывать новые сделки."
   ]
  },
  {
   "cell_type": "code",
   "execution_count": 56,
   "metadata": {},
   "outputs": [
    {
     "data": {
      "text/plain": [
       "count    20318.000000\n",
       "mean       180.258736\n",
       "std        219.265532\n",
       "min          1.000000\n",
       "25%         45.000000\n",
       "50%         95.000000\n",
       "75%        230.000000\n",
       "max       1580.000000\n",
       "Name: days_exposition, dtype: float64"
      ]
     },
     "execution_count": 56,
     "metadata": {},
     "output_type": "execute_result"
    },
    {
     "data": {
      "image/png": "[encoded data removed]",
      "text/plain": [
       "<Figure size 432x288 with 1 Axes>"
      ]
     },
     "metadata": {
      "needs_background": "light"
     },
     "output_type": "display_data"
    },
    {
     "data": {
      "image/png": "[encoded data removed]",
      "text/plain": [
       "<Figure size 432x288 with 1 Axes>"
      ]
     },
     "metadata": {
      "needs_background": "light"
     },
     "output_type": "display_data"
    }
   ],
   "source": [
    "data.plot(y = 'days_exposition', kind = 'hist', bins = 30, grid = True, range = (1,1600))\n",
    "data.plot(y = 'days_exposition', kind = 'hist', bins = 100, grid = True, range = (1,300))\n",
    "data['days_exposition'].describe()"
   ]
  },
  {
   "cell_type": "markdown",
   "metadata": {},
   "source": [
    "Средний срок продажи 180 дней, однако медиана 95 дней; соответственно есть некоторое кол-во объектов, продающихся очень долго- до 1580 дней (в нашей базе). Причины могут быть разные. На гистограмме отчётливо видны пики 45, 60, 90 дней. Скорее всего это отрезки автоматического снятия объявления. Объект может быть уже продан, но объявление продолжает висеть до этого срока. Быстрой продажей можно считать до 45 дней, долгой - выше 230 дней."
   ]
  },
  {
   "cell_type": "code",
   "execution_count": 57,
   "metadata": {},
   "outputs": [
    {
     "data": {
      "text/html": [
       "<div>\n",
       "<style scoped>\n",
       "    .dataframe tbody tr th:only-of-type {\n",
       "        vertical-align: middle;\n",
       "    }\n",
       "\n",
       "    .dataframe tbody tr th {\n",
       "        vertical-align: top;\n",
       "    }\n",
       "\n",
       "    .dataframe thead th {\n",
       "        text-align: right;\n",
       "    }\n",
       "</style>\n",
       "<table border=\"1\" class=\"dataframe\">\n",
       "  <thead>\n",
       "    <tr style=\"text-align: right;\">\n",
       "      <th></th>\n",
       "      <th>total_images</th>\n",
       "      <th>last_price</th>\n",
       "      <th>total_area</th>\n",
       "      <th>rooms</th>\n",
       "      <th>ceiling_height</th>\n",
       "      <th>floors_total</th>\n",
       "      <th>living_area</th>\n",
       "      <th>floor</th>\n",
       "      <th>is_apartment</th>\n",
       "      <th>studio</th>\n",
       "      <th>...</th>\n",
       "      <th>parks_around3000</th>\n",
       "      <th>parks_nearest</th>\n",
       "      <th>ponds_around3000</th>\n",
       "      <th>ponds_nearest</th>\n",
       "      <th>days_exposition</th>\n",
       "      <th>price_m</th>\n",
       "      <th>weekday</th>\n",
       "      <th>month</th>\n",
       "      <th>year</th>\n",
       "      <th>cityCenters_nearest_km</th>\n",
       "    </tr>\n",
       "  </thead>\n",
       "  <tbody>\n",
       "    <tr>\n",
       "      <th>total_images</th>\n",
       "      <td>1.000000</td>\n",
       "      <td>0.142924</td>\n",
       "      <td>0.105548</td>\n",
       "      <td>0.090799</td>\n",
       "      <td>0.038238</td>\n",
       "      <td>0.011024</td>\n",
       "      <td>0.094395</td>\n",
       "      <td>0.031609</td>\n",
       "      <td>0.010676</td>\n",
       "      <td>-0.029357</td>\n",
       "      <td>...</td>\n",
       "      <td>0.014542</td>\n",
       "      <td>-0.003895</td>\n",
       "      <td>-0.016980</td>\n",
       "      <td>0.000959</td>\n",
       "      <td>-0.030440</td>\n",
       "      <td>0.134097</td>\n",
       "      <td>-0.009098</td>\n",
       "      <td>0.004667</td>\n",
       "      <td>0.142882</td>\n",
       "      <td>-0.043471</td>\n",
       "    </tr>\n",
       "    <tr>\n",
       "      <th>last_price</th>\n",
       "      <td>0.142924</td>\n",
       "      <td>1.000000</td>\n",
       "      <td>0.779991</td>\n",
       "      <td>0.507332</td>\n",
       "      <td>0.373609</td>\n",
       "      <td>0.025331</td>\n",
       "      <td>0.665864</td>\n",
       "      <td>0.046344</td>\n",
       "      <td>0.039887</td>\n",
       "      <td>-0.046901</td>\n",
       "      <td>...</td>\n",
       "      <td>0.203495</td>\n",
       "      <td>0.006194</td>\n",
       "      <td>0.204175</td>\n",
       "      <td>-0.113740</td>\n",
       "      <td>0.128147</td>\n",
       "      <td>0.686287</td>\n",
       "      <td>-0.016370</td>\n",
       "      <td>0.004137</td>\n",
       "      <td>-0.043850</td>\n",
       "      <td>-0.328226</td>\n",
       "    </tr>\n",
       "    <tr>\n",
       "      <th>total_area</th>\n",
       "      <td>0.105548</td>\n",
       "      <td>0.779991</td>\n",
       "      <td>1.000000</td>\n",
       "      <td>0.779756</td>\n",
       "      <td>0.335779</td>\n",
       "      <td>-0.074914</td>\n",
       "      <td>0.910709</td>\n",
       "      <td>-0.032333</td>\n",
       "      <td>0.018952</td>\n",
       "      <td>-0.080689</td>\n",
       "      <td>...</td>\n",
       "      <td>0.151789</td>\n",
       "      <td>-0.007999</td>\n",
       "      <td>0.148241</td>\n",
       "      <td>-0.085077</td>\n",
       "      <td>0.150994</td>\n",
       "      <td>0.177723</td>\n",
       "      <td>-0.010692</td>\n",
       "      <td>0.006077</td>\n",
       "      <td>-0.077891</td>\n",
       "      <td>-0.224241</td>\n",
       "    </tr>\n",
       "    <tr>\n",
       "      <th>rooms</th>\n",
       "      <td>0.090799</td>\n",
       "      <td>0.507332</td>\n",
       "      <td>0.779756</td>\n",
       "      <td>1.000000</td>\n",
       "      <td>0.201849</td>\n",
       "      <td>-0.230933</td>\n",
       "      <td>0.869600</td>\n",
       "      <td>-0.156225</td>\n",
       "      <td>-0.002587</td>\n",
       "      <td>-0.150122</td>\n",
       "      <td>...</td>\n",
       "      <td>0.125586</td>\n",
       "      <td>-0.048175</td>\n",
       "      <td>0.080867</td>\n",
       "      <td>-0.048147</td>\n",
       "      <td>0.123407</td>\n",
       "      <td>-0.027134</td>\n",
       "      <td>-0.004849</td>\n",
       "      <td>-0.005088</td>\n",
       "      <td>-0.051637</td>\n",
       "      <td>-0.174086</td>\n",
       "    </tr>\n",
       "    <tr>\n",
       "      <th>ceiling_height</th>\n",
       "      <td>0.038238</td>\n",
       "      <td>0.373609</td>\n",
       "      <td>0.335779</td>\n",
       "      <td>0.201849</td>\n",
       "      <td>1.000000</td>\n",
       "      <td>-0.074733</td>\n",
       "      <td>0.309472</td>\n",
       "      <td>-0.040184</td>\n",
       "      <td>0.085553</td>\n",
       "      <td>0.010877</td>\n",
       "      <td>...</td>\n",
       "      <td>0.199867</td>\n",
       "      <td>-0.048218</td>\n",
       "      <td>0.172674</td>\n",
       "      <td>-0.098705</td>\n",
       "      <td>0.093624</td>\n",
       "      <td>0.278066</td>\n",
       "      <td>-0.018734</td>\n",
       "      <td>0.000308</td>\n",
       "      <td>-0.046991</td>\n",
       "      <td>-0.265818</td>\n",
       "    </tr>\n",
       "    <tr>\n",
       "      <th>floors_total</th>\n",
       "      <td>0.011024</td>\n",
       "      <td>0.025331</td>\n",
       "      <td>-0.074914</td>\n",
       "      <td>-0.230933</td>\n",
       "      <td>-0.074733</td>\n",
       "      <td>1.000000</td>\n",
       "      <td>-0.177789</td>\n",
       "      <td>0.677084</td>\n",
       "      <td>-0.026176</td>\n",
       "      <td>0.069825</td>\n",
       "      <td>...</td>\n",
       "      <td>-0.250514</td>\n",
       "      <td>0.095543</td>\n",
       "      <td>-0.119096</td>\n",
       "      <td>0.035824</td>\n",
       "      <td>-0.051358</td>\n",
       "      <td>0.201227</td>\n",
       "      <td>0.014455</td>\n",
       "      <td>0.015939</td>\n",
       "      <td>0.007558</td>\n",
       "      <td>0.015346</td>\n",
       "    </tr>\n",
       "    <tr>\n",
       "      <th>living_area</th>\n",
       "      <td>0.094395</td>\n",
       "      <td>0.665864</td>\n",
       "      <td>0.910709</td>\n",
       "      <td>0.869600</td>\n",
       "      <td>0.309472</td>\n",
       "      <td>-0.177789</td>\n",
       "      <td>1.000000</td>\n",
       "      <td>-0.109625</td>\n",
       "      <td>0.017341</td>\n",
       "      <td>-0.060357</td>\n",
       "      <td>...</td>\n",
       "      <td>0.168257</td>\n",
       "      <td>-0.044445</td>\n",
       "      <td>0.131375</td>\n",
       "      <td>-0.067910</td>\n",
       "      <td>0.139016</td>\n",
       "      <td>0.085528</td>\n",
       "      <td>-0.009874</td>\n",
       "      <td>-0.000780</td>\n",
       "      <td>-0.070653</td>\n",
       "      <td>-0.216835</td>\n",
       "    </tr>\n",
       "    <tr>\n",
       "      <th>floor</th>\n",
       "      <td>0.031609</td>\n",
       "      <td>0.046344</td>\n",
       "      <td>-0.032333</td>\n",
       "      <td>-0.156225</td>\n",
       "      <td>-0.040184</td>\n",
       "      <td>0.677084</td>\n",
       "      <td>-0.109625</td>\n",
       "      <td>1.000000</td>\n",
       "      <td>-0.013823</td>\n",
       "      <td>0.036742</td>\n",
       "      <td>...</td>\n",
       "      <td>-0.163858</td>\n",
       "      <td>0.071820</td>\n",
       "      <td>-0.075667</td>\n",
       "      <td>0.024661</td>\n",
       "      <td>-0.039459</td>\n",
       "      <td>0.161563</td>\n",
       "      <td>0.012570</td>\n",
       "      <td>0.018851</td>\n",
       "      <td>0.005203</td>\n",
       "      <td>0.007908</td>\n",
       "    </tr>\n",
       "    <tr>\n",
       "      <th>is_apartment</th>\n",
       "      <td>0.010676</td>\n",
       "      <td>0.039887</td>\n",
       "      <td>0.018952</td>\n",
       "      <td>-0.002587</td>\n",
       "      <td>0.085553</td>\n",
       "      <td>-0.026176</td>\n",
       "      <td>0.017341</td>\n",
       "      <td>-0.013823</td>\n",
       "      <td>1.000000</td>\n",
       "      <td>-0.003621</td>\n",
       "      <td>...</td>\n",
       "      <td>0.017850</td>\n",
       "      <td>-0.030066</td>\n",
       "      <td>0.023315</td>\n",
       "      <td>0.002686</td>\n",
       "      <td>0.010974</td>\n",
       "      <td>0.052874</td>\n",
       "      <td>-0.010104</td>\n",
       "      <td>0.002362</td>\n",
       "      <td>0.013898</td>\n",
       "      <td>0.006074</td>\n",
       "    </tr>\n",
       "    <tr>\n",
       "      <th>studio</th>\n",
       "      <td>-0.029357</td>\n",
       "      <td>-0.046901</td>\n",
       "      <td>-0.080689</td>\n",
       "      <td>-0.150122</td>\n",
       "      <td>0.010877</td>\n",
       "      <td>0.069825</td>\n",
       "      <td>-0.060357</td>\n",
       "      <td>0.036742</td>\n",
       "      <td>-0.003621</td>\n",
       "      <td>1.000000</td>\n",
       "      <td>...</td>\n",
       "      <td>-0.029948</td>\n",
       "      <td>0.008987</td>\n",
       "      <td>0.001482</td>\n",
       "      <td>0.002108</td>\n",
       "      <td>-0.022399</td>\n",
       "      <td>0.022528</td>\n",
       "      <td>-0.000689</td>\n",
       "      <td>0.000956</td>\n",
       "      <td>0.011905</td>\n",
       "      <td>-0.007304</td>\n",
       "    </tr>\n",
       "    <tr>\n",
       "      <th>open_plan</th>\n",
       "      <td>-0.023969</td>\n",
       "      <td>-0.024182</td>\n",
       "      <td>-0.046580</td>\n",
       "      <td>-0.088229</td>\n",
       "      <td>-0.004346</td>\n",
       "      <td>0.051420</td>\n",
       "      <td>-0.033145</td>\n",
       "      <td>0.035978</td>\n",
       "      <td>-0.002405</td>\n",
       "      <td>-0.004247</td>\n",
       "      <td>...</td>\n",
       "      <td>-0.010563</td>\n",
       "      <td>0.008262</td>\n",
       "      <td>0.008674</td>\n",
       "      <td>-0.004281</td>\n",
       "      <td>-0.023942</td>\n",
       "      <td>0.010471</td>\n",
       "      <td>0.011098</td>\n",
       "      <td>0.025935</td>\n",
       "      <td>-0.021984</td>\n",
       "      <td>-0.003508</td>\n",
       "    </tr>\n",
       "    <tr>\n",
       "      <th>kitchen_area</th>\n",
       "      <td>0.099085</td>\n",
       "      <td>0.599418</td>\n",
       "      <td>0.577465</td>\n",
       "      <td>0.236181</td>\n",
       "      <td>0.299803</td>\n",
       "      <td>0.185231</td>\n",
       "      <td>0.370959</td>\n",
       "      <td>0.145529</td>\n",
       "      <td>0.031243</td>\n",
       "      <td>NaN</td>\n",
       "      <td>...</td>\n",
       "      <td>0.070566</td>\n",
       "      <td>0.036903</td>\n",
       "      <td>0.138508</td>\n",
       "      <td>-0.097477</td>\n",
       "      <td>0.096129</td>\n",
       "      <td>0.353191</td>\n",
       "      <td>-0.010412</td>\n",
       "      <td>0.004870</td>\n",
       "      <td>-0.053026</td>\n",
       "      <td>-0.179815</td>\n",
       "    </tr>\n",
       "    <tr>\n",
       "      <th>balcony</th>\n",
       "      <td>0.049313</td>\n",
       "      <td>0.026462</td>\n",
       "      <td>0.017047</td>\n",
       "      <td>-0.014423</td>\n",
       "      <td>-0.034003</td>\n",
       "      <td>0.171692</td>\n",
       "      <td>-0.007876</td>\n",
       "      <td>0.168278</td>\n",
       "      <td>0.033867</td>\n",
       "      <td>0.028771</td>\n",
       "      <td>...</td>\n",
       "      <td>-0.076461</td>\n",
       "      <td>0.031134</td>\n",
       "      <td>-0.038529</td>\n",
       "      <td>0.018079</td>\n",
       "      <td>-0.027241</td>\n",
       "      <td>0.033668</td>\n",
       "      <td>-0.000164</td>\n",
       "      <td>0.008993</td>\n",
       "      <td>0.004544</td>\n",
       "      <td>0.063310</td>\n",
       "    </tr>\n",
       "    <tr>\n",
       "      <th>airports_nearest</th>\n",
       "      <td>-0.001386</td>\n",
       "      <td>-0.036880</td>\n",
       "      <td>-0.028875</td>\n",
       "      <td>-0.059974</td>\n",
       "      <td>-0.073019</td>\n",
       "      <td>0.107395</td>\n",
       "      <td>-0.056752</td>\n",
       "      <td>0.071008</td>\n",
       "      <td>0.017273</td>\n",
       "      <td>-0.021970</td>\n",
       "      <td>...</td>\n",
       "      <td>0.002907</td>\n",
       "      <td>-0.072079</td>\n",
       "      <td>-0.048951</td>\n",
       "      <td>0.013520</td>\n",
       "      <td>-0.017526</td>\n",
       "      <td>-0.040938</td>\n",
       "      <td>0.001435</td>\n",
       "      <td>0.006504</td>\n",
       "      <td>0.008071</td>\n",
       "      <td>0.271470</td>\n",
       "    </tr>\n",
       "    <tr>\n",
       "      <th>cityCenters_nearest</th>\n",
       "      <td>-0.043436</td>\n",
       "      <td>-0.328450</td>\n",
       "      <td>-0.224345</td>\n",
       "      <td>-0.173974</td>\n",
       "      <td>-0.266280</td>\n",
       "      <td>0.015244</td>\n",
       "      <td>-0.216754</td>\n",
       "      <td>0.007858</td>\n",
       "      <td>0.006508</td>\n",
       "      <td>-0.007587</td>\n",
       "      <td>...</td>\n",
       "      <td>-0.154513</td>\n",
       "      <td>-0.044736</td>\n",
       "      <td>-0.066622</td>\n",
       "      <td>0.022016</td>\n",
       "      <td>-0.056587</td>\n",
       "      <td>-0.368257</td>\n",
       "      <td>0.010381</td>\n",
       "      <td>-0.009054</td>\n",
       "      <td>0.028919</td>\n",
       "      <td>0.999429</td>\n",
       "    </tr>\n",
       "    <tr>\n",
       "      <th>parks_around3000</th>\n",
       "      <td>0.014542</td>\n",
       "      <td>0.203495</td>\n",
       "      <td>0.151789</td>\n",
       "      <td>0.125586</td>\n",
       "      <td>0.199867</td>\n",
       "      <td>-0.250514</td>\n",
       "      <td>0.168257</td>\n",
       "      <td>-0.163858</td>\n",
       "      <td>0.017850</td>\n",
       "      <td>-0.029948</td>\n",
       "      <td>...</td>\n",
       "      <td>1.000000</td>\n",
       "      <td>-0.256516</td>\n",
       "      <td>0.298220</td>\n",
       "      <td>-0.163808</td>\n",
       "      <td>0.056388</td>\n",
       "      <td>0.171998</td>\n",
       "      <td>-0.011579</td>\n",
       "      <td>-0.004227</td>\n",
       "      <td>-0.034174</td>\n",
       "      <td>-0.154150</td>\n",
       "    </tr>\n",
       "    <tr>\n",
       "      <th>parks_nearest</th>\n",
       "      <td>-0.003895</td>\n",
       "      <td>0.006194</td>\n",
       "      <td>-0.007999</td>\n",
       "      <td>-0.048175</td>\n",
       "      <td>-0.048218</td>\n",
       "      <td>0.095543</td>\n",
       "      <td>-0.044445</td>\n",
       "      <td>0.071820</td>\n",
       "      <td>-0.030066</td>\n",
       "      <td>0.008987</td>\n",
       "      <td>...</td>\n",
       "      <td>-0.256516</td>\n",
       "      <td>1.000000</td>\n",
       "      <td>0.080506</td>\n",
       "      <td>0.000669</td>\n",
       "      <td>0.028575</td>\n",
       "      <td>0.036771</td>\n",
       "      <td>-0.004286</td>\n",
       "      <td>0.019930</td>\n",
       "      <td>-0.024963</td>\n",
       "      <td>-0.044906</td>\n",
       "    </tr>\n",
       "    <tr>\n",
       "      <th>ponds_around3000</th>\n",
       "      <td>-0.016980</td>\n",
       "      <td>0.204175</td>\n",
       "      <td>0.148241</td>\n",
       "      <td>0.080867</td>\n",
       "      <td>0.172674</td>\n",
       "      <td>-0.119096</td>\n",
       "      <td>0.131375</td>\n",
       "      <td>-0.075667</td>\n",
       "      <td>0.023315</td>\n",
       "      <td>0.001482</td>\n",
       "      <td>...</td>\n",
       "      <td>0.298220</td>\n",
       "      <td>0.080506</td>\n",
       "      <td>1.000000</td>\n",
       "      <td>-0.338733</td>\n",
       "      <td>0.070221</td>\n",
       "      <td>0.180365</td>\n",
       "      <td>0.001443</td>\n",
       "      <td>-0.007703</td>\n",
       "      <td>-0.035716</td>\n",
       "      <td>-0.065904</td>\n",
       "    </tr>\n",
       "    <tr>\n",
       "      <th>ponds_nearest</th>\n",
       "      <td>0.000959</td>\n",
       "      <td>-0.113740</td>\n",
       "      <td>-0.085077</td>\n",
       "      <td>-0.048147</td>\n",
       "      <td>-0.098705</td>\n",
       "      <td>0.035824</td>\n",
       "      <td>-0.067910</td>\n",
       "      <td>0.024661</td>\n",
       "      <td>0.002686</td>\n",
       "      <td>0.002108</td>\n",
       "      <td>...</td>\n",
       "      <td>-0.163808</td>\n",
       "      <td>0.000669</td>\n",
       "      <td>-0.338733</td>\n",
       "      <td>1.000000</td>\n",
       "      <td>-0.076453</td>\n",
       "      <td>-0.096817</td>\n",
       "      <td>-0.001521</td>\n",
       "      <td>0.012253</td>\n",
       "      <td>0.037136</td>\n",
       "      <td>0.021275</td>\n",
       "    </tr>\n",
       "    <tr>\n",
       "      <th>days_exposition</th>\n",
       "      <td>-0.030440</td>\n",
       "      <td>0.128147</td>\n",
       "      <td>0.150994</td>\n",
       "      <td>0.123407</td>\n",
       "      <td>0.093624</td>\n",
       "      <td>-0.051358</td>\n",
       "      <td>0.139016</td>\n",
       "      <td>-0.039459</td>\n",
       "      <td>0.010974</td>\n",
       "      <td>-0.022399</td>\n",
       "      <td>...</td>\n",
       "      <td>0.056388</td>\n",
       "      <td>0.028575</td>\n",
       "      <td>0.070221</td>\n",
       "      <td>-0.076453</td>\n",
       "      <td>1.000000</td>\n",
       "      <td>0.035073</td>\n",
       "      <td>-0.026339</td>\n",
       "      <td>-0.030180</td>\n",
       "      <td>-0.610241</td>\n",
       "      <td>-0.056165</td>\n",
       "    </tr>\n",
       "    <tr>\n",
       "      <th>price_m</th>\n",
       "      <td>0.134097</td>\n",
       "      <td>0.686287</td>\n",
       "      <td>0.177723</td>\n",
       "      <td>-0.027134</td>\n",
       "      <td>0.278066</td>\n",
       "      <td>0.201227</td>\n",
       "      <td>0.085528</td>\n",
       "      <td>0.161563</td>\n",
       "      <td>0.052874</td>\n",
       "      <td>0.022528</td>\n",
       "      <td>...</td>\n",
       "      <td>0.171998</td>\n",
       "      <td>0.036771</td>\n",
       "      <td>0.180365</td>\n",
       "      <td>-0.096817</td>\n",
       "      <td>0.035073</td>\n",
       "      <td>1.000000</td>\n",
       "      <td>-0.014360</td>\n",
       "      <td>-0.004562</td>\n",
       "      <td>0.034815</td>\n",
       "      <td>-0.367778</td>\n",
       "    </tr>\n",
       "    <tr>\n",
       "      <th>weekday</th>\n",
       "      <td>-0.009098</td>\n",
       "      <td>-0.016370</td>\n",
       "      <td>-0.010692</td>\n",
       "      <td>-0.004849</td>\n",
       "      <td>-0.018734</td>\n",
       "      <td>0.014455</td>\n",
       "      <td>-0.009874</td>\n",
       "      <td>0.012570</td>\n",
       "      <td>-0.010104</td>\n",
       "      <td>-0.000689</td>\n",
       "      <td>...</td>\n",
       "      <td>-0.011579</td>\n",
       "      <td>-0.004286</td>\n",
       "      <td>0.001443</td>\n",
       "      <td>-0.001521</td>\n",
       "      <td>-0.026339</td>\n",
       "      <td>-0.014360</td>\n",
       "      <td>1.000000</td>\n",
       "      <td>0.013004</td>\n",
       "      <td>-0.004499</td>\n",
       "      <td>0.010238</td>\n",
       "    </tr>\n",
       "    <tr>\n",
       "      <th>month</th>\n",
       "      <td>0.004667</td>\n",
       "      <td>0.004137</td>\n",
       "      <td>0.006077</td>\n",
       "      <td>-0.005088</td>\n",
       "      <td>0.000308</td>\n",
       "      <td>0.015939</td>\n",
       "      <td>-0.000780</td>\n",
       "      <td>0.018851</td>\n",
       "      <td>0.002362</td>\n",
       "      <td>0.000956</td>\n",
       "      <td>...</td>\n",
       "      <td>-0.004227</td>\n",
       "      <td>0.019930</td>\n",
       "      <td>-0.007703</td>\n",
       "      <td>0.012253</td>\n",
       "      <td>-0.030180</td>\n",
       "      <td>-0.004562</td>\n",
       "      <td>0.013004</td>\n",
       "      <td>1.000000</td>\n",
       "      <td>-0.270002</td>\n",
       "      <td>-0.009054</td>\n",
       "    </tr>\n",
       "    <tr>\n",
       "      <th>year</th>\n",
       "      <td>0.142882</td>\n",
       "      <td>-0.043850</td>\n",
       "      <td>-0.077891</td>\n",
       "      <td>-0.051637</td>\n",
       "      <td>-0.046991</td>\n",
       "      <td>0.007558</td>\n",
       "      <td>-0.070653</td>\n",
       "      <td>0.005203</td>\n",
       "      <td>0.013898</td>\n",
       "      <td>0.011905</td>\n",
       "      <td>...</td>\n",
       "      <td>-0.034174</td>\n",
       "      <td>-0.024963</td>\n",
       "      <td>-0.035716</td>\n",
       "      <td>0.037136</td>\n",
       "      <td>-0.610241</td>\n",
       "      <td>0.034815</td>\n",
       "      <td>-0.004499</td>\n",
       "      <td>-0.270002</td>\n",
       "      <td>1.000000</td>\n",
       "      <td>0.028567</td>\n",
       "    </tr>\n",
       "    <tr>\n",
       "      <th>cityCenters_nearest_km</th>\n",
       "      <td>-0.043471</td>\n",
       "      <td>-0.328226</td>\n",
       "      <td>-0.224241</td>\n",
       "      <td>-0.174086</td>\n",
       "      <td>-0.265818</td>\n",
       "      <td>0.015346</td>\n",
       "      <td>-0.216835</td>\n",
       "      <td>0.007908</td>\n",
       "      <td>0.006074</td>\n",
       "      <td>-0.007304</td>\n",
       "      <td>...</td>\n",
       "      <td>-0.154150</td>\n",
       "      <td>-0.044906</td>\n",
       "      <td>-0.065904</td>\n",
       "      <td>0.021275</td>\n",
       "      <td>-0.056165</td>\n",
       "      <td>-0.367778</td>\n",
       "      <td>0.010238</td>\n",
       "      <td>-0.009054</td>\n",
       "      <td>0.028567</td>\n",
       "      <td>1.000000</td>\n",
       "    </tr>\n",
       "  </tbody>\n",
       "</table>\n",
       "<p>25 rows × 25 columns</p>\n",
       "</div>"
      ],
      "text/plain": [
       "                        total_images  last_price  total_area     rooms  \\\n",
       "total_images                1.000000    0.142924    0.105548  0.090799   \n",
       "last_price                  0.142924    1.000000    0.779991  0.507332   \n",
       "total_area                  0.105548    0.779991    1.000000  0.779756   \n",
       "rooms                       0.090799    0.507332    0.779756  1.000000   \n",
       "ceiling_height              0.038238    0.373609    0.335779  0.201849   \n",
       "floors_total                0.011024    0.025331   -0.074914 -0.230933   \n",
       "living_area                 0.094395    0.665864    0.910709  0.869600   \n",
       "floor                       0.031609    0.046344   -0.032333 -0.156225   \n",
       "is_apartment                0.010676    0.039887    0.018952 -0.002587   \n",
       "studio                     -0.029357   -0.046901   -0.080689 -0.150122   \n",
       "open_plan                  -0.023969   -0.024182   -0.046580 -0.088229   \n",
       "kitchen_area                0.099085    0.599418    0.577465  0.236181   \n",
       "balcony                     0.049313    0.026462    0.017047 -0.014423   \n",
       "airports_nearest           -0.001386   -0.036880   -0.028875 -0.059974   \n",
       "cityCenters_nearest        -0.043436   -0.328450   -0.224345 -0.173974   \n",
       "parks_around3000            0.014542    0.203495    0.151789  0.125586   \n",
       "parks_nearest              -0.003895    0.006194   -0.007999 -0.048175   \n",
       "ponds_around3000           -0.016980    0.204175    0.148241  0.080867   \n",
       "ponds_nearest               0.000959   -0.113740   -0.085077 -0.048147   \n",
       "days_exposition            -0.030440    0.128147    0.150994  0.123407   \n",
       "price_m                     0.134097    0.686287    0.177723 -0.027134   \n",
       "weekday                    -0.009098   -0.016370   -0.010692 -0.004849   \n",
       "month                       0.004667    0.004137    0.006077 -0.005088   \n",
       "year                        0.142882   -0.043850   -0.077891 -0.051637   \n",
       "cityCenters_nearest_km     -0.043471   -0.328226   -0.224241 -0.174086   \n",
       "\n",
       "                        ceiling_height  floors_total  living_area     floor  \\\n",
       "total_images                  0.038238      0.011024     0.094395  0.031609   \n",
       "last_price                    0.373609      0.025331     0.665864  0.046344   \n",
       "total_area                    0.335779     -0.074914     0.910709 -0.032333   \n",
       "rooms                         0.201849     -0.230933     0.869600 -0.156225   \n",
       "ceiling_height                1.000000     -0.074733     0.309472 -0.040184   \n",
       "floors_total                 -0.074733      1.000000    -0.177789  0.677084   \n",
       "living_area                   0.309472     -0.177789     1.000000 -0.109625   \n",
       "floor                        -0.040184      0.677084    -0.109625  1.000000   \n",
       "is_apartment                  0.085553     -0.026176     0.017341 -0.013823   \n",
       "studio                        0.010877      0.069825    -0.060357  0.036742   \n",
       "open_plan                    -0.004346      0.051420    -0.033145  0.035978   \n",
       "kitchen_area                  0.299803      0.185231     0.370959  0.145529   \n",
       "balcony                      -0.034003      0.171692    -0.007876  0.168278   \n",
       "airports_nearest             -0.073019      0.107395    -0.056752  0.071008   \n",
       "cityCenters_nearest          -0.266280      0.015244    -0.216754  0.007858   \n",
       "parks_around3000              0.199867     -0.250514     0.168257 -0.163858   \n",
       "parks_nearest                -0.048218      0.095543    -0.044445  0.071820   \n",
       "ponds_around3000              0.172674     -0.119096     0.131375 -0.075667   \n",
       "ponds_nearest                -0.098705      0.035824    -0.067910  0.024661   \n",
       "days_exposition               0.093624     -0.051358     0.139016 -0.039459   \n",
       "price_m                       0.278066      0.201227     0.085528  0.161563   \n",
       "weekday                      -0.018734      0.014455    -0.009874  0.012570   \n",
       "month                         0.000308      0.015939    -0.000780  0.018851   \n",
       "year                         -0.046991      0.007558    -0.070653  0.005203   \n",
       "cityCenters_nearest_km       -0.265818      0.015346    -0.216835  0.007908   \n",
       "\n",
       "                        is_apartment    studio  ...  parks_around3000  \\\n",
       "total_images                0.010676 -0.029357  ...          0.014542   \n",
       "last_price                  0.039887 -0.046901  ...          0.203495   \n",
       "total_area                  0.018952 -0.080689  ...          0.151789   \n",
       "rooms                      -0.002587 -0.150122  ...          0.125586   \n",
       "ceiling_height              0.085553  0.010877  ...          0.199867   \n",
       "floors_total               -0.026176  0.069825  ...         -0.250514   \n",
       "living_area                 0.017341 -0.060357  ...          0.168257   \n",
       "floor                      -0.013823  0.036742  ...         -0.163858   \n",
       "is_apartment                1.000000 -0.003621  ...          0.017850   \n",
       "studio                     -0.003621  1.000000  ...         -0.029948   \n",
       "open_plan                  -0.002405 -0.004247  ...         -0.010563   \n",
       "kitchen_area                0.031243       NaN  ...          0.070566   \n",
       "balcony                     0.033867  0.028771  ...         -0.076461   \n",
       "airports_nearest            0.017273 -0.021970  ...          0.002907   \n",
       "cityCenters_nearest         0.006508 -0.007587  ...         -0.154513   \n",
       "parks_around3000            0.017850 -0.029948  ...          1.000000   \n",
       "parks_nearest              -0.030066  0.008987  ...         -0.256516   \n",
       "ponds_around3000            0.023315  0.001482  ...          0.298220   \n",
       "ponds_nearest               0.002686  0.002108  ...         -0.163808   \n",
       "days_exposition             0.010974 -0.022399  ...          0.056388   \n",
       "price_m                     0.052874  0.022528  ...          0.171998   \n",
       "weekday                    -0.010104 -0.000689  ...         -0.011579   \n",
       "month                       0.002362  0.000956  ...         -0.004227   \n",
       "year                        0.013898  0.011905  ...         -0.034174   \n",
       "cityCenters_nearest_km      0.006074 -0.007304  ...         -0.154150   \n",
       "\n",
       "                        parks_nearest  ponds_around3000  ponds_nearest  \\\n",
       "total_images                -0.003895         -0.016980       0.000959   \n",
       "last_price                   0.006194          0.204175      -0.113740   \n",
       "total_area                  -0.007999          0.148241      -0.085077   \n",
       "rooms                       -0.048175          0.080867      -0.048147   \n",
       "ceiling_height              -0.048218          0.172674      -0.098705   \n",
       "floors_total                 0.095543         -0.119096       0.035824   \n",
       "living_area                 -0.044445          0.131375      -0.067910   \n",
       "floor                        0.071820         -0.075667       0.024661   \n",
       "is_apartment                -0.030066          0.023315       0.002686   \n",
       "studio                       0.008987          0.001482       0.002108   \n",
       "open_plan                    0.008262          0.008674      -0.004281   \n",
       "kitchen_area                 0.036903          0.138508      -0.097477   \n",
       "balcony                      0.031134         -0.038529       0.018079   \n",
       "airports_nearest            -0.072079         -0.048951       0.013520   \n",
       "cityCenters_nearest         -0.044736         -0.066622       0.022016   \n",
       "parks_around3000            -0.256516          0.298220      -0.163808   \n",
       "parks_nearest                1.000000          0.080506       0.000669   \n",
       "ponds_around3000             0.080506          1.000000      -0.338733   \n",
       "ponds_nearest                0.000669         -0.338733       1.000000   \n",
       "days_exposition              0.028575          0.070221      -0.076453   \n",
       "price_m                      0.036771          0.180365      -0.096817   \n",
       "weekday                     -0.004286          0.001443      -0.001521   \n",
       "month                        0.019930         -0.007703       0.012253   \n",
       "year                        -0.024963         -0.035716       0.037136   \n",
       "cityCenters_nearest_km      -0.044906         -0.065904       0.021275   \n",
       "\n",
       "                        days_exposition   price_m   weekday     month  \\\n",
       "total_images                  -0.030440  0.134097 -0.009098  0.004667   \n",
       "last_price                     0.128147  0.686287 -0.016370  0.004137   \n",
       "total_area                     0.150994  0.177723 -0.010692  0.006077   \n",
       "rooms                          0.123407 -0.027134 -0.004849 -0.005088   \n",
       "ceiling_height                 0.093624  0.278066 -0.018734  0.000308   \n",
       "floors_total                  -0.051358  0.201227  0.014455  0.015939   \n",
       "living_area                    0.139016  0.085528 -0.009874 -0.000780   \n",
       "floor                         -0.039459  0.161563  0.012570  0.018851   \n",
       "is_apartment                   0.010974  0.052874 -0.010104  0.002362   \n",
       "studio                        -0.022399  0.022528 -0.000689  0.000956   \n",
       "open_plan                     -0.023942  0.010471  0.011098  0.025935   \n",
       "kitchen_area                   0.096129  0.353191 -0.010412  0.004870   \n",
       "balcony                       -0.027241  0.033668 -0.000164  0.008993   \n",
       "airports_nearest              -0.017526 -0.040938  0.001435  0.006504   \n",
       "cityCenters_nearest           -0.056587 -0.368257  0.010381 -0.009054   \n",
       "parks_around3000               0.056388  0.171998 -0.011579 -0.004227   \n",
       "parks_nearest                  0.028575  0.036771 -0.004286  0.019930   \n",
       "ponds_around3000               0.070221  0.180365  0.001443 -0.007703   \n",
       "ponds_nearest                 -0.076453 -0.096817 -0.001521  0.012253   \n",
       "days_exposition                1.000000  0.035073 -0.026339 -0.030180   \n",
       "price_m                        0.035073  1.000000 -0.014360 -0.004562   \n",
       "weekday                       -0.026339 -0.014360  1.000000  0.013004   \n",
       "month                         -0.030180 -0.004562  0.013004  1.000000   \n",
       "year                          -0.610241  0.034815 -0.004499 -0.270002   \n",
       "cityCenters_nearest_km        -0.056165 -0.367778  0.010238 -0.009054   \n",
       "\n",
       "                            year  cityCenters_nearest_km  \n",
       "total_images            0.142882               -0.043471  \n",
       "last_price             -0.043850               -0.328226  \n",
       "total_area             -0.077891               -0.224241  \n",
       "rooms                  -0.051637               -0.174086  \n",
       "ceiling_height         -0.046991               -0.265818  \n",
       "floors_total            0.007558                0.015346  \n",
       "living_area            -0.070653               -0.216835  \n",
       "floor                   0.005203                0.007908  \n",
       "is_apartment            0.013898                0.006074  \n",
       "studio                  0.011905               -0.007304  \n",
       "open_plan              -0.021984               -0.003508  \n",
       "kitchen_area           -0.053026               -0.179815  \n",
       "balcony                 0.004544                0.063310  \n",
       "airports_nearest        0.008071                0.271470  \n",
       "cityCenters_nearest     0.028919                0.999429  \n",
       "parks_around3000       -0.034174               -0.154150  \n",
       "parks_nearest          -0.024963               -0.044906  \n",
       "ponds_around3000       -0.035716               -0.065904  \n",
       "ponds_nearest           0.037136                0.021275  \n",
       "days_exposition        -0.610241               -0.056165  \n",
       "price_m                 0.034815               -0.367778  \n",
       "weekday                -0.004499                0.010238  \n",
       "month                  -0.270002               -0.009054  \n",
       "year                    1.000000                0.028567  \n",
       "cityCenters_nearest_km  0.028567                1.000000  \n",
       "\n",
       "[25 rows x 25 columns]"
      ]
     },
     "execution_count": 57,
     "metadata": {},
     "output_type": "execute_result"
    }
   ],
   "source": [
    "data.corr()"
   ]
  },
  {
   "cell_type": "markdown",
   "metadata": {},
   "source": [
    "В оценке данных представляется логичным определение влияния различных факторов на цену квадратного метра жилья (price_m). По табличным данных можно сказать, что высокие потолки, большая этажность дома и расположение на верхних этажах, большая кухня,  близость к паркам и водоёмам, близость к центру города увеличивает увеличивает стоимость квадратного метра жилья."
   ]
  },
  {
   "cell_type": "code",
   "execution_count": 58,
   "metadata": {},
   "outputs": [
    {
     "data": {
      "text/plain": [
       "0.7799908522498994"
      ]
     },
     "execution_count": 58,
     "metadata": {},
     "output_type": "execute_result"
    },
    {
     "data": {
      "image/png": "[encoded data removed]",
      "text/plain": [
       "<Figure size 432x288 with 1 Axes>"
      ]
     },
     "metadata": {
      "needs_background": "light"
     },
     "output_type": "display_data"
    }
   ],
   "source": [
    "data[['total_area', 'last_price']].plot(kind='scatter', x='total_area', y='last_price', alpha = 0.3)\n",
    "data['total_area'].corr(data['last_price'])"
   ]
  },
  {
   "cell_type": "markdown",
   "metadata": {},
   "source": [
    "Общая стоимость прямо зависит от общей площади жилья."
   ]
  },
  {
   "cell_type": "code",
   "execution_count": 59,
   "metadata": {},
   "outputs": [
    {
     "data": {
      "text/plain": [
       "0.6658635349187155"
      ]
     },
     "execution_count": 59,
     "metadata": {},
     "output_type": "execute_result"
    },
    {
     "data": {
      "image/png": "[encoded data removed]",
      "text/plain": [
       "<Figure size 432x288 with 1 Axes>"
      ]
     },
     "metadata": {
      "needs_background": "light"
     },
     "output_type": "display_data"
    }
   ],
   "source": [
    "data[['living_area', 'last_price']].plot(kind='scatter', x='living_area', y='last_price', alpha = 0.3)\n",
    "data['living_area'].corr(data['last_price'])"
   ]
  },
  {
   "cell_type": "markdown",
   "metadata": {},
   "source": [
    "Общая стоимость прямо зависит от жилой площади жилья."
   ]
  },
  {
   "cell_type": "code",
   "execution_count": 60,
   "metadata": {},
   "outputs": [
    {
     "name": "stdout",
     "output_type": "stream",
     "text": [
      "0.5994175906879573\n",
      "0.35319122970165506\n"
     ]
    },
    {
     "data": {
      "image/png": "[encoded data removed]",
      "text/plain": [
       "<Figure size 432x288 with 1 Axes>"
      ]
     },
     "metadata": {
      "needs_background": "light"
     },
     "output_type": "display_data"
    },
    {
     "data": {
      "image/png": "[encoded data removed]",
      "text/plain": [
       "<Figure size 432x288 with 1 Axes>"
      ]
     },
     "metadata": {
      "needs_background": "light"
     },
     "output_type": "display_data"
    }
   ],
   "source": [
    "data[['kitchen_area', 'last_price']].plot(kind='scatter', x='kitchen_area', y='last_price', alpha = 0.3)\n",
    "data[['kitchen_area', 'price_m']].plot(kind='scatter', x='kitchen_area', y='price_m', alpha = 0.3)\n",
    "print(data['kitchen_area'].corr(data['last_price']))\n",
    "print(data['kitchen_area'].corr(data['price_m']))"
   ]
  },
  {
   "cell_type": "markdown",
   "metadata": {},
   "source": [
    "Увеличение площади кухни увеличивает и общую стоимость квартиры и стоимость квадратного метра"
   ]
  },
  {
   "cell_type": "code",
   "execution_count": 61,
   "metadata": {},
   "outputs": [
    {
     "data": {
      "text/plain": [
       "0.5073322426913036"
      ]
     },
     "execution_count": 61,
     "metadata": {},
     "output_type": "execute_result"
    },
    {
     "data": {
      "image/png": "[encoded data removed]",
      "text/plain": [
       "<Figure size 432x288 with 1 Axes>"
      ]
     },
     "metadata": {
      "needs_background": "light"
     },
     "output_type": "display_data"
    }
   ],
   "source": [
    "data[['rooms', 'last_price']].plot(kind='scatter', x='rooms', y='last_price', alpha = 0.3)\n",
    "data['rooms'].corr(data['last_price'])"
   ]
  },
  {
   "cell_type": "markdown",
   "metadata": {},
   "source": [
    "Увеличение количества комнат (и соответственно, площади квартиры) увеличивает общую стоимость."
   ]
  },
  {
   "cell_type": "code",
   "execution_count": 62,
   "metadata": {},
   "outputs": [
    {
     "data": {
      "text/plain": [
       "<AxesSubplot:xlabel='floor_type', ylabel='last_price'>"
      ]
     },
     "execution_count": 62,
     "metadata": {},
     "output_type": "execute_result"
    },
    {
     "data": {
      "image/png": "[encoded data removed]",
      "text/plain": [
       "<Figure size 432x288 with 1 Axes>"
      ]
     },
     "metadata": {
      "needs_background": "light"
     },
     "output_type": "display_data"
    }
   ],
   "source": [
    "data[['floor_type', 'last_price']].plot(kind='scatter', x='floor_type', y='last_price', alpha = 0.3)"
   ]
  },
  {
   "cell_type": "markdown",
   "metadata": {},
   "source": [
    "На первых этажах практически не встречаются дорогие квартиры, чаще они на средних этажах и, реже, на последних."
   ]
  },
  {
   "cell_type": "code",
   "execution_count": 63,
   "metadata": {},
   "outputs": [
    {
     "data": {
      "text/html": [
       "<div>\n",
       "<style scoped>\n",
       "    .dataframe tbody tr th:only-of-type {\n",
       "        vertical-align: middle;\n",
       "    }\n",
       "\n",
       "    .dataframe tbody tr th {\n",
       "        vertical-align: top;\n",
       "    }\n",
       "\n",
       "    .dataframe thead th {\n",
       "        text-align: right;\n",
       "    }\n",
       "</style>\n",
       "<table border=\"1\" class=\"dataframe\">\n",
       "  <thead>\n",
       "    <tr style=\"text-align: right;\">\n",
       "      <th></th>\n",
       "      <th>mean</th>\n",
       "      <th>count</th>\n",
       "      <th>median</th>\n",
       "    </tr>\n",
       "    <tr>\n",
       "      <th>weekday</th>\n",
       "      <th></th>\n",
       "      <th></th>\n",
       "      <th></th>\n",
       "    </tr>\n",
       "  </thead>\n",
       "  <tbody>\n",
       "    <tr>\n",
       "      <th>1</th>\n",
       "      <td>6.045450e+06</td>\n",
       "      <td>4148</td>\n",
       "      <td>4740000.0</td>\n",
       "    </tr>\n",
       "    <tr>\n",
       "      <th>2</th>\n",
       "      <td>6.148283e+06</td>\n",
       "      <td>3937</td>\n",
       "      <td>4700000.0</td>\n",
       "    </tr>\n",
       "    <tr>\n",
       "      <th>0</th>\n",
       "      <td>6.105453e+06</td>\n",
       "      <td>3583</td>\n",
       "      <td>4650000.0</td>\n",
       "    </tr>\n",
       "    <tr>\n",
       "      <th>3</th>\n",
       "      <td>6.271637e+06</td>\n",
       "      <td>4252</td>\n",
       "      <td>4640000.0</td>\n",
       "    </tr>\n",
       "    <tr>\n",
       "      <th>4</th>\n",
       "      <td>5.871987e+06</td>\n",
       "      <td>3956</td>\n",
       "      <td>4577500.0</td>\n",
       "    </tr>\n",
       "    <tr>\n",
       "      <th>5</th>\n",
       "      <td>5.816495e+06</td>\n",
       "      <td>1900</td>\n",
       "      <td>4577500.0</td>\n",
       "    </tr>\n",
       "    <tr>\n",
       "      <th>6</th>\n",
       "      <td>5.857556e+06</td>\n",
       "      <td>1680</td>\n",
       "      <td>4550000.0</td>\n",
       "    </tr>\n",
       "  </tbody>\n",
       "</table>\n",
       "</div>"
      ],
      "text/plain": [
       "                 mean  count     median\n",
       "weekday                                \n",
       "1        6.045450e+06   4148  4740000.0\n",
       "2        6.148283e+06   3937  4700000.0\n",
       "0        6.105453e+06   3583  4650000.0\n",
       "3        6.271637e+06   4252  4640000.0\n",
       "4        5.871987e+06   3956  4577500.0\n",
       "5        5.816495e+06   1900  4577500.0\n",
       "6        5.857556e+06   1680  4550000.0"
      ]
     },
     "execution_count": 63,
     "metadata": {},
     "output_type": "execute_result"
    },
    {
     "data": {
      "image/png": "[encoded data removed]",
      "text/plain": [
       "<Figure size 432x288 with 1 Axes>"
      ]
     },
     "metadata": {
      "needs_background": "light"
     },
     "output_type": "display_data"
    }
   ],
   "source": [
    "pivot_table_weekday_exposition = data.pivot_table(index = 'weekday', values = 'last_price', aggfunc = ['mean', 'count', 'median'])\n",
    "pivot_table_weekday_exposition.columns = ['mean', 'count', 'median']\n",
    "pivot_table_weekday_exposition.plot(y = 'median')\n",
    "\n",
    "pivot_table_weekday_exposition.sort_values('median', ascending = False)"
   ]
  },
  {
   "cell_type": "markdown",
   "metadata": {},
   "source": [
    "Интересная зависимость получилась: медианная цена квартир, выставленных в выходные дни меньше, чем в будни. Связано это, вероятно, с тем, что выставляются они не агентствами, в структуру цены не закладывается агентская комиссия."
   ]
  },
  {
   "cell_type": "code",
   "execution_count": 64,
   "metadata": {},
   "outputs": [
    {
     "data": {
      "text/html": [
       "<div>\n",
       "<style scoped>\n",
       "    .dataframe tbody tr th:only-of-type {\n",
       "        vertical-align: middle;\n",
       "    }\n",
       "\n",
       "    .dataframe tbody tr th {\n",
       "        vertical-align: top;\n",
       "    }\n",
       "\n",
       "    .dataframe thead th {\n",
       "        text-align: right;\n",
       "    }\n",
       "</style>\n",
       "<table border=\"1\" class=\"dataframe\">\n",
       "  <thead>\n",
       "    <tr style=\"text-align: right;\">\n",
       "      <th></th>\n",
       "      <th>mean</th>\n",
       "      <th>count</th>\n",
       "      <th>median</th>\n",
       "    </tr>\n",
       "    <tr>\n",
       "      <th>month</th>\n",
       "      <th></th>\n",
       "      <th></th>\n",
       "      <th></th>\n",
       "    </tr>\n",
       "  </thead>\n",
       "  <tbody>\n",
       "    <tr>\n",
       "      <th>4</th>\n",
       "      <td>6.010425e+06</td>\n",
       "      <td>2355</td>\n",
       "      <td>4800000.0</td>\n",
       "    </tr>\n",
       "    <tr>\n",
       "      <th>9</th>\n",
       "      <td>6.137514e+06</td>\n",
       "      <td>1959</td>\n",
       "      <td>4700000.0</td>\n",
       "    </tr>\n",
       "    <tr>\n",
       "      <th>11</th>\n",
       "      <td>6.213288e+06</td>\n",
       "      <td>2351</td>\n",
       "      <td>4700000.0</td>\n",
       "    </tr>\n",
       "    <tr>\n",
       "      <th>12</th>\n",
       "      <td>6.101721e+06</td>\n",
       "      <td>1621</td>\n",
       "      <td>4690000.0</td>\n",
       "    </tr>\n",
       "    <tr>\n",
       "      <th>2</th>\n",
       "      <td>6.105054e+06</td>\n",
       "      <td>2614</td>\n",
       "      <td>4650000.0</td>\n",
       "    </tr>\n",
       "    <tr>\n",
       "      <th>3</th>\n",
       "      <td>5.947962e+06</td>\n",
       "      <td>2566</td>\n",
       "      <td>4650000.0</td>\n",
       "    </tr>\n",
       "    <tr>\n",
       "      <th>7</th>\n",
       "      <td>6.056370e+06</td>\n",
       "      <td>1671</td>\n",
       "      <td>4650000.0</td>\n",
       "    </tr>\n",
       "    <tr>\n",
       "      <th>1</th>\n",
       "      <td>6.165730e+06</td>\n",
       "      <td>1481</td>\n",
       "      <td>4600000.0</td>\n",
       "    </tr>\n",
       "    <tr>\n",
       "      <th>8</th>\n",
       "      <td>6.072924e+06</td>\n",
       "      <td>1731</td>\n",
       "      <td>4590000.0</td>\n",
       "    </tr>\n",
       "    <tr>\n",
       "      <th>10</th>\n",
       "      <td>5.942171e+06</td>\n",
       "      <td>2112</td>\n",
       "      <td>4572500.0</td>\n",
       "    </tr>\n",
       "    <tr>\n",
       "      <th>5</th>\n",
       "      <td>5.984637e+06</td>\n",
       "      <td>1259</td>\n",
       "      <td>4500000.0</td>\n",
       "    </tr>\n",
       "    <tr>\n",
       "      <th>6</th>\n",
       "      <td>5.876165e+06</td>\n",
       "      <td>1736</td>\n",
       "      <td>4400000.0</td>\n",
       "    </tr>\n",
       "  </tbody>\n",
       "</table>\n",
       "</div>"
      ],
      "text/plain": [
       "               mean  count     median\n",
       "month                                \n",
       "4      6.010425e+06   2355  4800000.0\n",
       "9      6.137514e+06   1959  4700000.0\n",
       "11     6.213288e+06   2351  4700000.0\n",
       "12     6.101721e+06   1621  4690000.0\n",
       "2      6.105054e+06   2614  4650000.0\n",
       "3      5.947962e+06   2566  4650000.0\n",
       "7      6.056370e+06   1671  4650000.0\n",
       "1      6.165730e+06   1481  4600000.0\n",
       "8      6.072924e+06   1731  4590000.0\n",
       "10     5.942171e+06   2112  4572500.0\n",
       "5      5.984637e+06   1259  4500000.0\n",
       "6      5.876165e+06   1736  4400000.0"
      ]
     },
     "execution_count": 64,
     "metadata": {},
     "output_type": "execute_result"
    },
    {
     "data": {
      "image/png": "[encoded data removed]",
      "text/plain": [
       "<Figure size 432x288 with 1 Axes>"
      ]
     },
     "metadata": {
      "needs_background": "light"
     },
     "output_type": "display_data"
    }
   ],
   "source": [
    "pivot_table_month_exposition = data.pivot_table(index = 'month', values = 'last_price', aggfunc = ['mean', 'count', 'median'])\n",
    "pivot_table_month_exposition.columns = ['mean', 'count', 'median']\n",
    "pivot_table_month_exposition.plot(y = 'median')\n",
    "\n",
    "pivot_table_month_exposition.sort_values('median', ascending = False)"
   ]
  },
  {
   "cell_type": "markdown",
   "metadata": {},
   "source": [
    "Получены интересные данные: минимальная медианная цены наблюдается в июне, при чём в этом месяце рынок не перегружен предложениями, соответственно, мотивом снижения цены может быть стремление ускорить продажу. Возможно это связано с окончанием учебного года, семьи с детьми стремятся совместить переезд (поиск новой школы, детского сада) с летними каникулами."
   ]
  },
  {
   "cell_type": "code",
   "execution_count": 65,
   "metadata": {},
   "outputs": [
    {
     "data": {
      "text/html": [
       "<div>\n",
       "<style scoped>\n",
       "    .dataframe tbody tr th:only-of-type {\n",
       "        vertical-align: middle;\n",
       "    }\n",
       "\n",
       "    .dataframe tbody tr th {\n",
       "        vertical-align: top;\n",
       "    }\n",
       "\n",
       "    .dataframe thead th {\n",
       "        text-align: right;\n",
       "    }\n",
       "</style>\n",
       "<table border=\"1\" class=\"dataframe\">\n",
       "  <thead>\n",
       "    <tr style=\"text-align: right;\">\n",
       "      <th></th>\n",
       "      <th>mean</th>\n",
       "      <th>count</th>\n",
       "      <th>median</th>\n",
       "    </tr>\n",
       "    <tr>\n",
       "      <th>year</th>\n",
       "      <th></th>\n",
       "      <th></th>\n",
       "      <th></th>\n",
       "    </tr>\n",
       "  </thead>\n",
       "  <tbody>\n",
       "    <tr>\n",
       "      <th>2014</th>\n",
       "      <td>1.079448e+07</td>\n",
       "      <td>134</td>\n",
       "      <td>7540000.0</td>\n",
       "    </tr>\n",
       "    <tr>\n",
       "      <th>2015</th>\n",
       "      <td>7.179744e+06</td>\n",
       "      <td>1168</td>\n",
       "      <td>5300000.0</td>\n",
       "    </tr>\n",
       "    <tr>\n",
       "      <th>2019</th>\n",
       "      <td>6.387445e+06</td>\n",
       "      <td>2850</td>\n",
       "      <td>5065000.0</td>\n",
       "    </tr>\n",
       "    <tr>\n",
       "      <th>2018</th>\n",
       "      <td>5.746715e+06</td>\n",
       "      <td>8438</td>\n",
       "      <td>4590000.0</td>\n",
       "    </tr>\n",
       "    <tr>\n",
       "      <th>2016</th>\n",
       "      <td>6.133689e+06</td>\n",
       "      <td>2746</td>\n",
       "      <td>4540000.0</td>\n",
       "    </tr>\n",
       "    <tr>\n",
       "      <th>2017</th>\n",
       "      <td>5.982298e+06</td>\n",
       "      <td>8120</td>\n",
       "      <td>4500000.0</td>\n",
       "    </tr>\n",
       "  </tbody>\n",
       "</table>\n",
       "</div>"
      ],
      "text/plain": [
       "              mean  count     median\n",
       "year                                \n",
       "2014  1.079448e+07    134  7540000.0\n",
       "2015  7.179744e+06   1168  5300000.0\n",
       "2019  6.387445e+06   2850  5065000.0\n",
       "2018  5.746715e+06   8438  4590000.0\n",
       "2016  6.133689e+06   2746  4540000.0\n",
       "2017  5.982298e+06   8120  4500000.0"
      ]
     },
     "execution_count": 65,
     "metadata": {},
     "output_type": "execute_result"
    },
    {
     "data": {
      "image/png": "[encoded data removed]",
      "text/plain": [
       "<Figure size 432x288 with 1 Axes>"
      ]
     },
     "metadata": {
      "needs_background": "light"
     },
     "output_type": "display_data"
    }
   ],
   "source": [
    "pivot_table_year_exposition = data.pivot_table(index = 'year', values = 'last_price', aggfunc = ['mean', 'count', 'median'])\n",
    "pivot_table_year_exposition.columns = ['mean', 'count', 'median']\n",
    "pivot_table_year_exposition.plot(y = 'median')\n",
    "\n",
    "pivot_table_year_exposition.sort_values('median', ascending = False)\n"
   ]
  },
  {
   "cell_type": "code",
   "execution_count": 66,
   "metadata": {},
   "outputs": [
    {
     "data": {
      "text/html": [
       "<div>\n",
       "<style scoped>\n",
       "    .dataframe tbody tr th:only-of-type {\n",
       "        vertical-align: middle;\n",
       "    }\n",
       "\n",
       "    .dataframe tbody tr th {\n",
       "        vertical-align: top;\n",
       "    }\n",
       "\n",
       "    .dataframe thead th {\n",
       "        text-align: right;\n",
       "    }\n",
       "</style>\n",
       "<table border=\"1\" class=\"dataframe\">\n",
       "  <thead>\n",
       "    <tr style=\"text-align: right;\">\n",
       "      <th></th>\n",
       "      <th>mean</th>\n",
       "      <th>count</th>\n",
       "      <th>median</th>\n",
       "    </tr>\n",
       "    <tr>\n",
       "      <th>year</th>\n",
       "      <th></th>\n",
       "      <th></th>\n",
       "      <th></th>\n",
       "    </tr>\n",
       "  </thead>\n",
       "  <tbody>\n",
       "    <tr>\n",
       "      <th>2014</th>\n",
       "      <td>120097.597369</td>\n",
       "      <td>134</td>\n",
       "      <td>106636.307595</td>\n",
       "    </tr>\n",
       "    <tr>\n",
       "      <th>2019</th>\n",
       "      <td>106171.661991</td>\n",
       "      <td>2850</td>\n",
       "      <td>103459.085753</td>\n",
       "    </tr>\n",
       "    <tr>\n",
       "      <th>2018</th>\n",
       "      <td>97557.959377</td>\n",
       "      <td>8438</td>\n",
       "      <td>95819.816859</td>\n",
       "    </tr>\n",
       "    <tr>\n",
       "      <th>2015</th>\n",
       "      <td>99449.117278</td>\n",
       "      <td>1168</td>\n",
       "      <td>93103.120244</td>\n",
       "    </tr>\n",
       "    <tr>\n",
       "      <th>2017</th>\n",
       "      <td>95951.163362</td>\n",
       "      <td>8120</td>\n",
       "      <td>92500.000000</td>\n",
       "    </tr>\n",
       "    <tr>\n",
       "      <th>2016</th>\n",
       "      <td>96453.405847</td>\n",
       "      <td>2746</td>\n",
       "      <td>91666.666667</td>\n",
       "    </tr>\n",
       "  </tbody>\n",
       "</table>\n",
       "</div>"
      ],
      "text/plain": [
       "               mean  count         median\n",
       "year                                     \n",
       "2014  120097.597369    134  106636.307595\n",
       "2019  106171.661991   2850  103459.085753\n",
       "2018   97557.959377   8438   95819.816859\n",
       "2015   99449.117278   1168   93103.120244\n",
       "2017   95951.163362   8120   92500.000000\n",
       "2016   96453.405847   2746   91666.666667"
      ]
     },
     "execution_count": 66,
     "metadata": {},
     "output_type": "execute_result"
    },
    {
     "data": {
      "image/png": "[encoded data removed]",
      "text/plain": [
       "<Figure size 432x288 with 1 Axes>"
      ]
     },
     "metadata": {
      "needs_background": "light"
     },
     "output_type": "display_data"
    }
   ],
   "source": [
    "pivot_table_year_exposition = data.pivot_table(index = 'year', values = 'price_m', aggfunc = ['mean', 'count', 'median'])\n",
    "pivot_table_year_exposition.columns = ['mean', 'count', 'median']\n",
    "pivot_table_year_exposition.plot(y = 'median')\n",
    "\n",
    "pivot_table_year_exposition.sort_values('median', ascending = False)\n"
   ]
  },
  {
   "cell_type": "markdown",
   "metadata": {},
   "source": [
    "При оценке по годам не общей стоимости, а цены квадратного метра, ценовой провал стал круче. И если по 2014 году вывод прежний - квартир мало, но они большие и дорогие, то в 2015-17 годах на площадке становится больше дешёвых квартир. Восходящий участок 2018-2019 гг - это появление на рынке квартир гораздо меньшей площади, но более дорогих."
   ]
  },
  {
   "cell_type": "code",
   "execution_count": 67,
   "metadata": {},
   "outputs": [
    {
     "data": {
      "text/plain": [
       "Timestamp('2019-05-03 00:00:00')"
      ]
     },
     "execution_count": 67,
     "metadata": {},
     "output_type": "execute_result"
    }
   ],
   "source": [
    "data['first_day_exposition'].max()"
   ]
  },
  {
   "cell_type": "markdown",
   "metadata": {},
   "source": [
    "Оценивать изменения среднегодовой цены достаточно сложно, в 2014-2015 сервис наращивал популярность и, вероятнее всего, там размещались (как на неосновной площадке) объявления о продаже дорогой недвижимости для максимального охвата аудитории. В 16-18 годах изменения незначительные (инфляция, колебания рынка), рост медианной цены в 2019 году связан с попаданием в базу объявлений выставленных только до 3 мая. Рост цены связан и с увеличением инфляции в первой половине 2019 года и с ценовыми скачками внутри года (пик - апрель, как видно из предидущего графика)"
   ]
  },
  {
   "cell_type": "code",
   "execution_count": 68,
   "metadata": {},
   "outputs": [
    {
     "name": "stdout",
     "output_type": "stream",
     "text": [
      "                 count           mean\n",
      "locality_name                        \n",
      "Санкт-Петербург  15601  112396.075062\n",
      "Мурино             590   86087.512050\n",
      "Кудрово            472   95324.930544\n",
      "Шушары             440   78677.364217\n",
      "Всеволожск         398   68654.473986\n",
      "Пушкин             369  103125.819291\n",
      "Колпино            338   75424.579098\n",
      "Парголово          327   90175.913458\n",
      "Гатчина            307   68746.146763\n",
      "Выборг             235   58454.498311\n",
      "                 count           mean\n",
      "locality_name                        \n",
      "Санкт-Петербург  15601  112396.075062\n",
      "               count          mean\n",
      "locality_name                     \n",
      "Выборг           235  58454.498311\n"
     ]
    }
   ],
   "source": [
    "locality_pivot_table = data.pivot_table(index = 'locality_name', values = 'price_m', aggfunc=['count', 'mean'])\n",
    "locality_pivot_table.columns = ['count', 'mean']\n",
    "locality_pivot_table = locality_pivot_table.sort_values('count', ascending = False).head(10)\n",
    "print(locality_pivot_table)\n",
    "print(locality_pivot_table[locality_pivot_table['mean']==locality_pivot_table['mean'].max()])\n",
    "print(locality_pivot_table[locality_pivot_table['mean']==locality_pivot_table['mean'].min()])"
   ]
  },
  {
   "cell_type": "markdown",
   "metadata": {},
   "source": [
    "В топ-10 по количеству предложений ожидаемо сам Санкт-Петербург, ближайшие к городу новостройки (Мурино, Кудрово, Шушары) и \"старые\" города (но также с большим количеством новостороек - Всеволожск, Пушкин, Колпино, Парголово). Все эти места имеют хорошие транспртные связи с Санкт-Петербургом. На 9 и 10 местах города расположенные дальше (Гатчина и Выборг). "
   ]
  },
  {
   "cell_type": "code",
   "execution_count": 69,
   "metadata": {},
   "outputs": [
    {
     "data": {
      "text/html": [
       "<div>\n",
       "<style scoped>\n",
       "    .dataframe tbody tr th:only-of-type {\n",
       "        vertical-align: middle;\n",
       "    }\n",
       "\n",
       "    .dataframe tbody tr th {\n",
       "        vertical-align: top;\n",
       "    }\n",
       "\n",
       "    .dataframe thead th {\n",
       "        text-align: right;\n",
       "    }\n",
       "</style>\n",
       "<table border=\"1\" class=\"dataframe\">\n",
       "  <thead>\n",
       "    <tr style=\"text-align: right;\">\n",
       "      <th></th>\n",
       "      <th>price_m</th>\n",
       "    </tr>\n",
       "    <tr>\n",
       "      <th>cityCenters_nearest_km</th>\n",
       "      <th></th>\n",
       "    </tr>\n",
       "  </thead>\n",
       "  <tbody>\n",
       "    <tr>\n",
       "      <th>0</th>\n",
       "      <td>162794.886633</td>\n",
       "    </tr>\n",
       "    <tr>\n",
       "      <th>1</th>\n",
       "      <td>140681.719410</td>\n",
       "    </tr>\n",
       "    <tr>\n",
       "      <th>2</th>\n",
       "      <td>129943.756279</td>\n",
       "    </tr>\n",
       "    <tr>\n",
       "      <th>3</th>\n",
       "      <td>121597.829265</td>\n",
       "    </tr>\n",
       "    <tr>\n",
       "      <th>4</th>\n",
       "      <td>133965.317281</td>\n",
       "    </tr>\n",
       "    <tr>\n",
       "      <th>5</th>\n",
       "      <td>138415.343949</td>\n",
       "    </tr>\n",
       "    <tr>\n",
       "      <th>6</th>\n",
       "      <td>142951.731720</td>\n",
       "    </tr>\n",
       "    <tr>\n",
       "      <th>7</th>\n",
       "      <td>133120.949091</td>\n",
       "    </tr>\n",
       "    <tr>\n",
       "      <th>8</th>\n",
       "      <td>120378.202490</td>\n",
       "    </tr>\n",
       "    <tr>\n",
       "      <th>9</th>\n",
       "      <td>110207.371287</td>\n",
       "    </tr>\n",
       "    <tr>\n",
       "      <th>10</th>\n",
       "      <td>111285.347716</td>\n",
       "    </tr>\n",
       "    <tr>\n",
       "      <th>11</th>\n",
       "      <td>106677.075076</td>\n",
       "    </tr>\n",
       "    <tr>\n",
       "      <th>12</th>\n",
       "      <td>108291.020551</td>\n",
       "    </tr>\n",
       "    <tr>\n",
       "      <th>13</th>\n",
       "      <td>107209.143992</td>\n",
       "    </tr>\n",
       "    <tr>\n",
       "      <th>14</th>\n",
       "      <td>104986.483351</td>\n",
       "    </tr>\n",
       "  </tbody>\n",
       "</table>\n",
       "</div>"
      ],
      "text/plain": [
       "                              price_m\n",
       "cityCenters_nearest_km               \n",
       "0                       162794.886633\n",
       "1                       140681.719410\n",
       "2                       129943.756279\n",
       "3                       121597.829265\n",
       "4                       133965.317281\n",
       "5                       138415.343949\n",
       "6                       142951.731720\n",
       "7                       133120.949091\n",
       "8                       120378.202490\n",
       "9                       110207.371287\n",
       "10                      111285.347716\n",
       "11                      106677.075076\n",
       "12                      108291.020551\n",
       "13                      107209.143992\n",
       "14                      104986.483351"
      ]
     },
     "execution_count": 69,
     "metadata": {},
     "output_type": "execute_result"
    },
    {
     "data": {
      "image/png": "[encoded data removed]",
      "text/plain": [
       "<Figure size 432x288 with 1 Axes>"
      ]
     },
     "metadata": {
      "needs_background": "light"
     },
     "output_type": "display_data"
    }
   ],
   "source": [
    "data['cityCenters_nearest_km'] = data['cityCenters_nearest_km'].fillna(1000) #заменяем пропущенные занчения\n",
    "data['cityCenters_nearest_km'] = data['cityCenters_nearest_km'].astype('int')\n",
    "pivot_table_km = data.query('locality_name == \"Санкт-Петербург\" and cityCenters_nearest_km !=1000').pivot_table(index = 'cityCenters_nearest_km', values = 'price_m', aggfunc = 'mean')\n",
    "pivot_table_km.plot(grid = True, title = 'Заголовок')\n",
    "data[['cityCenters_nearest_km', 'price_m']].groupby(['cityCenters_nearest_km']).mean().head(15)\n"
   ]
  },
  {
   "cell_type": "markdown",
   "metadata": {},
   "source": [
    "Если рассмотривать в пределах города (примерный радиус 15 км), то в среднем 1 км удаления от центра снижает стоимость квадратного метра на 3854 рубля. Пики на графике, скорее всего, соответствуют: 5-6 км - дорогое жильё на Крестовском острове, а 27 км - это уже Пушкин, где также дорогое жильё (см таблицу выше)"
   ]
  },
  {
   "cell_type": "markdown",
   "metadata": {},
   "source": [
    "#### Промежуточный вывод"
   ]
  },
  {
   "cell_type": "markdown",
   "metadata": {},
   "source": [
    "Проводилась оценка всего рынка. Преобладают на рынке 1-2-3 комнатные квартиры, расположенные в 5 и 9-этажных домах спальных районов застройки 60-80-х годов. Большая часть объявлений была подана агентствами недвижимости. Цена квартир зависит от ряда факторов - высокие потолки, большая этажность дома и расположение на верхних этажах, большая кухня,  близость к паркам и водоёмам, близость к центру города увеличивает увеличивает стоимость квадратного метра жилья."
   ]
  },
  {
   "cell_type": "markdown",
   "metadata": {},
   "source": [
    "### Общий вывод"
   ]
  },
  {
   "cell_type": "markdown",
   "metadata": {},
   "source": [
    "Проводился анализ объявлений по продаже квартир с Санкт-Петербурге и Ленинградской области за 2014-2019 гг. Данные удовлетворительного качества, есть пропущенные и ошибочно введённые данные. Преобладают на рынке 1-2-3 комнатные квартиры, расположенные в 5 и 9-этажных домах спальных районов Санкт-Петербурга застройки 60-80-х годов. Большая часть объявлений была подана агентствами недвижимости. Цена квартир зависит от ряда факторов - высокие потолки, большая этажность дома и расположение на верхних этажах, большая кухня,  близость к паркам и водоёмам, близость к центру города увеличивает увеличивает стоимость квадратного метра жилья. Максимальные средние цены на квартиры расположенные с самом Санкт-Петербурге, Пушкине и ближайших к Санкт-Петербургу новостройках - Кудрово и Мурино. Медиана срока размещения объявления 95 дней."
   ]
  }
 ],
 "metadata": {
  "ExecuteTimeLog": [
   {
    "duration": 48,
    "start_time": "2022-08-25T18:40:25.728Z"
   },
   {
    "duration": 1084,
    "start_time": "2022-08-25T18:40:36.694Z"
   },
   {
    "duration": 155,
    "start_time": "2022-08-25T18:41:54.081Z"
   },
   {
    "duration": 82,
    "start_time": "2022-08-25T18:42:33.458Z"
   },
   {
    "duration": 89,
    "start_time": "2022-08-25T18:44:31.691Z"
   },
   {
    "duration": 86,
    "start_time": "2022-08-25T18:46:37.670Z"
   },
   {
    "duration": 90,
    "start_time": "2022-08-25T18:47:00.762Z"
   },
   {
    "duration": 90,
    "start_time": "2022-08-25T18:47:36.771Z"
   },
   {
    "duration": 90,
    "start_time": "2022-08-25T18:47:59.618Z"
   },
   {
    "duration": 90,
    "start_time": "2022-08-25T18:49:56.270Z"
   },
   {
    "duration": 38,
    "start_time": "2022-08-25T18:53:39.227Z"
   },
   {
    "duration": 94,
    "start_time": "2022-08-25T18:54:32.949Z"
   },
   {
    "duration": 92,
    "start_time": "2022-08-25T18:56:01.447Z"
   },
   {
    "duration": 93,
    "start_time": "2022-08-25T18:56:22.940Z"
   },
   {
    "duration": 116,
    "start_time": "2022-08-25T18:58:36.738Z"
   },
   {
    "duration": 120,
    "start_time": "2022-08-25T18:59:29.694Z"
   },
   {
    "duration": 91,
    "start_time": "2022-08-25T19:01:55.835Z"
   },
   {
    "duration": 150,
    "start_time": "2022-08-25T19:04:23.389Z"
   },
   {
    "duration": 147,
    "start_time": "2022-08-25T19:04:51.863Z"
   },
   {
    "duration": 152,
    "start_time": "2022-08-25T19:05:19.942Z"
   },
   {
    "duration": 512,
    "start_time": "2022-08-25T19:06:02.351Z"
   },
   {
    "duration": 289,
    "start_time": "2022-08-25T19:06:14.144Z"
   },
   {
    "duration": 189,
    "start_time": "2022-08-25T19:06:40.842Z"
   },
   {
    "duration": 152,
    "start_time": "2022-08-25T19:06:49.087Z"
   },
   {
    "duration": 157,
    "start_time": "2022-08-25T19:07:05.485Z"
   },
   {
    "duration": 132,
    "start_time": "2022-08-25T19:07:34.089Z"
   },
   {
    "duration": 90,
    "start_time": "2022-08-25T19:07:45.846Z"
   },
   {
    "duration": 96,
    "start_time": "2022-08-25T19:08:00.151Z"
   },
   {
    "duration": 91,
    "start_time": "2022-08-25T19:08:24.976Z"
   },
   {
    "duration": 96,
    "start_time": "2022-08-25T19:09:53.948Z"
   },
   {
    "duration": 104,
    "start_time": "2022-08-25T19:11:25.612Z"
   },
   {
    "duration": 101,
    "start_time": "2022-08-25T19:11:41.183Z"
   },
   {
    "duration": 102,
    "start_time": "2022-08-25T19:14:54.244Z"
   },
   {
    "duration": 49,
    "start_time": "2022-08-25T19:15:31.173Z"
   },
   {
    "duration": 100,
    "start_time": "2022-08-25T19:15:40.534Z"
   },
   {
    "duration": 94,
    "start_time": "2022-08-25T19:16:12.936Z"
   },
   {
    "duration": 94,
    "start_time": "2022-08-25T19:16:37.763Z"
   },
   {
    "duration": 95,
    "start_time": "2022-08-25T19:16:43.665Z"
   },
   {
    "duration": 88,
    "start_time": "2022-08-25T19:17:20.640Z"
   },
   {
    "duration": 108,
    "start_time": "2022-08-25T19:18:39.171Z"
   },
   {
    "duration": 1775,
    "start_time": "2022-08-25T19:19:39.844Z"
   },
   {
    "duration": 1835,
    "start_time": "2022-08-25T19:28:58.073Z"
   },
   {
    "duration": 104,
    "start_time": "2022-08-25T19:30:20.626Z"
   },
   {
    "duration": 96,
    "start_time": "2022-08-25T19:30:34.064Z"
   },
   {
    "duration": 8,
    "start_time": "2022-08-25T19:32:45.115Z"
   },
   {
    "duration": 82,
    "start_time": "2022-08-25T19:32:48.044Z"
   },
   {
    "duration": 92,
    "start_time": "2022-08-25T19:32:59.065Z"
   },
   {
    "duration": 1814,
    "start_time": "2022-08-25T19:38:06.696Z"
   },
   {
    "duration": 98,
    "start_time": "2022-08-25T19:40:22.826Z"
   },
   {
    "duration": 97,
    "start_time": "2022-08-25T19:43:32.927Z"
   },
   {
    "duration": 98,
    "start_time": "2022-08-25T19:44:48.830Z"
   },
   {
    "duration": 97,
    "start_time": "2022-08-25T19:45:32.176Z"
   },
   {
    "duration": 1000,
    "start_time": "2022-08-26T17:07:48.586Z"
   },
   {
    "duration": 102,
    "start_time": "2022-08-26T17:08:39.187Z"
   },
   {
    "duration": 2135,
    "start_time": "2022-08-26T17:10:04.941Z"
   },
   {
    "duration": 1998,
    "start_time": "2022-08-26T17:15:01.532Z"
   },
   {
    "duration": 128,
    "start_time": "2022-08-26T17:39:38.700Z"
   },
   {
    "duration": 54,
    "start_time": "2022-08-28T09:53:48.169Z"
   },
   {
    "duration": 2889,
    "start_time": "2022-08-28T09:54:11.448Z"
   },
   {
    "duration": 8,
    "start_time": "2022-08-28T09:54:14.339Z"
   },
   {
    "duration": 10,
    "start_time": "2022-08-28T10:02:06.870Z"
   },
   {
    "duration": 8,
    "start_time": "2022-08-28T10:02:55.950Z"
   },
   {
    "duration": 4,
    "start_time": "2022-08-28T10:03:09.942Z"
   },
   {
    "duration": 5,
    "start_time": "2022-08-28T10:03:29.005Z"
   },
   {
    "duration": 39,
    "start_time": "2022-08-28T10:06:32.537Z"
   },
   {
    "duration": 14,
    "start_time": "2022-08-28T10:06:56.973Z"
   },
   {
    "duration": 23,
    "start_time": "2022-08-28T10:07:10.062Z"
   },
   {
    "duration": 22,
    "start_time": "2022-08-28T10:08:36.493Z"
   },
   {
    "duration": 8,
    "start_time": "2022-08-28T10:09:15.510Z"
   },
   {
    "duration": 20,
    "start_time": "2022-08-28T10:09:26.417Z"
   },
   {
    "duration": 15,
    "start_time": "2022-08-28T10:15:21.234Z"
   },
   {
    "duration": 44,
    "start_time": "2022-08-28T10:15:58.159Z"
   },
   {
    "duration": 55,
    "start_time": "2022-08-28T10:16:12.931Z"
   },
   {
    "duration": 926,
    "start_time": "2022-08-28T10:16:18.067Z"
   },
   {
    "duration": 30,
    "start_time": "2022-08-28T10:17:25.985Z"
   },
   {
    "duration": 23,
    "start_time": "2022-08-28T10:21:57.679Z"
   },
   {
    "duration": 13,
    "start_time": "2022-08-28T10:22:16.674Z"
   },
   {
    "duration": 7,
    "start_time": "2022-08-28T10:23:10.767Z"
   },
   {
    "duration": 46,
    "start_time": "2022-08-28T10:23:46.231Z"
   },
   {
    "duration": 8,
    "start_time": "2022-08-28T10:23:52.610Z"
   },
   {
    "duration": 8,
    "start_time": "2022-08-28T10:24:42.083Z"
   },
   {
    "duration": 1907,
    "start_time": "2022-08-28T10:24:53.326Z"
   },
   {
    "duration": 8,
    "start_time": "2022-08-28T10:24:55.235Z"
   },
   {
    "duration": 10,
    "start_time": "2022-08-28T10:24:55.245Z"
   },
   {
    "duration": 19,
    "start_time": "2022-08-28T10:24:55.256Z"
   },
   {
    "duration": 4,
    "start_time": "2022-08-28T13:14:29.430Z"
   },
   {
    "duration": 8,
    "start_time": "2022-08-28T13:14:50.046Z"
   },
   {
    "duration": 2,
    "start_time": "2022-08-28T13:15:32.530Z"
   },
   {
    "duration": 60,
    "start_time": "2022-08-28T13:21:40.586Z"
   },
   {
    "duration": 7,
    "start_time": "2022-08-28T13:25:37.530Z"
   },
   {
    "duration": 6,
    "start_time": "2022-08-28T13:26:41.878Z"
   },
   {
    "duration": 1805,
    "start_time": "2022-08-28T13:26:46.907Z"
   },
   {
    "duration": 9,
    "start_time": "2022-08-28T13:26:48.713Z"
   },
   {
    "duration": 9,
    "start_time": "2022-08-28T13:26:48.723Z"
   },
   {
    "duration": 6,
    "start_time": "2022-08-28T13:26:48.733Z"
   },
   {
    "duration": 7,
    "start_time": "2022-08-28T13:29:20.893Z"
   },
   {
    "duration": 51,
    "start_time": "2022-08-29T17:53:28.381Z"
   },
   {
    "duration": 2868,
    "start_time": "2022-08-29T17:53:35.575Z"
   },
   {
    "duration": 11,
    "start_time": "2022-08-29T17:53:38.445Z"
   },
   {
    "duration": 10,
    "start_time": "2022-08-29T17:53:38.457Z"
   },
   {
    "duration": 38,
    "start_time": "2022-08-29T17:53:38.469Z"
   },
   {
    "duration": 12,
    "start_time": "2022-08-29T17:54:46.820Z"
   },
   {
    "duration": 9,
    "start_time": "2022-08-29T17:55:53.279Z"
   },
   {
    "duration": 10,
    "start_time": "2022-08-29T17:56:26.277Z"
   },
   {
    "duration": 10,
    "start_time": "2022-08-29T17:59:26.928Z"
   },
   {
    "duration": 10,
    "start_time": "2022-08-29T18:05:26.476Z"
   },
   {
    "duration": 1849,
    "start_time": "2022-08-29T18:05:52.792Z"
   },
   {
    "duration": 9,
    "start_time": "2022-08-29T18:05:54.643Z"
   },
   {
    "duration": 8,
    "start_time": "2022-08-29T18:05:54.653Z"
   },
   {
    "duration": 7,
    "start_time": "2022-08-29T18:05:54.662Z"
   },
   {
    "duration": 9,
    "start_time": "2022-08-29T18:06:18.100Z"
   },
   {
    "duration": 7,
    "start_time": "2022-08-29T18:07:07.311Z"
   },
   {
    "duration": 1827,
    "start_time": "2022-08-29T18:07:17.112Z"
   },
   {
    "duration": 8,
    "start_time": "2022-08-29T18:07:18.941Z"
   },
   {
    "duration": 9,
    "start_time": "2022-08-29T18:07:18.951Z"
   },
   {
    "duration": 6,
    "start_time": "2022-08-29T18:07:18.961Z"
   },
   {
    "duration": 7,
    "start_time": "2022-08-29T18:07:36.972Z"
   },
   {
    "duration": 7,
    "start_time": "2022-08-29T18:07:56.984Z"
   },
   {
    "duration": 7,
    "start_time": "2022-08-29T18:08:28.771Z"
   },
   {
    "duration": 7,
    "start_time": "2022-08-29T18:08:43.657Z"
   },
   {
    "duration": 7,
    "start_time": "2022-08-29T18:09:14.210Z"
   },
   {
    "duration": 7,
    "start_time": "2022-08-29T18:24:42.328Z"
   },
   {
    "duration": 7,
    "start_time": "2022-08-29T18:25:17.595Z"
   },
   {
    "duration": 68,
    "start_time": "2022-08-29T18:26:04.888Z"
   },
   {
    "duration": 11,
    "start_time": "2022-08-29T18:26:57.274Z"
   },
   {
    "duration": 6,
    "start_time": "2022-08-29T18:32:33.576Z"
   },
   {
    "duration": 6,
    "start_time": "2022-08-29T18:33:41.834Z"
   },
   {
    "duration": 6,
    "start_time": "2022-08-29T18:34:27.353Z"
   },
   {
    "duration": 8,
    "start_time": "2022-08-29T18:35:09.243Z"
   },
   {
    "duration": 6,
    "start_time": "2022-08-29T18:35:24.785Z"
   },
   {
    "duration": 7,
    "start_time": "2022-08-29T18:36:18.433Z"
   },
   {
    "duration": 5,
    "start_time": "2022-08-29T18:36:28.830Z"
   },
   {
    "duration": 8,
    "start_time": "2022-08-29T18:42:58.326Z"
   },
   {
    "duration": 7,
    "start_time": "2022-08-29T18:43:27.317Z"
   },
   {
    "duration": 9,
    "start_time": "2022-08-29T18:43:48.833Z"
   },
   {
    "duration": 8,
    "start_time": "2022-08-29T18:43:55.561Z"
   },
   {
    "duration": 11,
    "start_time": "2022-08-29T18:44:07.509Z"
   },
   {
    "duration": 11,
    "start_time": "2022-08-29T18:45:25.845Z"
   },
   {
    "duration": 4,
    "start_time": "2022-08-29T18:56:08.198Z"
   },
   {
    "duration": 5,
    "start_time": "2022-08-29T18:56:11.551Z"
   },
   {
    "duration": 15,
    "start_time": "2022-08-29T18:56:49.209Z"
   },
   {
    "duration": 11,
    "start_time": "2022-08-29T18:57:25.221Z"
   },
   {
    "duration": 10,
    "start_time": "2022-08-29T18:58:09.675Z"
   },
   {
    "duration": 809,
    "start_time": "2022-09-02T12:09:14.484Z"
   },
   {
    "duration": 314,
    "start_time": "2022-09-02T12:09:41.678Z"
   },
   {
    "duration": 26,
    "start_time": "2022-09-02T12:10:36.156Z"
   },
   {
    "duration": 16,
    "start_time": "2022-09-02T12:11:06.963Z"
   },
   {
    "duration": 69,
    "start_time": "2022-09-02T12:11:47.418Z"
   },
   {
    "duration": 1851,
    "start_time": "2022-09-02T12:12:11.382Z"
   },
   {
    "duration": 10,
    "start_time": "2022-09-02T12:17:20.119Z"
   },
   {
    "duration": 6,
    "start_time": "2022-09-02T12:17:37.789Z"
   },
   {
    "duration": 68,
    "start_time": "2022-09-02T12:20:31.495Z"
   },
   {
    "duration": 7,
    "start_time": "2022-09-02T12:20:44.980Z"
   },
   {
    "duration": 8,
    "start_time": "2022-09-02T12:21:04.440Z"
   },
   {
    "duration": 8,
    "start_time": "2022-09-02T12:23:22.648Z"
   },
   {
    "duration": 7,
    "start_time": "2022-09-02T12:26:58.102Z"
   },
   {
    "duration": 11,
    "start_time": "2022-09-02T12:26:59.095Z"
   },
   {
    "duration": 8,
    "start_time": "2022-09-02T12:27:28.198Z"
   },
   {
    "duration": 11,
    "start_time": "2022-09-02T12:27:29.492Z"
   },
   {
    "duration": 6,
    "start_time": "2022-09-02T12:28:16.567Z"
   },
   {
    "duration": 6,
    "start_time": "2022-09-02T12:28:54.068Z"
   },
   {
    "duration": 8,
    "start_time": "2022-09-02T12:31:07.281Z"
   },
   {
    "duration": 5,
    "start_time": "2022-09-02T12:32:23.867Z"
   },
   {
    "duration": 5,
    "start_time": "2022-09-02T12:37:47.181Z"
   },
   {
    "duration": 187,
    "start_time": "2022-09-02T12:40:03.308Z"
   },
   {
    "duration": 3,
    "start_time": "2022-09-02T12:46:45.559Z"
   },
   {
    "duration": 21,
    "start_time": "2022-09-02T12:47:06.390Z"
   },
   {
    "duration": 204,
    "start_time": "2022-09-02T12:50:58.036Z"
   },
   {
    "duration": 115,
    "start_time": "2022-09-02T12:51:08.088Z"
   },
   {
    "duration": 131,
    "start_time": "2022-09-02T12:53:20.299Z"
   },
   {
    "duration": 86,
    "start_time": "2022-09-02T12:53:55.473Z"
   },
   {
    "duration": 3,
    "start_time": "2022-09-02T12:54:05.035Z"
   },
   {
    "duration": 91,
    "start_time": "2022-09-02T12:54:05.040Z"
   },
   {
    "duration": 25,
    "start_time": "2022-09-02T12:54:05.133Z"
   },
   {
    "duration": 18,
    "start_time": "2022-09-02T12:54:05.160Z"
   },
   {
    "duration": 101,
    "start_time": "2022-09-02T12:54:05.181Z"
   },
   {
    "duration": 1882,
    "start_time": "2022-09-02T12:54:05.284Z"
   },
   {
    "duration": 13,
    "start_time": "2022-09-02T12:54:07.168Z"
   },
   {
    "duration": 14,
    "start_time": "2022-09-02T12:54:07.182Z"
   },
   {
    "duration": 7,
    "start_time": "2022-09-02T12:54:07.197Z"
   },
   {
    "duration": 12,
    "start_time": "2022-09-02T12:54:07.206Z"
   },
   {
    "duration": 38,
    "start_time": "2022-09-02T12:54:07.220Z"
   },
   {
    "duration": 85,
    "start_time": "2022-09-02T12:54:07.260Z"
   },
   {
    "duration": 30,
    "start_time": "2022-09-02T12:55:40.007Z"
   },
   {
    "duration": 21,
    "start_time": "2022-09-02T12:56:57.165Z"
   },
   {
    "duration": 5,
    "start_time": "2022-09-02T13:01:11.051Z"
   },
   {
    "duration": 12,
    "start_time": "2022-09-02T13:03:15.597Z"
   },
   {
    "duration": 16,
    "start_time": "2022-09-02T13:06:58.539Z"
   },
   {
    "duration": 11,
    "start_time": "2022-09-02T13:08:23.772Z"
   },
   {
    "duration": 9,
    "start_time": "2022-09-02T13:09:49.683Z"
   },
   {
    "duration": 13,
    "start_time": "2022-09-02T13:10:17.218Z"
   },
   {
    "duration": 413,
    "start_time": "2022-09-02T13:13:14.716Z"
   },
   {
    "duration": 4,
    "start_time": "2022-09-02T13:14:20.433Z"
   },
   {
    "duration": 9,
    "start_time": "2022-09-02T13:15:48.969Z"
   },
   {
    "duration": 7,
    "start_time": "2022-09-02T13:16:41.816Z"
   },
   {
    "duration": 5,
    "start_time": "2022-09-02T13:17:11.816Z"
   },
   {
    "duration": 6,
    "start_time": "2022-09-02T13:23:03.796Z"
   },
   {
    "duration": 5,
    "start_time": "2022-09-02T13:23:17.144Z"
   },
   {
    "duration": 3,
    "start_time": "2022-09-02T13:24:55.440Z"
   },
   {
    "duration": 11,
    "start_time": "2022-09-02T13:25:21.458Z"
   },
   {
    "duration": 130,
    "start_time": "2022-09-02T13:25:37.331Z"
   },
   {
    "duration": 37,
    "start_time": "2022-09-02T13:26:27.882Z"
   },
   {
    "duration": 4,
    "start_time": "2022-09-02T13:27:22.181Z"
   },
   {
    "duration": 10,
    "start_time": "2022-09-02T13:28:22.875Z"
   },
   {
    "duration": 6,
    "start_time": "2022-09-02T13:33:27.728Z"
   },
   {
    "duration": 1375,
    "start_time": "2022-09-02T13:34:50.810Z"
   },
   {
    "duration": 8,
    "start_time": "2022-09-02T13:35:13.382Z"
   },
   {
    "duration": 1063,
    "start_time": "2022-09-02T13:35:54.292Z"
   },
   {
    "duration": 14,
    "start_time": "2022-09-02T13:37:48.370Z"
   },
   {
    "duration": 1184,
    "start_time": "2022-09-02T13:38:15.942Z"
   },
   {
    "duration": 4,
    "start_time": "2022-09-02T13:41:06.787Z"
   },
   {
    "duration": 20,
    "start_time": "2022-09-02T13:41:33.905Z"
   },
   {
    "duration": 21,
    "start_time": "2022-09-02T13:46:55.288Z"
   },
   {
    "duration": 32,
    "start_time": "2022-09-02T13:47:25.799Z"
   },
   {
    "duration": 27,
    "start_time": "2022-09-02T13:49:18.974Z"
   },
   {
    "duration": 35,
    "start_time": "2022-09-02T13:50:31.338Z"
   },
   {
    "duration": 19,
    "start_time": "2022-09-02T13:53:59.096Z"
   },
   {
    "duration": 26,
    "start_time": "2022-09-02T13:54:02.948Z"
   },
   {
    "duration": 8,
    "start_time": "2022-09-02T14:00:20.730Z"
   },
   {
    "duration": 3,
    "start_time": "2022-09-02T14:02:06.622Z"
   },
   {
    "duration": 8,
    "start_time": "2022-09-02T14:02:19.524Z"
   },
   {
    "duration": 2,
    "start_time": "2022-09-02T14:02:34.613Z"
   },
   {
    "duration": 99,
    "start_time": "2022-09-02T14:02:34.616Z"
   },
   {
    "duration": 24,
    "start_time": "2022-09-02T14:02:34.717Z"
   },
   {
    "duration": 30,
    "start_time": "2022-09-02T14:02:34.743Z"
   },
   {
    "duration": 66,
    "start_time": "2022-09-02T14:02:34.775Z"
   },
   {
    "duration": 1957,
    "start_time": "2022-09-02T14:02:34.843Z"
   },
   {
    "duration": 8,
    "start_time": "2022-09-02T14:02:36.802Z"
   },
   {
    "duration": 15,
    "start_time": "2022-09-02T14:02:36.811Z"
   },
   {
    "duration": 5,
    "start_time": "2022-09-02T14:02:36.827Z"
   },
   {
    "duration": 34,
    "start_time": "2022-09-02T14:02:36.833Z"
   },
   {
    "duration": 10,
    "start_time": "2022-09-02T14:02:36.872Z"
   },
   {
    "duration": 10,
    "start_time": "2022-09-02T14:02:36.884Z"
   },
   {
    "duration": 10,
    "start_time": "2022-09-02T14:02:36.896Z"
   },
   {
    "duration": 4,
    "start_time": "2022-09-02T14:02:36.909Z"
   },
   {
    "duration": 8,
    "start_time": "2022-09-02T14:02:36.915Z"
   },
   {
    "duration": 46,
    "start_time": "2022-09-02T14:02:36.924Z"
   },
   {
    "duration": 5,
    "start_time": "2022-09-02T14:02:36.972Z"
   },
   {
    "duration": 11,
    "start_time": "2022-09-02T14:02:36.978Z"
   },
   {
    "duration": 15,
    "start_time": "2022-09-02T14:04:51.790Z"
   },
   {
    "duration": 4,
    "start_time": "2022-09-02T14:06:28.464Z"
   },
   {
    "duration": 3,
    "start_time": "2022-09-02T14:06:44.653Z"
   },
   {
    "duration": 5,
    "start_time": "2022-09-02T14:09:00.849Z"
   },
   {
    "duration": 8,
    "start_time": "2022-09-02T14:09:15.870Z"
   },
   {
    "duration": 9,
    "start_time": "2022-09-02T14:09:35.394Z"
   },
   {
    "duration": 6,
    "start_time": "2022-09-02T14:11:06.588Z"
   },
   {
    "duration": 7,
    "start_time": "2022-09-02T14:12:20.892Z"
   },
   {
    "duration": 8,
    "start_time": "2022-09-02T14:12:32.502Z"
   },
   {
    "duration": 9,
    "start_time": "2022-09-02T14:13:39.588Z"
   },
   {
    "duration": 9,
    "start_time": "2022-09-02T15:50:56.596Z"
   },
   {
    "duration": 6,
    "start_time": "2022-09-02T15:52:31.423Z"
   },
   {
    "duration": 10,
    "start_time": "2022-09-02T15:53:15.268Z"
   },
   {
    "duration": 5,
    "start_time": "2022-09-02T15:55:14.429Z"
   },
   {
    "duration": 10,
    "start_time": "2022-09-02T15:55:43.922Z"
   },
   {
    "duration": 3,
    "start_time": "2022-09-02T15:56:04.124Z"
   },
   {
    "duration": 10,
    "start_time": "2022-09-02T15:56:52.686Z"
   },
   {
    "duration": 3,
    "start_time": "2022-09-02T15:56:59.928Z"
   },
   {
    "duration": 10,
    "start_time": "2022-09-02T15:57:22.903Z"
   },
   {
    "duration": 3,
    "start_time": "2022-09-02T15:57:38.162Z"
   },
   {
    "duration": 7,
    "start_time": "2022-09-02T15:59:20.378Z"
   },
   {
    "duration": 17,
    "start_time": "2022-09-03T07:41:29.627Z"
   },
   {
    "duration": 308,
    "start_time": "2022-09-03T07:41:58.233Z"
   },
   {
    "duration": 22,
    "start_time": "2022-09-03T07:42:23.005Z"
   },
   {
    "duration": 10,
    "start_time": "2022-09-03T07:42:55.348Z"
   },
   {
    "duration": 5,
    "start_time": "2022-09-03T07:43:26.447Z"
   },
   {
    "duration": 9,
    "start_time": "2022-09-03T07:44:15.705Z"
   },
   {
    "duration": 23,
    "start_time": "2022-09-03T07:47:53.013Z"
   },
   {
    "duration": 8,
    "start_time": "2022-09-03T07:48:46.369Z"
   },
   {
    "duration": 18,
    "start_time": "2022-09-03T07:49:10.238Z"
   },
   {
    "duration": 99,
    "start_time": "2022-09-03T08:08:27.121Z"
   },
   {
    "duration": 73,
    "start_time": "2022-09-03T19:39:27.585Z"
   },
   {
    "duration": 15,
    "start_time": "2022-09-03T19:40:46.087Z"
   },
   {
    "duration": 58,
    "start_time": "2022-09-04T10:05:35.182Z"
   },
   {
    "duration": 731,
    "start_time": "2022-09-04T10:05:48.659Z"
   },
   {
    "duration": 289,
    "start_time": "2022-09-04T10:05:49.393Z"
   },
   {
    "duration": 26,
    "start_time": "2022-09-04T10:05:49.683Z"
   },
   {
    "duration": 14,
    "start_time": "2022-09-04T10:05:49.711Z"
   },
   {
    "duration": 75,
    "start_time": "2022-09-04T10:05:49.726Z"
   },
   {
    "duration": 1718,
    "start_time": "2022-09-04T10:05:49.803Z"
   },
   {
    "duration": 8,
    "start_time": "2022-09-04T10:05:51.523Z"
   },
   {
    "duration": 10,
    "start_time": "2022-09-04T10:05:51.532Z"
   },
   {
    "duration": 9,
    "start_time": "2022-09-04T10:05:51.543Z"
   },
   {
    "duration": 10,
    "start_time": "2022-09-04T10:05:51.554Z"
   },
   {
    "duration": 9,
    "start_time": "2022-09-04T10:05:51.565Z"
   },
   {
    "duration": 9,
    "start_time": "2022-09-04T10:05:51.575Z"
   },
   {
    "duration": 16,
    "start_time": "2022-09-04T10:05:51.585Z"
   },
   {
    "duration": 4,
    "start_time": "2022-09-04T10:05:51.603Z"
   },
   {
    "duration": 9,
    "start_time": "2022-09-04T10:05:51.608Z"
   },
   {
    "duration": 8,
    "start_time": "2022-09-04T10:05:51.618Z"
   },
   {
    "duration": 5,
    "start_time": "2022-09-04T10:05:51.627Z"
   },
   {
    "duration": 6,
    "start_time": "2022-09-04T10:05:51.633Z"
   },
   {
    "duration": 69,
    "start_time": "2022-09-04T10:05:51.640Z"
   },
   {
    "duration": 0,
    "start_time": "2022-09-04T10:05:51.711Z"
   },
   {
    "duration": 0,
    "start_time": "2022-09-04T10:05:51.712Z"
   },
   {
    "duration": 0,
    "start_time": "2022-09-04T10:05:51.713Z"
   },
   {
    "duration": 10,
    "start_time": "2022-09-04T10:06:02.227Z"
   },
   {
    "duration": 16,
    "start_time": "2022-09-04T10:06:33.197Z"
   },
   {
    "duration": 8,
    "start_time": "2022-09-04T10:16:44.650Z"
   },
   {
    "duration": 20,
    "start_time": "2022-09-04T10:17:25.947Z"
   },
   {
    "duration": 10,
    "start_time": "2022-09-04T10:17:48.949Z"
   },
   {
    "duration": 8,
    "start_time": "2022-09-04T10:21:55.050Z"
   },
   {
    "duration": 11,
    "start_time": "2022-09-04T10:30:34.983Z"
   },
   {
    "duration": 11,
    "start_time": "2022-09-04T10:34:45.137Z"
   },
   {
    "duration": 6,
    "start_time": "2022-09-04T10:35:05.148Z"
   },
   {
    "duration": 8,
    "start_time": "2022-09-04T10:37:32.097Z"
   },
   {
    "duration": 46,
    "start_time": "2022-09-04T10:38:52.853Z"
   },
   {
    "duration": 60,
    "start_time": "2022-09-04T10:39:08.506Z"
   },
   {
    "duration": 39,
    "start_time": "2022-09-04T10:39:43.642Z"
   },
   {
    "duration": 8,
    "start_time": "2022-09-04T10:40:25.975Z"
   },
   {
    "duration": 4,
    "start_time": "2022-09-04T10:45:39.079Z"
   },
   {
    "duration": 23,
    "start_time": "2022-09-04T10:45:57.734Z"
   },
   {
    "duration": 3,
    "start_time": "2022-09-04T10:46:25.359Z"
   },
   {
    "duration": 8,
    "start_time": "2022-09-04T13:32:50.978Z"
   },
   {
    "duration": 11,
    "start_time": "2022-09-04T13:35:40.809Z"
   },
   {
    "duration": 8,
    "start_time": "2022-09-04T13:37:02.979Z"
   },
   {
    "duration": 3,
    "start_time": "2022-09-04T13:37:58.319Z"
   },
   {
    "duration": 1381,
    "start_time": "2022-09-04T13:38:02.059Z"
   },
   {
    "duration": 3,
    "start_time": "2022-09-04T13:43:16.912Z"
   },
   {
    "duration": 1270,
    "start_time": "2022-09-04T13:43:20.837Z"
   },
   {
    "duration": 23,
    "start_time": "2022-09-04T16:04:02.721Z"
   },
   {
    "duration": 3,
    "start_time": "2022-09-04T16:05:05.085Z"
   },
   {
    "duration": 4,
    "start_time": "2022-09-04T16:05:16.305Z"
   },
   {
    "duration": 4,
    "start_time": "2022-09-04T16:05:37.397Z"
   },
   {
    "duration": 2,
    "start_time": "2022-09-04T16:05:48.723Z"
   },
   {
    "duration": 89,
    "start_time": "2022-09-04T16:05:48.727Z"
   },
   {
    "duration": 22,
    "start_time": "2022-09-04T16:05:48.818Z"
   },
   {
    "duration": 14,
    "start_time": "2022-09-04T16:05:48.842Z"
   },
   {
    "duration": 78,
    "start_time": "2022-09-04T16:05:48.858Z"
   },
   {
    "duration": 1665,
    "start_time": "2022-09-04T16:05:48.938Z"
   },
   {
    "duration": 12,
    "start_time": "2022-09-04T16:05:50.606Z"
   },
   {
    "duration": 14,
    "start_time": "2022-09-04T16:05:50.619Z"
   },
   {
    "duration": 5,
    "start_time": "2022-09-04T16:05:50.634Z"
   },
   {
    "duration": 11,
    "start_time": "2022-09-04T16:05:50.641Z"
   },
   {
    "duration": 9,
    "start_time": "2022-09-04T16:05:50.654Z"
   },
   {
    "duration": 40,
    "start_time": "2022-09-04T16:05:50.665Z"
   },
   {
    "duration": 12,
    "start_time": "2022-09-04T16:05:50.707Z"
   },
   {
    "duration": 5,
    "start_time": "2022-09-04T16:05:50.720Z"
   },
   {
    "duration": 9,
    "start_time": "2022-09-04T16:05:50.726Z"
   },
   {
    "duration": 9,
    "start_time": "2022-09-04T16:05:50.736Z"
   },
   {
    "duration": 5,
    "start_time": "2022-09-04T16:05:50.746Z"
   },
   {
    "duration": 14,
    "start_time": "2022-09-04T16:05:50.753Z"
   },
   {
    "duration": 36,
    "start_time": "2022-09-04T16:05:50.768Z"
   },
   {
    "duration": 0,
    "start_time": "2022-09-04T16:05:50.806Z"
   },
   {
    "duration": 0,
    "start_time": "2022-09-04T16:05:50.807Z"
   },
   {
    "duration": 0,
    "start_time": "2022-09-04T16:05:50.808Z"
   },
   {
    "duration": 0,
    "start_time": "2022-09-04T16:05:50.809Z"
   },
   {
    "duration": 0,
    "start_time": "2022-09-04T16:05:50.810Z"
   },
   {
    "duration": 0,
    "start_time": "2022-09-04T16:05:50.812Z"
   },
   {
    "duration": 0,
    "start_time": "2022-09-04T16:05:50.813Z"
   },
   {
    "duration": 0,
    "start_time": "2022-09-04T16:05:50.814Z"
   },
   {
    "duration": 16,
    "start_time": "2022-09-04T16:05:59.143Z"
   },
   {
    "duration": 198,
    "start_time": "2022-09-04T16:06:17.838Z"
   },
   {
    "duration": 15,
    "start_time": "2022-09-04T16:06:22.709Z"
   },
   {
    "duration": 5,
    "start_time": "2022-09-04T16:09:02.863Z"
   },
   {
    "duration": 7,
    "start_time": "2022-09-04T16:09:06.845Z"
   },
   {
    "duration": 20,
    "start_time": "2022-09-04T16:27:39.504Z"
   },
   {
    "duration": 1375,
    "start_time": "2022-09-04T16:29:04.564Z"
   },
   {
    "duration": 11,
    "start_time": "2022-09-04T16:29:36.229Z"
   },
   {
    "duration": 746,
    "start_time": "2022-09-04T16:33:30.935Z"
   },
   {
    "duration": 3,
    "start_time": "2022-09-04T16:34:29.264Z"
   },
   {
    "duration": 96,
    "start_time": "2022-09-04T16:34:29.283Z"
   },
   {
    "duration": 31,
    "start_time": "2022-09-04T16:34:29.381Z"
   },
   {
    "duration": 19,
    "start_time": "2022-09-04T16:34:29.414Z"
   },
   {
    "duration": 78,
    "start_time": "2022-09-04T16:34:29.434Z"
   },
   {
    "duration": 1775,
    "start_time": "2022-09-04T16:34:29.515Z"
   },
   {
    "duration": 23,
    "start_time": "2022-09-04T16:34:31.291Z"
   },
   {
    "duration": 13,
    "start_time": "2022-09-04T16:34:31.315Z"
   },
   {
    "duration": 10,
    "start_time": "2022-09-04T16:34:31.329Z"
   },
   {
    "duration": 28,
    "start_time": "2022-09-04T16:34:31.341Z"
   },
   {
    "duration": 10,
    "start_time": "2022-09-04T16:34:31.371Z"
   },
   {
    "duration": 8,
    "start_time": "2022-09-04T16:34:31.383Z"
   },
   {
    "duration": 26,
    "start_time": "2022-09-04T16:34:31.393Z"
   },
   {
    "duration": 5,
    "start_time": "2022-09-04T16:34:31.420Z"
   },
   {
    "duration": 10,
    "start_time": "2022-09-04T16:34:31.427Z"
   },
   {
    "duration": 11,
    "start_time": "2022-09-04T16:34:31.438Z"
   },
   {
    "duration": 9,
    "start_time": "2022-09-04T16:34:31.450Z"
   },
   {
    "duration": 5,
    "start_time": "2022-09-04T16:34:31.460Z"
   },
   {
    "duration": 9,
    "start_time": "2022-09-04T16:34:31.466Z"
   },
   {
    "duration": 0,
    "start_time": "2022-09-04T16:34:31.476Z"
   },
   {
    "duration": 0,
    "start_time": "2022-09-04T16:34:31.477Z"
   },
   {
    "duration": 0,
    "start_time": "2022-09-04T16:34:31.478Z"
   },
   {
    "duration": 0,
    "start_time": "2022-09-04T16:34:31.479Z"
   },
   {
    "duration": 0,
    "start_time": "2022-09-04T16:34:31.479Z"
   },
   {
    "duration": 0,
    "start_time": "2022-09-04T16:34:31.480Z"
   },
   {
    "duration": 0,
    "start_time": "2022-09-04T16:34:31.508Z"
   },
   {
    "duration": 0,
    "start_time": "2022-09-04T16:34:31.510Z"
   },
   {
    "duration": 0,
    "start_time": "2022-09-04T16:34:31.511Z"
   },
   {
    "duration": 0,
    "start_time": "2022-09-04T16:34:31.512Z"
   },
   {
    "duration": 761,
    "start_time": "2022-09-04T16:34:40.763Z"
   },
   {
    "duration": 12,
    "start_time": "2022-09-04T16:34:45.511Z"
   },
   {
    "duration": 780,
    "start_time": "2022-09-04T16:35:47.624Z"
   },
   {
    "duration": 2,
    "start_time": "2022-09-04T16:36:21.317Z"
   },
   {
    "duration": 80,
    "start_time": "2022-09-04T16:36:21.322Z"
   },
   {
    "duration": 22,
    "start_time": "2022-09-04T16:36:21.404Z"
   },
   {
    "duration": 12,
    "start_time": "2022-09-04T16:36:21.427Z"
   },
   {
    "duration": 80,
    "start_time": "2022-09-04T16:36:21.441Z"
   },
   {
    "duration": 1717,
    "start_time": "2022-09-04T16:36:21.523Z"
   },
   {
    "duration": 9,
    "start_time": "2022-09-04T16:36:23.242Z"
   },
   {
    "duration": 12,
    "start_time": "2022-09-04T16:36:23.252Z"
   },
   {
    "duration": 5,
    "start_time": "2022-09-04T16:36:23.265Z"
   },
   {
    "duration": 28,
    "start_time": "2022-09-04T16:36:23.272Z"
   },
   {
    "duration": 10,
    "start_time": "2022-09-04T16:36:23.302Z"
   },
   {
    "duration": 11,
    "start_time": "2022-09-04T16:36:23.313Z"
   },
   {
    "duration": 12,
    "start_time": "2022-09-04T16:36:23.325Z"
   },
   {
    "duration": 5,
    "start_time": "2022-09-04T16:36:23.338Z"
   },
   {
    "duration": 7,
    "start_time": "2022-09-04T16:36:23.345Z"
   },
   {
    "duration": 48,
    "start_time": "2022-09-04T16:36:23.354Z"
   },
   {
    "duration": 6,
    "start_time": "2022-09-04T16:36:23.404Z"
   },
   {
    "duration": 6,
    "start_time": "2022-09-04T16:36:23.412Z"
   },
   {
    "duration": 9,
    "start_time": "2022-09-04T16:36:23.419Z"
   },
   {
    "duration": 0,
    "start_time": "2022-09-04T16:36:23.430Z"
   },
   {
    "duration": 0,
    "start_time": "2022-09-04T16:36:23.431Z"
   },
   {
    "duration": 0,
    "start_time": "2022-09-04T16:36:23.433Z"
   },
   {
    "duration": 0,
    "start_time": "2022-09-04T16:36:23.434Z"
   },
   {
    "duration": 0,
    "start_time": "2022-09-04T16:36:23.435Z"
   },
   {
    "duration": 0,
    "start_time": "2022-09-04T16:36:23.435Z"
   },
   {
    "duration": 0,
    "start_time": "2022-09-04T16:36:23.437Z"
   },
   {
    "duration": 0,
    "start_time": "2022-09-04T16:36:23.438Z"
   },
   {
    "duration": 0,
    "start_time": "2022-09-04T16:36:23.439Z"
   },
   {
    "duration": 1093,
    "start_time": "2022-09-04T16:38:17.258Z"
   },
   {
    "duration": 12,
    "start_time": "2022-09-04T16:38:18.960Z"
   },
   {
    "duration": 3,
    "start_time": "2022-09-04T16:39:07.023Z"
   },
   {
    "duration": 4,
    "start_time": "2022-09-04T16:39:10.403Z"
   },
   {
    "duration": 140,
    "start_time": "2022-09-04T16:39:11.895Z"
   },
   {
    "duration": 3,
    "start_time": "2022-09-04T16:40:05.559Z"
   },
   {
    "duration": 87,
    "start_time": "2022-09-04T16:40:06.951Z"
   },
   {
    "duration": 12,
    "start_time": "2022-09-04T16:40:27.648Z"
   },
   {
    "duration": 4,
    "start_time": "2022-09-04T16:44:08.215Z"
   },
   {
    "duration": 1404,
    "start_time": "2022-09-04T16:44:09.849Z"
   },
   {
    "duration": 879,
    "start_time": "2022-09-04T16:44:39.495Z"
   },
   {
    "duration": 17,
    "start_time": "2022-09-04T16:45:06.791Z"
   },
   {
    "duration": 18,
    "start_time": "2022-09-04T16:45:41.203Z"
   },
   {
    "duration": 4,
    "start_time": "2022-09-04T16:46:42.020Z"
   },
   {
    "duration": 3,
    "start_time": "2022-09-04T16:46:43.943Z"
   },
   {
    "duration": 11,
    "start_time": "2022-09-04T16:46:56.607Z"
   },
   {
    "duration": 12,
    "start_time": "2022-09-04T16:49:10.899Z"
   },
   {
    "duration": 87,
    "start_time": "2022-09-04T16:49:40.891Z"
   },
   {
    "duration": 23,
    "start_time": "2022-09-04T16:49:42.651Z"
   },
   {
    "duration": 14,
    "start_time": "2022-09-04T16:49:53.602Z"
   },
   {
    "duration": 63,
    "start_time": "2022-09-04T16:49:59.546Z"
   },
   {
    "duration": 1691,
    "start_time": "2022-09-04T16:50:06.906Z"
   },
   {
    "duration": 8,
    "start_time": "2022-09-04T16:50:46.585Z"
   },
   {
    "duration": 8,
    "start_time": "2022-09-04T16:50:52.307Z"
   },
   {
    "duration": 6,
    "start_time": "2022-09-04T16:50:55.732Z"
   },
   {
    "duration": 12,
    "start_time": "2022-09-04T16:51:01.439Z"
   },
   {
    "duration": 10,
    "start_time": "2022-09-04T16:51:17.056Z"
   },
   {
    "duration": 12,
    "start_time": "2022-09-04T16:51:25.660Z"
   },
   {
    "duration": 12,
    "start_time": "2022-09-04T16:51:42.818Z"
   },
   {
    "duration": 10,
    "start_time": "2022-09-04T16:51:45.757Z"
   },
   {
    "duration": 14,
    "start_time": "2022-09-04T16:51:47.505Z"
   },
   {
    "duration": 12,
    "start_time": "2022-09-04T16:52:00.620Z"
   },
   {
    "duration": 5,
    "start_time": "2022-09-04T16:52:09.364Z"
   },
   {
    "duration": 8,
    "start_time": "2022-09-04T16:52:11.562Z"
   },
   {
    "duration": 8,
    "start_time": "2022-09-04T16:52:15.801Z"
   },
   {
    "duration": 6,
    "start_time": "2022-09-04T16:52:23.911Z"
   },
   {
    "duration": 6,
    "start_time": "2022-09-04T16:52:25.456Z"
   },
   {
    "duration": 9,
    "start_time": "2022-09-04T16:52:42.195Z"
   },
   {
    "duration": 16,
    "start_time": "2022-09-04T16:52:55.237Z"
   },
   {
    "duration": 183,
    "start_time": "2022-09-04T16:52:58.334Z"
   },
   {
    "duration": 4,
    "start_time": "2022-09-04T16:53:01.900Z"
   },
   {
    "duration": 15,
    "start_time": "2022-09-04T16:53:03.499Z"
   },
   {
    "duration": 7,
    "start_time": "2022-09-04T16:53:26.392Z"
   },
   {
    "duration": 19,
    "start_time": "2022-09-04T16:53:30.178Z"
   },
   {
    "duration": 3,
    "start_time": "2022-09-04T16:53:42.341Z"
   },
   {
    "duration": 1125,
    "start_time": "2022-09-04T16:53:45.891Z"
   },
   {
    "duration": 3,
    "start_time": "2022-09-04T16:54:32.584Z"
   },
   {
    "duration": 32,
    "start_time": "2022-09-04T16:54:34.196Z"
   },
   {
    "duration": 7,
    "start_time": "2022-09-04T16:57:05.685Z"
   },
   {
    "duration": 3,
    "start_time": "2022-09-04T16:57:22.176Z"
   },
   {
    "duration": 9,
    "start_time": "2022-09-04T16:57:43.242Z"
   },
   {
    "duration": 24,
    "start_time": "2022-09-04T16:57:55.214Z"
   },
   {
    "duration": 4,
    "start_time": "2022-09-04T16:58:29.082Z"
   },
   {
    "duration": 3,
    "start_time": "2022-09-04T16:58:32.938Z"
   },
   {
    "duration": 2,
    "start_time": "2022-09-04T16:58:33.582Z"
   },
   {
    "duration": 9,
    "start_time": "2022-09-04T16:58:36.658Z"
   },
   {
    "duration": 3,
    "start_time": "2022-09-04T16:58:47.908Z"
   },
   {
    "duration": 2,
    "start_time": "2022-09-04T16:59:01.795Z"
   },
   {
    "duration": 90,
    "start_time": "2022-09-04T16:59:01.799Z"
   },
   {
    "duration": 22,
    "start_time": "2022-09-04T16:59:01.891Z"
   },
   {
    "duration": 17,
    "start_time": "2022-09-04T16:59:01.914Z"
   },
   {
    "duration": 77,
    "start_time": "2022-09-04T16:59:01.933Z"
   },
   {
    "duration": 1758,
    "start_time": "2022-09-04T16:59:02.012Z"
   },
   {
    "duration": 10,
    "start_time": "2022-09-04T16:59:03.771Z"
   },
   {
    "duration": 18,
    "start_time": "2022-09-04T16:59:03.783Z"
   },
   {
    "duration": 5,
    "start_time": "2022-09-04T16:59:03.803Z"
   },
   {
    "duration": 11,
    "start_time": "2022-09-04T16:59:03.810Z"
   },
   {
    "duration": 18,
    "start_time": "2022-09-04T16:59:03.824Z"
   },
   {
    "duration": 10,
    "start_time": "2022-09-04T16:59:03.843Z"
   },
   {
    "duration": 28,
    "start_time": "2022-09-04T16:59:03.854Z"
   },
   {
    "duration": 4,
    "start_time": "2022-09-04T16:59:03.898Z"
   },
   {
    "duration": 28,
    "start_time": "2022-09-04T16:59:03.904Z"
   },
   {
    "duration": 34,
    "start_time": "2022-09-04T16:59:03.934Z"
   },
   {
    "duration": 11,
    "start_time": "2022-09-04T16:59:03.970Z"
   },
   {
    "duration": 19,
    "start_time": "2022-09-04T16:59:03.983Z"
   },
   {
    "duration": 18,
    "start_time": "2022-09-04T16:59:04.003Z"
   },
   {
    "duration": 0,
    "start_time": "2022-09-04T16:59:04.023Z"
   },
   {
    "duration": 0,
    "start_time": "2022-09-04T16:59:04.024Z"
   },
   {
    "duration": 0,
    "start_time": "2022-09-04T16:59:04.026Z"
   },
   {
    "duration": 0,
    "start_time": "2022-09-04T16:59:04.027Z"
   },
   {
    "duration": 0,
    "start_time": "2022-09-04T16:59:04.029Z"
   },
   {
    "duration": 0,
    "start_time": "2022-09-04T16:59:04.030Z"
   },
   {
    "duration": 0,
    "start_time": "2022-09-04T16:59:04.031Z"
   },
   {
    "duration": 0,
    "start_time": "2022-09-04T16:59:04.032Z"
   },
   {
    "duration": 1,
    "start_time": "2022-09-04T16:59:04.033Z"
   },
   {
    "duration": 0,
    "start_time": "2022-09-04T16:59:04.035Z"
   },
   {
    "duration": 0,
    "start_time": "2022-09-04T16:59:04.036Z"
   },
   {
    "duration": 18,
    "start_time": "2022-09-04T16:59:08.738Z"
   },
   {
    "duration": 7,
    "start_time": "2022-09-04T16:59:52.918Z"
   },
   {
    "duration": 13,
    "start_time": "2022-09-04T16:59:59.505Z"
   },
   {
    "duration": 3,
    "start_time": "2022-09-04T17:00:33.831Z"
   },
   {
    "duration": 42,
    "start_time": "2022-09-04T17:00:35.061Z"
   },
   {
    "duration": 12,
    "start_time": "2022-09-04T17:00:37.903Z"
   },
   {
    "duration": 12,
    "start_time": "2022-09-04T17:01:05.999Z"
   },
   {
    "duration": 3,
    "start_time": "2022-09-04T17:01:13.565Z"
   },
   {
    "duration": 84,
    "start_time": "2022-09-04T17:01:13.582Z"
   },
   {
    "duration": 32,
    "start_time": "2022-09-04T17:01:13.668Z"
   },
   {
    "duration": 13,
    "start_time": "2022-09-04T17:01:13.701Z"
   },
   {
    "duration": 68,
    "start_time": "2022-09-04T17:01:13.715Z"
   },
   {
    "duration": 1761,
    "start_time": "2022-09-04T17:01:13.799Z"
   },
   {
    "duration": 11,
    "start_time": "2022-09-04T17:01:15.562Z"
   },
   {
    "duration": 25,
    "start_time": "2022-09-04T17:01:15.574Z"
   },
   {
    "duration": 6,
    "start_time": "2022-09-04T17:01:15.601Z"
   },
   {
    "duration": 13,
    "start_time": "2022-09-04T17:01:15.608Z"
   },
   {
    "duration": 10,
    "start_time": "2022-09-04T17:01:15.622Z"
   },
   {
    "duration": 10,
    "start_time": "2022-09-04T17:01:15.633Z"
   },
   {
    "duration": 12,
    "start_time": "2022-09-04T17:01:15.644Z"
   },
   {
    "duration": 5,
    "start_time": "2022-09-04T17:01:15.658Z"
   },
   {
    "duration": 40,
    "start_time": "2022-09-04T17:01:15.665Z"
   },
   {
    "duration": 12,
    "start_time": "2022-09-04T17:01:15.707Z"
   },
   {
    "duration": 8,
    "start_time": "2022-09-04T17:01:15.720Z"
   },
   {
    "duration": 6,
    "start_time": "2022-09-04T17:01:15.730Z"
   },
   {
    "duration": 14,
    "start_time": "2022-09-04T17:01:15.738Z"
   },
   {
    "duration": 0,
    "start_time": "2022-09-04T17:01:15.754Z"
   },
   {
    "duration": 0,
    "start_time": "2022-09-04T17:01:15.755Z"
   },
   {
    "duration": 0,
    "start_time": "2022-09-04T17:01:15.757Z"
   },
   {
    "duration": 0,
    "start_time": "2022-09-04T17:01:15.758Z"
   },
   {
    "duration": 1,
    "start_time": "2022-09-04T17:01:15.759Z"
   },
   {
    "duration": 0,
    "start_time": "2022-09-04T17:01:15.761Z"
   },
   {
    "duration": 0,
    "start_time": "2022-09-04T17:01:15.762Z"
   },
   {
    "duration": 0,
    "start_time": "2022-09-04T17:01:15.799Z"
   },
   {
    "duration": 0,
    "start_time": "2022-09-04T17:01:15.800Z"
   },
   {
    "duration": 2,
    "start_time": "2022-09-04T17:01:23.259Z"
   },
   {
    "duration": 85,
    "start_time": "2022-09-04T17:01:23.961Z"
   },
   {
    "duration": 22,
    "start_time": "2022-09-04T17:01:24.959Z"
   },
   {
    "duration": 15,
    "start_time": "2022-09-04T17:01:25.700Z"
   },
   {
    "duration": 66,
    "start_time": "2022-09-04T17:01:26.462Z"
   },
   {
    "duration": 1813,
    "start_time": "2022-09-04T17:01:27.337Z"
   },
   {
    "duration": 8,
    "start_time": "2022-09-04T17:01:33.261Z"
   },
   {
    "duration": 10,
    "start_time": "2022-09-04T17:01:34.943Z"
   },
   {
    "duration": 5,
    "start_time": "2022-09-04T17:01:36.410Z"
   },
   {
    "duration": 12,
    "start_time": "2022-09-04T17:01:37.426Z"
   },
   {
    "duration": 12,
    "start_time": "2022-09-04T17:01:38.421Z"
   },
   {
    "duration": 13,
    "start_time": "2022-09-04T17:01:39.841Z"
   },
   {
    "duration": 13,
    "start_time": "2022-09-04T17:01:40.728Z"
   },
   {
    "duration": 5,
    "start_time": "2022-09-04T17:01:41.592Z"
   },
   {
    "duration": 7,
    "start_time": "2022-09-04T17:01:43.296Z"
   },
   {
    "duration": 9,
    "start_time": "2022-09-04T17:01:44.589Z"
   },
   {
    "duration": 6,
    "start_time": "2022-09-04T17:01:46.538Z"
   },
   {
    "duration": 7,
    "start_time": "2022-09-04T17:01:48.376Z"
   },
   {
    "duration": 12,
    "start_time": "2022-09-04T17:01:50.505Z"
   },
   {
    "duration": 12,
    "start_time": "2022-09-04T17:01:51.629Z"
   },
   {
    "duration": 23,
    "start_time": "2022-09-04T17:01:55.984Z"
   },
   {
    "duration": 195,
    "start_time": "2022-09-04T17:01:59.510Z"
   },
   {
    "duration": 4,
    "start_time": "2022-09-04T17:02:02.394Z"
   },
   {
    "duration": 14,
    "start_time": "2022-09-04T17:02:04.359Z"
   },
   {
    "duration": 8,
    "start_time": "2022-09-04T17:02:07.356Z"
   },
   {
    "duration": 20,
    "start_time": "2022-09-04T17:02:21.698Z"
   },
   {
    "duration": 12,
    "start_time": "2022-09-04T17:02:27.524Z"
   },
   {
    "duration": 9,
    "start_time": "2022-09-04T19:17:30.358Z"
   },
   {
    "duration": 9,
    "start_time": "2022-09-04T19:18:47.074Z"
   },
   {
    "duration": 11,
    "start_time": "2022-09-04T19:20:04.927Z"
   },
   {
    "duration": 8,
    "start_time": "2022-09-04T19:21:04.972Z"
   },
   {
    "duration": 9,
    "start_time": "2022-09-04T19:21:46.928Z"
   },
   {
    "duration": 9,
    "start_time": "2022-09-04T19:23:15.377Z"
   },
   {
    "duration": 8,
    "start_time": "2022-09-04T19:23:40.285Z"
   },
   {
    "duration": 30,
    "start_time": "2022-09-04T19:25:28.585Z"
   },
   {
    "duration": 3,
    "start_time": "2022-09-04T19:26:18.869Z"
   },
   {
    "duration": 9,
    "start_time": "2022-09-04T19:27:24.219Z"
   },
   {
    "duration": 3,
    "start_time": "2022-09-04T19:33:03.410Z"
   },
   {
    "duration": 1422,
    "start_time": "2022-09-04T19:34:44.997Z"
   },
   {
    "duration": 11,
    "start_time": "2022-09-04T19:36:04.912Z"
   },
   {
    "duration": 4,
    "start_time": "2022-09-04T19:39:45.874Z"
   },
   {
    "duration": 4,
    "start_time": "2022-09-04T19:41:27.971Z"
   },
   {
    "duration": 4,
    "start_time": "2022-09-04T19:42:13.118Z"
   },
   {
    "duration": 22,
    "start_time": "2022-09-04T19:42:32.328Z"
   },
   {
    "duration": 4,
    "start_time": "2022-09-04T19:43:14.184Z"
   },
   {
    "duration": 4,
    "start_time": "2022-09-04T19:43:15.311Z"
   },
   {
    "duration": 23,
    "start_time": "2022-09-04T19:43:16.697Z"
   },
   {
    "duration": 4,
    "start_time": "2022-09-04T19:43:31.687Z"
   },
   {
    "duration": 4,
    "start_time": "2022-09-04T19:43:33.378Z"
   },
   {
    "duration": 4,
    "start_time": "2022-09-04T19:43:47.002Z"
   },
   {
    "duration": 7,
    "start_time": "2022-09-04T19:43:48.013Z"
   },
   {
    "duration": 18,
    "start_time": "2022-09-04T19:43:53.557Z"
   },
   {
    "duration": 3,
    "start_time": "2022-09-04T19:44:16.490Z"
   },
   {
    "duration": 101,
    "start_time": "2022-09-04T19:44:16.496Z"
   },
   {
    "duration": 29,
    "start_time": "2022-09-04T19:44:16.599Z"
   },
   {
    "duration": 13,
    "start_time": "2022-09-04T19:44:16.630Z"
   },
   {
    "duration": 82,
    "start_time": "2022-09-04T19:44:16.644Z"
   },
   {
    "duration": 1845,
    "start_time": "2022-09-04T19:44:16.727Z"
   },
   {
    "duration": 8,
    "start_time": "2022-09-04T19:44:18.574Z"
   },
   {
    "duration": 27,
    "start_time": "2022-09-04T19:44:18.583Z"
   },
   {
    "duration": 5,
    "start_time": "2022-09-04T19:44:18.611Z"
   },
   {
    "duration": 21,
    "start_time": "2022-09-04T19:44:18.618Z"
   },
   {
    "duration": 13,
    "start_time": "2022-09-04T19:44:18.641Z"
   },
   {
    "duration": 9,
    "start_time": "2022-09-04T19:44:18.655Z"
   },
   {
    "duration": 10,
    "start_time": "2022-09-04T19:44:18.666Z"
   },
   {
    "duration": 5,
    "start_time": "2022-09-04T19:44:18.678Z"
   },
   {
    "duration": 19,
    "start_time": "2022-09-04T19:44:18.697Z"
   },
   {
    "duration": 8,
    "start_time": "2022-09-04T19:44:18.717Z"
   },
   {
    "duration": 7,
    "start_time": "2022-09-04T19:44:18.727Z"
   },
   {
    "duration": 6,
    "start_time": "2022-09-04T19:44:18.735Z"
   },
   {
    "duration": 9,
    "start_time": "2022-09-04T19:44:18.742Z"
   },
   {
    "duration": 15,
    "start_time": "2022-09-04T19:44:18.753Z"
   },
   {
    "duration": 217,
    "start_time": "2022-09-04T19:44:18.769Z"
   },
   {
    "duration": 3,
    "start_time": "2022-09-04T19:44:18.988Z"
   },
   {
    "duration": 26,
    "start_time": "2022-09-04T19:44:18.993Z"
   },
   {
    "duration": 7,
    "start_time": "2022-09-04T19:44:19.020Z"
   },
   {
    "duration": 18,
    "start_time": "2022-09-04T19:44:19.028Z"
   },
   {
    "duration": 6,
    "start_time": "2022-09-04T19:44:19.048Z"
   },
   {
    "duration": 8,
    "start_time": "2022-09-04T19:44:19.055Z"
   },
   {
    "duration": 7,
    "start_time": "2022-09-04T19:44:19.064Z"
   },
   {
    "duration": 40,
    "start_time": "2022-09-04T19:44:19.074Z"
   },
   {
    "duration": 9,
    "start_time": "2022-09-04T19:44:19.116Z"
   },
   {
    "duration": 7,
    "start_time": "2022-09-04T19:44:19.126Z"
   },
   {
    "duration": 3,
    "start_time": "2022-09-04T19:44:19.134Z"
   },
   {
    "duration": 8,
    "start_time": "2022-09-04T19:44:19.138Z"
   },
   {
    "duration": 4,
    "start_time": "2022-09-04T19:44:19.147Z"
   },
   {
    "duration": 4,
    "start_time": "2022-09-04T19:44:19.153Z"
   },
   {
    "duration": 20,
    "start_time": "2022-09-04T19:44:19.158Z"
   },
   {
    "duration": 7,
    "start_time": "2022-09-04T19:44:46.709Z"
   },
   {
    "duration": 83,
    "start_time": "2022-09-04T19:44:46.722Z"
   },
   {
    "duration": 25,
    "start_time": "2022-09-04T19:44:46.807Z"
   },
   {
    "duration": 20,
    "start_time": "2022-09-04T19:44:46.834Z"
   },
   {
    "duration": 81,
    "start_time": "2022-09-04T19:44:46.856Z"
   },
   {
    "duration": 1675,
    "start_time": "2022-09-04T19:44:46.938Z"
   },
   {
    "duration": 9,
    "start_time": "2022-09-04T19:44:48.615Z"
   },
   {
    "duration": 8,
    "start_time": "2022-09-04T19:44:48.626Z"
   },
   {
    "duration": 4,
    "start_time": "2022-09-04T19:44:48.635Z"
   },
   {
    "duration": 11,
    "start_time": "2022-09-04T19:44:48.641Z"
   },
   {
    "duration": 9,
    "start_time": "2022-09-04T19:44:48.654Z"
   },
   {
    "duration": 36,
    "start_time": "2022-09-04T19:44:48.664Z"
   },
   {
    "duration": 19,
    "start_time": "2022-09-04T19:44:48.701Z"
   },
   {
    "duration": 7,
    "start_time": "2022-09-04T19:44:48.721Z"
   },
   {
    "duration": 7,
    "start_time": "2022-09-04T19:44:48.730Z"
   },
   {
    "duration": 9,
    "start_time": "2022-09-04T19:44:48.739Z"
   },
   {
    "duration": 6,
    "start_time": "2022-09-04T19:44:48.749Z"
   },
   {
    "duration": 5,
    "start_time": "2022-09-04T19:44:48.757Z"
   },
   {
    "duration": 51,
    "start_time": "2022-09-04T19:44:48.764Z"
   },
   {
    "duration": 17,
    "start_time": "2022-09-04T19:44:48.817Z"
   },
   {
    "duration": 207,
    "start_time": "2022-09-04T19:44:48.836Z"
   },
   {
    "duration": 4,
    "start_time": "2022-09-04T19:44:49.044Z"
   },
   {
    "duration": 17,
    "start_time": "2022-09-04T19:44:49.049Z"
   },
   {
    "duration": 6,
    "start_time": "2022-09-04T19:44:49.068Z"
   },
   {
    "duration": 35,
    "start_time": "2022-09-04T19:44:49.076Z"
   },
   {
    "duration": 8,
    "start_time": "2022-09-04T19:44:49.112Z"
   },
   {
    "duration": 10,
    "start_time": "2022-09-04T19:44:49.121Z"
   },
   {
    "duration": 8,
    "start_time": "2022-09-04T19:44:49.132Z"
   },
   {
    "duration": 8,
    "start_time": "2022-09-04T19:44:49.144Z"
   },
   {
    "duration": 8,
    "start_time": "2022-09-04T19:44:49.153Z"
   },
   {
    "duration": 9,
    "start_time": "2022-09-04T19:44:49.199Z"
   },
   {
    "duration": 7,
    "start_time": "2022-09-04T19:44:49.213Z"
   },
   {
    "duration": 6,
    "start_time": "2022-09-04T19:44:49.222Z"
   },
   {
    "duration": 22,
    "start_time": "2022-09-04T19:44:49.230Z"
   },
   {
    "duration": 6,
    "start_time": "2022-09-04T19:44:49.253Z"
   },
   {
    "duration": 24,
    "start_time": "2022-09-04T19:44:49.260Z"
   },
   {
    "duration": 44,
    "start_time": "2022-09-06T15:42:24.331Z"
   },
   {
    "duration": 819,
    "start_time": "2022-09-06T15:42:43.849Z"
   },
   {
    "duration": 149,
    "start_time": "2022-09-06T15:42:44.670Z"
   },
   {
    "duration": 31,
    "start_time": "2022-09-06T15:42:44.821Z"
   },
   {
    "duration": 16,
    "start_time": "2022-09-06T15:42:44.854Z"
   },
   {
    "duration": 75,
    "start_time": "2022-09-06T15:42:44.872Z"
   },
   {
    "duration": 2164,
    "start_time": "2022-09-06T15:42:44.949Z"
   },
   {
    "duration": 14,
    "start_time": "2022-09-06T15:42:47.115Z"
   },
   {
    "duration": 12,
    "start_time": "2022-09-06T15:42:47.131Z"
   },
   {
    "duration": 6,
    "start_time": "2022-09-06T15:42:47.145Z"
   },
   {
    "duration": 18,
    "start_time": "2022-09-06T15:42:47.153Z"
   },
   {
    "duration": 11,
    "start_time": "2022-09-06T15:42:47.172Z"
   },
   {
    "duration": 11,
    "start_time": "2022-09-06T15:42:47.184Z"
   },
   {
    "duration": 12,
    "start_time": "2022-09-06T15:42:47.196Z"
   },
   {
    "duration": 5,
    "start_time": "2022-09-06T15:42:47.211Z"
   },
   {
    "duration": 12,
    "start_time": "2022-09-06T15:42:47.217Z"
   },
   {
    "duration": 40,
    "start_time": "2022-09-06T15:42:47.231Z"
   },
   {
    "duration": 7,
    "start_time": "2022-09-06T15:42:47.273Z"
   },
   {
    "duration": 7,
    "start_time": "2022-09-06T15:42:47.282Z"
   },
   {
    "duration": 14,
    "start_time": "2022-09-06T15:42:47.290Z"
   },
   {
    "duration": 16,
    "start_time": "2022-09-06T15:42:47.306Z"
   },
   {
    "duration": 220,
    "start_time": "2022-09-06T15:42:47.324Z"
   },
   {
    "duration": 5,
    "start_time": "2022-09-06T15:42:47.546Z"
   },
   {
    "duration": 27,
    "start_time": "2022-09-06T15:42:47.553Z"
   },
   {
    "duration": 8,
    "start_time": "2022-09-06T15:42:47.582Z"
   },
   {
    "duration": 27,
    "start_time": "2022-09-06T15:42:47.592Z"
   },
   {
    "duration": 9,
    "start_time": "2022-09-06T15:42:47.622Z"
   },
   {
    "duration": 39,
    "start_time": "2022-09-06T15:42:47.633Z"
   },
   {
    "duration": 10,
    "start_time": "2022-09-06T15:42:47.674Z"
   },
   {
    "duration": 12,
    "start_time": "2022-09-06T15:42:47.686Z"
   },
   {
    "duration": 13,
    "start_time": "2022-09-06T15:42:47.700Z"
   },
   {
    "duration": 10,
    "start_time": "2022-09-06T15:42:47.715Z"
   },
   {
    "duration": 79,
    "start_time": "2022-09-06T15:42:47.727Z"
   },
   {
    "duration": 0,
    "start_time": "2022-09-06T15:42:47.808Z"
   },
   {
    "duration": 0,
    "start_time": "2022-09-06T15:42:47.809Z"
   },
   {
    "duration": 0,
    "start_time": "2022-09-06T15:42:47.810Z"
   },
   {
    "duration": 0,
    "start_time": "2022-09-06T15:42:47.811Z"
   },
   {
    "duration": 7,
    "start_time": "2022-09-06T16:04:41.053Z"
   },
   {
    "duration": 10,
    "start_time": "2022-09-06T16:05:38.772Z"
   },
   {
    "duration": 9,
    "start_time": "2022-09-06T16:06:15.613Z"
   },
   {
    "duration": 10,
    "start_time": "2022-09-06T16:06:45.971Z"
   },
   {
    "duration": 10,
    "start_time": "2022-09-06T16:06:47.298Z"
   },
   {
    "duration": 3,
    "start_time": "2022-09-06T16:06:52.124Z"
   },
   {
    "duration": 97,
    "start_time": "2022-09-06T16:06:52.129Z"
   },
   {
    "duration": 27,
    "start_time": "2022-09-06T16:06:52.228Z"
   },
   {
    "duration": 15,
    "start_time": "2022-09-06T16:06:52.267Z"
   },
   {
    "duration": 92,
    "start_time": "2022-09-06T16:06:52.284Z"
   },
   {
    "duration": 2072,
    "start_time": "2022-09-06T16:06:52.378Z"
   },
   {
    "duration": 19,
    "start_time": "2022-09-06T16:06:54.452Z"
   },
   {
    "duration": 20,
    "start_time": "2022-09-06T16:06:54.473Z"
   },
   {
    "duration": 9,
    "start_time": "2022-09-06T16:06:54.495Z"
   },
   {
    "duration": 21,
    "start_time": "2022-09-06T16:06:54.506Z"
   },
   {
    "duration": 13,
    "start_time": "2022-09-06T16:06:54.529Z"
   },
   {
    "duration": 11,
    "start_time": "2022-09-06T16:06:54.568Z"
   },
   {
    "duration": 12,
    "start_time": "2022-09-06T16:06:54.580Z"
   },
   {
    "duration": 6,
    "start_time": "2022-09-06T16:06:54.595Z"
   },
   {
    "duration": 14,
    "start_time": "2022-09-06T16:06:54.602Z"
   },
   {
    "duration": 14,
    "start_time": "2022-09-06T16:06:54.617Z"
   },
   {
    "duration": 6,
    "start_time": "2022-09-06T16:06:54.632Z"
   },
   {
    "duration": 33,
    "start_time": "2022-09-06T16:06:54.640Z"
   },
   {
    "duration": 9,
    "start_time": "2022-09-06T16:06:54.674Z"
   },
   {
    "duration": 10,
    "start_time": "2022-09-06T16:06:54.685Z"
   },
   {
    "duration": 16,
    "start_time": "2022-09-06T16:06:54.697Z"
   },
   {
    "duration": 220,
    "start_time": "2022-09-06T16:06:54.715Z"
   },
   {
    "duration": 5,
    "start_time": "2022-09-06T16:06:54.937Z"
   },
   {
    "duration": 27,
    "start_time": "2022-09-06T16:06:54.945Z"
   },
   {
    "duration": 9,
    "start_time": "2022-09-06T16:06:54.975Z"
   },
   {
    "duration": 24,
    "start_time": "2022-09-06T16:06:54.986Z"
   },
   {
    "duration": 9,
    "start_time": "2022-09-06T16:06:55.012Z"
   },
   {
    "duration": 12,
    "start_time": "2022-09-06T16:06:55.022Z"
   },
   {
    "duration": 42,
    "start_time": "2022-09-06T16:06:55.036Z"
   },
   {
    "duration": 11,
    "start_time": "2022-09-06T16:06:55.080Z"
   },
   {
    "duration": 9,
    "start_time": "2022-09-06T16:06:55.093Z"
   },
   {
    "duration": 9,
    "start_time": "2022-09-06T16:06:55.104Z"
   },
   {
    "duration": 13,
    "start_time": "2022-09-06T16:06:55.115Z"
   },
   {
    "duration": 0,
    "start_time": "2022-09-06T16:06:55.129Z"
   },
   {
    "duration": 0,
    "start_time": "2022-09-06T16:06:55.168Z"
   },
   {
    "duration": 0,
    "start_time": "2022-09-06T16:06:55.169Z"
   },
   {
    "duration": 0,
    "start_time": "2022-09-06T16:06:55.170Z"
   },
   {
    "duration": 12,
    "start_time": "2022-09-06T16:08:10.476Z"
   },
   {
    "duration": 26,
    "start_time": "2022-09-06T16:12:00.682Z"
   },
   {
    "duration": 12,
    "start_time": "2022-09-06T16:12:32.419Z"
   },
   {
    "duration": 557,
    "start_time": "2022-09-06T16:24:03.952Z"
   },
   {
    "duration": 332,
    "start_time": "2022-09-06T16:24:19.941Z"
   },
   {
    "duration": 79,
    "start_time": "2022-09-06T16:30:46.452Z"
   },
   {
    "duration": 1709,
    "start_time": "2022-09-06T16:32:57.925Z"
   },
   {
    "duration": 88,
    "start_time": "2022-09-06T17:08:20.840Z"
   },
   {
    "duration": 79,
    "start_time": "2022-09-06T17:11:09.477Z"
   },
   {
    "duration": 74,
    "start_time": "2022-09-06T17:15:38.657Z"
   },
   {
    "duration": 85,
    "start_time": "2022-09-06T17:26:59.688Z"
   },
   {
    "duration": 70,
    "start_time": "2022-09-06T17:27:28.302Z"
   },
   {
    "duration": 85,
    "start_time": "2022-09-06T17:34:00.818Z"
   },
   {
    "duration": 12,
    "start_time": "2022-09-06T17:34:51.729Z"
   },
   {
    "duration": 13,
    "start_time": "2022-09-06T17:36:48.285Z"
   },
   {
    "duration": 21,
    "start_time": "2022-09-06T17:36:53.946Z"
   },
   {
    "duration": 8,
    "start_time": "2022-09-06T17:36:56.141Z"
   },
   {
    "duration": 34,
    "start_time": "2022-09-06T17:37:18.097Z"
   },
   {
    "duration": 13,
    "start_time": "2022-09-06T17:37:32.381Z"
   },
   {
    "duration": 9,
    "start_time": "2022-09-06T17:44:12.730Z"
   },
   {
    "duration": 2,
    "start_time": "2022-09-06T17:44:27.935Z"
   },
   {
    "duration": 95,
    "start_time": "2022-09-06T17:44:27.939Z"
   },
   {
    "duration": 26,
    "start_time": "2022-09-06T17:44:28.036Z"
   },
   {
    "duration": 14,
    "start_time": "2022-09-06T17:44:28.067Z"
   },
   {
    "duration": 85,
    "start_time": "2022-09-06T17:44:28.084Z"
   },
   {
    "duration": 2045,
    "start_time": "2022-09-06T17:44:28.171Z"
   },
   {
    "duration": 9,
    "start_time": "2022-09-06T17:44:30.218Z"
   },
   {
    "duration": 13,
    "start_time": "2022-09-06T17:44:30.229Z"
   },
   {
    "duration": 25,
    "start_time": "2022-09-06T17:44:30.244Z"
   },
   {
    "duration": 13,
    "start_time": "2022-09-06T17:44:30.271Z"
   },
   {
    "duration": 18,
    "start_time": "2022-09-06T17:44:30.285Z"
   },
   {
    "duration": 11,
    "start_time": "2022-09-06T17:44:30.305Z"
   },
   {
    "duration": 15,
    "start_time": "2022-09-06T17:44:30.317Z"
   },
   {
    "duration": 6,
    "start_time": "2022-09-06T17:44:30.335Z"
   },
   {
    "duration": 33,
    "start_time": "2022-09-06T17:44:30.342Z"
   },
   {
    "duration": 11,
    "start_time": "2022-09-06T17:44:30.377Z"
   },
   {
    "duration": 7,
    "start_time": "2022-09-06T17:44:30.390Z"
   },
   {
    "duration": 6,
    "start_time": "2022-09-06T17:44:30.399Z"
   },
   {
    "duration": 8,
    "start_time": "2022-09-06T17:44:30.406Z"
   },
   {
    "duration": 9,
    "start_time": "2022-09-06T17:44:30.416Z"
   },
   {
    "duration": 57,
    "start_time": "2022-09-06T17:44:30.426Z"
   },
   {
    "duration": 192,
    "start_time": "2022-09-06T17:44:30.485Z"
   },
   {
    "duration": 4,
    "start_time": "2022-09-06T17:44:30.679Z"
   },
   {
    "duration": 21,
    "start_time": "2022-09-06T17:44:30.685Z"
   },
   {
    "duration": 20,
    "start_time": "2022-09-06T17:44:30.708Z"
   },
   {
    "duration": 33,
    "start_time": "2022-09-06T17:44:30.730Z"
   },
   {
    "duration": 8,
    "start_time": "2022-09-06T17:44:30.765Z"
   },
   {
    "duration": 30,
    "start_time": "2022-09-06T17:44:30.775Z"
   },
   {
    "duration": 24,
    "start_time": "2022-09-06T17:44:30.806Z"
   },
   {
    "duration": 14,
    "start_time": "2022-09-06T17:44:30.832Z"
   },
   {
    "duration": 9,
    "start_time": "2022-09-06T17:44:30.848Z"
   },
   {
    "duration": 16,
    "start_time": "2022-09-06T17:44:30.859Z"
   },
   {
    "duration": 76,
    "start_time": "2022-09-06T17:44:30.876Z"
   },
   {
    "duration": 0,
    "start_time": "2022-09-06T17:44:30.954Z"
   },
   {
    "duration": 0,
    "start_time": "2022-09-06T17:44:30.955Z"
   },
   {
    "duration": 0,
    "start_time": "2022-09-06T17:44:30.957Z"
   },
   {
    "duration": 0,
    "start_time": "2022-09-06T17:44:30.958Z"
   },
   {
    "duration": 0,
    "start_time": "2022-09-06T17:44:30.960Z"
   },
   {
    "duration": 27,
    "start_time": "2022-09-06T17:44:47.180Z"
   },
   {
    "duration": 6,
    "start_time": "2022-09-06T17:45:28.518Z"
   },
   {
    "duration": 5,
    "start_time": "2022-09-06T17:45:56.234Z"
   },
   {
    "duration": 123,
    "start_time": "2022-09-06T17:47:28.444Z"
   },
   {
    "duration": 184,
    "start_time": "2022-09-06T17:50:17.731Z"
   },
   {
    "duration": 254,
    "start_time": "2022-09-06T17:51:15.195Z"
   },
   {
    "duration": 138,
    "start_time": "2022-09-06T17:52:14.401Z"
   },
   {
    "duration": 773,
    "start_time": "2022-09-07T10:58:09.400Z"
   },
   {
    "duration": 317,
    "start_time": "2022-09-07T10:58:10.175Z"
   },
   {
    "duration": 30,
    "start_time": "2022-09-07T10:58:10.493Z"
   },
   {
    "duration": 15,
    "start_time": "2022-09-07T10:58:10.524Z"
   },
   {
    "duration": 85,
    "start_time": "2022-09-07T10:58:10.541Z"
   },
   {
    "duration": 1850,
    "start_time": "2022-09-07T10:58:10.628Z"
   },
   {
    "duration": 8,
    "start_time": "2022-09-07T10:58:12.480Z"
   },
   {
    "duration": 8,
    "start_time": "2022-09-07T10:58:12.490Z"
   },
   {
    "duration": 5,
    "start_time": "2022-09-07T10:58:12.499Z"
   },
   {
    "duration": 10,
    "start_time": "2022-09-07T10:58:12.506Z"
   },
   {
    "duration": 13,
    "start_time": "2022-09-07T10:58:12.518Z"
   },
   {
    "duration": 12,
    "start_time": "2022-09-07T10:58:12.533Z"
   },
   {
    "duration": 43,
    "start_time": "2022-09-07T10:58:12.546Z"
   },
   {
    "duration": 5,
    "start_time": "2022-09-07T10:58:12.592Z"
   },
   {
    "duration": 9,
    "start_time": "2022-09-07T10:58:12.599Z"
   },
   {
    "duration": 14,
    "start_time": "2022-09-07T10:58:12.610Z"
   },
   {
    "duration": 5,
    "start_time": "2022-09-07T10:58:12.625Z"
   },
   {
    "duration": 6,
    "start_time": "2022-09-07T10:58:12.632Z"
   },
   {
    "duration": 8,
    "start_time": "2022-09-07T10:58:12.639Z"
   },
   {
    "duration": 43,
    "start_time": "2022-09-07T10:58:12.648Z"
   },
   {
    "duration": 16,
    "start_time": "2022-09-07T10:58:12.693Z"
   },
   {
    "duration": 197,
    "start_time": "2022-09-07T10:58:12.710Z"
   },
   {
    "duration": 4,
    "start_time": "2022-09-07T10:58:12.908Z"
   },
   {
    "duration": 19,
    "start_time": "2022-09-07T10:58:12.914Z"
   },
   {
    "duration": 9,
    "start_time": "2022-09-07T10:58:12.934Z"
   },
   {
    "duration": 23,
    "start_time": "2022-09-07T10:58:12.944Z"
   },
   {
    "duration": 23,
    "start_time": "2022-09-07T10:58:12.969Z"
   },
   {
    "duration": 9,
    "start_time": "2022-09-07T10:58:12.994Z"
   },
   {
    "duration": 9,
    "start_time": "2022-09-07T10:58:13.004Z"
   },
   {
    "duration": 12,
    "start_time": "2022-09-07T10:58:13.014Z"
   },
   {
    "duration": 9,
    "start_time": "2022-09-07T10:58:13.028Z"
   },
   {
    "duration": 8,
    "start_time": "2022-09-07T10:58:13.039Z"
   },
   {
    "duration": 59,
    "start_time": "2022-09-07T10:58:13.048Z"
   },
   {
    "duration": 0,
    "start_time": "2022-09-07T10:58:13.109Z"
   },
   {
    "duration": 0,
    "start_time": "2022-09-07T10:58:13.110Z"
   },
   {
    "duration": 0,
    "start_time": "2022-09-07T10:58:13.111Z"
   },
   {
    "duration": 1,
    "start_time": "2022-09-07T10:58:13.112Z"
   },
   {
    "duration": 0,
    "start_time": "2022-09-07T10:58:13.113Z"
   },
   {
    "duration": 0,
    "start_time": "2022-09-07T10:58:13.115Z"
   },
   {
    "duration": 0,
    "start_time": "2022-09-07T10:58:13.115Z"
   },
   {
    "duration": 0,
    "start_time": "2022-09-07T10:58:13.116Z"
   },
   {
    "duration": 0,
    "start_time": "2022-09-07T10:58:13.118Z"
   },
   {
    "duration": 2435,
    "start_time": "2022-09-07T11:00:23.247Z"
   },
   {
    "duration": 2307,
    "start_time": "2022-09-07T11:00:26.856Z"
   },
   {
    "duration": 2661,
    "start_time": "2022-09-07T11:03:04.294Z"
   },
   {
    "duration": 1235,
    "start_time": "2022-09-07T11:03:30.863Z"
   },
   {
    "duration": 266,
    "start_time": "2022-09-07T11:04:57.294Z"
   },
   {
    "duration": 325,
    "start_time": "2022-09-07T11:06:34.994Z"
   },
   {
    "duration": 275,
    "start_time": "2022-09-07T11:07:02.197Z"
   },
   {
    "duration": 254,
    "start_time": "2022-09-07T11:07:18.422Z"
   },
   {
    "duration": 2,
    "start_time": "2022-09-07T11:07:54.115Z"
   },
   {
    "duration": 88,
    "start_time": "2022-09-07T11:07:54.119Z"
   },
   {
    "duration": 23,
    "start_time": "2022-09-07T11:07:54.209Z"
   },
   {
    "duration": 18,
    "start_time": "2022-09-07T11:07:54.233Z"
   },
   {
    "duration": 83,
    "start_time": "2022-09-07T11:07:54.253Z"
   },
   {
    "duration": 1819,
    "start_time": "2022-09-07T11:07:54.338Z"
   },
   {
    "duration": 9,
    "start_time": "2022-09-07T11:07:56.159Z"
   },
   {
    "duration": 23,
    "start_time": "2022-09-07T11:07:56.170Z"
   },
   {
    "duration": 6,
    "start_time": "2022-09-07T11:07:56.195Z"
   },
   {
    "duration": 44,
    "start_time": "2022-09-07T11:07:56.205Z"
   },
   {
    "duration": 16,
    "start_time": "2022-09-07T11:07:56.253Z"
   },
   {
    "duration": 16,
    "start_time": "2022-09-07T11:07:56.271Z"
   },
   {
    "duration": 28,
    "start_time": "2022-09-07T11:07:56.288Z"
   },
   {
    "duration": 8,
    "start_time": "2022-09-07T11:07:56.318Z"
   },
   {
    "duration": 13,
    "start_time": "2022-09-07T11:07:56.328Z"
   },
   {
    "duration": 28,
    "start_time": "2022-09-07T11:07:56.343Z"
   },
   {
    "duration": 23,
    "start_time": "2022-09-07T11:07:56.373Z"
   },
   {
    "duration": 15,
    "start_time": "2022-09-07T11:07:56.399Z"
   },
   {
    "duration": 18,
    "start_time": "2022-09-07T11:07:56.416Z"
   },
   {
    "duration": 13,
    "start_time": "2022-09-07T11:07:56.436Z"
   },
   {
    "duration": 22,
    "start_time": "2022-09-07T11:07:56.451Z"
   },
   {
    "duration": 208,
    "start_time": "2022-09-07T11:07:56.487Z"
   },
   {
    "duration": 4,
    "start_time": "2022-09-07T11:07:56.697Z"
   },
   {
    "duration": 39,
    "start_time": "2022-09-07T11:07:56.703Z"
   },
   {
    "duration": 12,
    "start_time": "2022-09-07T11:07:56.744Z"
   },
   {
    "duration": 24,
    "start_time": "2022-09-07T11:07:56.757Z"
   },
   {
    "duration": 8,
    "start_time": "2022-09-07T11:07:56.782Z"
   },
   {
    "duration": 19,
    "start_time": "2022-09-07T11:07:56.792Z"
   },
   {
    "duration": 10,
    "start_time": "2022-09-07T11:07:56.815Z"
   },
   {
    "duration": 8,
    "start_time": "2022-09-07T11:07:56.827Z"
   },
   {
    "duration": 8,
    "start_time": "2022-09-07T11:07:56.836Z"
   },
   {
    "duration": 11,
    "start_time": "2022-09-07T11:07:56.845Z"
   },
   {
    "duration": 280,
    "start_time": "2022-09-07T11:07:56.857Z"
   },
   {
    "duration": 4,
    "start_time": "2022-09-07T11:07:57.138Z"
   },
   {
    "duration": 15,
    "start_time": "2022-09-07T11:07:57.143Z"
   },
   {
    "duration": 20,
    "start_time": "2022-09-07T11:07:57.160Z"
   },
   {
    "duration": 11,
    "start_time": "2022-09-07T11:07:57.181Z"
   },
   {
    "duration": 13,
    "start_time": "2022-09-07T11:07:57.194Z"
   },
   {
    "duration": 107,
    "start_time": "2022-09-07T11:07:57.209Z"
   },
   {
    "duration": 140,
    "start_time": "2022-09-07T11:07:57.318Z"
   },
   {
    "duration": 238,
    "start_time": "2022-09-07T11:07:57.460Z"
   },
   {
    "duration": 142,
    "start_time": "2022-09-07T11:07:57.699Z"
   },
   {
    "duration": 13,
    "start_time": "2022-09-07T11:14:13.907Z"
   },
   {
    "duration": 15,
    "start_time": "2022-09-07T11:15:01.092Z"
   },
   {
    "duration": 9,
    "start_time": "2022-09-07T11:16:53.405Z"
   },
   {
    "duration": 3,
    "start_time": "2022-09-07T11:16:57.731Z"
   },
   {
    "duration": 94,
    "start_time": "2022-09-07T11:16:57.736Z"
   },
   {
    "duration": 23,
    "start_time": "2022-09-07T11:16:57.832Z"
   },
   {
    "duration": 40,
    "start_time": "2022-09-07T11:16:57.856Z"
   },
   {
    "duration": 63,
    "start_time": "2022-09-07T11:16:57.898Z"
   },
   {
    "duration": 1728,
    "start_time": "2022-09-07T11:16:57.963Z"
   },
   {
    "duration": 9,
    "start_time": "2022-09-07T11:16:59.693Z"
   },
   {
    "duration": 9,
    "start_time": "2022-09-07T11:16:59.703Z"
   },
   {
    "duration": 13,
    "start_time": "2022-09-07T11:16:59.714Z"
   },
   {
    "duration": 12,
    "start_time": "2022-09-07T11:16:59.728Z"
   },
   {
    "duration": 10,
    "start_time": "2022-09-07T11:16:59.743Z"
   },
   {
    "duration": 38,
    "start_time": "2022-09-07T11:16:59.754Z"
   },
   {
    "duration": 12,
    "start_time": "2022-09-07T11:16:59.793Z"
   },
   {
    "duration": 9,
    "start_time": "2022-09-07T11:16:59.806Z"
   },
   {
    "duration": 30,
    "start_time": "2022-09-07T11:16:59.816Z"
   },
   {
    "duration": 11,
    "start_time": "2022-09-07T11:16:59.848Z"
   },
   {
    "duration": 6,
    "start_time": "2022-09-07T11:16:59.860Z"
   },
   {
    "duration": 5,
    "start_time": "2022-09-07T11:16:59.867Z"
   },
   {
    "duration": 114,
    "start_time": "2022-09-07T11:16:59.874Z"
   },
   {
    "duration": 11,
    "start_time": "2022-09-07T11:16:59.990Z"
   },
   {
    "duration": 28,
    "start_time": "2022-09-07T11:17:00.002Z"
   },
   {
    "duration": 196,
    "start_time": "2022-09-07T11:17:00.033Z"
   },
   {
    "duration": 4,
    "start_time": "2022-09-07T11:17:00.230Z"
   },
   {
    "duration": 23,
    "start_time": "2022-09-07T11:17:00.236Z"
   },
   {
    "duration": 9,
    "start_time": "2022-09-07T11:17:00.261Z"
   },
   {
    "duration": 23,
    "start_time": "2022-09-07T11:17:00.271Z"
   },
   {
    "duration": 27,
    "start_time": "2022-09-07T11:17:00.296Z"
   },
   {
    "duration": 7,
    "start_time": "2022-09-07T11:17:00.325Z"
   },
   {
    "duration": 8,
    "start_time": "2022-09-07T11:17:00.335Z"
   },
   {
    "duration": 12,
    "start_time": "2022-09-07T11:17:00.344Z"
   },
   {
    "duration": 14,
    "start_time": "2022-09-07T11:17:00.357Z"
   },
   {
    "duration": 13,
    "start_time": "2022-09-07T11:17:00.388Z"
   },
   {
    "duration": 12,
    "start_time": "2022-09-07T11:17:00.402Z"
   },
   {
    "duration": 277,
    "start_time": "2022-09-07T11:17:00.415Z"
   },
   {
    "duration": 3,
    "start_time": "2022-09-07T11:17:00.694Z"
   },
   {
    "duration": 27,
    "start_time": "2022-09-07T11:17:00.699Z"
   },
   {
    "duration": 6,
    "start_time": "2022-09-07T11:17:00.728Z"
   },
   {
    "duration": 24,
    "start_time": "2022-09-07T11:17:00.736Z"
   },
   {
    "duration": 29,
    "start_time": "2022-09-07T11:17:00.762Z"
   },
   {
    "duration": 11,
    "start_time": "2022-09-07T11:17:00.793Z"
   },
   {
    "duration": 154,
    "start_time": "2022-09-07T11:17:00.805Z"
   },
   {
    "duration": 138,
    "start_time": "2022-09-07T11:17:00.961Z"
   },
   {
    "duration": 144,
    "start_time": "2022-09-07T11:17:01.100Z"
   },
   {
    "duration": 141,
    "start_time": "2022-09-07T11:17:01.246Z"
   },
   {
    "duration": 15,
    "start_time": "2022-09-07T11:20:29.502Z"
   },
   {
    "duration": 142,
    "start_time": "2022-09-07T11:21:31.591Z"
   },
   {
    "duration": 136,
    "start_time": "2022-09-07T11:21:38.089Z"
   },
   {
    "duration": 128,
    "start_time": "2022-09-07T11:21:42.895Z"
   },
   {
    "duration": 135,
    "start_time": "2022-09-07T11:21:48.834Z"
   },
   {
    "duration": 137,
    "start_time": "2022-09-07T11:23:29.288Z"
   },
   {
    "duration": 119,
    "start_time": "2022-09-07T11:24:32.561Z"
   },
   {
    "duration": 115,
    "start_time": "2022-09-07T11:25:29.096Z"
   },
   {
    "duration": 113,
    "start_time": "2022-09-07T11:26:30.036Z"
   },
   {
    "duration": 115,
    "start_time": "2022-09-07T11:27:18.244Z"
   },
   {
    "duration": 4,
    "start_time": "2022-09-07T11:28:33.251Z"
   },
   {
    "duration": 14,
    "start_time": "2022-09-07T11:28:51.349Z"
   },
   {
    "duration": 117,
    "start_time": "2022-09-07T11:29:56.861Z"
   },
   {
    "duration": 121,
    "start_time": "2022-09-07T11:33:53.086Z"
   },
   {
    "duration": 133,
    "start_time": "2022-09-07T11:34:47.002Z"
   },
   {
    "duration": 256,
    "start_time": "2022-09-07T11:35:50.160Z"
   },
   {
    "duration": 134,
    "start_time": "2022-09-07T11:36:31.797Z"
   },
   {
    "duration": 115,
    "start_time": "2022-09-07T11:38:33.339Z"
   },
   {
    "duration": 130,
    "start_time": "2022-09-07T17:19:17.077Z"
   },
   {
    "duration": 133,
    "start_time": "2022-09-07T17:20:33.313Z"
   },
   {
    "duration": 75,
    "start_time": "2022-09-07T17:26:43.383Z"
   },
   {
    "duration": 195,
    "start_time": "2022-09-07T17:32:10.153Z"
   },
   {
    "duration": 178,
    "start_time": "2022-09-07T17:36:11.973Z"
   },
   {
    "duration": 157,
    "start_time": "2022-09-07T17:37:41.802Z"
   },
   {
    "duration": 164,
    "start_time": "2022-09-07T17:39:08.618Z"
   },
   {
    "duration": 140,
    "start_time": "2022-09-07T17:41:11.361Z"
   },
   {
    "duration": 154,
    "start_time": "2022-09-07T17:45:20.076Z"
   },
   {
    "duration": 164,
    "start_time": "2022-09-07T17:47:01.664Z"
   },
   {
    "duration": 183,
    "start_time": "2022-09-07T17:48:10.105Z"
   },
   {
    "duration": 19,
    "start_time": "2022-09-07T17:53:48.681Z"
   },
   {
    "duration": 12,
    "start_time": "2022-09-07T17:56:04.847Z"
   },
   {
    "duration": 12,
    "start_time": "2022-09-07T17:58:12.725Z"
   },
   {
    "duration": 12,
    "start_time": "2022-09-07T17:58:39.499Z"
   },
   {
    "duration": 11,
    "start_time": "2022-09-07T18:04:18.367Z"
   },
   {
    "duration": 13,
    "start_time": "2022-09-07T18:05:04.008Z"
   },
   {
    "duration": 11,
    "start_time": "2022-09-07T18:06:19.786Z"
   },
   {
    "duration": 8,
    "start_time": "2022-09-07T18:07:04.369Z"
   },
   {
    "duration": 8,
    "start_time": "2022-09-07T18:08:07.015Z"
   },
   {
    "duration": 17,
    "start_time": "2022-09-07T18:09:23.219Z"
   },
   {
    "duration": 10,
    "start_time": "2022-09-07T18:10:10.203Z"
   },
   {
    "duration": 4375,
    "start_time": "2022-09-07T18:12:56.235Z"
   },
   {
    "duration": 4168,
    "start_time": "2022-09-07T18:13:30.760Z"
   },
   {
    "duration": 16,
    "start_time": "2022-09-07T18:29:22.081Z"
   },
   {
    "duration": 16,
    "start_time": "2022-09-07T18:29:59.462Z"
   },
   {
    "duration": 22,
    "start_time": "2022-09-07T18:30:46.211Z"
   },
   {
    "duration": 189,
    "start_time": "2022-09-07T18:31:18.220Z"
   },
   {
    "duration": 20,
    "start_time": "2022-09-07T18:33:00.939Z"
   },
   {
    "duration": 22,
    "start_time": "2022-09-07T18:35:35.129Z"
   },
   {
    "duration": 242,
    "start_time": "2022-09-07T18:36:07.430Z"
   },
   {
    "duration": 5401,
    "start_time": "2022-09-07T18:37:02.224Z"
   },
   {
    "duration": 857,
    "start_time": "2022-09-09T08:37:16.200Z"
   },
   {
    "duration": 155,
    "start_time": "2022-09-09T08:37:17.059Z"
   },
   {
    "duration": 34,
    "start_time": "2022-09-09T08:37:17.216Z"
   },
   {
    "duration": 24,
    "start_time": "2022-09-09T08:37:17.252Z"
   },
   {
    "duration": 76,
    "start_time": "2022-09-09T08:37:17.278Z"
   },
   {
    "duration": 2081,
    "start_time": "2022-09-09T08:37:17.356Z"
   },
   {
    "duration": 11,
    "start_time": "2022-09-09T08:37:19.439Z"
   },
   {
    "duration": 12,
    "start_time": "2022-09-09T08:37:19.451Z"
   },
   {
    "duration": 6,
    "start_time": "2022-09-09T08:37:19.468Z"
   },
   {
    "duration": 17,
    "start_time": "2022-09-09T08:37:19.477Z"
   },
   {
    "duration": 12,
    "start_time": "2022-09-09T08:37:19.496Z"
   },
   {
    "duration": 11,
    "start_time": "2022-09-09T08:37:19.510Z"
   },
   {
    "duration": 46,
    "start_time": "2022-09-09T08:37:19.523Z"
   },
   {
    "duration": 6,
    "start_time": "2022-09-09T08:37:19.570Z"
   },
   {
    "duration": 11,
    "start_time": "2022-09-09T08:37:19.577Z"
   },
   {
    "duration": 9,
    "start_time": "2022-09-09T08:37:19.590Z"
   },
   {
    "duration": 7,
    "start_time": "2022-09-09T08:37:19.601Z"
   },
   {
    "duration": 8,
    "start_time": "2022-09-09T08:37:19.609Z"
   },
   {
    "duration": 10,
    "start_time": "2022-09-09T08:37:19.618Z"
   },
   {
    "duration": 41,
    "start_time": "2022-09-09T08:37:19.630Z"
   },
   {
    "duration": 16,
    "start_time": "2022-09-09T08:37:19.673Z"
   },
   {
    "duration": 202,
    "start_time": "2022-09-09T08:37:19.691Z"
   },
   {
    "duration": 4,
    "start_time": "2022-09-09T08:37:19.895Z"
   },
   {
    "duration": 17,
    "start_time": "2022-09-09T08:37:19.900Z"
   },
   {
    "duration": 9,
    "start_time": "2022-09-09T08:37:19.919Z"
   },
   {
    "duration": 9,
    "start_time": "2022-09-09T08:37:19.930Z"
   },
   {
    "duration": 42,
    "start_time": "2022-09-09T08:37:19.940Z"
   },
   {
    "duration": 8,
    "start_time": "2022-09-09T08:37:19.986Z"
   },
   {
    "duration": 10,
    "start_time": "2022-09-09T08:37:19.995Z"
   },
   {
    "duration": 9,
    "start_time": "2022-09-09T08:37:20.007Z"
   },
   {
    "duration": 12,
    "start_time": "2022-09-09T08:37:20.017Z"
   },
   {
    "duration": 10,
    "start_time": "2022-09-09T08:37:20.067Z"
   },
   {
    "duration": 10,
    "start_time": "2022-09-09T08:37:20.078Z"
   },
   {
    "duration": 309,
    "start_time": "2022-09-09T08:37:20.089Z"
   },
   {
    "duration": 4,
    "start_time": "2022-09-09T08:37:20.400Z"
   },
   {
    "duration": 20,
    "start_time": "2022-09-09T08:37:20.405Z"
   },
   {
    "duration": 4,
    "start_time": "2022-09-09T08:37:20.427Z"
   },
   {
    "duration": 10,
    "start_time": "2022-09-09T08:37:20.432Z"
   },
   {
    "duration": 24,
    "start_time": "2022-09-09T08:37:20.444Z"
   },
   {
    "duration": 6,
    "start_time": "2022-09-09T08:37:20.470Z"
   },
   {
    "duration": 155,
    "start_time": "2022-09-09T08:37:20.477Z"
   },
   {
    "duration": 161,
    "start_time": "2022-09-09T08:37:20.633Z"
   },
   {
    "duration": 235,
    "start_time": "2022-09-09T08:37:20.796Z"
   },
   {
    "duration": 159,
    "start_time": "2022-09-09T08:37:21.033Z"
   },
   {
    "duration": 166,
    "start_time": "2022-09-09T08:37:21.193Z"
   },
   {
    "duration": 170,
    "start_time": "2022-09-09T08:37:21.361Z"
   },
   {
    "duration": 158,
    "start_time": "2022-09-09T08:37:21.533Z"
   },
   {
    "duration": 133,
    "start_time": "2022-09-09T08:37:21.693Z"
   },
   {
    "duration": 128,
    "start_time": "2022-09-09T08:37:21.828Z"
   },
   {
    "duration": 145,
    "start_time": "2022-09-09T08:37:21.958Z"
   },
   {
    "duration": 129,
    "start_time": "2022-09-09T08:37:22.105Z"
   },
   {
    "duration": 150,
    "start_time": "2022-09-09T08:37:22.235Z"
   },
   {
    "duration": 156,
    "start_time": "2022-09-09T08:37:22.387Z"
   },
   {
    "duration": 134,
    "start_time": "2022-09-09T08:37:22.544Z"
   },
   {
    "duration": 164,
    "start_time": "2022-09-09T08:37:22.679Z"
   },
   {
    "duration": 89,
    "start_time": "2022-09-09T08:37:22.845Z"
   },
   {
    "duration": 276,
    "start_time": "2022-09-09T08:37:22.936Z"
   },
   {
    "duration": 190,
    "start_time": "2022-09-09T08:37:23.213Z"
   },
   {
    "duration": 183,
    "start_time": "2022-09-09T08:37:23.405Z"
   },
   {
    "duration": 185,
    "start_time": "2022-09-09T08:37:23.590Z"
   },
   {
    "duration": 155,
    "start_time": "2022-09-09T08:37:23.776Z"
   },
   {
    "duration": 185,
    "start_time": "2022-09-09T08:37:23.933Z"
   },
   {
    "duration": 175,
    "start_time": "2022-09-09T08:37:24.119Z"
   },
   {
    "duration": 182,
    "start_time": "2022-09-09T08:37:24.296Z"
   },
   {
    "duration": 15,
    "start_time": "2022-09-09T08:38:24.468Z"
   },
   {
    "duration": 5,
    "start_time": "2022-09-09T08:40:15.073Z"
   },
   {
    "duration": 85,
    "start_time": "2022-09-09T08:41:02.670Z"
   },
   {
    "duration": 973,
    "start_time": "2022-09-09T08:41:31.296Z"
   },
   {
    "duration": 6,
    "start_time": "2022-09-09T08:42:09.295Z"
   },
   {
    "duration": 8,
    "start_time": "2022-09-09T08:44:06.864Z"
   },
   {
    "duration": 9,
    "start_time": "2022-09-09T08:44:14.528Z"
   },
   {
    "duration": 74,
    "start_time": "2022-09-09T08:44:44.486Z"
   },
   {
    "duration": 27,
    "start_time": "2022-09-09T08:53:40.532Z"
   },
   {
    "duration": 28,
    "start_time": "2022-09-09T08:55:49.882Z"
   },
   {
    "duration": 31,
    "start_time": "2022-09-09T08:57:03.032Z"
   },
   {
    "duration": 172,
    "start_time": "2022-09-09T11:06:32.186Z"
   },
   {
    "duration": 182,
    "start_time": "2022-09-09T11:07:48.207Z"
   },
   {
    "duration": 344,
    "start_time": "2022-09-09T11:58:57.883Z"
   },
   {
    "duration": 338,
    "start_time": "2022-09-09T12:01:35.062Z"
   },
   {
    "duration": 470,
    "start_time": "2022-09-09T12:02:47.792Z"
   },
   {
    "duration": 307,
    "start_time": "2022-09-09T12:03:58.863Z"
   },
   {
    "duration": 312,
    "start_time": "2022-09-09T12:04:57.465Z"
   },
   {
    "duration": 187,
    "start_time": "2022-09-09T12:05:36.400Z"
   },
   {
    "duration": 176,
    "start_time": "2022-09-09T12:05:53.581Z"
   },
   {
    "duration": 223,
    "start_time": "2022-09-09T12:06:35.860Z"
   },
   {
    "duration": 250,
    "start_time": "2022-09-09T12:07:36.653Z"
   },
   {
    "duration": 308,
    "start_time": "2022-09-09T12:10:08.312Z"
   },
   {
    "duration": 309,
    "start_time": "2022-09-09T12:10:58.318Z"
   },
   {
    "duration": 248,
    "start_time": "2022-09-09T12:11:26.068Z"
   },
   {
    "duration": 17,
    "start_time": "2022-09-09T12:13:26.749Z"
   },
   {
    "duration": 15,
    "start_time": "2022-09-09T12:13:32.706Z"
   },
   {
    "duration": 8550,
    "start_time": "2022-09-09T12:14:27.606Z"
   },
   {
    "duration": 1592,
    "start_time": "2022-09-09T12:14:40.053Z"
   },
   {
    "duration": 2,
    "start_time": "2022-09-09T12:15:01.689Z"
   },
   {
    "duration": 107,
    "start_time": "2022-09-09T12:15:01.693Z"
   },
   {
    "duration": 27,
    "start_time": "2022-09-09T12:15:01.802Z"
   },
   {
    "duration": 18,
    "start_time": "2022-09-09T12:15:01.831Z"
   },
   {
    "duration": 83,
    "start_time": "2022-09-09T12:15:01.867Z"
   },
   {
    "duration": 2166,
    "start_time": "2022-09-09T12:15:01.952Z"
   },
   {
    "duration": 10,
    "start_time": "2022-09-09T12:15:04.119Z"
   },
   {
    "duration": 10,
    "start_time": "2022-09-09T12:15:04.131Z"
   },
   {
    "duration": 30,
    "start_time": "2022-09-09T12:15:04.143Z"
   },
   {
    "duration": 16,
    "start_time": "2022-09-09T12:15:04.177Z"
   },
   {
    "duration": 12,
    "start_time": "2022-09-09T12:15:04.194Z"
   },
   {
    "duration": 11,
    "start_time": "2022-09-09T12:15:04.208Z"
   },
   {
    "duration": 14,
    "start_time": "2022-09-09T12:15:04.222Z"
   },
   {
    "duration": 41,
    "start_time": "2022-09-09T12:15:04.239Z"
   },
   {
    "duration": 12,
    "start_time": "2022-09-09T12:15:04.282Z"
   },
   {
    "duration": 12,
    "start_time": "2022-09-09T12:15:04.296Z"
   },
   {
    "duration": 8,
    "start_time": "2022-09-09T12:15:04.310Z"
   },
   {
    "duration": 7,
    "start_time": "2022-09-09T12:15:04.320Z"
   },
   {
    "duration": 40,
    "start_time": "2022-09-09T12:15:04.329Z"
   },
   {
    "duration": 15,
    "start_time": "2022-09-09T12:15:04.371Z"
   },
   {
    "duration": 21,
    "start_time": "2022-09-09T12:15:04.388Z"
   },
   {
    "duration": 201,
    "start_time": "2022-09-09T12:15:04.411Z"
   },
   {
    "duration": 5,
    "start_time": "2022-09-09T12:15:04.614Z"
   },
   {
    "duration": 21,
    "start_time": "2022-09-09T12:15:04.620Z"
   },
   {
    "duration": 10,
    "start_time": "2022-09-09T12:15:04.643Z"
   },
   {
    "duration": 18,
    "start_time": "2022-09-09T12:15:04.667Z"
   },
   {
    "duration": 24,
    "start_time": "2022-09-09T12:15:04.687Z"
   },
   {
    "duration": 8,
    "start_time": "2022-09-09T12:15:04.713Z"
   },
   {
    "duration": 9,
    "start_time": "2022-09-09T12:15:04.723Z"
   },
   {
    "duration": 9,
    "start_time": "2022-09-09T12:15:04.733Z"
   },
   {
    "duration": 16,
    "start_time": "2022-09-09T12:15:04.771Z"
   },
   {
    "duration": 10,
    "start_time": "2022-09-09T12:15:04.788Z"
   },
   {
    "duration": 11,
    "start_time": "2022-09-09T12:15:04.800Z"
   },
   {
    "duration": 327,
    "start_time": "2022-09-09T12:15:04.813Z"
   },
   {
    "duration": 4,
    "start_time": "2022-09-09T12:15:05.142Z"
   },
   {
    "duration": 28,
    "start_time": "2022-09-09T12:15:05.147Z"
   },
   {
    "duration": 4,
    "start_time": "2022-09-09T12:15:05.183Z"
   },
   {
    "duration": 13,
    "start_time": "2022-09-09T12:15:05.189Z"
   },
   {
    "duration": 7,
    "start_time": "2022-09-09T12:15:05.203Z"
   },
   {
    "duration": 14,
    "start_time": "2022-09-09T12:15:05.220Z"
   },
   {
    "duration": 326,
    "start_time": "2022-09-09T12:15:05.236Z"
   },
   {
    "duration": 326,
    "start_time": "2022-09-09T12:15:05.563Z"
   },
   {
    "duration": 334,
    "start_time": "2022-09-09T12:15:05.891Z"
   },
   {
    "duration": 541,
    "start_time": "2022-09-09T12:15:06.228Z"
   },
   {
    "duration": 213,
    "start_time": "2022-09-09T12:15:06.771Z"
   },
   {
    "duration": 193,
    "start_time": "2022-09-09T12:15:06.986Z"
   },
   {
    "duration": 249,
    "start_time": "2022-09-09T12:15:07.181Z"
   },
   {
    "duration": 168,
    "start_time": "2022-09-09T12:15:07.432Z"
   },
   {
    "duration": 152,
    "start_time": "2022-09-09T12:15:07.602Z"
   },
   {
    "duration": 136,
    "start_time": "2022-09-09T12:15:07.756Z"
   },
   {
    "duration": 163,
    "start_time": "2022-09-09T12:15:07.894Z"
   },
   {
    "duration": 166,
    "start_time": "2022-09-09T12:15:08.059Z"
   },
   {
    "duration": 136,
    "start_time": "2022-09-09T12:15:08.226Z"
   },
   {
    "duration": 178,
    "start_time": "2022-09-09T12:15:08.363Z"
   },
   {
    "duration": 90,
    "start_time": "2022-09-09T12:15:08.543Z"
   },
   {
    "duration": 183,
    "start_time": "2022-09-09T12:15:08.635Z"
   },
   {
    "duration": 190,
    "start_time": "2022-09-09T12:15:08.820Z"
   },
   {
    "duration": 179,
    "start_time": "2022-09-09T12:15:09.011Z"
   },
   {
    "duration": 193,
    "start_time": "2022-09-09T12:15:09.192Z"
   },
   {
    "duration": 166,
    "start_time": "2022-09-09T12:15:09.387Z"
   },
   {
    "duration": 173,
    "start_time": "2022-09-09T12:15:09.554Z"
   },
   {
    "duration": 181,
    "start_time": "2022-09-09T12:15:09.728Z"
   },
   {
    "duration": 184,
    "start_time": "2022-09-09T12:15:09.911Z"
   },
   {
    "duration": 17,
    "start_time": "2022-09-09T12:15:10.098Z"
   },
   {
    "duration": 237,
    "start_time": "2022-09-09T12:15:35.082Z"
   },
   {
    "duration": 303,
    "start_time": "2022-09-09T12:16:25.655Z"
   },
   {
    "duration": 1232,
    "start_time": "2022-09-09T12:17:18.746Z"
   },
   {
    "duration": 1367,
    "start_time": "2022-09-09T12:17:57.375Z"
   },
   {
    "duration": 1264,
    "start_time": "2022-09-09T12:18:11.317Z"
   },
   {
    "duration": 128,
    "start_time": "2022-09-09T12:20:23.382Z"
   },
   {
    "duration": 560,
    "start_time": "2022-09-09T12:24:52.687Z"
   },
   {
    "duration": 543,
    "start_time": "2022-09-09T12:27:10.807Z"
   },
   {
    "duration": 541,
    "start_time": "2022-09-09T12:28:02.208Z"
   },
   {
    "duration": 166,
    "start_time": "2022-09-09T12:31:25.482Z"
   },
   {
    "duration": 152,
    "start_time": "2022-09-09T12:34:25.339Z"
   },
   {
    "duration": 161,
    "start_time": "2022-09-09T12:36:43.403Z"
   },
   {
    "duration": 176,
    "start_time": "2022-09-09T12:37:22.495Z"
   },
   {
    "duration": 176,
    "start_time": "2022-09-09T12:38:05.218Z"
   },
   {
    "duration": 500,
    "start_time": "2022-09-09T12:43:03.931Z"
   },
   {
    "duration": 1294,
    "start_time": "2022-09-09T12:44:02.732Z"
   },
   {
    "duration": 14,
    "start_time": "2022-09-09T12:44:36.113Z"
   },
   {
    "duration": 1535,
    "start_time": "2022-09-09T12:45:21.711Z"
   },
   {
    "duration": 23,
    "start_time": "2022-09-09T12:46:44.506Z"
   },
   {
    "duration": 179,
    "start_time": "2022-09-09T12:47:41.480Z"
   },
   {
    "duration": 399,
    "start_time": "2022-09-09T12:48:35.693Z"
   },
   {
    "duration": 14,
    "start_time": "2022-09-09T12:49:11.477Z"
   },
   {
    "duration": 171,
    "start_time": "2022-09-09T12:49:13.847Z"
   },
   {
    "duration": 226,
    "start_time": "2022-09-09T12:51:46.761Z"
   },
   {
    "duration": 606,
    "start_time": "2022-09-09T12:53:24.001Z"
   },
   {
    "duration": 172,
    "start_time": "2022-09-09T12:53:33.351Z"
   },
   {
    "duration": 153,
    "start_time": "2022-09-09T12:54:38.512Z"
   },
   {
    "duration": 198,
    "start_time": "2022-09-09T12:57:31.597Z"
   },
   {
    "duration": 381,
    "start_time": "2022-09-09T12:59:13.207Z"
   },
   {
    "duration": 13,
    "start_time": "2022-09-09T13:01:37.235Z"
   },
   {
    "duration": 11,
    "start_time": "2022-09-09T13:01:39.724Z"
   },
   {
    "duration": 197,
    "start_time": "2022-09-09T13:02:02.633Z"
   },
   {
    "duration": 191,
    "start_time": "2022-09-09T13:03:00.597Z"
   },
   {
    "duration": 169,
    "start_time": "2022-09-09T13:04:44.578Z"
   },
   {
    "duration": 26,
    "start_time": "2022-09-09T15:00:36.631Z"
   },
   {
    "duration": 20,
    "start_time": "2022-09-09T15:00:43.811Z"
   },
   {
    "duration": 23,
    "start_time": "2022-09-09T15:01:07.383Z"
   },
   {
    "duration": 165,
    "start_time": "2022-09-09T15:07:37.986Z"
   },
   {
    "duration": 185,
    "start_time": "2022-09-09T15:12:03.882Z"
   },
   {
    "duration": 30,
    "start_time": "2022-09-09T15:13:06.081Z"
   },
   {
    "duration": 169,
    "start_time": "2022-09-09T15:16:30.116Z"
   },
   {
    "duration": 197,
    "start_time": "2022-09-09T15:20:14.960Z"
   },
   {
    "duration": 15,
    "start_time": "2022-09-09T18:33:39.492Z"
   },
   {
    "duration": 285,
    "start_time": "2022-09-09T19:12:24.921Z"
   },
   {
    "duration": 271,
    "start_time": "2022-09-09T19:12:47.740Z"
   },
   {
    "duration": 6,
    "start_time": "2022-09-09T19:12:49.335Z"
   },
   {
    "duration": 3,
    "start_time": "2022-09-09T19:13:20.105Z"
   },
   {
    "duration": 99,
    "start_time": "2022-09-09T19:13:20.109Z"
   },
   {
    "duration": 27,
    "start_time": "2022-09-09T19:13:20.210Z"
   },
   {
    "duration": 41,
    "start_time": "2022-09-09T19:13:20.239Z"
   },
   {
    "duration": 73,
    "start_time": "2022-09-09T19:13:20.283Z"
   },
   {
    "duration": 2234,
    "start_time": "2022-09-09T19:13:20.358Z"
   },
   {
    "duration": 10,
    "start_time": "2022-09-09T19:13:22.594Z"
   },
   {
    "duration": 9,
    "start_time": "2022-09-09T19:13:22.605Z"
   },
   {
    "duration": 6,
    "start_time": "2022-09-09T19:13:22.616Z"
   },
   {
    "duration": 46,
    "start_time": "2022-09-09T19:13:22.623Z"
   },
   {
    "duration": 12,
    "start_time": "2022-09-09T19:13:22.680Z"
   },
   {
    "duration": 10,
    "start_time": "2022-09-09T19:13:22.693Z"
   },
   {
    "duration": 13,
    "start_time": "2022-09-09T19:13:22.705Z"
   },
   {
    "duration": 6,
    "start_time": "2022-09-09T19:13:22.720Z"
   },
   {
    "duration": 10,
    "start_time": "2022-09-09T19:13:22.727Z"
   },
   {
    "duration": 33,
    "start_time": "2022-09-09T19:13:22.738Z"
   },
   {
    "duration": 13,
    "start_time": "2022-09-09T19:13:22.772Z"
   },
   {
    "duration": 7,
    "start_time": "2022-09-09T19:13:22.786Z"
   },
   {
    "duration": 10,
    "start_time": "2022-09-09T19:13:22.794Z"
   },
   {
    "duration": 16,
    "start_time": "2022-09-09T19:13:22.805Z"
   },
   {
    "duration": 209,
    "start_time": "2022-09-09T19:13:22.823Z"
   },
   {
    "duration": 5,
    "start_time": "2022-09-09T19:13:23.034Z"
   },
   {
    "duration": 30,
    "start_time": "2022-09-09T19:13:23.040Z"
   },
   {
    "duration": 18,
    "start_time": "2022-09-09T19:13:23.073Z"
   },
   {
    "duration": 9,
    "start_time": "2022-09-09T19:13:23.093Z"
   },
   {
    "duration": 21,
    "start_time": "2022-09-09T19:13:23.104Z"
   },
   {
    "duration": 7,
    "start_time": "2022-09-09T19:13:23.127Z"
   },
   {
    "duration": 11,
    "start_time": "2022-09-09T19:13:23.136Z"
   },
   {
    "duration": 14,
    "start_time": "2022-09-09T19:13:23.168Z"
   },
   {
    "duration": 11,
    "start_time": "2022-09-09T19:13:23.184Z"
   },
   {
    "duration": 10,
    "start_time": "2022-09-09T19:13:23.196Z"
   },
   {
    "duration": 8,
    "start_time": "2022-09-09T19:13:23.208Z"
   },
   {
    "duration": 4,
    "start_time": "2022-09-09T19:13:23.218Z"
   },
   {
    "duration": 11,
    "start_time": "2022-09-09T19:13:23.223Z"
   },
   {
    "duration": 33,
    "start_time": "2022-09-09T19:13:23.236Z"
   },
   {
    "duration": 10,
    "start_time": "2022-09-09T19:13:23.270Z"
   },
   {
    "duration": 310,
    "start_time": "2022-09-09T19:13:23.282Z"
   },
   {
    "duration": 4,
    "start_time": "2022-09-09T19:13:23.594Z"
   },
   {
    "duration": 316,
    "start_time": "2022-09-09T19:13:23.600Z"
   },
   {
    "duration": 479,
    "start_time": "2022-09-09T19:13:23.918Z"
   },
   {
    "duration": 311,
    "start_time": "2022-09-09T19:13:24.401Z"
   },
   {
    "duration": 312,
    "start_time": "2022-09-09T19:13:24.714Z"
   },
   {
    "duration": 191,
    "start_time": "2022-09-09T19:13:25.028Z"
   },
   {
    "duration": 196,
    "start_time": "2022-09-09T19:13:25.220Z"
   },
   {
    "duration": 241,
    "start_time": "2022-09-09T19:13:25.418Z"
   },
   {
    "duration": 148,
    "start_time": "2022-09-09T19:13:25.661Z"
   },
   {
    "duration": 139,
    "start_time": "2022-09-09T19:13:25.811Z"
   },
   {
    "duration": 157,
    "start_time": "2022-09-09T19:13:25.952Z"
   },
   {
    "duration": 128,
    "start_time": "2022-09-09T19:13:26.111Z"
   },
   {
    "duration": 160,
    "start_time": "2022-09-09T19:13:26.241Z"
   },
   {
    "duration": 182,
    "start_time": "2022-09-09T19:13:26.403Z"
   },
   {
    "duration": 162,
    "start_time": "2022-09-09T19:13:26.588Z"
   },
   {
    "duration": 527,
    "start_time": "2022-09-09T19:13:26.752Z"
   },
   {
    "duration": 68,
    "start_time": "2022-09-09T19:13:27.281Z"
   },
   {
    "duration": 174,
    "start_time": "2022-09-09T19:13:27.350Z"
   },
   {
    "duration": 193,
    "start_time": "2022-09-09T19:13:27.525Z"
   },
   {
    "duration": 173,
    "start_time": "2022-09-09T19:13:27.720Z"
   },
   {
    "duration": 185,
    "start_time": "2022-09-09T19:13:27.895Z"
   },
   {
    "duration": 146,
    "start_time": "2022-09-09T19:13:28.082Z"
   },
   {
    "duration": 172,
    "start_time": "2022-09-09T19:13:28.230Z"
   },
   {
    "duration": 391,
    "start_time": "2022-09-09T19:13:28.404Z"
   },
   {
    "duration": 166,
    "start_time": "2022-09-09T19:13:28.797Z"
   },
   {
    "duration": 26,
    "start_time": "2022-09-09T19:13:28.969Z"
   },
   {
    "duration": 161,
    "start_time": "2022-09-09T19:13:28.997Z"
   },
   {
    "duration": 29,
    "start_time": "2022-09-09T19:13:29.167Z"
   },
   {
    "duration": 319,
    "start_time": "2022-09-09T19:17:03.818Z"
   },
   {
    "duration": 300,
    "start_time": "2022-09-09T19:18:07.382Z"
   },
   {
    "duration": 609,
    "start_time": "2022-09-09T19:18:55.554Z"
   },
   {
    "duration": 631,
    "start_time": "2022-09-09T19:20:10.972Z"
   },
   {
    "duration": 237,
    "start_time": "2022-09-09T19:22:16.509Z"
   },
   {
    "duration": 339,
    "start_time": "2022-09-09T19:23:03.157Z"
   },
   {
    "duration": 877,
    "start_time": "2022-09-09T19:34:50.646Z"
   },
   {
    "duration": 623,
    "start_time": "2022-09-09T19:36:41.458Z"
   },
   {
    "duration": 682,
    "start_time": "2022-09-09T19:37:24.367Z"
   },
   {
    "duration": 664,
    "start_time": "2022-09-09T19:44:36.010Z"
   },
   {
    "duration": 901,
    "start_time": "2022-09-09T19:44:54.944Z"
   },
   {
    "duration": 308,
    "start_time": "2022-09-09T19:54:06.711Z"
   },
   {
    "duration": 273,
    "start_time": "2022-09-09T19:54:42.582Z"
   },
   {
    "duration": 367,
    "start_time": "2022-09-09T19:55:13.986Z"
   },
   {
    "duration": 352,
    "start_time": "2022-09-09T19:55:26.059Z"
   },
   {
    "duration": 476,
    "start_time": "2022-09-09T19:56:59.734Z"
   },
   {
    "duration": 384,
    "start_time": "2022-09-09T19:57:22.666Z"
   },
   {
    "duration": 141,
    "start_time": "2022-09-09T20:09:32.766Z"
   },
   {
    "duration": 139,
    "start_time": "2022-09-09T20:13:15.995Z"
   },
   {
    "duration": 117,
    "start_time": "2022-09-09T20:13:50.624Z"
   },
   {
    "duration": 49,
    "start_time": "2022-09-12T08:28:40.305Z"
   },
   {
    "duration": 858,
    "start_time": "2022-09-12T08:28:49.417Z"
   },
   {
    "duration": 311,
    "start_time": "2022-09-12T08:28:50.277Z"
   },
   {
    "duration": 32,
    "start_time": "2022-09-12T08:28:50.590Z"
   },
   {
    "duration": 16,
    "start_time": "2022-09-12T08:28:50.625Z"
   },
   {
    "duration": 90,
    "start_time": "2022-09-12T08:28:50.643Z"
   },
   {
    "duration": 2136,
    "start_time": "2022-09-12T08:28:50.735Z"
   },
   {
    "duration": 10,
    "start_time": "2022-09-12T08:28:52.873Z"
   },
   {
    "duration": 10,
    "start_time": "2022-09-12T08:28:52.885Z"
   },
   {
    "duration": 7,
    "start_time": "2022-09-12T08:28:52.896Z"
   },
   {
    "duration": 17,
    "start_time": "2022-09-12T08:28:52.905Z"
   },
   {
    "duration": 14,
    "start_time": "2022-09-12T08:28:52.924Z"
   },
   {
    "duration": 12,
    "start_time": "2022-09-12T08:28:52.940Z"
   },
   {
    "duration": 14,
    "start_time": "2022-09-12T08:28:52.953Z"
   },
   {
    "duration": 15,
    "start_time": "2022-09-12T08:28:52.968Z"
   },
   {
    "duration": 41,
    "start_time": "2022-09-12T08:28:52.984Z"
   },
   {
    "duration": 18,
    "start_time": "2022-09-12T08:28:53.027Z"
   },
   {
    "duration": 7,
    "start_time": "2022-09-12T08:28:53.047Z"
   },
   {
    "duration": 17,
    "start_time": "2022-09-12T08:28:53.057Z"
   },
   {
    "duration": 15,
    "start_time": "2022-09-12T08:28:53.076Z"
   },
   {
    "duration": 46,
    "start_time": "2022-09-12T08:28:53.093Z"
   },
   {
    "duration": 251,
    "start_time": "2022-09-12T08:28:53.142Z"
   },
   {
    "duration": 5,
    "start_time": "2022-09-12T08:28:53.394Z"
   },
   {
    "duration": 25,
    "start_time": "2022-09-12T08:28:53.400Z"
   },
   {
    "duration": 10,
    "start_time": "2022-09-12T08:28:53.427Z"
   },
   {
    "duration": 9,
    "start_time": "2022-09-12T08:28:53.439Z"
   },
   {
    "duration": 35,
    "start_time": "2022-09-12T08:28:53.450Z"
   },
   {
    "duration": 7,
    "start_time": "2022-09-12T08:28:53.487Z"
   },
   {
    "duration": 29,
    "start_time": "2022-09-12T08:28:53.499Z"
   },
   {
    "duration": 10,
    "start_time": "2022-09-12T08:28:53.529Z"
   },
   {
    "duration": 11,
    "start_time": "2022-09-12T08:28:53.540Z"
   },
   {
    "duration": 22,
    "start_time": "2022-09-12T08:28:53.553Z"
   },
   {
    "duration": 11,
    "start_time": "2022-09-12T08:28:53.576Z"
   },
   {
    "duration": 32,
    "start_time": "2022-09-12T08:28:53.589Z"
   },
   {
    "duration": 11,
    "start_time": "2022-09-12T08:28:53.623Z"
   },
   {
    "duration": 15,
    "start_time": "2022-09-12T08:28:53.636Z"
   },
   {
    "duration": 13,
    "start_time": "2022-09-12T08:28:53.652Z"
   },
   {
    "duration": 312,
    "start_time": "2022-09-12T08:28:53.667Z"
   },
   {
    "duration": 6,
    "start_time": "2022-09-12T08:28:53.980Z"
   },
   {
    "duration": 706,
    "start_time": "2022-09-12T08:28:53.987Z"
   },
   {
    "duration": 623,
    "start_time": "2022-09-12T08:28:54.695Z"
   },
   {
    "duration": 638,
    "start_time": "2022-09-12T08:28:55.321Z"
   },
   {
    "duration": 737,
    "start_time": "2022-09-12T08:28:55.961Z"
   },
   {
    "duration": 359,
    "start_time": "2022-09-12T08:28:56.700Z"
   },
   {
    "duration": 381,
    "start_time": "2022-09-12T08:28:57.061Z"
   },
   {
    "duration": 250,
    "start_time": "2022-09-12T08:28:57.445Z"
   },
   {
    "duration": 161,
    "start_time": "2022-09-12T08:28:57.697Z"
   },
   {
    "duration": 191,
    "start_time": "2022-09-12T08:28:57.861Z"
   },
   {
    "duration": 245,
    "start_time": "2022-09-12T08:28:58.053Z"
   },
   {
    "duration": 137,
    "start_time": "2022-09-12T08:28:58.300Z"
   },
   {
    "duration": 167,
    "start_time": "2022-09-12T08:28:58.439Z"
   },
   {
    "duration": 161,
    "start_time": "2022-09-12T08:28:58.608Z"
   },
   {
    "duration": 168,
    "start_time": "2022-09-12T08:28:58.770Z"
   },
   {
    "duration": 579,
    "start_time": "2022-09-12T08:28:58.941Z"
   },
   {
    "duration": 84,
    "start_time": "2022-09-12T08:28:59.522Z"
   },
   {
    "duration": 193,
    "start_time": "2022-09-12T08:28:59.608Z"
   },
   {
    "duration": 206,
    "start_time": "2022-09-12T08:28:59.803Z"
   },
   {
    "duration": 183,
    "start_time": "2022-09-12T08:29:00.011Z"
   },
   {
    "duration": 296,
    "start_time": "2022-09-12T08:29:00.197Z"
   },
   {
    "duration": 169,
    "start_time": "2022-09-12T08:29:00.495Z"
   },
   {
    "duration": 186,
    "start_time": "2022-09-12T08:29:00.666Z"
   },
   {
    "duration": 200,
    "start_time": "2022-09-12T08:29:00.854Z"
   },
   {
    "duration": 187,
    "start_time": "2022-09-12T08:29:01.056Z"
   },
   {
    "duration": 23,
    "start_time": "2022-09-12T08:29:01.245Z"
   },
   {
    "duration": 182,
    "start_time": "2022-09-12T08:29:01.269Z"
   },
   {
    "duration": 29,
    "start_time": "2022-09-12T08:29:01.453Z"
   },
   {
    "duration": 201,
    "start_time": "2022-09-12T09:07:31.804Z"
   },
   {
    "duration": 187,
    "start_time": "2022-09-12T09:07:46.406Z"
   },
   {
    "duration": 177,
    "start_time": "2022-09-12T09:08:02.141Z"
   },
   {
    "duration": 365,
    "start_time": "2022-09-12T09:18:00.019Z"
   },
   {
    "duration": 65,
    "start_time": "2022-09-12T09:19:33.702Z"
   },
   {
    "duration": 52,
    "start_time": "2022-09-12T09:20:12.562Z"
   },
   {
    "duration": 179,
    "start_time": "2022-09-12T09:21:24.958Z"
   },
   {
    "duration": 354,
    "start_time": "2022-09-12T09:22:04.262Z"
   },
   {
    "duration": 6,
    "start_time": "2022-09-12T09:50:41.701Z"
   },
   {
    "duration": 6,
    "start_time": "2022-09-12T09:50:54.154Z"
   },
   {
    "duration": 4,
    "start_time": "2022-09-12T09:51:05.260Z"
   },
   {
    "duration": 175,
    "start_time": "2022-09-12T09:51:32.686Z"
   },
   {
    "duration": 190,
    "start_time": "2022-09-12T09:53:21.002Z"
   },
   {
    "duration": 5,
    "start_time": "2022-09-12T09:53:35.007Z"
   },
   {
    "duration": 35,
    "start_time": "2022-09-12T10:27:37.216Z"
   },
   {
    "duration": 23,
    "start_time": "2022-09-12T10:27:46.251Z"
   },
   {
    "duration": 31,
    "start_time": "2022-09-12T10:28:21.712Z"
   },
   {
    "duration": 24,
    "start_time": "2022-09-12T10:28:42.256Z"
   },
   {
    "duration": 22,
    "start_time": "2022-09-12T10:39:13.660Z"
   },
   {
    "duration": 25,
    "start_time": "2022-09-12T11:00:25.185Z"
   },
   {
    "duration": 27,
    "start_time": "2022-09-12T11:00:50.663Z"
   },
   {
    "duration": 168,
    "start_time": "2022-09-12T11:05:38.265Z"
   },
   {
    "duration": 713,
    "start_time": "2022-09-12T11:23:20.746Z"
   },
   {
    "duration": 17,
    "start_time": "2022-09-12T11:23:37.275Z"
   },
   {
    "duration": 3,
    "start_time": "2022-09-12T12:57:03.878Z"
   },
   {
    "duration": 304,
    "start_time": "2022-09-12T12:57:03.883Z"
   },
   {
    "duration": 27,
    "start_time": "2022-09-12T12:57:04.189Z"
   },
   {
    "duration": 42,
    "start_time": "2022-09-12T12:57:04.218Z"
   },
   {
    "duration": 77,
    "start_time": "2022-09-12T12:57:04.262Z"
   },
   {
    "duration": 2049,
    "start_time": "2022-09-12T12:57:04.341Z"
   },
   {
    "duration": 9,
    "start_time": "2022-09-12T12:57:06.392Z"
   },
   {
    "duration": 20,
    "start_time": "2022-09-12T12:57:06.403Z"
   },
   {
    "duration": 5,
    "start_time": "2022-09-12T12:57:06.425Z"
   },
   {
    "duration": 15,
    "start_time": "2022-09-12T12:57:06.432Z"
   },
   {
    "duration": 15,
    "start_time": "2022-09-12T12:57:06.448Z"
   },
   {
    "duration": 11,
    "start_time": "2022-09-12T12:57:06.465Z"
   },
   {
    "duration": 45,
    "start_time": "2022-09-12T12:57:06.477Z"
   },
   {
    "duration": 5,
    "start_time": "2022-09-12T12:57:06.524Z"
   },
   {
    "duration": 15,
    "start_time": "2022-09-12T12:57:06.530Z"
   },
   {
    "duration": 10,
    "start_time": "2022-09-12T12:57:06.547Z"
   },
   {
    "duration": 6,
    "start_time": "2022-09-12T12:57:06.559Z"
   },
   {
    "duration": 9,
    "start_time": "2022-09-12T12:57:06.567Z"
   },
   {
    "duration": 11,
    "start_time": "2022-09-12T12:57:06.577Z"
   },
   {
    "duration": 16,
    "start_time": "2022-09-12T12:57:06.620Z"
   },
   {
    "duration": 188,
    "start_time": "2022-09-12T12:57:06.638Z"
   },
   {
    "duration": 5,
    "start_time": "2022-09-12T12:57:06.828Z"
   },
   {
    "duration": 33,
    "start_time": "2022-09-12T12:57:06.835Z"
   },
   {
    "duration": 20,
    "start_time": "2022-09-12T12:57:06.871Z"
   },
   {
    "duration": 24,
    "start_time": "2022-09-12T12:57:06.892Z"
   },
   {
    "duration": 46,
    "start_time": "2022-09-12T12:57:06.917Z"
   },
   {
    "duration": 7,
    "start_time": "2022-09-12T12:57:06.965Z"
   },
   {
    "duration": 21,
    "start_time": "2022-09-12T12:57:06.976Z"
   },
   {
    "duration": 22,
    "start_time": "2022-09-12T12:57:06.999Z"
   },
   {
    "duration": 26,
    "start_time": "2022-09-12T12:57:07.023Z"
   },
   {
    "duration": 25,
    "start_time": "2022-09-12T12:57:07.051Z"
   },
   {
    "duration": 25,
    "start_time": "2022-09-12T12:57:07.078Z"
   },
   {
    "duration": 6,
    "start_time": "2022-09-12T12:57:07.105Z"
   },
   {
    "duration": 22,
    "start_time": "2022-09-12T12:57:07.113Z"
   },
   {
    "duration": 21,
    "start_time": "2022-09-12T12:57:07.137Z"
   },
   {
    "duration": 18,
    "start_time": "2022-09-12T12:57:07.159Z"
   },
   {
    "duration": 396,
    "start_time": "2022-09-12T12:57:07.179Z"
   },
   {
    "duration": 4,
    "start_time": "2022-09-12T12:57:07.577Z"
   },
   {
    "duration": 601,
    "start_time": "2022-09-12T12:57:07.583Z"
   },
   {
    "duration": 593,
    "start_time": "2022-09-12T12:57:08.186Z"
   },
   {
    "duration": 685,
    "start_time": "2022-09-12T12:57:08.780Z"
   },
   {
    "duration": 761,
    "start_time": "2022-09-12T12:57:09.467Z"
   },
   {
    "duration": 337,
    "start_time": "2022-09-12T12:57:10.231Z"
   },
   {
    "duration": 358,
    "start_time": "2022-09-12T12:57:10.570Z"
   },
   {
    "duration": 224,
    "start_time": "2022-09-12T12:57:10.930Z"
   },
   {
    "duration": 129,
    "start_time": "2022-09-12T12:57:11.155Z"
   },
   {
    "duration": 158,
    "start_time": "2022-09-12T12:57:11.286Z"
   },
   {
    "duration": 284,
    "start_time": "2022-09-12T12:57:11.447Z"
   },
   {
    "duration": 145,
    "start_time": "2022-09-12T12:57:11.733Z"
   },
   {
    "duration": 155,
    "start_time": "2022-09-12T12:57:11.880Z"
   },
   {
    "duration": 158,
    "start_time": "2022-09-12T12:57:12.037Z"
   },
   {
    "duration": 142,
    "start_time": "2022-09-12T12:57:12.197Z"
   },
   {
    "duration": 538,
    "start_time": "2022-09-12T12:57:12.341Z"
   },
   {
    "duration": 87,
    "start_time": "2022-09-12T12:57:12.881Z"
   },
   {
    "duration": 191,
    "start_time": "2022-09-12T12:57:12.970Z"
   },
   {
    "duration": 190,
    "start_time": "2022-09-12T12:57:13.163Z"
   },
   {
    "duration": 360,
    "start_time": "2022-09-12T12:57:13.354Z"
   },
   {
    "duration": 190,
    "start_time": "2022-09-12T12:57:13.716Z"
   },
   {
    "duration": 169,
    "start_time": "2022-09-12T12:57:13.908Z"
   },
   {
    "duration": 107,
    "start_time": "2022-09-12T12:57:14.079Z"
   },
   {
    "duration": 0,
    "start_time": "2022-09-12T12:57:14.188Z"
   },
   {
    "duration": 0,
    "start_time": "2022-09-12T12:57:14.190Z"
   },
   {
    "duration": 0,
    "start_time": "2022-09-12T12:57:14.192Z"
   },
   {
    "duration": 0,
    "start_time": "2022-09-12T12:57:14.193Z"
   },
   {
    "duration": 0,
    "start_time": "2022-09-12T12:57:14.195Z"
   },
   {
    "duration": 0,
    "start_time": "2022-09-12T12:57:14.197Z"
   },
   {
    "duration": 641,
    "start_time": "2022-09-12T13:13:24.637Z"
   },
   {
    "duration": 92,
    "start_time": "2022-09-12T13:13:25.280Z"
   },
   {
    "duration": 42,
    "start_time": "2022-09-12T13:13:25.374Z"
   },
   {
    "duration": 15,
    "start_time": "2022-09-12T13:13:25.418Z"
   },
   {
    "duration": 69,
    "start_time": "2022-09-12T13:13:25.434Z"
   },
   {
    "duration": 1889,
    "start_time": "2022-09-12T13:13:25.504Z"
   },
   {
    "duration": 10,
    "start_time": "2022-09-12T13:13:27.395Z"
   },
   {
    "duration": 26,
    "start_time": "2022-09-12T13:13:27.407Z"
   },
   {
    "duration": 18,
    "start_time": "2022-09-12T13:13:27.435Z"
   },
   {
    "duration": 24,
    "start_time": "2022-09-12T13:13:27.455Z"
   },
   {
    "duration": 24,
    "start_time": "2022-09-12T13:13:27.481Z"
   },
   {
    "duration": 13,
    "start_time": "2022-09-12T13:13:27.507Z"
   },
   {
    "duration": 17,
    "start_time": "2022-09-12T13:13:27.522Z"
   },
   {
    "duration": 5,
    "start_time": "2022-09-12T13:13:27.540Z"
   },
   {
    "duration": 8,
    "start_time": "2022-09-12T13:13:27.547Z"
   },
   {
    "duration": 9,
    "start_time": "2022-09-12T13:13:27.557Z"
   },
   {
    "duration": 5,
    "start_time": "2022-09-12T13:13:27.568Z"
   },
   {
    "duration": 6,
    "start_time": "2022-09-12T13:13:27.575Z"
   },
   {
    "duration": 45,
    "start_time": "2022-09-12T13:13:27.582Z"
   },
   {
    "duration": 16,
    "start_time": "2022-09-12T13:13:27.629Z"
   },
   {
    "duration": 207,
    "start_time": "2022-09-12T13:13:27.646Z"
   },
   {
    "duration": 8,
    "start_time": "2022-09-12T13:13:27.855Z"
   },
   {
    "duration": 26,
    "start_time": "2022-09-12T13:13:27.864Z"
   },
   {
    "duration": 13,
    "start_time": "2022-09-12T13:13:27.892Z"
   },
   {
    "duration": 12,
    "start_time": "2022-09-12T13:13:27.906Z"
   },
   {
    "duration": 20,
    "start_time": "2022-09-12T13:13:27.921Z"
   },
   {
    "duration": 7,
    "start_time": "2022-09-12T13:13:27.942Z"
   },
   {
    "duration": 8,
    "start_time": "2022-09-12T13:13:27.952Z"
   },
   {
    "duration": 7,
    "start_time": "2022-09-12T13:13:27.962Z"
   },
   {
    "duration": 7,
    "start_time": "2022-09-12T13:13:27.971Z"
   },
   {
    "duration": 8,
    "start_time": "2022-09-12T13:13:27.979Z"
   },
   {
    "duration": 9,
    "start_time": "2022-09-12T13:13:28.022Z"
   },
   {
    "duration": 4,
    "start_time": "2022-09-12T13:13:28.032Z"
   },
   {
    "duration": 10,
    "start_time": "2022-09-12T13:13:28.038Z"
   },
   {
    "duration": 8,
    "start_time": "2022-09-12T13:13:28.049Z"
   },
   {
    "duration": 8,
    "start_time": "2022-09-12T13:13:28.058Z"
   },
   {
    "duration": 276,
    "start_time": "2022-09-12T13:13:28.067Z"
   },
   {
    "duration": 4,
    "start_time": "2022-09-12T13:13:28.345Z"
   },
   {
    "duration": 622,
    "start_time": "2022-09-12T13:13:28.350Z"
   },
   {
    "duration": 535,
    "start_time": "2022-09-12T13:13:28.974Z"
   },
   {
    "duration": 519,
    "start_time": "2022-09-12T13:13:29.511Z"
   },
   {
    "duration": 630,
    "start_time": "2022-09-12T13:13:30.032Z"
   },
   {
    "duration": 295,
    "start_time": "2022-09-12T13:13:30.664Z"
   },
   {
    "duration": 330,
    "start_time": "2022-09-12T13:13:30.961Z"
   },
   {
    "duration": 195,
    "start_time": "2022-09-12T13:13:31.293Z"
   },
   {
    "duration": 116,
    "start_time": "2022-09-12T13:13:31.489Z"
   },
   {
    "duration": 129,
    "start_time": "2022-09-12T13:13:31.607Z"
   },
   {
    "duration": 115,
    "start_time": "2022-09-12T13:13:31.738Z"
   },
   {
    "duration": 114,
    "start_time": "2022-09-12T13:13:31.854Z"
   },
   {
    "duration": 224,
    "start_time": "2022-09-12T13:13:31.970Z"
   },
   {
    "duration": 130,
    "start_time": "2022-09-12T13:13:32.195Z"
   },
   {
    "duration": 116,
    "start_time": "2022-09-12T13:13:32.327Z"
   },
   {
    "duration": 467,
    "start_time": "2022-09-12T13:13:32.445Z"
   },
   {
    "duration": 73,
    "start_time": "2022-09-12T13:13:32.914Z"
   },
   {
    "duration": 167,
    "start_time": "2022-09-12T13:13:32.989Z"
   },
   {
    "duration": 160,
    "start_time": "2022-09-12T13:13:33.157Z"
   },
   {
    "duration": 306,
    "start_time": "2022-09-12T13:13:33.321Z"
   },
   {
    "duration": 162,
    "start_time": "2022-09-12T13:13:33.629Z"
   },
   {
    "duration": 152,
    "start_time": "2022-09-12T13:13:33.793Z"
   },
   {
    "duration": 50,
    "start_time": "2022-09-12T13:13:33.946Z"
   },
   {
    "duration": 0,
    "start_time": "2022-09-12T13:13:33.998Z"
   },
   {
    "duration": 0,
    "start_time": "2022-09-12T13:13:33.999Z"
   },
   {
    "duration": 0,
    "start_time": "2022-09-12T13:13:34.000Z"
   },
   {
    "duration": 0,
    "start_time": "2022-09-12T13:13:34.001Z"
   },
   {
    "duration": 0,
    "start_time": "2022-09-12T13:13:34.002Z"
   },
   {
    "duration": 0,
    "start_time": "2022-09-12T13:13:34.003Z"
   },
   {
    "duration": 14,
    "start_time": "2022-09-12T13:18:23.970Z"
   },
   {
    "duration": 586,
    "start_time": "2022-09-12T13:18:34.035Z"
   },
   {
    "duration": 89,
    "start_time": "2022-09-12T13:18:34.623Z"
   },
   {
    "duration": 27,
    "start_time": "2022-09-12T13:18:34.714Z"
   },
   {
    "duration": 22,
    "start_time": "2022-09-12T13:18:34.743Z"
   },
   {
    "duration": 98,
    "start_time": "2022-09-12T13:18:34.767Z"
   },
   {
    "duration": 1822,
    "start_time": "2022-09-12T13:18:34.866Z"
   },
   {
    "duration": 9,
    "start_time": "2022-09-12T13:18:36.690Z"
   },
   {
    "duration": 29,
    "start_time": "2022-09-12T13:18:36.700Z"
   },
   {
    "duration": 33,
    "start_time": "2022-09-12T13:18:36.731Z"
   },
   {
    "duration": 24,
    "start_time": "2022-09-12T13:18:36.766Z"
   },
   {
    "duration": 32,
    "start_time": "2022-09-12T13:18:36.791Z"
   },
   {
    "duration": 29,
    "start_time": "2022-09-12T13:18:36.824Z"
   },
   {
    "duration": 38,
    "start_time": "2022-09-12T13:18:36.855Z"
   },
   {
    "duration": 26,
    "start_time": "2022-09-12T13:18:36.895Z"
   },
   {
    "duration": 24,
    "start_time": "2022-09-12T13:18:36.922Z"
   },
   {
    "duration": 44,
    "start_time": "2022-09-12T13:18:36.947Z"
   },
   {
    "duration": 21,
    "start_time": "2022-09-12T13:18:36.992Z"
   },
   {
    "duration": 42,
    "start_time": "2022-09-12T13:18:37.014Z"
   },
   {
    "duration": 50,
    "start_time": "2022-09-12T13:18:37.058Z"
   },
   {
    "duration": 58,
    "start_time": "2022-09-12T13:18:37.109Z"
   },
   {
    "duration": 184,
    "start_time": "2022-09-12T13:18:37.169Z"
   },
   {
    "duration": 4,
    "start_time": "2022-09-12T13:18:37.355Z"
   },
   {
    "duration": 44,
    "start_time": "2022-09-12T13:18:37.360Z"
   },
   {
    "duration": 9,
    "start_time": "2022-09-12T13:18:37.405Z"
   },
   {
    "duration": 32,
    "start_time": "2022-09-12T13:18:37.415Z"
   },
   {
    "duration": 54,
    "start_time": "2022-09-12T13:18:37.448Z"
   },
   {
    "duration": 7,
    "start_time": "2022-09-12T13:18:37.503Z"
   },
   {
    "duration": 43,
    "start_time": "2022-09-12T13:18:37.513Z"
   },
   {
    "duration": 24,
    "start_time": "2022-09-12T13:18:37.558Z"
   },
   {
    "duration": 18,
    "start_time": "2022-09-12T13:18:37.584Z"
   },
   {
    "duration": 39,
    "start_time": "2022-09-12T13:18:37.604Z"
   },
   {
    "duration": 35,
    "start_time": "2022-09-12T13:18:37.644Z"
   },
   {
    "duration": 17,
    "start_time": "2022-09-12T13:18:37.680Z"
   },
   {
    "duration": 21,
    "start_time": "2022-09-12T13:18:37.698Z"
   },
   {
    "duration": 16,
    "start_time": "2022-09-12T13:18:37.720Z"
   },
   {
    "duration": 24,
    "start_time": "2022-09-12T13:18:37.737Z"
   },
   {
    "duration": 27,
    "start_time": "2022-09-12T13:18:37.762Z"
   },
   {
    "duration": 261,
    "start_time": "2022-09-12T13:18:37.790Z"
   },
   {
    "duration": 4,
    "start_time": "2022-09-12T13:18:38.053Z"
   },
   {
    "duration": 1098,
    "start_time": "2022-09-12T13:18:38.059Z"
   },
   {
    "duration": 958,
    "start_time": "2022-09-12T13:18:39.159Z"
   },
   {
    "duration": 513,
    "start_time": "2022-09-12T13:18:40.119Z"
   },
   {
    "duration": 667,
    "start_time": "2022-09-12T13:18:40.634Z"
   },
   {
    "duration": 294,
    "start_time": "2022-09-12T13:18:41.303Z"
   },
   {
    "duration": 340,
    "start_time": "2022-09-12T13:18:41.599Z"
   },
   {
    "duration": 206,
    "start_time": "2022-09-12T13:18:41.940Z"
   },
   {
    "duration": 118,
    "start_time": "2022-09-12T13:18:42.147Z"
   },
   {
    "duration": 131,
    "start_time": "2022-09-12T13:18:42.266Z"
   },
   {
    "duration": 128,
    "start_time": "2022-09-12T13:18:42.399Z"
   },
   {
    "duration": 111,
    "start_time": "2022-09-12T13:18:42.529Z"
   },
   {
    "duration": 234,
    "start_time": "2022-09-12T13:18:42.641Z"
   },
   {
    "duration": 132,
    "start_time": "2022-09-12T13:18:42.877Z"
   },
   {
    "duration": 137,
    "start_time": "2022-09-12T13:18:43.010Z"
   },
   {
    "duration": 435,
    "start_time": "2022-09-12T13:18:43.148Z"
   },
   {
    "duration": 71,
    "start_time": "2022-09-12T13:18:43.585Z"
   },
   {
    "duration": 164,
    "start_time": "2022-09-12T13:18:43.658Z"
   },
   {
    "duration": 160,
    "start_time": "2022-09-12T13:18:43.823Z"
   },
   {
    "duration": 304,
    "start_time": "2022-09-12T13:18:43.984Z"
   },
   {
    "duration": 164,
    "start_time": "2022-09-12T13:18:44.290Z"
   },
   {
    "duration": 141,
    "start_time": "2022-09-12T13:18:44.456Z"
   },
   {
    "duration": 97,
    "start_time": "2022-09-12T13:18:44.598Z"
   },
   {
    "duration": 0,
    "start_time": "2022-09-12T13:18:44.696Z"
   },
   {
    "duration": 0,
    "start_time": "2022-09-12T13:18:44.697Z"
   },
   {
    "duration": 0,
    "start_time": "2022-09-12T13:18:44.699Z"
   },
   {
    "duration": 0,
    "start_time": "2022-09-12T13:18:44.699Z"
   },
   {
    "duration": 0,
    "start_time": "2022-09-12T13:18:44.700Z"
   },
   {
    "duration": 0,
    "start_time": "2022-09-12T13:18:44.701Z"
   },
   {
    "duration": 13,
    "start_time": "2022-09-12T13:19:26.311Z"
   },
   {
    "duration": 144,
    "start_time": "2022-09-12T13:25:08.290Z"
   },
   {
    "duration": 247,
    "start_time": "2022-09-12T13:25:08.595Z"
   },
   {
    "duration": 197,
    "start_time": "2022-09-12T13:25:08.907Z"
   },
   {
    "duration": 17,
    "start_time": "2022-09-12T13:25:09.106Z"
   },
   {
    "duration": 23,
    "start_time": "2022-09-12T13:25:09.321Z"
   },
   {
    "duration": 140,
    "start_time": "2022-09-12T13:25:09.622Z"
   },
   {
    "duration": 154,
    "start_time": "2022-09-12T13:26:05.790Z"
   },
   {
    "duration": 45,
    "start_time": "2022-09-13T19:29:15.480Z"
   },
   {
    "duration": 832,
    "start_time": "2022-09-13T19:29:25.555Z"
   },
   {
    "duration": 310,
    "start_time": "2022-09-13T19:29:26.389Z"
   },
   {
    "duration": 29,
    "start_time": "2022-09-13T19:29:26.700Z"
   },
   {
    "duration": 25,
    "start_time": "2022-09-13T19:29:26.730Z"
   },
   {
    "duration": 68,
    "start_time": "2022-09-13T19:29:26.757Z"
   },
   {
    "duration": 1903,
    "start_time": "2022-09-13T19:29:26.827Z"
   },
   {
    "duration": 9,
    "start_time": "2022-09-13T19:29:28.732Z"
   },
   {
    "duration": 67,
    "start_time": "2022-09-13T19:29:28.742Z"
   },
   {
    "duration": 146,
    "start_time": "2022-09-13T19:29:28.811Z"
   },
   {
    "duration": 21,
    "start_time": "2022-09-13T19:29:28.959Z"
   },
   {
    "duration": 24,
    "start_time": "2022-09-13T19:29:28.982Z"
   },
   {
    "duration": 19,
    "start_time": "2022-09-13T19:29:29.008Z"
   },
   {
    "duration": 17,
    "start_time": "2022-09-13T19:29:29.028Z"
   },
   {
    "duration": 6,
    "start_time": "2022-09-13T19:29:29.047Z"
   },
   {
    "duration": 15,
    "start_time": "2022-09-13T19:29:29.055Z"
   },
   {
    "duration": 14,
    "start_time": "2022-09-13T19:29:29.072Z"
   },
   {
    "duration": 12,
    "start_time": "2022-09-13T19:29:29.087Z"
   },
   {
    "duration": 8,
    "start_time": "2022-09-13T19:29:29.101Z"
   },
   {
    "duration": 15,
    "start_time": "2022-09-13T19:29:29.110Z"
   },
   {
    "duration": 19,
    "start_time": "2022-09-13T19:29:29.149Z"
   },
   {
    "duration": 246,
    "start_time": "2022-09-13T19:29:29.170Z"
   },
   {
    "duration": 5,
    "start_time": "2022-09-13T19:29:29.418Z"
   },
   {
    "duration": 26,
    "start_time": "2022-09-13T19:29:29.425Z"
   },
   {
    "duration": 14,
    "start_time": "2022-09-13T19:29:29.453Z"
   },
   {
    "duration": 12,
    "start_time": "2022-09-13T19:29:29.469Z"
   },
   {
    "duration": 25,
    "start_time": "2022-09-13T19:29:29.482Z"
   },
   {
    "duration": 38,
    "start_time": "2022-09-13T19:29:29.509Z"
   },
   {
    "duration": 10,
    "start_time": "2022-09-13T19:29:29.551Z"
   },
   {
    "duration": 9,
    "start_time": "2022-09-13T19:29:29.563Z"
   },
   {
    "duration": 9,
    "start_time": "2022-09-13T19:29:29.574Z"
   },
   {
    "duration": 9,
    "start_time": "2022-09-13T19:29:29.585Z"
   },
   {
    "duration": 9,
    "start_time": "2022-09-13T19:29:29.595Z"
   },
   {
    "duration": 41,
    "start_time": "2022-09-13T19:29:29.606Z"
   },
   {
    "duration": 5,
    "start_time": "2022-09-13T19:29:29.649Z"
   },
   {
    "duration": 11,
    "start_time": "2022-09-13T19:29:29.656Z"
   },
   {
    "duration": 7,
    "start_time": "2022-09-13T19:29:29.669Z"
   },
   {
    "duration": 7,
    "start_time": "2022-09-13T19:29:29.677Z"
   },
   {
    "duration": 287,
    "start_time": "2022-09-13T19:29:29.686Z"
   },
   {
    "duration": 5,
    "start_time": "2022-09-13T19:29:29.975Z"
   },
   {
    "duration": 635,
    "start_time": "2022-09-13T19:29:29.982Z"
   },
   {
    "duration": 529,
    "start_time": "2022-09-13T19:29:30.618Z"
   },
   {
    "duration": 548,
    "start_time": "2022-09-13T19:29:31.148Z"
   },
   {
    "duration": 626,
    "start_time": "2022-09-13T19:29:31.697Z"
   },
   {
    "duration": 300,
    "start_time": "2022-09-13T19:29:32.325Z"
   },
   {
    "duration": 311,
    "start_time": "2022-09-13T19:29:32.626Z"
   },
   {
    "duration": 204,
    "start_time": "2022-09-13T19:29:32.939Z"
   },
   {
    "duration": 132,
    "start_time": "2022-09-13T19:29:33.147Z"
   },
   {
    "duration": 143,
    "start_time": "2022-09-13T19:29:33.281Z"
   },
   {
    "duration": 122,
    "start_time": "2022-09-13T19:29:33.426Z"
   },
   {
    "duration": 117,
    "start_time": "2022-09-13T19:29:33.550Z"
   },
   {
    "duration": 237,
    "start_time": "2022-09-13T19:29:33.668Z"
   },
   {
    "duration": 144,
    "start_time": "2022-09-13T19:29:33.907Z"
   },
   {
    "duration": 130,
    "start_time": "2022-09-13T19:29:34.052Z"
   },
   {
    "duration": 456,
    "start_time": "2022-09-13T19:29:34.184Z"
   },
   {
    "duration": 69,
    "start_time": "2022-09-13T19:29:34.647Z"
   },
   {
    "duration": 167,
    "start_time": "2022-09-13T19:29:34.719Z"
   },
   {
    "duration": 172,
    "start_time": "2022-09-13T19:29:34.887Z"
   },
   {
    "duration": 358,
    "start_time": "2022-09-13T19:29:35.060Z"
   },
   {
    "duration": 163,
    "start_time": "2022-09-13T19:29:35.420Z"
   },
   {
    "duration": 149,
    "start_time": "2022-09-13T19:29:35.585Z"
   },
   {
    "duration": 184,
    "start_time": "2022-09-13T19:29:35.735Z"
   },
   {
    "duration": 262,
    "start_time": "2022-09-13T19:29:35.920Z"
   },
   {
    "duration": 195,
    "start_time": "2022-09-13T19:29:36.183Z"
   },
   {
    "duration": 6,
    "start_time": "2022-09-13T19:29:36.380Z"
   },
   {
    "duration": 36,
    "start_time": "2022-09-13T19:29:36.387Z"
   },
   {
    "duration": 176,
    "start_time": "2022-09-13T19:29:36.425Z"
   },
   {
    "duration": 4,
    "start_time": "2022-09-13T19:30:09.226Z"
   },
   {
    "duration": 16,
    "start_time": "2022-09-13T19:49:47.465Z"
   },
   {
    "duration": 55,
    "start_time": "2022-09-13T19:51:47.894Z"
   },
   {
    "duration": 16,
    "start_time": "2022-09-13T20:01:07.801Z"
   },
   {
    "duration": 14,
    "start_time": "2022-09-13T20:01:31.578Z"
   },
   {
    "duration": 6,
    "start_time": "2022-09-13T20:03:07.760Z"
   },
   {
    "duration": 12,
    "start_time": "2022-09-13T20:05:14.343Z"
   },
   {
    "duration": 16,
    "start_time": "2022-09-13T20:12:05.759Z"
   },
   {
    "duration": 5,
    "start_time": "2022-09-13T20:13:08.738Z"
   },
   {
    "duration": 6,
    "start_time": "2022-09-13T20:17:11.581Z"
   },
   {
    "duration": 16,
    "start_time": "2022-09-13T20:18:06.308Z"
   },
   {
    "duration": 8,
    "start_time": "2022-09-13T20:18:56.410Z"
   },
   {
    "duration": 6,
    "start_time": "2022-09-13T20:19:14.371Z"
   },
   {
    "duration": 8,
    "start_time": "2022-09-13T20:19:46.284Z"
   },
   {
    "duration": 16,
    "start_time": "2022-09-13T20:21:25.307Z"
   },
   {
    "duration": 153,
    "start_time": "2022-09-13T20:33:09.015Z"
   },
   {
    "duration": 13,
    "start_time": "2022-09-13T20:52:34.600Z"
   },
   {
    "duration": 15,
    "start_time": "2022-09-13T20:52:49.451Z"
   },
   {
    "duration": 16,
    "start_time": "2022-09-13T20:55:57.973Z"
   },
   {
    "duration": 15,
    "start_time": "2022-09-13T20:56:32.779Z"
   },
   {
    "duration": 14,
    "start_time": "2022-09-13T20:56:45.183Z"
   },
   {
    "duration": 16,
    "start_time": "2022-09-13T20:57:08.098Z"
   },
   {
    "duration": 15,
    "start_time": "2022-09-13T20:57:33.557Z"
   },
   {
    "duration": 615,
    "start_time": "2022-09-13T22:19:33.660Z"
   },
   {
    "duration": 94,
    "start_time": "2022-09-13T22:19:34.277Z"
   },
   {
    "duration": 29,
    "start_time": "2022-09-13T22:19:34.373Z"
   },
   {
    "duration": 14,
    "start_time": "2022-09-13T22:19:34.404Z"
   },
   {
    "duration": 81,
    "start_time": "2022-09-13T22:19:34.419Z"
   },
   {
    "duration": 1811,
    "start_time": "2022-09-13T22:19:34.501Z"
   },
   {
    "duration": 12,
    "start_time": "2022-09-13T22:19:36.314Z"
   },
   {
    "duration": 25,
    "start_time": "2022-09-13T22:19:36.328Z"
   },
   {
    "duration": 7,
    "start_time": "2022-09-13T22:19:36.354Z"
   },
   {
    "duration": 20,
    "start_time": "2022-09-13T22:19:36.364Z"
   },
   {
    "duration": 38,
    "start_time": "2022-09-13T22:19:36.386Z"
   },
   {
    "duration": 9,
    "start_time": "2022-09-13T22:19:36.426Z"
   },
   {
    "duration": 12,
    "start_time": "2022-09-13T22:19:36.436Z"
   },
   {
    "duration": 4,
    "start_time": "2022-09-13T22:19:36.450Z"
   },
   {
    "duration": 8,
    "start_time": "2022-09-13T22:19:36.455Z"
   },
   {
    "duration": 9,
    "start_time": "2022-09-13T22:19:36.464Z"
   },
   {
    "duration": 4,
    "start_time": "2022-09-13T22:19:36.474Z"
   },
   {
    "duration": 5,
    "start_time": "2022-09-13T22:19:36.480Z"
   },
   {
    "duration": 10,
    "start_time": "2022-09-13T22:19:36.486Z"
   },
   {
    "duration": 16,
    "start_time": "2022-09-13T22:19:36.497Z"
   },
   {
    "duration": 194,
    "start_time": "2022-09-13T22:19:36.547Z"
   },
   {
    "duration": 5,
    "start_time": "2022-09-13T22:19:36.743Z"
   },
   {
    "duration": 18,
    "start_time": "2022-09-13T22:19:36.749Z"
   },
   {
    "duration": 9,
    "start_time": "2022-09-13T22:19:36.769Z"
   },
   {
    "duration": 8,
    "start_time": "2022-09-13T22:19:36.779Z"
   },
   {
    "duration": 27,
    "start_time": "2022-09-13T22:19:36.789Z"
   },
   {
    "duration": 7,
    "start_time": "2022-09-13T22:19:36.819Z"
   },
   {
    "duration": 7,
    "start_time": "2022-09-13T22:19:36.848Z"
   },
   {
    "duration": 7,
    "start_time": "2022-09-13T22:19:36.857Z"
   },
   {
    "duration": 7,
    "start_time": "2022-09-13T22:19:36.866Z"
   },
   {
    "duration": 12,
    "start_time": "2022-09-13T22:19:36.874Z"
   },
   {
    "duration": 7,
    "start_time": "2022-09-13T22:19:36.887Z"
   },
   {
    "duration": 13,
    "start_time": "2022-09-13T22:19:36.896Z"
   },
   {
    "duration": 38,
    "start_time": "2022-09-13T22:19:36.910Z"
   },
   {
    "duration": 9,
    "start_time": "2022-09-13T22:19:36.949Z"
   },
   {
    "duration": 10,
    "start_time": "2022-09-13T22:19:36.959Z"
   },
   {
    "duration": 5,
    "start_time": "2022-09-13T22:19:36.970Z"
   },
   {
    "duration": 272,
    "start_time": "2022-09-13T22:19:36.976Z"
   },
   {
    "duration": 5,
    "start_time": "2022-09-13T22:19:37.249Z"
   },
   {
    "duration": 582,
    "start_time": "2022-09-13T22:19:37.255Z"
   },
   {
    "duration": 560,
    "start_time": "2022-09-13T22:19:37.840Z"
   },
   {
    "duration": 534,
    "start_time": "2022-09-13T22:19:38.401Z"
   },
   {
    "duration": 674,
    "start_time": "2022-09-13T22:19:38.937Z"
   },
   {
    "duration": 298,
    "start_time": "2022-09-13T22:19:39.612Z"
   },
   {
    "duration": 326,
    "start_time": "2022-09-13T22:19:39.911Z"
   },
   {
    "duration": 197,
    "start_time": "2022-09-13T22:19:40.239Z"
   },
   {
    "duration": 118,
    "start_time": "2022-09-13T22:19:40.437Z"
   },
   {
    "duration": 140,
    "start_time": "2022-09-13T22:19:40.556Z"
   },
   {
    "duration": 126,
    "start_time": "2022-09-13T22:19:40.697Z"
   },
   {
    "duration": 111,
    "start_time": "2022-09-13T22:19:40.824Z"
   },
   {
    "duration": 233,
    "start_time": "2022-09-13T22:19:40.937Z"
   },
   {
    "duration": 135,
    "start_time": "2022-09-13T22:19:41.171Z"
   },
   {
    "duration": 127,
    "start_time": "2022-09-13T22:19:41.307Z"
   },
   {
    "duration": 484,
    "start_time": "2022-09-13T22:19:41.436Z"
   },
   {
    "duration": 75,
    "start_time": "2022-09-13T22:19:41.921Z"
   },
   {
    "duration": 165,
    "start_time": "2022-09-13T22:19:41.998Z"
   },
   {
    "duration": 169,
    "start_time": "2022-09-13T22:19:42.165Z"
   },
   {
    "duration": 313,
    "start_time": "2022-09-13T22:19:42.336Z"
   },
   {
    "duration": 163,
    "start_time": "2022-09-13T22:19:42.651Z"
   },
   {
    "duration": 146,
    "start_time": "2022-09-13T22:19:42.816Z"
   },
   {
    "duration": 161,
    "start_time": "2022-09-13T22:19:42.963Z"
   },
   {
    "duration": 253,
    "start_time": "2022-09-13T22:19:43.126Z"
   },
   {
    "duration": 156,
    "start_time": "2022-09-13T22:19:43.380Z"
   },
   {
    "duration": 145,
    "start_time": "2022-09-13T22:19:43.547Z"
   },
   {
    "duration": 4,
    "start_time": "2022-09-13T22:19:43.694Z"
   },
   {
    "duration": 23,
    "start_time": "2022-09-13T22:19:43.699Z"
   },
   {
    "duration": 178,
    "start_time": "2022-09-13T22:19:43.723Z"
   },
   {
    "duration": 3,
    "start_time": "2022-09-13T22:21:36.952Z"
   },
   {
    "duration": 66,
    "start_time": "2022-09-13T22:21:52.852Z"
   },
   {
    "duration": 11,
    "start_time": "2022-09-13T22:21:58.118Z"
   },
   {
    "duration": 18,
    "start_time": "2022-09-13T22:22:03.370Z"
   },
   {
    "duration": 4,
    "start_time": "2022-09-13T22:22:18.151Z"
   },
   {
    "duration": 14,
    "start_time": "2022-09-13T22:22:20.961Z"
   },
   {
    "duration": 3,
    "start_time": "2022-09-13T22:22:49.698Z"
   },
   {
    "duration": 14,
    "start_time": "2022-09-13T22:22:51.414Z"
   },
   {
    "duration": 5,
    "start_time": "2022-09-13T22:23:28.121Z"
   },
   {
    "duration": 13,
    "start_time": "2022-09-13T22:23:30.292Z"
   },
   {
    "duration": 623,
    "start_time": "2022-09-13T22:23:37.254Z"
   },
   {
    "duration": 96,
    "start_time": "2022-09-13T22:23:37.879Z"
   },
   {
    "duration": 29,
    "start_time": "2022-09-13T22:23:37.977Z"
   },
   {
    "duration": 14,
    "start_time": "2022-09-13T22:23:38.007Z"
   },
   {
    "duration": 80,
    "start_time": "2022-09-13T22:23:38.022Z"
   },
   {
    "duration": 1803,
    "start_time": "2022-09-13T22:23:38.104Z"
   },
   {
    "duration": 11,
    "start_time": "2022-09-13T22:23:39.909Z"
   },
   {
    "duration": 25,
    "start_time": "2022-09-13T22:23:39.922Z"
   },
   {
    "duration": 6,
    "start_time": "2022-09-13T22:23:39.949Z"
   },
   {
    "duration": 12,
    "start_time": "2022-09-13T22:23:39.959Z"
   },
   {
    "duration": 22,
    "start_time": "2022-09-13T22:23:39.973Z"
   },
   {
    "duration": 18,
    "start_time": "2022-09-13T22:23:39.996Z"
   },
   {
    "duration": 43,
    "start_time": "2022-09-13T22:23:40.016Z"
   },
   {
    "duration": 4,
    "start_time": "2022-09-13T22:23:40.061Z"
   },
   {
    "duration": 9,
    "start_time": "2022-09-13T22:23:40.067Z"
   },
   {
    "duration": 11,
    "start_time": "2022-09-13T22:23:40.078Z"
   },
   {
    "duration": 5,
    "start_time": "2022-09-13T22:23:40.090Z"
   },
   {
    "duration": 10,
    "start_time": "2022-09-13T22:23:40.097Z"
   },
   {
    "duration": 11,
    "start_time": "2022-09-13T22:23:40.108Z"
   },
   {
    "duration": 17,
    "start_time": "2022-09-13T22:23:40.146Z"
   },
   {
    "duration": 192,
    "start_time": "2022-09-13T22:23:40.165Z"
   },
   {
    "duration": 4,
    "start_time": "2022-09-13T22:23:40.359Z"
   },
   {
    "duration": 19,
    "start_time": "2022-09-13T22:23:40.364Z"
   },
   {
    "duration": 9,
    "start_time": "2022-09-13T22:23:40.384Z"
   },
   {
    "duration": 10,
    "start_time": "2022-09-13T22:23:40.395Z"
   },
   {
    "duration": 40,
    "start_time": "2022-09-13T22:23:40.406Z"
   },
   {
    "duration": 8,
    "start_time": "2022-09-13T22:23:40.448Z"
   },
   {
    "duration": 8,
    "start_time": "2022-09-13T22:23:40.460Z"
   },
   {
    "duration": 8,
    "start_time": "2022-09-13T22:23:40.470Z"
   },
   {
    "duration": 8,
    "start_time": "2022-09-13T22:23:40.479Z"
   },
   {
    "duration": 8,
    "start_time": "2022-09-13T22:23:40.488Z"
   },
   {
    "duration": 8,
    "start_time": "2022-09-13T22:23:40.498Z"
   },
   {
    "duration": 52,
    "start_time": "2022-09-13T22:23:40.507Z"
   },
   {
    "duration": 4,
    "start_time": "2022-09-13T22:23:40.560Z"
   },
   {
    "duration": 13,
    "start_time": "2022-09-13T22:23:40.566Z"
   },
   {
    "duration": 3,
    "start_time": "2022-09-13T22:23:40.580Z"
   },
   {
    "duration": 11,
    "start_time": "2022-09-13T22:23:40.585Z"
   },
   {
    "duration": 6,
    "start_time": "2022-09-13T22:23:40.597Z"
   },
   {
    "duration": 5,
    "start_time": "2022-09-13T22:23:40.604Z"
   },
   {
    "duration": 292,
    "start_time": "2022-09-13T22:23:40.610Z"
   },
   {
    "duration": 4,
    "start_time": "2022-09-13T22:23:40.903Z"
   },
   {
    "duration": 620,
    "start_time": "2022-09-13T22:23:40.909Z"
   },
   {
    "duration": 557,
    "start_time": "2022-09-13T22:23:41.530Z"
   },
   {
    "duration": 542,
    "start_time": "2022-09-13T22:23:42.089Z"
   },
   {
    "duration": 730,
    "start_time": "2022-09-13T22:23:42.633Z"
   },
   {
    "duration": 614,
    "start_time": "2022-09-13T22:23:43.364Z"
   },
   {
    "duration": 703,
    "start_time": "2022-09-13T22:23:43.980Z"
   },
   {
    "duration": 306,
    "start_time": "2022-09-13T22:23:44.684Z"
   },
   {
    "duration": 126,
    "start_time": "2022-09-13T22:23:44.991Z"
   },
   {
    "duration": 143,
    "start_time": "2022-09-13T22:23:45.119Z"
   },
   {
    "duration": 133,
    "start_time": "2022-09-13T22:23:45.264Z"
   },
   {
    "duration": 115,
    "start_time": "2022-09-13T22:23:45.399Z"
   },
   {
    "duration": 237,
    "start_time": "2022-09-13T22:23:45.516Z"
   },
   {
    "duration": 138,
    "start_time": "2022-09-13T22:23:45.755Z"
   },
   {
    "duration": 125,
    "start_time": "2022-09-13T22:23:45.895Z"
   },
   {
    "duration": 481,
    "start_time": "2022-09-13T22:23:46.022Z"
   },
   {
    "duration": 70,
    "start_time": "2022-09-13T22:23:46.505Z"
   },
   {
    "duration": 160,
    "start_time": "2022-09-13T22:23:46.577Z"
   },
   {
    "duration": 166,
    "start_time": "2022-09-13T22:23:46.738Z"
   },
   {
    "duration": 313,
    "start_time": "2022-09-13T22:23:46.906Z"
   },
   {
    "duration": 172,
    "start_time": "2022-09-13T22:23:47.220Z"
   },
   {
    "duration": 139,
    "start_time": "2022-09-13T22:23:47.394Z"
   },
   {
    "duration": 153,
    "start_time": "2022-09-13T22:23:47.535Z"
   },
   {
    "duration": 240,
    "start_time": "2022-09-13T22:23:47.690Z"
   },
   {
    "duration": 156,
    "start_time": "2022-09-13T22:23:47.932Z"
   },
   {
    "duration": 163,
    "start_time": "2022-09-13T22:23:48.090Z"
   },
   {
    "duration": 5,
    "start_time": "2022-09-13T22:23:48.254Z"
   },
   {
    "duration": 28,
    "start_time": "2022-09-13T22:23:48.261Z"
   },
   {
    "duration": 169,
    "start_time": "2022-09-13T22:23:48.291Z"
   },
   {
    "duration": 5,
    "start_time": "2022-09-13T22:24:17.654Z"
   },
   {
    "duration": 5,
    "start_time": "2022-09-13T22:24:31.054Z"
   },
   {
    "duration": 13,
    "start_time": "2022-09-13T22:24:33.190Z"
   },
   {
    "duration": 6,
    "start_time": "2022-09-13T22:24:37.753Z"
   },
   {
    "duration": 13,
    "start_time": "2022-09-13T22:24:39.438Z"
   }
  ],
  "kernelspec": {
   "display_name": "Python 3 (ipykernel)",
   "language": "python",
   "name": "python3"
  },
  "language_info": {
   "codemirror_mode": {
    "name": "ipython",
    "version": 3
   },
   "file_extension": ".py",
   "mimetype": "text/x-python",
   "name": "python",
   "nbconvert_exporter": "python",
   "pygments_lexer": "ipython3",
   "version": "3.9.13"
  },
  "toc": {
   "base_numbering": 1,
   "nav_menu": {
    "height": "142px",
    "width": "418px"
   },
   "number_sections": true,
   "sideBar": true,
   "skip_h1_title": true,
   "title_cell": "Table of Contents",
   "title_sidebar": "Contents",
   "toc_cell": false,
   "toc_position": {},
   "toc_section_display": true,
   "toc_window_display": true
  }
 },
 "nbformat": 4,
 "nbformat_minor": 2
}
