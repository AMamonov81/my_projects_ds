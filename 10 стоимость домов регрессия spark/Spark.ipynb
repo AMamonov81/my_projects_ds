{
 "cells": [
  {
   "cell_type": "markdown",
   "id": "GEqQaHzsZ_bA",
   "metadata": {
    "id": "GEqQaHzsZ_bA"
   },
   "source": [
    "## Предсказание стоимости жилья\n",
    "\n",
    "В проекте вам нужно обучить модель линейной регрессии на данных о жилье в Калифорнии в 1990 году. На основе данных нужно предсказать медианную стоимость дома в жилом массиве. Обучите модель и сделайте предсказания на тестовой выборке. Для оценки качества модели используйте метрики RMSE, MAE и R2."
   ]
  },
  {
   "cell_type": "markdown",
   "id": "53871372",
   "metadata": {
    "id": "53871372"
   },
   "source": [
    "# Подготовка данных"
   ]
  },
  {
   "cell_type": "code",
   "execution_count": 1,
   "id": "df92e3ec",
   "metadata": {
    "id": "df92e3ec"
   },
   "outputs": [],
   "source": [
    "import pandas as pd \n",
    "import numpy as np\n",
    "\n",
    "import pyspark\n",
    "from pyspark.sql import SparkSession\n",
    "from pyspark.sql.types import *\n",
    "import pyspark.sql.functions as F\n",
    "from pyspark.ml.feature import StringIndexer, VectorAssembler, StandardScaler\n",
    "from pyspark.ml.regression import LinearRegression\n",
    "from pyspark.ml.evaluation import RegressionEvaluator\n",
    "#from pyspark.ml import Pipeline\n",
    "\n",
    "\n"
   ]
  },
  {
   "cell_type": "code",
   "execution_count": 2,
   "id": "bc8fe459",
   "metadata": {},
   "outputs": [
    {
     "name": "stderr",
     "output_type": "stream",
     "text": [
      "                                                                                \r"
     ]
    }
   ],
   "source": [
    "pyspark_version = pyspark.__version__\n",
    "if int(pyspark_version[:1]) == 3:\n",
    "    from pyspark.ml.feature import OneHotEncoder    \n",
    "elif int(pyspark_version[:1]) == 2:\n",
    "    from pyspark.ml.feature import OneHotEncodeEstimator\n",
    "        \n",
    "RANDOM_SEED = 2022\n",
    "\n",
    "spark = SparkSession.builder \\\n",
    "                    .master(\"local\") \\\n",
    "                    .appName(\"EDA California Housing\") \\\n",
    "                    .getOrCreate()\n",
    "\n",
    "df = spark.read.option('header', 'true').csv('/datasets/housing.csv', inferSchema = True) "
   ]
  },
  {
   "cell_type": "code",
   "execution_count": 3,
   "id": "e6af80e4",
   "metadata": {},
   "outputs": [
    {
     "name": "stdout",
     "output_type": "stream",
     "text": [
      "+---------+--------+------------------+-----------+--------------+----------+----------+-------------+------------------+---------------+\n",
      "|longitude|latitude|housing_median_age|total_rooms|total_bedrooms|population|households|median_income|median_house_value|ocean_proximity|\n",
      "+---------+--------+------------------+-----------+--------------+----------+----------+-------------+------------------+---------------+\n",
      "|  -122.23|   37.88|              41.0|      880.0|         129.0|     322.0|     126.0|       8.3252|          452600.0|       NEAR BAY|\n",
      "|  -122.22|   37.86|              21.0|     7099.0|        1106.0|    2401.0|    1138.0|       8.3014|          358500.0|       NEAR BAY|\n",
      "+---------+--------+------------------+-----------+--------------+----------+----------+-------------+------------------+---------------+\n",
      "only showing top 2 rows\n",
      "\n"
     ]
    }
   ],
   "source": [
    "df.show(2)"
   ]
  },
  {
   "cell_type": "code",
   "execution_count": 4,
   "id": "6b14e61e",
   "metadata": {},
   "outputs": [
    {
     "name": "stdout",
     "output_type": "stream",
     "text": [
      "root\n",
      " |-- longitude: double (nullable = true)\n",
      " |-- latitude: double (nullable = true)\n",
      " |-- housing_median_age: double (nullable = true)\n",
      " |-- total_rooms: double (nullable = true)\n",
      " |-- total_bedrooms: double (nullable = true)\n",
      " |-- population: double (nullable = true)\n",
      " |-- households: double (nullable = true)\n",
      " |-- median_income: double (nullable = true)\n",
      " |-- median_house_value: double (nullable = true)\n",
      " |-- ocean_proximity: string (nullable = true)\n",
      "\n"
     ]
    }
   ],
   "source": [
    "df.printSchema()"
   ]
  },
  {
   "cell_type": "code",
   "execution_count": 5,
   "id": "9daa9069",
   "metadata": {},
   "outputs": [
    {
     "name": "stdout",
     "output_type": "stream",
     "text": [
      "               column    type\n",
      "0           longitude  double\n",
      "1            latitude  double\n",
      "2  housing_median_age  double\n",
      "3         total_rooms  double\n",
      "4      total_bedrooms  double\n",
      "5          population  double\n",
      "6          households  double\n",
      "7       median_income  double\n",
      "8  median_house_value  double\n",
      "9     ocean_proximity  string\n"
     ]
    }
   ],
   "source": [
    "print(pd.DataFrame(df.dtypes, columns=['column', 'type']))"
   ]
  },
  {
   "cell_type": "code",
   "execution_count": 6,
   "id": "beee3392",
   "metadata": {},
   "outputs": [
    {
     "name": "stderr",
     "output_type": "stream",
     "text": [
      "                                                                                \r"
     ]
    },
    {
     "data": {
      "text/html": [
       "<div>\n",
       "<style scoped>\n",
       "    .dataframe tbody tr th:only-of-type {\n",
       "        vertical-align: middle;\n",
       "    }\n",
       "\n",
       "    .dataframe tbody tr th {\n",
       "        vertical-align: top;\n",
       "    }\n",
       "\n",
       "    .dataframe thead th {\n",
       "        text-align: right;\n",
       "    }\n",
       "</style>\n",
       "<table border=\"1\" class=\"dataframe\">\n",
       "  <thead>\n",
       "    <tr style=\"text-align: right;\">\n",
       "      <th></th>\n",
       "      <th>summary</th>\n",
       "      <th>longitude</th>\n",
       "      <th>latitude</th>\n",
       "      <th>housing_median_age</th>\n",
       "      <th>total_rooms</th>\n",
       "      <th>total_bedrooms</th>\n",
       "      <th>population</th>\n",
       "      <th>households</th>\n",
       "      <th>median_income</th>\n",
       "      <th>median_house_value</th>\n",
       "      <th>ocean_proximity</th>\n",
       "    </tr>\n",
       "  </thead>\n",
       "  <tbody>\n",
       "    <tr>\n",
       "      <th>0</th>\n",
       "      <td>count</td>\n",
       "      <td>20640</td>\n",
       "      <td>20640</td>\n",
       "      <td>20640</td>\n",
       "      <td>20640</td>\n",
       "      <td>20433</td>\n",
       "      <td>20640</td>\n",
       "      <td>20640</td>\n",
       "      <td>20640</td>\n",
       "      <td>20640</td>\n",
       "      <td>20640</td>\n",
       "    </tr>\n",
       "    <tr>\n",
       "      <th>1</th>\n",
       "      <td>mean</td>\n",
       "      <td>-119.56970445736148</td>\n",
       "      <td>35.6318614341087</td>\n",
       "      <td>28.639486434108527</td>\n",
       "      <td>2635.7630813953488</td>\n",
       "      <td>537.8705525375618</td>\n",
       "      <td>1425.4767441860465</td>\n",
       "      <td>499.5396802325581</td>\n",
       "      <td>3.8706710029070246</td>\n",
       "      <td>206855.81690891474</td>\n",
       "      <td>None</td>\n",
       "    </tr>\n",
       "    <tr>\n",
       "      <th>2</th>\n",
       "      <td>stddev</td>\n",
       "      <td>2.003531723502584</td>\n",
       "      <td>2.135952397457101</td>\n",
       "      <td>12.58555761211163</td>\n",
       "      <td>2181.6152515827944</td>\n",
       "      <td>421.38507007403115</td>\n",
       "      <td>1132.46212176534</td>\n",
       "      <td>382.3297528316098</td>\n",
       "      <td>1.899821717945263</td>\n",
       "      <td>115395.61587441359</td>\n",
       "      <td>None</td>\n",
       "    </tr>\n",
       "    <tr>\n",
       "      <th>3</th>\n",
       "      <td>min</td>\n",
       "      <td>-124.35</td>\n",
       "      <td>32.54</td>\n",
       "      <td>1.0</td>\n",
       "      <td>2.0</td>\n",
       "      <td>1.0</td>\n",
       "      <td>3.0</td>\n",
       "      <td>1.0</td>\n",
       "      <td>0.4999</td>\n",
       "      <td>14999.0</td>\n",
       "      <td>&lt;1H OCEAN</td>\n",
       "    </tr>\n",
       "    <tr>\n",
       "      <th>4</th>\n",
       "      <td>max</td>\n",
       "      <td>-114.31</td>\n",
       "      <td>41.95</td>\n",
       "      <td>52.0</td>\n",
       "      <td>39320.0</td>\n",
       "      <td>6445.0</td>\n",
       "      <td>35682.0</td>\n",
       "      <td>6082.0</td>\n",
       "      <td>15.0001</td>\n",
       "      <td>500001.0</td>\n",
       "      <td>NEAR OCEAN</td>\n",
       "    </tr>\n",
       "  </tbody>\n",
       "</table>\n",
       "</div>"
      ],
      "text/plain": [
       "  summary            longitude           latitude  housing_median_age  \\\n",
       "0   count                20640              20640               20640   \n",
       "1    mean  -119.56970445736148   35.6318614341087  28.639486434108527   \n",
       "2  stddev    2.003531723502584  2.135952397457101   12.58555761211163   \n",
       "3     min              -124.35              32.54                 1.0   \n",
       "4     max              -114.31              41.95                52.0   \n",
       "\n",
       "          total_rooms      total_bedrooms          population  \\\n",
       "0               20640               20433               20640   \n",
       "1  2635.7630813953488   537.8705525375618  1425.4767441860465   \n",
       "2  2181.6152515827944  421.38507007403115    1132.46212176534   \n",
       "3                 2.0                 1.0                 3.0   \n",
       "4             39320.0              6445.0             35682.0   \n",
       "\n",
       "          households       median_income  median_house_value ocean_proximity  \n",
       "0              20640               20640               20640           20640  \n",
       "1  499.5396802325581  3.8706710029070246  206855.81690891474            None  \n",
       "2  382.3297528316098   1.899821717945263  115395.61587441359            None  \n",
       "3                1.0              0.4999             14999.0       <1H OCEAN  \n",
       "4             6082.0             15.0001            500001.0      NEAR OCEAN  "
      ]
     },
     "execution_count": 6,
     "metadata": {},
     "output_type": "execute_result"
    }
   ],
   "source": [
    "df.describe().toPandas()"
   ]
  },
  {
   "cell_type": "markdown",
   "id": "2a7d8679",
   "metadata": {},
   "source": [
    "В исследуемых данных 20640 наблюдений, 10 показателей, 9 из них числовые, один категориальный признак."
   ]
  },
  {
   "cell_type": "code",
   "execution_count": 7,
   "id": "8d9dd235",
   "metadata": {},
   "outputs": [
    {
     "name": "stdout",
     "output_type": "stream",
     "text": [
      "longitude 0\n",
      "latitude 0\n",
      "housing_median_age 0\n",
      "total_rooms 0\n",
      "total_bedrooms 207\n",
      "population 0\n",
      "households 0\n",
      "median_income 0\n",
      "median_house_value 0\n",
      "ocean_proximity 20640\n"
     ]
    }
   ],
   "source": [
    "columns = df.columns\n",
    "\n",
    "for column in columns:\n",
    "    check_col = F.col(column).cast('float').isNull()\n",
    "    print(column, df.filter(check_col).count())"
   ]
  },
  {
   "cell_type": "code",
   "execution_count": 8,
   "id": "64ccd30a",
   "metadata": {},
   "outputs": [],
   "source": [
    "median = df.approxQuantile('total_bedrooms', [0.5], 0)[0] \n",
    "df= df.na.fill({'total_bedrooms': median})"
   ]
  },
  {
   "cell_type": "markdown",
   "id": "0392237f",
   "metadata": {},
   "source": [
    "В колонке \"total_bedrooms\" выявлены 207 пропусков, заполнены медианным значением."
   ]
  },
  {
   "cell_type": "code",
   "execution_count": 9,
   "id": "34980bef",
   "metadata": {},
   "outputs": [
    {
     "name": "stdout",
     "output_type": "stream",
     "text": [
      "longitude 0\n",
      "latitude 0\n",
      "housing_median_age 0\n",
      "total_rooms 0\n",
      "total_bedrooms 0\n",
      "population 0\n",
      "households 0\n",
      "median_income 0\n",
      "median_house_value 0\n",
      "ocean_proximity 20640\n"
     ]
    }
   ],
   "source": [
    "columns = df.columns\n",
    "\n",
    "for column in columns:\n",
    "    check_col = F.col(column).cast('float').isNull()\n",
    "    print(column, df.filter(check_col).count())"
   ]
  },
  {
   "cell_type": "code",
   "execution_count": 10,
   "id": "33425c7c",
   "metadata": {},
   "outputs": [
    {
     "name": "stderr",
     "output_type": "stream",
     "text": [
      "[Stage 46:>                                                         (0 + 1) / 1]\r"
     ]
    },
    {
     "name": "stdout",
     "output_type": "stream",
     "text": [
      "16418 4222\n"
     ]
    },
    {
     "name": "stderr",
     "output_type": "stream",
     "text": [
      "                                                                                \r"
     ]
    }
   ],
   "source": [
    "train_data, test_data = df.randomSplit([.8,.2], seed=RANDOM_SEED)\n",
    "print(train_data.count(), test_data.count())"
   ]
  },
  {
   "cell_type": "markdown",
   "id": "b9a17f9a",
   "metadata": {},
   "source": [
    "Разделение данных на тренировочную и тестовую часть в пропорции 4:1"
   ]
  },
  {
   "cell_type": "code",
   "execution_count": 11,
   "id": "6a438bc7",
   "metadata": {},
   "outputs": [
    {
     "name": "stderr",
     "output_type": "stream",
     "text": [
      "                                                                                \r"
     ]
    },
    {
     "name": "stdout",
     "output_type": "stream",
     "text": [
      "+---------+--------+------------------+-----------+--------------+----------+----------+-------------+------------------+---------------+-------------------+-------------------+\n",
      "|longitude|latitude|housing_median_age|total_rooms|total_bedrooms|population|households|median_income|median_house_value|ocean_proximity|ocean_proximity_idx|ocean_proximity_ohe|\n",
      "+---------+--------+------------------+-----------+--------------+----------+----------+-------------+------------------+---------------+-------------------+-------------------+\n",
      "|  -124.35|   40.54|              52.0|     1820.0|         300.0|     806.0|     270.0|       3.0147|           94600.0|     NEAR OCEAN|                2.0|      (3,[2],[1.0])|\n",
      "|   -124.3|    41.8|              19.0|     2672.0|         552.0|    1298.0|     478.0|       1.9797|           85800.0|     NEAR OCEAN|                2.0|      (3,[2],[1.0])|\n",
      "+---------+--------+------------------+-----------+--------------+----------+----------+-------------+------------------+---------------+-------------------+-------------------+\n",
      "only showing top 2 rows\n",
      "\n"
     ]
    }
   ],
   "source": [
    "indexer = StringIndexer(inputCols=['ocean_proximity'], \n",
    "                        outputCols=['ocean_proximity_idx'], handleInvalid=\"skip\") \n",
    "indexer = indexer.fit(train_data)\n",
    "train_data = indexer.transform(train_data)\n",
    "\n",
    "\n",
    "encoder = OneHotEncoder(inputCols=['ocean_proximity_idx'],\n",
    "                        outputCols=['ocean_proximity_ohe'])\n",
    "encoder = encoder.fit(train_data)\n",
    "train_data = encoder.transform(train_data)\n",
    "\n",
    "train_data.show(2)"
   ]
  },
  {
   "cell_type": "markdown",
   "id": "9a4bba8f",
   "metadata": {},
   "source": [
    "Обработка категориального признака - перевод в числовой."
   ]
  },
  {
   "cell_type": "code",
   "execution_count": 12,
   "id": "70706a29",
   "metadata": {},
   "outputs": [],
   "source": [
    "categorical_assembler = \\\n",
    "        VectorAssembler(inputCols=[\"ocean_proximity_ohe\"],\n",
    "                                        outputCol=\"categorical_features\")\n",
    "train_data = categorical_assembler.transform(train_data)"
   ]
  },
  {
   "cell_type": "markdown",
   "id": "7c32e3c0",
   "metadata": {},
   "source": [
    "Формирование вектора категориального признака."
   ]
  },
  {
   "cell_type": "code",
   "execution_count": 13,
   "id": "79f9a0c9",
   "metadata": {},
   "outputs": [
    {
     "name": "stdout",
     "output_type": "stream",
     "text": [
      "+---------+--------+------------------+-----------+--------------+----------+----------+-------------+------------------+---------------+-------------------+-------------------+--------------------+\n",
      "|longitude|latitude|housing_median_age|total_rooms|total_bedrooms|population|households|median_income|median_house_value|ocean_proximity|ocean_proximity_idx|ocean_proximity_ohe|categorical_features|\n",
      "+---------+--------+------------------+-----------+--------------+----------+----------+-------------+------------------+---------------+-------------------+-------------------+--------------------+\n",
      "|  -124.35|   40.54|              52.0|     1820.0|         300.0|     806.0|     270.0|       3.0147|           94600.0|     NEAR OCEAN|                2.0|      (3,[2],[1.0])|       [0.0,0.0,1.0]|\n",
      "|   -124.3|    41.8|              19.0|     2672.0|         552.0|    1298.0|     478.0|       1.9797|           85800.0|     NEAR OCEAN|                2.0|      (3,[2],[1.0])|       [0.0,0.0,1.0]|\n",
      "+---------+--------+------------------+-----------+--------------+----------+----------+-------------+------------------+---------------+-------------------+-------------------+--------------------+\n",
      "only showing top 2 rows\n",
      "\n"
     ]
    }
   ],
   "source": [
    "train_data.show(2)"
   ]
  },
  {
   "cell_type": "code",
   "execution_count": 14,
   "id": "02c37df6",
   "metadata": {},
   "outputs": [
    {
     "name": "stdout",
     "output_type": "stream",
     "text": [
      "+---------+--------+------------------+-----------+--------------+----------+----------+-------------+\n",
      "|longitude|latitude|housing_median_age|total_rooms|total_bedrooms|population|households|median_income|\n",
      "+---------+--------+------------------+-----------+--------------+----------+----------+-------------+\n",
      "|  -124.35|   40.54|              52.0|     1820.0|         300.0|     806.0|     270.0|       3.0147|\n",
      "|   -124.3|    41.8|              19.0|     2672.0|         552.0|    1298.0|     478.0|       1.9797|\n",
      "+---------+--------+------------------+-----------+--------------+----------+----------+-------------+\n",
      "only showing top 2 rows\n",
      "\n"
     ]
    }
   ],
   "source": [
    "numerical_cols  = ['longitude', 'latitude', 'housing_median_age', 'total_rooms', 'total_bedrooms',\n",
    "                   'population', 'households', 'median_income']\n",
    "target = 'median_house_value' \n",
    "train_data[numerical_cols].show(2)"
   ]
  },
  {
   "cell_type": "code",
   "execution_count": 15,
   "id": "1ed0e175",
   "metadata": {},
   "outputs": [],
   "source": [
    "numerical_assembler = VectorAssembler(inputCols=numerical_cols, outputCol=\"numerical_features\")\n",
    "train_data = numerical_assembler.transform(train_data) "
   ]
  },
  {
   "cell_type": "code",
   "execution_count": 16,
   "id": "8b34b3f8",
   "metadata": {},
   "outputs": [
    {
     "name": "stdout",
     "output_type": "stream",
     "text": [
      "+---------+--------+------------------+-----------+--------------+----------+----------+-------------+------------------+---------------+-------------------+-------------------+--------------------+--------------------+\n",
      "|longitude|latitude|housing_median_age|total_rooms|total_bedrooms|population|households|median_income|median_house_value|ocean_proximity|ocean_proximity_idx|ocean_proximity_ohe|categorical_features|  numerical_features|\n",
      "+---------+--------+------------------+-----------+--------------+----------+----------+-------------+------------------+---------------+-------------------+-------------------+--------------------+--------------------+\n",
      "|  -124.35|   40.54|              52.0|     1820.0|         300.0|     806.0|     270.0|       3.0147|           94600.0|     NEAR OCEAN|                2.0|      (3,[2],[1.0])|       [0.0,0.0,1.0]|[-124.35,40.54,52...|\n",
      "|   -124.3|    41.8|              19.0|     2672.0|         552.0|    1298.0|     478.0|       1.9797|           85800.0|     NEAR OCEAN|                2.0|      (3,[2],[1.0])|       [0.0,0.0,1.0]|[-124.3,41.8,19.0...|\n",
      "+---------+--------+------------------+-----------+--------------+----------+----------+-------------+------------------+---------------+-------------------+-------------------+--------------------+--------------------+\n",
      "only showing top 2 rows\n",
      "\n"
     ]
    }
   ],
   "source": [
    "train_data.show(2)"
   ]
  },
  {
   "cell_type": "code",
   "execution_count": 17,
   "id": "e35e118c",
   "metadata": {},
   "outputs": [
    {
     "name": "stderr",
     "output_type": "stream",
     "text": [
      "                                                                                \r"
     ]
    },
    {
     "name": "stdout",
     "output_type": "stream",
     "text": [
      "+---------+--------+------------------+-----------+--------------+----------+----------+-------------+------------------+---------------+-------------------+-------------------+--------------------+--------------------+-------------------------+\n",
      "|longitude|latitude|housing_median_age|total_rooms|total_bedrooms|population|households|median_income|median_house_value|ocean_proximity|ocean_proximity_idx|ocean_proximity_ohe|categorical_features|  numerical_features|scaled_numerical_features|\n",
      "+---------+--------+------------------+-----------+--------------+----------+----------+-------------+------------------+---------------+-------------------+-------------------+--------------------+--------------------+-------------------------+\n",
      "|  -124.35|   40.54|              52.0|     1820.0|         300.0|     806.0|     270.0|       3.0147|           94600.0|     NEAR OCEAN|                2.0|      (3,[2],[1.0])|       [0.0,0.0,1.0]|[-124.35,40.54,52...|     [-61.952887791441...|\n",
      "|   -124.3|    41.8|              19.0|     2672.0|         552.0|    1298.0|     478.0|       1.9797|           85800.0|     NEAR OCEAN|                2.0|      (3,[2],[1.0])|       [0.0,0.0,1.0]|[-124.3,41.8,19.0...|     [-61.927977100733...|\n",
      "+---------+--------+------------------+-----------+--------------+----------+----------+-------------+------------------+---------------+-------------------+-------------------+--------------------+--------------------+-------------------------+\n",
      "only showing top 2 rows\n",
      "\n"
     ]
    }
   ],
   "source": [
    "scaler = StandardScaler(inputCol=\"numerical_features\", outputCol=\"scaled_numerical_features\",\n",
    "                        withStd=True, withMean=False)\n",
    "scalerModel = scaler.fit(train_data)\n",
    "train_data = scalerModel.transform(train_data)\n",
    "train_data.show(2)"
   ]
  },
  {
   "cell_type": "markdown",
   "id": "142544d2",
   "metadata": {},
   "source": [
    "Выделение числовых признаков, формирование общего вектора и масштабирование."
   ]
  },
  {
   "cell_type": "code",
   "execution_count": 18,
   "id": "5dfef05d",
   "metadata": {},
   "outputs": [
    {
     "name": "stdout",
     "output_type": "stream",
     "text": [
      "['longitude', 'latitude', 'housing_median_age', 'total_rooms', 'total_bedrooms', 'population', 'households', 'median_income', 'median_house_value', 'ocean_proximity', 'ocean_proximity_idx', 'ocean_proximity_ohe', 'categorical_features', 'numerical_features', 'scaled_numerical_features']\n"
     ]
    }
   ],
   "source": [
    "print(train_data.columns)"
   ]
  },
  {
   "cell_type": "code",
   "execution_count": 19,
   "id": "038ec6b4",
   "metadata": {},
   "outputs": [
    {
     "name": "stdout",
     "output_type": "stream",
     "text": [
      "+--------------------+-------------------------+\n",
      "|categorical_features|scaled_numerical_features|\n",
      "+--------------------+-------------------------+\n",
      "|       [0.0,0.0,1.0]|     [-61.952887791441...|\n",
      "|       [0.0,0.0,1.0]|     [-61.927977100733...|\n",
      "|       [0.0,0.0,1.0]|     [-61.913030686308...|\n",
      "+--------------------+-------------------------+\n",
      "only showing top 3 rows\n",
      "\n"
     ]
    }
   ],
   "source": [
    "all_features = ['categorical_features','scaled_numerical_features']\n",
    "\n",
    "final_assembler_all = VectorAssembler(inputCols=all_features, \n",
    "                                  outputCol=\"all_features\") \n",
    "train_data = final_assembler_all.transform(train_data)\n",
    "\n",
    "train_data.select(all_features).show(3) "
   ]
  },
  {
   "cell_type": "markdown",
   "id": "3e991d6d",
   "metadata": {},
   "source": [
    "Формирование общего вектора числовых и категориальных признаков"
   ]
  },
  {
   "cell_type": "code",
   "execution_count": 20,
   "id": "59f8a54f",
   "metadata": {},
   "outputs": [
    {
     "name": "stdout",
     "output_type": "stream",
     "text": [
      "['longitude', 'latitude', 'housing_median_age', 'total_rooms', 'total_bedrooms', 'population', 'households', 'median_income', 'median_house_value', 'ocean_proximity', 'ocean_proximity_idx', 'ocean_proximity_ohe', 'categorical_features', 'numerical_features', 'scaled_numerical_features', 'all_features']\n"
     ]
    }
   ],
   "source": [
    "print(train_data.columns)"
   ]
  },
  {
   "cell_type": "code",
   "execution_count": 21,
   "id": "92a6e013",
   "metadata": {},
   "outputs": [],
   "source": [
    "test_data = indexer.transform(test_data)\n",
    "test_data = encoder.transform(test_data)\n",
    "test_data = categorical_assembler.transform(test_data)\n",
    "test_data = numerical_assembler.transform(test_data)\n",
    "test_data = scalerModel.transform(test_data)\n",
    "test_data = final_assembler_all.transform(test_data)"
   ]
  },
  {
   "cell_type": "markdown",
   "id": "d4df7d3a",
   "metadata": {},
   "source": [
    "Предобработка тестовой выборки обученными на тренировочной части трансформерами."
   ]
  },
  {
   "cell_type": "code",
   "execution_count": 22,
   "id": "fade08cf",
   "metadata": {
    "scrolled": false
   },
   "outputs": [
    {
     "name": "stdout",
     "output_type": "stream",
     "text": [
      "+--------------------+-------------------------+\n",
      "|categorical_features|scaled_numerical_features|\n",
      "+--------------------+-------------------------+\n",
      "|       [0.0,0.0,1.0]|     [-61.927977100733...|\n",
      "|       [0.0,0.0,1.0]|     [-61.893102133741...|\n",
      "+--------------------+-------------------------+\n",
      "only showing top 2 rows\n",
      "\n"
     ]
    }
   ],
   "source": [
    "test_data[all_features].show(2)"
   ]
  },
  {
   "cell_type": "markdown",
   "id": "e69d339e",
   "metadata": {},
   "source": [
    "# Промежуточный вывод 1"
   ]
  },
  {
   "cell_type": "markdown",
   "id": "62e057c8",
   "metadata": {},
   "source": [
    "В изучаемом датасете 20640 наблюдений по 10 признакам (9 числовых и 1 категориальный). Данные корректны, с небольшим количеством пропусков (заменены медианным значением)"
   ]
  },
  {
   "cell_type": "markdown",
   "id": "9f0a82f3",
   "metadata": {
    "id": "9f0a82f3"
   },
   "source": [
    "# Обучение моделей"
   ]
  },
  {
   "cell_type": "code",
   "execution_count": 23,
   "id": "bddb08c4",
   "metadata": {
    "id": "bddb08c4"
   },
   "outputs": [
    {
     "name": "stderr",
     "output_type": "stream",
     "text": [
      "23/03/21 09:58:00 WARN Instrumentation: [afdffdc4] regParam is zero, which might cause numerical instability and overfitting.\n",
      "23/03/21 09:58:00 WARN BLAS: Failed to load implementation from: com.github.fommil.netlib.NativeSystemBLAS\n",
      "23/03/21 09:58:00 WARN BLAS: Failed to load implementation from: com.github.fommil.netlib.NativeRefBLAS\n",
      "23/03/21 09:58:01 WARN LAPACK: Failed to load implementation from: com.github.fommil.netlib.NativeSystemLAPACK\n",
      "23/03/21 09:58:01 WARN LAPACK: Failed to load implementation from: com.github.fommil.netlib.NativeRefLAPACK\n",
      "                                                                                \r"
     ]
    }
   ],
   "source": [
    "lr_all = LinearRegression(labelCol=target, featuresCol='all_features')\n",
    "\n",
    "model_all = lr_all.fit(train_data)\n"
   ]
  },
  {
   "cell_type": "code",
   "execution_count": 24,
   "id": "ac330c8b",
   "metadata": {},
   "outputs": [
    {
     "name": "stderr",
     "output_type": "stream",
     "text": [
      "23/03/21 09:58:03 WARN Instrumentation: [36894cef] regParam is zero, which might cause numerical instability and overfitting.\n",
      "                                                                                \r"
     ]
    }
   ],
   "source": [
    "lr_num = LinearRegression(labelCol=target, featuresCol='scaled_numerical_features')\n",
    "\n",
    "model_num = lr_num.fit(train_data) "
   ]
  },
  {
   "cell_type": "markdown",
   "id": "515d757a",
   "metadata": {},
   "source": [
    "Обучены 2 модели линейной регрессии: одна обучена на числовых и категориальных признаках, другая только на числовых."
   ]
  },
  {
   "cell_type": "markdown",
   "id": "757fd103",
   "metadata": {
    "id": "757fd103"
   },
   "source": [
    "# Анализ результатов"
   ]
  },
  {
   "cell_type": "code",
   "execution_count": 25,
   "id": "7a6c9838",
   "metadata": {},
   "outputs": [
    {
     "name": "stdout",
     "output_type": "stream",
     "text": [
      "+--------------------+------------------+------------------+\n",
      "|        all_features|median_house_value|        prediction|\n",
      "+--------------------+------------------+------------------+\n",
      "|[0.0,0.0,1.0,-61....|          103600.0|152990.34290591907|\n",
      "|[0.0,0.0,1.0,-61....|           50800.0|214967.33394710347|\n",
      "|[0.0,0.0,1.0,-61....|           58100.0|142714.13234324753|\n",
      "|[0.0,0.0,1.0,-61....|           68400.0|132483.00813667197|\n",
      "|[0.0,0.0,1.0,-61....|           72200.0| 164098.8109928714|\n",
      "+--------------------+------------------+------------------+\n",
      "only showing top 5 rows\n",
      "\n"
     ]
    }
   ],
   "source": [
    "pred_all = model_all.transform(test_data)\n",
    "pred_all.select(\"all_features\", \"median_house_value\", \"prediction\").show(5)\n"
   ]
  },
  {
   "cell_type": "code",
   "execution_count": 26,
   "id": "8d16157a",
   "metadata": {},
   "outputs": [
    {
     "name": "stdout",
     "output_type": "stream",
     "text": [
      "+-------------------------+------------------+------------------+\n",
      "|scaled_numerical_features|median_house_value|        prediction|\n",
      "+-------------------------+------------------+------------------+\n",
      "|     [-61.927977100733...|          103600.0|101397.02412080672|\n",
      "|     [-61.893102133741...|           50800.0|183325.89393649017|\n",
      "|     [-61.883137857458...|           58100.0|109609.16753835836|\n",
      "|     [-61.883137857458...|           68400.0| 80433.62265060423|\n",
      "|     [-61.868191443033...|           72200.0| 129998.2662690985|\n",
      "+-------------------------+------------------+------------------+\n",
      "only showing top 5 rows\n",
      "\n"
     ]
    }
   ],
   "source": [
    "pred_num = model_num.transform(test_data)\n",
    "pred_num.select(\"scaled_numerical_features\", \"median_house_value\", \"prediction\").show(5)"
   ]
  },
  {
   "cell_type": "code",
   "execution_count": 27,
   "id": "2c2b0bbd",
   "metadata": {},
   "outputs": [
    {
     "name": "stdout",
     "output_type": "stream",
     "text": [
      "The RMSE for the linear regression model is 69009.76\n"
     ]
    }
   ],
   "source": [
    "regressionEvaluator = RegressionEvaluator(predictionCol=\"prediction\", labelCol=\"median_house_value\", metricName=\"rmse\")\n",
    "rmse = regressionEvaluator.evaluate(pred_num)\n",
    "print(f\"The RMSE for the linear regression model is {rmse:0.2f}\")"
   ]
  },
  {
   "cell_type": "code",
   "execution_count": 28,
   "id": "bb508569",
   "metadata": {},
   "outputs": [
    {
     "name": "stdout",
     "output_type": "stream",
     "text": [
      "The MAE for the linear regression model is 50751.75\n"
     ]
    }
   ],
   "source": [
    "mae = regressionEvaluator.setMetricName(\"mae\").evaluate(pred_num)\n",
    "print(f\"The MAE for the linear regression model is {mae:0.2f}\")"
   ]
  },
  {
   "cell_type": "code",
   "execution_count": 29,
   "id": "8af68080",
   "metadata": {},
   "outputs": [
    {
     "name": "stdout",
     "output_type": "stream",
     "text": [
      "The R2 for the linear regression model is 0.65\n"
     ]
    }
   ],
   "source": [
    "r2 = regressionEvaluator.setMetricName(\"r2\").evaluate(pred_num)\n",
    "print(f\"The R2 for the linear regression model is {r2:0.2f}\")"
   ]
  },
  {
   "cell_type": "code",
   "execution_count": 30,
   "id": "b7fe9e2e",
   "metadata": {},
   "outputs": [
    {
     "name": "stdout",
     "output_type": "stream",
     "text": [
      "The RMSE for the linear regression model is 68223.13\n"
     ]
    }
   ],
   "source": [
    "regressionEvaluator = RegressionEvaluator(predictionCol=\"prediction\", labelCol=\"median_house_value\", metricName=\"rmse\")\n",
    "rmse = regressionEvaluator.evaluate(pred_all)\n",
    "print(f'The RMSE for the linear regression model is {rmse:0.2f}')\n",
    "#trainingSummary = model_all.summary\n",
    "#print(\"RMSE: %f\" % trainingSummary.rootMeanSquaredError)"
   ]
  },
  {
   "cell_type": "code",
   "execution_count": 31,
   "id": "31a84f2d",
   "metadata": {},
   "outputs": [
    {
     "name": "stdout",
     "output_type": "stream",
     "text": [
      "The MAE for the linear regression model is 49725.96\n"
     ]
    }
   ],
   "source": [
    "mae = regressionEvaluator.setMetricName(\"mae\").evaluate(pred_all)\n",
    "print(f\"The MAE for the linear regression model is {mae:0.2f}\")\n",
    "#print(\"MAE: %f\" % trainingSummary.meanAbsoluteError)"
   ]
  },
  {
   "cell_type": "code",
   "execution_count": 32,
   "id": "f3442d51",
   "metadata": {},
   "outputs": [
    {
     "name": "stdout",
     "output_type": "stream",
     "text": [
      "The R2 for the linear regression model is 0.66\n"
     ]
    }
   ],
   "source": [
    "r2 = regressionEvaluator.setMetricName(\"r2\").evaluate(pred_all)\n",
    "print(f\"The R2 for the linear regression model is {r2:0.2f}\")\n",
    "#print(\"R2: %f\" % trainingSummary.r2)"
   ]
  },
  {
   "cell_type": "code",
   "execution_count": 33,
   "id": "3c15cc1b",
   "metadata": {},
   "outputs": [],
   "source": [
    "spark.stop()"
   ]
  },
  {
   "cell_type": "markdown",
   "id": "e7a34bfc",
   "metadata": {},
   "source": [
    "# Вывод"
   ]
  },
  {
   "cell_type": "markdown",
   "id": "f8a162ab",
   "metadata": {},
   "source": [
    "На данных о жилой недвижимости в Калифорнии были были обучены две модели линейной регрессии для предсказания медианной стоимости дома в жилом массиве. Одна модель обучалась на всём массиве данных, другая обучалась без использования категориального признака: расположение относительно берега океана. Для оценки качества моделей были использованы метрики метрики RMSE, MAE и R2. Качество модели обученной на всех данных по всем метрикам показала лучшие результаты, однако разница оказалась незначительная. RMSE: 68223.13 и 69212.86, MAE: 49725.96 и 50866.56, R2: 0.66 и 0.65"
   ]
  },
  {
   "cell_type": "markdown",
   "id": "79200254",
   "metadata": {},
   "source": [
    "# Примечание"
   ]
  },
  {
   "cell_type": "markdown",
   "id": "2379f1fa",
   "metadata": {},
   "source": [
    "Применение пайплайна для предобработки данных и применение RegressionEvaluator для оценки качества модели model_all (обученная на всём массиве данных) приводило к возникновению ошибки в функционировании SPARK, поэтому для оценки качества этой модели применён метод summary."
   ]
  }
 ],
 "metadata": {
  "ExecuteTimeLog": [
   {
    "duration": 30181,
    "start_time": "2023-03-16T14:48:09.603Z"
   },
   {
    "duration": 45,
    "start_time": "2023-03-16T14:48:43.771Z"
   },
   {
    "duration": 773,
    "start_time": "2023-03-16T14:49:13.319Z"
   },
   {
    "duration": 6,
    "start_time": "2023-03-16T15:01:31.610Z"
   },
   {
    "duration": 50,
    "start_time": "2023-03-16T15:05:37.704Z"
   },
   {
    "duration": 10,
    "start_time": "2023-03-16T15:06:41.105Z"
   },
   {
    "duration": 5299,
    "start_time": "2023-03-16T15:08:14.896Z"
   },
   {
    "duration": 6433,
    "start_time": "2023-03-16T15:27:54.133Z"
   },
   {
    "duration": 49,
    "start_time": "2023-03-16T19:36:52.190Z"
   },
   {
    "duration": 24741,
    "start_time": "2023-03-16T19:37:07.563Z"
   },
   {
    "duration": 681,
    "start_time": "2023-03-16T19:37:32.306Z"
   },
   {
    "duration": 15,
    "start_time": "2023-03-16T19:37:32.989Z"
   },
   {
    "duration": 93,
    "start_time": "2023-03-16T19:37:33.006Z"
   },
   {
    "duration": 4390,
    "start_time": "2023-03-16T19:37:33.100Z"
   },
   {
    "duration": 5589,
    "start_time": "2023-03-16T19:37:37.492Z"
   },
   {
    "duration": 234,
    "start_time": "2023-03-16T19:37:43.084Z"
   },
   {
    "duration": 97,
    "start_time": "2023-03-16T19:39:18.008Z"
   },
   {
    "duration": 1932,
    "start_time": "2023-03-16T19:54:19.354Z"
   },
   {
    "duration": 9,
    "start_time": "2023-03-16T20:49:28.044Z"
   },
   {
    "duration": 2,
    "start_time": "2023-03-16T20:49:34.409Z"
   },
   {
    "duration": 979,
    "start_time": "2023-03-16T20:49:36.376Z"
   },
   {
    "duration": 26476,
    "start_time": "2023-03-16T20:50:51.225Z"
   },
   {
    "duration": 818,
    "start_time": "2023-03-16T20:51:17.703Z"
   },
   {
    "duration": 21,
    "start_time": "2023-03-16T20:51:18.580Z"
   },
   {
    "duration": 48,
    "start_time": "2023-03-16T20:51:18.603Z"
   },
   {
    "duration": 4980,
    "start_time": "2023-03-16T20:51:18.654Z"
   },
   {
    "duration": 5910,
    "start_time": "2023-03-16T20:51:23.683Z"
   },
   {
    "duration": 2518,
    "start_time": "2023-03-16T20:51:29.595Z"
   },
   {
    "duration": 3,
    "start_time": "2023-03-16T20:51:32.115Z"
   },
   {
    "duration": 1174,
    "start_time": "2023-03-16T20:51:32.185Z"
   },
   {
    "duration": 112,
    "start_time": "2023-03-16T21:00:05.176Z"
   },
   {
    "duration": 27373,
    "start_time": "2023-03-16T21:01:49.711Z"
   },
   {
    "duration": 817,
    "start_time": "2023-03-16T21:02:17.087Z"
   },
   {
    "duration": 13,
    "start_time": "2023-03-16T21:02:17.906Z"
   },
   {
    "duration": 34,
    "start_time": "2023-03-16T21:02:17.986Z"
   },
   {
    "duration": 5199,
    "start_time": "2023-03-16T21:02:18.022Z"
   },
   {
    "duration": 5979,
    "start_time": "2023-03-16T21:02:23.222Z"
   },
   {
    "duration": 2721,
    "start_time": "2023-03-16T21:02:29.202Z"
   },
   {
    "duration": 4,
    "start_time": "2023-03-16T21:02:31.984Z"
   },
   {
    "duration": 219,
    "start_time": "2023-03-16T21:02:31.989Z"
   },
   {
    "duration": 1004,
    "start_time": "2023-03-16T21:04:38.927Z"
   },
   {
    "duration": 32,
    "start_time": "2023-03-16T21:08:57.818Z"
   },
   {
    "duration": 34,
    "start_time": "2023-03-16T21:09:03.492Z"
   },
   {
    "duration": 31,
    "start_time": "2023-03-16T21:09:20.487Z"
   },
   {
    "duration": 336,
    "start_time": "2023-03-16T21:09:47.570Z"
   },
   {
    "duration": 98,
    "start_time": "2023-03-16T21:10:23.980Z"
   },
   {
    "duration": 92,
    "start_time": "2023-03-16T21:11:40.817Z"
   },
   {
    "duration": 9,
    "start_time": "2023-03-16T21:12:31.472Z"
   },
   {
    "duration": 12,
    "start_time": "2023-03-16T21:12:40.614Z"
   },
   {
    "duration": 11,
    "start_time": "2023-03-16T21:12:55.692Z"
   },
   {
    "duration": 401,
    "start_time": "2023-03-16T21:13:25.408Z"
   },
   {
    "duration": 26405,
    "start_time": "2023-03-16T21:16:22.696Z"
   },
   {
    "duration": 811,
    "start_time": "2023-03-16T21:16:49.104Z"
   },
   {
    "duration": 82,
    "start_time": "2023-03-16T21:16:49.917Z"
   },
   {
    "duration": 91,
    "start_time": "2023-03-16T21:16:50.001Z"
   },
   {
    "duration": 4993,
    "start_time": "2023-03-16T21:16:50.099Z"
   },
   {
    "duration": 6027,
    "start_time": "2023-03-16T21:16:55.096Z"
   },
   {
    "duration": 2566,
    "start_time": "2023-03-16T21:17:01.126Z"
   },
   {
    "duration": 414,
    "start_time": "2023-03-16T21:17:03.694Z"
   },
   {
    "duration": 120,
    "start_time": "2023-03-16T21:17:04.110Z"
   },
   {
    "duration": 1313,
    "start_time": "2023-03-16T21:17:04.283Z"
   },
   {
    "duration": 0,
    "start_time": "2023-03-16T21:17:05.599Z"
   },
   {
    "duration": 474,
    "start_time": "2023-03-16T21:22:35.173Z"
   },
   {
    "duration": 489,
    "start_time": "2023-03-16T21:24:13.246Z"
   },
   {
    "duration": 77,
    "start_time": "2023-03-16T21:25:59.988Z"
   },
   {
    "duration": 27549,
    "start_time": "2023-03-16T21:26:28.460Z"
   },
   {
    "duration": 982,
    "start_time": "2023-03-16T21:26:56.012Z"
   },
   {
    "duration": 24,
    "start_time": "2023-03-16T21:26:56.995Z"
   },
   {
    "duration": 113,
    "start_time": "2023-03-16T21:26:57.087Z"
   },
   {
    "duration": 5299,
    "start_time": "2023-03-16T21:26:57.204Z"
   },
   {
    "duration": 6793,
    "start_time": "2023-03-16T21:27:02.505Z"
   },
   {
    "duration": 2786,
    "start_time": "2023-03-16T21:27:09.300Z"
   },
   {
    "duration": 395,
    "start_time": "2023-03-16T21:27:12.090Z"
   },
   {
    "duration": 121,
    "start_time": "2023-03-16T21:27:12.487Z"
   },
   {
    "duration": 469,
    "start_time": "2023-03-16T21:27:12.613Z"
   },
   {
    "duration": 838,
    "start_time": "2023-03-16T21:29:09.025Z"
   },
   {
    "duration": 514,
    "start_time": "2023-03-16T21:31:10.125Z"
   },
   {
    "duration": 26843,
    "start_time": "2023-03-16T21:31:49.742Z"
   },
   {
    "duration": 833,
    "start_time": "2023-03-16T21:32:16.587Z"
   },
   {
    "duration": 85,
    "start_time": "2023-03-16T21:32:17.422Z"
   },
   {
    "duration": 30,
    "start_time": "2023-03-16T21:32:17.510Z"
   },
   {
    "duration": 5160,
    "start_time": "2023-03-16T21:32:17.542Z"
   },
   {
    "duration": 6006,
    "start_time": "2023-03-16T21:32:22.704Z"
   },
   {
    "duration": 2513,
    "start_time": "2023-03-16T21:32:28.712Z"
   },
   {
    "duration": 418,
    "start_time": "2023-03-16T21:32:31.281Z"
   },
   {
    "duration": 194,
    "start_time": "2023-03-16T21:32:31.701Z"
   },
   {
    "duration": 1174,
    "start_time": "2023-03-16T21:32:31.897Z"
   },
   {
    "duration": 354,
    "start_time": "2023-03-16T21:33:38.506Z"
   },
   {
    "duration": 25305,
    "start_time": "2023-03-18T07:00:21.859Z"
   },
   {
    "duration": 802,
    "start_time": "2023-03-18T07:00:47.166Z"
   },
   {
    "duration": 79,
    "start_time": "2023-03-18T07:00:47.970Z"
   },
   {
    "duration": 96,
    "start_time": "2023-03-18T07:00:48.051Z"
   },
   {
    "duration": 4709,
    "start_time": "2023-03-18T07:00:48.149Z"
   },
   {
    "duration": 5286,
    "start_time": "2023-03-18T07:00:52.860Z"
   },
   {
    "duration": 2606,
    "start_time": "2023-03-18T07:00:58.153Z"
   },
   {
    "duration": 342,
    "start_time": "2023-03-18T07:01:00.761Z"
   },
   {
    "duration": 121,
    "start_time": "2023-03-18T07:01:01.140Z"
   },
   {
    "duration": 1090,
    "start_time": "2023-03-18T07:01:01.264Z"
   },
   {
    "duration": 290,
    "start_time": "2023-03-18T07:01:52.286Z"
   },
   {
    "duration": 19,
    "start_time": "2023-03-18T07:08:40.701Z"
   },
   {
    "duration": 30,
    "start_time": "2023-03-18T07:09:13.930Z"
   },
   {
    "duration": 316,
    "start_time": "2023-03-18T07:09:31.133Z"
   },
   {
    "duration": 406,
    "start_time": "2023-03-18T07:09:59.966Z"
   },
   {
    "duration": 26032,
    "start_time": "2023-03-18T07:12:00.035Z"
   },
   {
    "duration": 995,
    "start_time": "2023-03-18T07:12:26.069Z"
   },
   {
    "duration": 14,
    "start_time": "2023-03-18T07:12:27.065Z"
   },
   {
    "duration": 47,
    "start_time": "2023-03-18T07:12:27.142Z"
   },
   {
    "duration": 4798,
    "start_time": "2023-03-18T07:12:27.191Z"
   },
   {
    "duration": 5154,
    "start_time": "2023-03-18T07:12:32.046Z"
   },
   {
    "duration": 2167,
    "start_time": "2023-03-18T07:12:37.201Z"
   },
   {
    "duration": 100,
    "start_time": "2023-03-18T07:12:39.369Z"
   },
   {
    "duration": 482,
    "start_time": "2023-03-18T07:12:39.471Z"
   },
   {
    "duration": 408,
    "start_time": "2023-03-18T07:12:39.955Z"
   },
   {
    "duration": 96,
    "start_time": "2023-03-18T07:12:40.365Z"
   },
   {
    "duration": 484,
    "start_time": "2023-03-18T07:12:40.463Z"
   },
   {
    "duration": 986,
    "start_time": "2023-03-18T07:14:23.561Z"
   },
   {
    "duration": 118,
    "start_time": "2023-03-18T07:15:18.476Z"
   },
   {
    "duration": 556,
    "start_time": "2023-03-18T07:16:01.754Z"
   },
   {
    "duration": 701,
    "start_time": "2023-03-18T07:16:21.125Z"
   },
   {
    "duration": 507,
    "start_time": "2023-03-18T07:19:47.855Z"
   },
   {
    "duration": 29198,
    "start_time": "2023-03-18T07:25:16.975Z"
   },
   {
    "duration": 997,
    "start_time": "2023-03-18T07:25:46.176Z"
   },
   {
    "duration": 71,
    "start_time": "2023-03-18T07:25:47.174Z"
   },
   {
    "duration": 35,
    "start_time": "2023-03-18T07:25:47.246Z"
   },
   {
    "duration": 5481,
    "start_time": "2023-03-18T07:25:47.284Z"
   },
   {
    "duration": 6803,
    "start_time": "2023-03-18T07:25:52.766Z"
   },
   {
    "duration": 2794,
    "start_time": "2023-03-18T07:25:59.571Z"
   },
   {
    "duration": 126,
    "start_time": "2023-03-18T07:26:02.367Z"
   },
   {
    "duration": 440,
    "start_time": "2023-03-18T07:26:02.540Z"
   },
   {
    "duration": 359,
    "start_time": "2023-03-18T07:26:03.052Z"
   },
   {
    "duration": 60,
    "start_time": "2023-03-18T07:26:03.412Z"
   },
   {
    "duration": 588,
    "start_time": "2023-03-18T07:26:03.473Z"
   },
   {
    "duration": 27802,
    "start_time": "2023-03-18T07:27:21.269Z"
   },
   {
    "duration": 889,
    "start_time": "2023-03-18T07:27:49.074Z"
   },
   {
    "duration": 15,
    "start_time": "2023-03-18T07:27:49.964Z"
   },
   {
    "duration": 97,
    "start_time": "2023-03-18T07:27:49.981Z"
   },
   {
    "duration": 5269,
    "start_time": "2023-03-18T07:27:50.080Z"
   },
   {
    "duration": 5650,
    "start_time": "2023-03-18T07:27:55.350Z"
   },
   {
    "duration": 2830,
    "start_time": "2023-03-18T07:28:01.050Z"
   },
   {
    "duration": 101,
    "start_time": "2023-03-18T07:28:03.881Z"
   },
   {
    "duration": 621,
    "start_time": "2023-03-18T07:28:03.984Z"
   },
   {
    "duration": 432,
    "start_time": "2023-03-18T07:28:04.649Z"
   },
   {
    "duration": 97,
    "start_time": "2023-03-18T07:28:05.084Z"
   },
   {
    "duration": 492,
    "start_time": "2023-03-18T07:28:05.183Z"
   },
   {
    "duration": 1123,
    "start_time": "2023-03-18T07:28:54.691Z"
   },
   {
    "duration": 4215,
    "start_time": "2023-03-18T07:32:37.768Z"
   },
   {
    "duration": 27404,
    "start_time": "2023-03-18T07:33:23.962Z"
   },
   {
    "duration": 892,
    "start_time": "2023-03-18T07:33:51.369Z"
   },
   {
    "duration": 82,
    "start_time": "2023-03-18T07:33:52.263Z"
   },
   {
    "duration": 34,
    "start_time": "2023-03-18T07:33:52.347Z"
   },
   {
    "duration": 5080,
    "start_time": "2023-03-18T07:33:52.383Z"
   },
   {
    "duration": 5789,
    "start_time": "2023-03-18T07:33:57.465Z"
   },
   {
    "duration": 2892,
    "start_time": "2023-03-18T07:34:03.255Z"
   },
   {
    "duration": 107,
    "start_time": "2023-03-18T07:34:06.149Z"
   },
   {
    "duration": 640,
    "start_time": "2023-03-18T07:34:06.258Z"
   },
   {
    "duration": 473,
    "start_time": "2023-03-18T07:34:06.900Z"
   },
   {
    "duration": 102,
    "start_time": "2023-03-18T07:34:07.374Z"
   },
   {
    "duration": 584,
    "start_time": "2023-03-18T07:34:07.478Z"
   },
   {
    "duration": 1058,
    "start_time": "2023-03-18T07:34:08.064Z"
   },
   {
    "duration": 9,
    "start_time": "2023-03-18T07:49:46.768Z"
   },
   {
    "duration": 9,
    "start_time": "2023-03-18T07:49:56.909Z"
   },
   {
    "duration": 8,
    "start_time": "2023-03-18T07:54:20.115Z"
   },
   {
    "duration": 8,
    "start_time": "2023-03-18T07:56:25.392Z"
   },
   {
    "duration": 26760,
    "start_time": "2023-03-18T07:56:44.204Z"
   },
   {
    "duration": 898,
    "start_time": "2023-03-18T07:57:10.967Z"
   },
   {
    "duration": 81,
    "start_time": "2023-03-18T07:57:11.867Z"
   },
   {
    "duration": 30,
    "start_time": "2023-03-18T07:57:11.951Z"
   },
   {
    "duration": 4951,
    "start_time": "2023-03-18T07:57:12.042Z"
   },
   {
    "duration": 5259,
    "start_time": "2023-03-18T07:57:16.995Z"
   },
   {
    "duration": 143,
    "start_time": "2023-03-18T07:57:22.256Z"
   },
   {
    "duration": 0,
    "start_time": "2023-03-18T07:57:22.401Z"
   },
   {
    "duration": 0,
    "start_time": "2023-03-18T07:57:22.402Z"
   },
   {
    "duration": 0,
    "start_time": "2023-03-18T07:57:22.403Z"
   },
   {
    "duration": 0,
    "start_time": "2023-03-18T07:57:22.404Z"
   },
   {
    "duration": 0,
    "start_time": "2023-03-18T07:57:22.405Z"
   },
   {
    "duration": 0,
    "start_time": "2023-03-18T07:57:22.406Z"
   },
   {
    "duration": 0,
    "start_time": "2023-03-18T07:57:22.407Z"
   },
   {
    "duration": 11,
    "start_time": "2023-03-18T08:01:36.246Z"
   },
   {
    "duration": 9,
    "start_time": "2023-03-18T08:01:49.695Z"
   },
   {
    "duration": 588,
    "start_time": "2023-03-18T08:04:33.166Z"
   },
   {
    "duration": 3260,
    "start_time": "2023-03-18T08:04:48.940Z"
   },
   {
    "duration": 250,
    "start_time": "2023-03-18T08:05:07.793Z"
   },
   {
    "duration": 2391,
    "start_time": "2023-03-18T08:05:09.451Z"
   },
   {
    "duration": 28570,
    "start_time": "2023-03-18T08:05:37.090Z"
   },
   {
    "duration": 906,
    "start_time": "2023-03-18T08:06:05.663Z"
   },
   {
    "duration": 84,
    "start_time": "2023-03-18T08:06:06.571Z"
   },
   {
    "duration": 100,
    "start_time": "2023-03-18T08:06:06.657Z"
   },
   {
    "duration": 5812,
    "start_time": "2023-03-18T08:06:06.760Z"
   },
   {
    "duration": 5879,
    "start_time": "2023-03-18T08:06:12.579Z"
   },
   {
    "duration": 518,
    "start_time": "2023-03-18T08:06:18.459Z"
   },
   {
    "duration": 4081,
    "start_time": "2023-03-18T08:06:18.979Z"
   },
   {
    "duration": 2692,
    "start_time": "2023-03-18T08:06:23.062Z"
   },
   {
    "duration": 112,
    "start_time": "2023-03-18T08:06:25.756Z"
   },
   {
    "duration": 380,
    "start_time": "2023-03-18T08:06:25.870Z"
   },
   {
    "duration": 314,
    "start_time": "2023-03-18T08:06:26.252Z"
   },
   {
    "duration": 87,
    "start_time": "2023-03-18T08:06:26.570Z"
   },
   {
    "duration": 409,
    "start_time": "2023-03-18T08:06:26.660Z"
   },
   {
    "duration": 1926,
    "start_time": "2023-03-18T08:06:27.141Z"
   },
   {
    "duration": 195,
    "start_time": "2023-03-18T08:07:25.180Z"
   },
   {
    "duration": 26723,
    "start_time": "2023-03-18T08:07:45.636Z"
   },
   {
    "duration": 802,
    "start_time": "2023-03-18T08:08:12.362Z"
   },
   {
    "duration": 87,
    "start_time": "2023-03-18T08:08:13.166Z"
   },
   {
    "duration": 94,
    "start_time": "2023-03-18T08:08:13.255Z"
   },
   {
    "duration": 5301,
    "start_time": "2023-03-18T08:08:13.352Z"
   },
   {
    "duration": 5306,
    "start_time": "2023-03-18T08:08:18.655Z"
   },
   {
    "duration": 585,
    "start_time": "2023-03-18T08:08:23.962Z"
   },
   {
    "duration": 3894,
    "start_time": "2023-03-18T08:08:24.548Z"
   },
   {
    "duration": 2631,
    "start_time": "2023-03-18T08:08:28.444Z"
   },
   {
    "duration": 177,
    "start_time": "2023-03-18T08:08:31.078Z"
   },
   {
    "duration": 409,
    "start_time": "2023-03-18T08:08:31.261Z"
   },
   {
    "duration": 483,
    "start_time": "2023-03-18T08:08:31.671Z"
   },
   {
    "duration": 104,
    "start_time": "2023-03-18T08:08:32.157Z"
   },
   {
    "duration": 502,
    "start_time": "2023-03-18T08:08:32.264Z"
   },
   {
    "duration": 2134,
    "start_time": "2023-03-18T08:08:32.767Z"
   },
   {
    "duration": 10,
    "start_time": "2023-03-18T08:10:39.490Z"
   },
   {
    "duration": 474,
    "start_time": "2023-03-18T08:14:57.195Z"
   },
   {
    "duration": 4232,
    "start_time": "2023-03-18T08:17:34.831Z"
   },
   {
    "duration": 8,
    "start_time": "2023-03-18T08:21:00.076Z"
   },
   {
    "duration": 161,
    "start_time": "2023-03-18T08:21:59.759Z"
   },
   {
    "duration": 302018,
    "start_time": "2023-03-18T08:22:16.663Z"
   },
   {
    "duration": 27544,
    "start_time": "2023-03-18T08:27:35.035Z"
   },
   {
    "duration": 793,
    "start_time": "2023-03-18T08:28:02.581Z"
   },
   {
    "duration": 87,
    "start_time": "2023-03-18T08:28:03.376Z"
   },
   {
    "duration": 95,
    "start_time": "2023-03-18T08:28:03.464Z"
   },
   {
    "duration": 5194,
    "start_time": "2023-03-18T08:28:03.562Z"
   },
   {
    "duration": 5106,
    "start_time": "2023-03-18T08:28:08.761Z"
   },
   {
    "duration": 491,
    "start_time": "2023-03-18T08:28:13.869Z"
   },
   {
    "duration": 2961,
    "start_time": "2023-03-18T08:28:14.362Z"
   },
   {
    "duration": 2232,
    "start_time": "2023-03-18T08:28:17.325Z"
   },
   {
    "duration": 127,
    "start_time": "2023-03-18T08:28:19.559Z"
   },
   {
    "duration": 368,
    "start_time": "2023-03-18T08:28:19.689Z"
   },
   {
    "duration": 400,
    "start_time": "2023-03-18T08:28:20.061Z"
   },
   {
    "duration": 90,
    "start_time": "2023-03-18T08:28:20.463Z"
   },
   {
    "duration": 499,
    "start_time": "2023-03-18T08:28:20.559Z"
   },
   {
    "duration": 1910,
    "start_time": "2023-03-18T08:28:21.060Z"
   },
   {
    "duration": 10,
    "start_time": "2023-03-18T08:28:22.971Z"
   },
   {
    "duration": 526,
    "start_time": "2023-03-18T08:28:23.043Z"
   },
   {
    "duration": 3306,
    "start_time": "2023-03-18T08:28:23.571Z"
   },
   {
    "duration": 8,
    "start_time": "2023-03-18T08:28:26.946Z"
   },
   {
    "duration": 25223,
    "start_time": "2023-03-18T09:28:23.035Z"
   },
   {
    "duration": 813,
    "start_time": "2023-03-18T09:28:48.261Z"
   },
   {
    "duration": 84,
    "start_time": "2023-03-18T09:28:49.077Z"
   },
   {
    "duration": 96,
    "start_time": "2023-03-18T09:28:49.163Z"
   },
   {
    "duration": 4504,
    "start_time": "2023-03-18T09:28:49.261Z"
   },
   {
    "duration": 5308,
    "start_time": "2023-03-18T09:28:53.767Z"
   },
   {
    "duration": 571,
    "start_time": "2023-03-18T09:28:59.077Z"
   },
   {
    "duration": 3133,
    "start_time": "2023-03-18T09:28:59.650Z"
   },
   {
    "duration": 2192,
    "start_time": "2023-03-18T09:29:02.785Z"
   },
   {
    "duration": 166,
    "start_time": "2023-03-18T09:29:04.979Z"
   },
   {
    "duration": 607,
    "start_time": "2023-03-18T09:29:05.146Z"
   },
   {
    "duration": 406,
    "start_time": "2023-03-18T09:29:05.754Z"
   },
   {
    "duration": 99,
    "start_time": "2023-03-18T09:29:06.162Z"
   },
   {
    "duration": 578,
    "start_time": "2023-03-18T09:29:06.266Z"
   },
   {
    "duration": 1730,
    "start_time": "2023-03-18T09:29:06.846Z"
   },
   {
    "duration": 71,
    "start_time": "2023-03-18T09:29:08.578Z"
   },
   {
    "duration": 409,
    "start_time": "2023-03-18T09:29:08.653Z"
   },
   {
    "duration": 3117,
    "start_time": "2023-03-18T09:29:09.064Z"
   },
   {
    "duration": 9,
    "start_time": "2023-03-18T09:29:12.254Z"
   },
   {
    "duration": 3516084,
    "start_time": "2023-03-18T09:29:12.265Z"
   },
   {
    "duration": 0,
    "start_time": "2023-03-18T10:27:48.351Z"
   },
   {
    "duration": 769,
    "start_time": "2023-03-18T10:31:49.785Z"
   },
   {
    "duration": 0,
    "start_time": "2023-03-18T10:31:50.561Z"
   },
   {
    "duration": 0,
    "start_time": "2023-03-18T10:31:50.562Z"
   },
   {
    "duration": 0,
    "start_time": "2023-03-18T10:31:50.562Z"
   },
   {
    "duration": 0,
    "start_time": "2023-03-18T10:31:50.563Z"
   },
   {
    "duration": 0,
    "start_time": "2023-03-18T10:31:50.564Z"
   },
   {
    "duration": 0,
    "start_time": "2023-03-18T10:31:50.566Z"
   },
   {
    "duration": 0,
    "start_time": "2023-03-18T10:31:50.567Z"
   },
   {
    "duration": 0,
    "start_time": "2023-03-18T10:31:50.568Z"
   },
   {
    "duration": 0,
    "start_time": "2023-03-18T10:31:50.569Z"
   },
   {
    "duration": 0,
    "start_time": "2023-03-18T10:31:50.573Z"
   },
   {
    "duration": 0,
    "start_time": "2023-03-18T10:31:50.574Z"
   },
   {
    "duration": 0,
    "start_time": "2023-03-18T10:31:50.575Z"
   },
   {
    "duration": 0,
    "start_time": "2023-03-18T10:31:50.578Z"
   },
   {
    "duration": 0,
    "start_time": "2023-03-18T10:31:50.579Z"
   },
   {
    "duration": 0,
    "start_time": "2023-03-18T10:31:50.580Z"
   },
   {
    "duration": 0,
    "start_time": "2023-03-18T10:31:50.581Z"
   },
   {
    "duration": 0,
    "start_time": "2023-03-18T10:31:50.582Z"
   },
   {
    "duration": 0,
    "start_time": "2023-03-18T10:31:50.583Z"
   },
   {
    "duration": 0,
    "start_time": "2023-03-18T10:31:50.584Z"
   },
   {
    "duration": 0,
    "start_time": "2023-03-18T10:31:50.585Z"
   },
   {
    "duration": 0,
    "start_time": "2023-03-18T10:31:50.586Z"
   },
   {
    "duration": 0,
    "start_time": "2023-03-18T10:31:50.587Z"
   },
   {
    "duration": 26493,
    "start_time": "2023-03-18T10:33:57.984Z"
   },
   {
    "duration": 973,
    "start_time": "2023-03-18T10:34:24.480Z"
   },
   {
    "duration": 31,
    "start_time": "2023-03-18T10:34:25.454Z"
   },
   {
    "duration": 94,
    "start_time": "2023-03-18T10:34:25.551Z"
   },
   {
    "duration": 5336,
    "start_time": "2023-03-18T10:34:25.648Z"
   },
   {
    "duration": 5630,
    "start_time": "2023-03-18T10:34:30.986Z"
   },
   {
    "duration": 539,
    "start_time": "2023-03-18T10:34:36.618Z"
   },
   {
    "duration": 3632,
    "start_time": "2023-03-18T10:34:37.164Z"
   },
   {
    "duration": 2450,
    "start_time": "2023-03-18T10:34:40.840Z"
   },
   {
    "duration": 168,
    "start_time": "2023-03-18T10:34:43.292Z"
   },
   {
    "duration": 488,
    "start_time": "2023-03-18T10:34:43.462Z"
   },
   {
    "duration": 415,
    "start_time": "2023-03-18T10:34:43.951Z"
   },
   {
    "duration": 85,
    "start_time": "2023-03-18T10:34:44.368Z"
   },
   {
    "duration": 409,
    "start_time": "2023-03-18T10:34:44.456Z"
   },
   {
    "duration": 1827,
    "start_time": "2023-03-18T10:34:44.866Z"
   },
   {
    "duration": 14,
    "start_time": "2023-03-18T10:34:46.740Z"
   },
   {
    "duration": 512,
    "start_time": "2023-03-18T10:34:46.756Z"
   },
   {
    "duration": 4108,
    "start_time": "2023-03-18T10:34:47.272Z"
   },
   {
    "duration": 10,
    "start_time": "2023-03-18T10:34:51.441Z"
   },
   {
    "duration": 6120,
    "start_time": "2023-03-18T10:34:51.457Z"
   },
   {
    "duration": 3774,
    "start_time": "2023-03-18T10:34:57.579Z"
   },
   {
    "duration": 473,
    "start_time": "2023-03-18T10:35:01.359Z"
   },
   {
    "duration": 0,
    "start_time": "2023-03-18T10:35:01.834Z"
   },
   {
    "duration": 6,
    "start_time": "2023-03-18T10:46:32.306Z"
   },
   {
    "duration": 5,
    "start_time": "2023-03-18T10:47:52.590Z"
   },
   {
    "duration": 2962,
    "start_time": "2023-03-18T10:50:55.836Z"
   },
   {
    "duration": 5,
    "start_time": "2023-03-18T10:50:58.799Z"
   },
   {
    "duration": 2527,
    "start_time": "2023-03-18T10:51:23.483Z"
   },
   {
    "duration": 22,
    "start_time": "2023-03-18T10:51:26.046Z"
   },
   {
    "duration": 974,
    "start_time": "2023-03-18T10:55:22.922Z"
   },
   {
    "duration": 613,
    "start_time": "2023-03-18T10:56:11.680Z"
   },
   {
    "duration": 750,
    "start_time": "2023-03-18T10:56:22.719Z"
   },
   {
    "duration": 715,
    "start_time": "2023-03-18T10:56:47.283Z"
   },
   {
    "duration": 1576,
    "start_time": "2023-03-18T10:57:12.205Z"
   },
   {
    "duration": 1791,
    "start_time": "2023-03-18T11:00:29.394Z"
   },
   {
    "duration": 2793,
    "start_time": "2023-03-18T11:06:54.008Z"
   },
   {
    "duration": 85,
    "start_time": "2023-03-18T11:12:33.331Z"
   },
   {
    "duration": 972,
    "start_time": "2023-03-18T11:14:01.235Z"
   },
   {
    "duration": 621,
    "start_time": "2023-03-18T11:16:23.298Z"
   },
   {
    "duration": 697,
    "start_time": "2023-03-18T11:17:17.708Z"
   },
   {
    "duration": 860,
    "start_time": "2023-03-18T11:18:07.925Z"
   },
   {
    "duration": 1359,
    "start_time": "2023-03-18T11:19:54.698Z"
   },
   {
    "duration": 326,
    "start_time": "2023-03-18T11:22:27.539Z"
   },
   {
    "duration": 733,
    "start_time": "2023-03-18T11:22:49.382Z"
   },
   {
    "duration": 1125,
    "start_time": "2023-03-18T11:23:39.478Z"
   },
   {
    "duration": 776,
    "start_time": "2023-03-18T11:24:18.805Z"
   },
   {
    "duration": 740,
    "start_time": "2023-03-18T11:24:52.299Z"
   },
   {
    "duration": 10,
    "start_time": "2023-03-18T11:38:16.400Z"
   },
   {
    "duration": 12,
    "start_time": "2023-03-18T11:40:46.796Z"
   },
   {
    "duration": 29776,
    "start_time": "2023-03-18T11:41:34.471Z"
   },
   {
    "duration": 1117,
    "start_time": "2023-03-18T11:42:04.250Z"
   },
   {
    "duration": 24,
    "start_time": "2023-03-18T11:42:05.369Z"
   },
   {
    "duration": 162,
    "start_time": "2023-03-18T11:42:05.395Z"
   },
   {
    "duration": 5917,
    "start_time": "2023-03-18T11:42:05.564Z"
   },
   {
    "duration": 5691,
    "start_time": "2023-03-18T11:42:11.486Z"
   },
   {
    "duration": 481,
    "start_time": "2023-03-18T11:42:17.186Z"
   },
   {
    "duration": 3415,
    "start_time": "2023-03-18T11:42:17.668Z"
   },
   {
    "duration": 2908,
    "start_time": "2023-03-18T11:42:21.088Z"
   },
   {
    "duration": 155,
    "start_time": "2023-03-18T11:42:23.997Z"
   },
   {
    "duration": 637,
    "start_time": "2023-03-18T11:42:24.154Z"
   },
   {
    "duration": 399,
    "start_time": "2023-03-18T11:42:24.846Z"
   },
   {
    "duration": 47,
    "start_time": "2023-03-18T11:42:25.246Z"
   },
   {
    "duration": 539,
    "start_time": "2023-03-18T11:42:25.346Z"
   },
   {
    "duration": 2378,
    "start_time": "2023-03-18T11:42:25.887Z"
   },
   {
    "duration": 10,
    "start_time": "2023-03-18T11:42:28.266Z"
   },
   {
    "duration": 492,
    "start_time": "2023-03-18T11:42:28.277Z"
   },
   {
    "duration": 4208,
    "start_time": "2023-03-18T11:42:28.770Z"
   },
   {
    "duration": 10,
    "start_time": "2023-03-18T11:42:32.980Z"
   },
   {
    "duration": 5579,
    "start_time": "2023-03-18T11:42:32.991Z"
   },
   {
    "duration": 3303,
    "start_time": "2023-03-18T11:42:38.576Z"
   },
   {
    "duration": 118,
    "start_time": "2023-03-18T11:42:41.882Z"
   },
   {
    "duration": 0,
    "start_time": "2023-03-18T11:42:42.002Z"
   },
   {
    "duration": 0,
    "start_time": "2023-03-18T11:42:42.004Z"
   },
   {
    "duration": 0,
    "start_time": "2023-03-18T11:42:42.005Z"
   },
   {
    "duration": 0,
    "start_time": "2023-03-18T11:42:42.007Z"
   },
   {
    "duration": 0,
    "start_time": "2023-03-18T11:42:42.009Z"
   },
   {
    "duration": 0,
    "start_time": "2023-03-18T11:42:42.010Z"
   },
   {
    "duration": 0,
    "start_time": "2023-03-18T11:42:42.011Z"
   },
   {
    "duration": 0,
    "start_time": "2023-03-18T11:42:42.055Z"
   },
   {
    "duration": 177,
    "start_time": "2023-03-18T11:43:01.432Z"
   },
   {
    "duration": 32406,
    "start_time": "2023-03-18T12:02:56.486Z"
   },
   {
    "duration": 951,
    "start_time": "2023-03-18T12:03:28.942Z"
   },
   {
    "duration": 70,
    "start_time": "2023-03-18T12:03:29.895Z"
   },
   {
    "duration": 39,
    "start_time": "2023-03-18T12:03:29.966Z"
   },
   {
    "duration": 7730,
    "start_time": "2023-03-18T12:03:30.042Z"
   },
   {
    "duration": 7002,
    "start_time": "2023-03-18T12:03:37.775Z"
   },
   {
    "duration": 909,
    "start_time": "2023-03-18T12:03:44.779Z"
   },
   {
    "duration": 4629,
    "start_time": "2023-03-18T12:03:45.690Z"
   },
   {
    "duration": 3127,
    "start_time": "2023-03-18T12:03:50.346Z"
   },
   {
    "duration": 133,
    "start_time": "2023-03-18T12:03:53.475Z"
   },
   {
    "duration": 481,
    "start_time": "2023-03-18T12:03:53.611Z"
   },
   {
    "duration": 535,
    "start_time": "2023-03-18T12:03:54.142Z"
   },
   {
    "duration": 106,
    "start_time": "2023-03-18T12:03:54.679Z"
   },
   {
    "duration": 526,
    "start_time": "2023-03-18T12:03:54.788Z"
   },
   {
    "duration": 2200,
    "start_time": "2023-03-18T12:03:55.316Z"
   },
   {
    "duration": 19,
    "start_time": "2023-03-18T12:03:57.546Z"
   },
   {
    "duration": 595,
    "start_time": "2023-03-18T12:03:57.566Z"
   },
   {
    "duration": 4117,
    "start_time": "2023-03-18T12:03:58.163Z"
   },
   {
    "duration": 13,
    "start_time": "2023-03-18T12:04:02.282Z"
   },
   {
    "duration": 7165,
    "start_time": "2023-03-18T12:04:02.346Z"
   },
   {
    "duration": 4240,
    "start_time": "2023-03-18T12:04:09.544Z"
   },
   {
    "duration": 1265,
    "start_time": "2023-03-18T12:04:13.786Z"
   },
   {
    "duration": 1007,
    "start_time": "2023-03-18T12:04:15.053Z"
   },
   {
    "duration": 743,
    "start_time": "2023-03-18T12:04:16.064Z"
   },
   {
    "duration": 748,
    "start_time": "2023-03-18T12:04:16.809Z"
   },
   {
    "duration": 1242,
    "start_time": "2023-03-18T12:04:17.558Z"
   },
   {
    "duration": 1064,
    "start_time": "2023-03-18T12:04:18.801Z"
   },
   {
    "duration": 870,
    "start_time": "2023-03-18T12:04:19.866Z"
   },
   {
    "duration": 844,
    "start_time": "2023-03-18T12:04:20.738Z"
   },
   {
    "duration": 30180,
    "start_time": "2023-03-18T12:20:04.587Z"
   },
   {
    "duration": 923,
    "start_time": "2023-03-18T12:20:34.769Z"
   },
   {
    "duration": 28,
    "start_time": "2023-03-18T12:20:35.742Z"
   },
   {
    "duration": 103,
    "start_time": "2023-03-18T12:20:35.772Z"
   },
   {
    "duration": 5891,
    "start_time": "2023-03-18T12:20:35.878Z"
   },
   {
    "duration": 6059,
    "start_time": "2023-03-18T12:20:41.771Z"
   },
   {
    "duration": 620,
    "start_time": "2023-03-18T12:20:47.833Z"
   },
   {
    "duration": 3650,
    "start_time": "2023-03-18T12:20:48.454Z"
   },
   {
    "duration": 2647,
    "start_time": "2023-03-18T12:20:52.106Z"
   },
   {
    "duration": 202,
    "start_time": "2023-03-18T12:20:54.755Z"
   },
   {
    "duration": 719,
    "start_time": "2023-03-18T12:20:54.959Z"
   },
   {
    "duration": 395,
    "start_time": "2023-03-18T12:20:55.680Z"
   },
   {
    "duration": 105,
    "start_time": "2023-03-18T12:20:56.077Z"
   },
   {
    "duration": 559,
    "start_time": "2023-03-18T12:20:56.185Z"
   },
   {
    "duration": 1933,
    "start_time": "2023-03-18T12:20:56.746Z"
   },
   {
    "duration": 69,
    "start_time": "2023-03-18T12:20:58.681Z"
   },
   {
    "duration": 419,
    "start_time": "2023-03-18T12:20:58.752Z"
   },
   {
    "duration": 4200,
    "start_time": "2023-03-18T12:20:59.173Z"
   },
   {
    "duration": 81,
    "start_time": "2023-03-18T12:21:03.375Z"
   },
   {
    "duration": 6407,
    "start_time": "2023-03-18T12:21:03.458Z"
   },
   {
    "duration": 4416,
    "start_time": "2023-03-18T12:21:09.871Z"
   },
   {
    "duration": 1264,
    "start_time": "2023-03-18T12:21:14.340Z"
   },
   {
    "duration": 1322,
    "start_time": "2023-03-18T12:21:15.646Z"
   },
   {
    "duration": 896,
    "start_time": "2023-03-18T12:21:16.969Z"
   },
   {
    "duration": 809,
    "start_time": "2023-03-18T12:21:17.868Z"
   },
   {
    "duration": 1327,
    "start_time": "2023-03-18T12:21:18.679Z"
   },
   {
    "duration": 1050,
    "start_time": "2023-03-18T12:21:20.008Z"
   },
   {
    "duration": 776,
    "start_time": "2023-03-18T12:21:21.060Z"
   },
   {
    "duration": 743,
    "start_time": "2023-03-18T12:21:21.838Z"
   },
   {
    "duration": 28429,
    "start_time": "2023-03-18T12:30:19.380Z"
   },
   {
    "duration": 992,
    "start_time": "2023-03-18T12:30:47.811Z"
   },
   {
    "duration": 43,
    "start_time": "2023-03-18T12:30:48.805Z"
   },
   {
    "duration": 55,
    "start_time": "2023-03-18T12:30:48.850Z"
   },
   {
    "duration": 5596,
    "start_time": "2023-03-18T12:30:48.907Z"
   },
   {
    "duration": 5645,
    "start_time": "2023-03-18T12:30:54.504Z"
   },
   {
    "duration": 550,
    "start_time": "2023-03-18T12:31:00.150Z"
   },
   {
    "duration": 3750,
    "start_time": "2023-03-18T12:31:00.702Z"
   },
   {
    "duration": 399,
    "start_time": "2023-03-18T12:31:04.454Z"
   },
   {
    "duration": 16,
    "start_time": "2023-03-18T12:31:04.855Z"
   },
   {
    "duration": 341,
    "start_time": "2023-03-18T12:31:04.873Z"
   },
   {
    "duration": 542,
    "start_time": "2023-03-18T12:31:05.216Z"
   },
   {
    "duration": 9,
    "start_time": "2023-03-18T12:31:05.759Z"
   },
   {
    "duration": 298,
    "start_time": "2023-03-18T12:31:05.771Z"
   },
   {
    "duration": 52,
    "start_time": "2023-03-18T12:31:06.070Z"
   },
   {
    "duration": 4,
    "start_time": "2023-03-18T12:31:06.124Z"
   },
   {
    "duration": 384,
    "start_time": "2023-03-18T12:31:06.129Z"
   },
   {
    "duration": 0,
    "start_time": "2023-03-18T12:31:06.514Z"
   },
   {
    "duration": 0,
    "start_time": "2023-03-18T12:31:06.518Z"
   },
   {
    "duration": 0,
    "start_time": "2023-03-18T12:31:06.520Z"
   },
   {
    "duration": 0,
    "start_time": "2023-03-18T12:31:06.522Z"
   },
   {
    "duration": 0,
    "start_time": "2023-03-18T12:31:06.523Z"
   },
   {
    "duration": 0,
    "start_time": "2023-03-18T12:31:06.524Z"
   },
   {
    "duration": 0,
    "start_time": "2023-03-18T12:31:06.525Z"
   },
   {
    "duration": 0,
    "start_time": "2023-03-18T12:31:06.526Z"
   },
   {
    "duration": 0,
    "start_time": "2023-03-18T12:31:06.528Z"
   },
   {
    "duration": 0,
    "start_time": "2023-03-18T12:31:06.530Z"
   },
   {
    "duration": 0,
    "start_time": "2023-03-18T12:31:06.531Z"
   },
   {
    "duration": 0,
    "start_time": "2023-03-18T12:31:06.532Z"
   },
   {
    "duration": 0,
    "start_time": "2023-03-18T12:31:06.534Z"
   },
   {
    "duration": 0,
    "start_time": "2023-03-18T12:31:06.535Z"
   },
   {
    "duration": 0,
    "start_time": "2023-03-18T12:31:06.537Z"
   },
   {
    "duration": 0,
    "start_time": "2023-03-18T12:31:06.538Z"
   },
   {
    "duration": 10,
    "start_time": "2023-03-18T12:33:01.823Z"
   },
   {
    "duration": 1849,
    "start_time": "2023-03-18T12:33:05.624Z"
   },
   {
    "duration": 4,
    "start_time": "2023-03-18T12:33:09.571Z"
   },
   {
    "duration": 62,
    "start_time": "2023-03-18T12:33:24.437Z"
   },
   {
    "duration": 11,
    "start_time": "2023-03-18T12:33:29.768Z"
   },
   {
    "duration": 9273,
    "start_time": "2023-03-18T12:33:32.020Z"
   },
   {
    "duration": 4430,
    "start_time": "2023-03-18T12:33:42.968Z"
   },
   {
    "duration": 980,
    "start_time": "2023-03-18T12:33:57.678Z"
   },
   {
    "duration": 1104,
    "start_time": "2023-03-18T12:34:03.667Z"
   },
   {
    "duration": 651,
    "start_time": "2023-03-18T12:34:16.828Z"
   },
   {
    "duration": 914,
    "start_time": "2023-03-18T12:36:22.735Z"
   },
   {
    "duration": 689,
    "start_time": "2023-03-18T12:36:27.833Z"
   },
   {
    "duration": 30069,
    "start_time": "2023-03-18T12:39:28.028Z"
   },
   {
    "duration": 1152,
    "start_time": "2023-03-18T12:39:58.108Z"
   },
   {
    "duration": 35,
    "start_time": "2023-03-18T12:39:59.268Z"
   },
   {
    "duration": 120,
    "start_time": "2023-03-18T12:39:59.306Z"
   },
   {
    "duration": 5679,
    "start_time": "2023-03-18T12:39:59.429Z"
   },
   {
    "duration": 5759,
    "start_time": "2023-03-18T12:40:05.111Z"
   },
   {
    "duration": 634,
    "start_time": "2023-03-18T12:40:10.871Z"
   },
   {
    "duration": 3509,
    "start_time": "2023-03-18T12:40:11.507Z"
   },
   {
    "duration": 2799,
    "start_time": "2023-03-18T12:40:15.019Z"
   },
   {
    "duration": 101,
    "start_time": "2023-03-18T12:40:17.854Z"
   },
   {
    "duration": 452,
    "start_time": "2023-03-18T12:40:17.957Z"
   },
   {
    "duration": 565,
    "start_time": "2023-03-18T12:40:18.410Z"
   },
   {
    "duration": 73,
    "start_time": "2023-03-18T12:40:18.976Z"
   },
   {
    "duration": 518,
    "start_time": "2023-03-18T12:40:19.064Z"
   },
   {
    "duration": 2319,
    "start_time": "2023-03-18T12:40:19.583Z"
   },
   {
    "duration": 65,
    "start_time": "2023-03-18T12:40:21.903Z"
   },
   {
    "duration": 592,
    "start_time": "2023-03-18T12:40:21.995Z"
   },
   {
    "duration": 3591,
    "start_time": "2023-03-18T12:40:22.590Z"
   },
   {
    "duration": 61,
    "start_time": "2023-03-18T12:40:26.190Z"
   },
   {
    "duration": 5949,
    "start_time": "2023-03-18T12:40:26.253Z"
   },
   {
    "duration": 4109,
    "start_time": "2023-03-18T12:40:32.205Z"
   },
   {
    "duration": 10,
    "start_time": "2023-03-18T12:40:36.359Z"
   },
   {
    "duration": 4,
    "start_time": "2023-03-18T12:40:36.374Z"
   },
   {
    "duration": 987,
    "start_time": "2023-03-18T12:40:36.382Z"
   },
   {
    "duration": 15,
    "start_time": "2023-03-18T12:40:37.370Z"
   },
   {
    "duration": 1259,
    "start_time": "2023-03-18T12:40:37.390Z"
   },
   {
    "duration": 763,
    "start_time": "2023-03-18T12:40:38.650Z"
   },
   {
    "duration": 837,
    "start_time": "2023-03-18T12:40:39.415Z"
   },
   {
    "duration": 1052,
    "start_time": "2023-03-18T12:40:40.253Z"
   },
   {
    "duration": 2,
    "start_time": "2023-03-18T12:40:41.307Z"
   },
   {
    "duration": 966,
    "start_time": "2023-03-18T12:40:41.311Z"
   },
   {
    "duration": 823,
    "start_time": "2023-03-18T12:40:42.278Z"
   },
   {
    "duration": 742,
    "start_time": "2023-03-18T12:40:43.103Z"
   },
   {
    "duration": 33905,
    "start_time": "2023-03-19T13:54:26.226Z"
   },
   {
    "duration": 779,
    "start_time": "2023-03-19T13:55:00.133Z"
   },
   {
    "duration": 77,
    "start_time": "2023-03-19T13:55:00.913Z"
   },
   {
    "duration": 87,
    "start_time": "2023-03-19T13:55:00.993Z"
   },
   {
    "duration": 5641,
    "start_time": "2023-03-19T13:55:01.081Z"
   },
   {
    "duration": 4813,
    "start_time": "2023-03-19T13:55:06.723Z"
   },
   {
    "duration": 706,
    "start_time": "2023-03-19T13:55:11.592Z"
   },
   {
    "duration": 3302,
    "start_time": "2023-03-19T13:55:12.300Z"
   },
   {
    "duration": 1925,
    "start_time": "2023-03-19T13:55:15.604Z"
   },
   {
    "duration": 2780,
    "start_time": "2023-03-19T13:55:17.531Z"
   },
   {
    "duration": 107,
    "start_time": "2023-03-19T13:55:20.313Z"
   },
   {
    "duration": 679,
    "start_time": "2023-03-19T13:55:20.425Z"
   },
   {
    "duration": 587,
    "start_time": "2023-03-19T13:55:21.108Z"
   },
   {
    "duration": 34,
    "start_time": "2023-03-19T13:55:21.696Z"
   },
   {
    "duration": 530,
    "start_time": "2023-03-19T13:55:21.797Z"
   },
   {
    "duration": 1900,
    "start_time": "2023-03-19T13:55:22.329Z"
   },
   {
    "duration": 66,
    "start_time": "2023-03-19T13:55:24.230Z"
   },
   {
    "duration": 721,
    "start_time": "2023-03-19T13:55:24.298Z"
   },
   {
    "duration": 5,
    "start_time": "2023-03-19T13:55:25.021Z"
   },
   {
    "duration": 270,
    "start_time": "2023-03-19T13:55:25.028Z"
   },
   {
    "duration": 0,
    "start_time": "2023-03-19T13:55:25.300Z"
   },
   {
    "duration": 0,
    "start_time": "2023-03-19T13:55:25.302Z"
   },
   {
    "duration": 0,
    "start_time": "2023-03-19T13:55:25.303Z"
   },
   {
    "duration": 0,
    "start_time": "2023-03-19T13:55:25.304Z"
   },
   {
    "duration": 0,
    "start_time": "2023-03-19T13:55:25.305Z"
   },
   {
    "duration": 0,
    "start_time": "2023-03-19T13:55:25.309Z"
   },
   {
    "duration": 0,
    "start_time": "2023-03-19T13:55:25.313Z"
   },
   {
    "duration": 0,
    "start_time": "2023-03-19T13:55:25.317Z"
   },
   {
    "duration": 0,
    "start_time": "2023-03-19T13:55:25.318Z"
   },
   {
    "duration": 0,
    "start_time": "2023-03-19T13:55:25.321Z"
   },
   {
    "duration": 0,
    "start_time": "2023-03-19T13:55:25.324Z"
   },
   {
    "duration": 0,
    "start_time": "2023-03-19T13:55:25.325Z"
   },
   {
    "duration": 0,
    "start_time": "2023-03-19T13:55:25.326Z"
   },
   {
    "duration": 0,
    "start_time": "2023-03-19T13:55:25.327Z"
   },
   {
    "duration": 0,
    "start_time": "2023-03-19T13:55:25.328Z"
   },
   {
    "duration": 26482,
    "start_time": "2023-03-19T14:01:54.125Z"
   },
   {
    "duration": 908,
    "start_time": "2023-03-19T14:02:20.609Z"
   },
   {
    "duration": 80,
    "start_time": "2023-03-19T14:02:21.518Z"
   },
   {
    "duration": 93,
    "start_time": "2023-03-19T14:02:21.600Z"
   },
   {
    "duration": 5032,
    "start_time": "2023-03-19T14:02:21.695Z"
   },
   {
    "duration": 5915,
    "start_time": "2023-03-19T14:02:26.729Z"
   },
   {
    "duration": 820,
    "start_time": "2023-03-19T14:02:32.692Z"
   },
   {
    "duration": 3008,
    "start_time": "2023-03-19T14:02:33.514Z"
   },
   {
    "duration": 1581,
    "start_time": "2023-03-19T14:02:36.523Z"
   },
   {
    "duration": 3012,
    "start_time": "2023-03-19T14:03:23.114Z"
   },
   {
    "duration": 40,
    "start_time": "2023-03-19T14:04:58.143Z"
   },
   {
    "duration": 897,
    "start_time": "2023-03-19T14:05:00.498Z"
   },
   {
    "duration": 465,
    "start_time": "2023-03-19T14:05:04.863Z"
   },
   {
    "duration": 47,
    "start_time": "2023-03-19T14:05:07.880Z"
   },
   {
    "duration": 525,
    "start_time": "2023-03-19T14:05:10.012Z"
   },
   {
    "duration": 1800,
    "start_time": "2023-03-19T14:05:15.314Z"
   },
   {
    "duration": 9,
    "start_time": "2023-03-19T14:05:23.537Z"
   },
   {
    "duration": 635,
    "start_time": "2023-03-19T14:05:25.287Z"
   },
   {
    "duration": 6,
    "start_time": "2023-03-19T14:05:30.536Z"
   },
   {
    "duration": 207,
    "start_time": "2023-03-19T14:05:38.018Z"
   },
   {
    "duration": 779,
    "start_time": "2023-03-19T14:05:43.143Z"
   },
   {
    "duration": 4126,
    "start_time": "2023-03-19T14:05:59.516Z"
   },
   {
    "duration": 1922,
    "start_time": "2023-03-19T14:06:05.180Z"
   },
   {
    "duration": 2,
    "start_time": "2023-03-19T14:06:08.719Z"
   },
   {
    "duration": 2,
    "start_time": "2023-03-19T14:06:09.537Z"
   },
   {
    "duration": 463,
    "start_time": "2023-03-19T14:06:12.208Z"
   },
   {
    "duration": 3,
    "start_time": "2023-03-19T14:06:16.377Z"
   },
   {
    "duration": 1010,
    "start_time": "2023-03-19T14:06:20.949Z"
   },
   {
    "duration": 517,
    "start_time": "2023-03-19T14:06:41.391Z"
   },
   {
    "duration": 634,
    "start_time": "2023-03-19T14:06:48.724Z"
   },
   {
    "duration": 332,
    "start_time": "2023-03-19T14:07:01.446Z"
   },
   {
    "duration": 2,
    "start_time": "2023-03-19T14:07:37.466Z"
   },
   {
    "duration": 382,
    "start_time": "2023-03-19T14:07:38.134Z"
   },
   {
    "duration": 306,
    "start_time": "2023-03-19T14:07:39.574Z"
   },
   {
    "duration": 296,
    "start_time": "2023-03-19T14:07:40.916Z"
   },
   {
    "duration": 26480,
    "start_time": "2023-03-19T14:10:10.938Z"
   },
   {
    "duration": 782,
    "start_time": "2023-03-19T14:10:37.420Z"
   },
   {
    "duration": 23,
    "start_time": "2023-03-19T14:10:38.203Z"
   },
   {
    "duration": 99,
    "start_time": "2023-03-19T14:10:38.228Z"
   },
   {
    "duration": 5485,
    "start_time": "2023-03-19T14:10:38.329Z"
   },
   {
    "duration": 4812,
    "start_time": "2023-03-19T14:10:43.815Z"
   },
   {
    "duration": 887,
    "start_time": "2023-03-19T14:10:48.629Z"
   },
   {
    "duration": 3082,
    "start_time": "2023-03-19T14:10:49.518Z"
   },
   {
    "duration": 1897,
    "start_time": "2023-03-19T14:10:52.602Z"
   },
   {
    "duration": 3100,
    "start_time": "2023-03-19T14:10:54.502Z"
   },
   {
    "duration": 109,
    "start_time": "2023-03-19T14:10:57.607Z"
   },
   {
    "duration": 910,
    "start_time": "2023-03-19T14:10:57.717Z"
   },
   {
    "duration": 798,
    "start_time": "2023-03-19T14:10:58.629Z"
   },
   {
    "duration": 167,
    "start_time": "2023-03-19T14:10:59.430Z"
   },
   {
    "duration": 737,
    "start_time": "2023-03-19T14:10:59.598Z"
   },
   {
    "duration": 1942,
    "start_time": "2023-03-19T14:11:00.393Z"
   },
   {
    "duration": 15,
    "start_time": "2023-03-19T14:11:02.390Z"
   },
   {
    "duration": 785,
    "start_time": "2023-03-19T14:11:02.406Z"
   },
   {
    "duration": 12,
    "start_time": "2023-03-19T14:11:03.192Z"
   },
   {
    "duration": 302,
    "start_time": "2023-03-19T14:11:03.205Z"
   },
   {
    "duration": 815,
    "start_time": "2023-03-19T14:11:03.510Z"
   },
   {
    "duration": 4306,
    "start_time": "2023-03-19T14:11:04.327Z"
   },
   {
    "duration": 2684,
    "start_time": "2023-03-19T14:11:08.635Z"
   },
   {
    "duration": 3,
    "start_time": "2023-03-19T14:11:11.322Z"
   },
   {
    "duration": 15,
    "start_time": "2023-03-19T14:11:11.327Z"
   },
   {
    "duration": 781,
    "start_time": "2023-03-19T14:11:11.344Z"
   },
   {
    "duration": 3,
    "start_time": "2023-03-19T14:11:12.127Z"
   },
   {
    "duration": 963,
    "start_time": "2023-03-19T14:11:12.191Z"
   },
   {
    "duration": 0,
    "start_time": "2023-03-19T14:11:13.156Z"
   },
   {
    "duration": 0,
    "start_time": "2023-03-19T14:11:13.157Z"
   },
   {
    "duration": 0,
    "start_time": "2023-03-19T14:11:13.159Z"
   },
   {
    "duration": 0,
    "start_time": "2023-03-19T14:11:13.160Z"
   },
   {
    "duration": 0,
    "start_time": "2023-03-19T14:11:13.162Z"
   },
   {
    "duration": 0,
    "start_time": "2023-03-19T14:11:13.164Z"
   },
   {
    "duration": 0,
    "start_time": "2023-03-19T14:11:13.166Z"
   },
   {
    "duration": 27315,
    "start_time": "2023-03-19T14:31:19.122Z"
   },
   {
    "duration": 771,
    "start_time": "2023-03-19T14:31:46.441Z"
   },
   {
    "duration": 85,
    "start_time": "2023-03-19T14:31:47.214Z"
   },
   {
    "duration": 104,
    "start_time": "2023-03-19T14:31:47.302Z"
   },
   {
    "duration": 5809,
    "start_time": "2023-03-19T14:31:47.413Z"
   },
   {
    "duration": 6292,
    "start_time": "2023-03-19T14:31:53.224Z"
   },
   {
    "duration": 1003,
    "start_time": "2023-03-19T14:31:59.519Z"
   },
   {
    "duration": 3175,
    "start_time": "2023-03-19T14:32:00.524Z"
   },
   {
    "duration": 1615,
    "start_time": "2023-03-19T14:32:03.701Z"
   },
   {
    "duration": 2786,
    "start_time": "2023-03-19T14:32:05.321Z"
   },
   {
    "duration": 118,
    "start_time": "2023-03-19T14:32:08.108Z"
   },
   {
    "duration": 611,
    "start_time": "2023-03-19T14:32:08.227Z"
   },
   {
    "duration": 761,
    "start_time": "2023-03-19T14:32:08.839Z"
   },
   {
    "duration": 91,
    "start_time": "2023-03-19T14:32:09.602Z"
   },
   {
    "duration": 733,
    "start_time": "2023-03-19T14:32:09.696Z"
   },
   {
    "duration": 2198,
    "start_time": "2023-03-19T14:32:10.431Z"
   },
   {
    "duration": 78,
    "start_time": "2023-03-19T14:32:12.631Z"
   },
   {
    "duration": 796,
    "start_time": "2023-03-19T14:32:12.710Z"
   },
   {
    "duration": 7,
    "start_time": "2023-03-19T14:32:13.508Z"
   },
   {
    "duration": 307,
    "start_time": "2023-03-19T14:32:13.517Z"
   },
   {
    "duration": 796,
    "start_time": "2023-03-19T14:32:13.826Z"
   },
   {
    "duration": 3682,
    "start_time": "2023-03-19T14:32:14.624Z"
   },
   {
    "duration": 2016,
    "start_time": "2023-03-19T14:32:18.313Z"
   },
   {
    "duration": 2,
    "start_time": "2023-03-19T14:32:20.331Z"
   },
   {
    "duration": 11,
    "start_time": "2023-03-19T14:32:20.335Z"
   },
   {
    "duration": 685,
    "start_time": "2023-03-19T14:32:20.347Z"
   },
   {
    "duration": 2,
    "start_time": "2023-03-19T14:32:21.034Z"
   },
   {
    "duration": 1188,
    "start_time": "2023-03-19T14:32:21.039Z"
   },
   {
    "duration": 0,
    "start_time": "2023-03-19T14:32:22.229Z"
   },
   {
    "duration": 0,
    "start_time": "2023-03-19T14:32:22.231Z"
   },
   {
    "duration": 0,
    "start_time": "2023-03-19T14:32:22.232Z"
   },
   {
    "duration": 0,
    "start_time": "2023-03-19T14:32:22.233Z"
   },
   {
    "duration": 0,
    "start_time": "2023-03-19T14:32:22.234Z"
   },
   {
    "duration": 0,
    "start_time": "2023-03-19T14:32:22.235Z"
   },
   {
    "duration": 0,
    "start_time": "2023-03-19T14:32:22.236Z"
   },
   {
    "duration": 29406,
    "start_time": "2023-03-19T18:43:35.430Z"
   },
   {
    "duration": 854,
    "start_time": "2023-03-19T18:44:04.843Z"
   },
   {
    "duration": 33,
    "start_time": "2023-03-19T18:44:05.699Z"
   },
   {
    "duration": 106,
    "start_time": "2023-03-19T18:44:05.734Z"
   },
   {
    "duration": 5991,
    "start_time": "2023-03-19T18:44:05.845Z"
   },
   {
    "duration": 6602,
    "start_time": "2023-03-19T18:44:11.842Z"
   },
   {
    "duration": 963,
    "start_time": "2023-03-19T18:44:18.445Z"
   },
   {
    "duration": 3761,
    "start_time": "2023-03-19T18:44:19.410Z"
   },
   {
    "duration": 2153,
    "start_time": "2023-03-19T18:44:23.173Z"
   },
   {
    "duration": 3622,
    "start_time": "2023-03-19T18:44:25.328Z"
   },
   {
    "duration": 162,
    "start_time": "2023-03-19T18:44:28.952Z"
   },
   {
    "duration": 675,
    "start_time": "2023-03-19T18:44:29.115Z"
   },
   {
    "duration": 711,
    "start_time": "2023-03-19T18:44:29.791Z"
   },
   {
    "duration": 104,
    "start_time": "2023-03-19T18:44:30.504Z"
   },
   {
    "duration": 836,
    "start_time": "2023-03-19T18:44:30.610Z"
   },
   {
    "duration": 2316,
    "start_time": "2023-03-19T18:44:31.491Z"
   },
   {
    "duration": 26,
    "start_time": "2023-03-19T18:44:33.808Z"
   },
   {
    "duration": 834,
    "start_time": "2023-03-19T18:44:33.836Z"
   },
   {
    "duration": 13,
    "start_time": "2023-03-19T18:44:34.694Z"
   },
   {
    "duration": 385,
    "start_time": "2023-03-19T18:44:34.709Z"
   },
   {
    "duration": 806,
    "start_time": "2023-03-19T18:44:35.096Z"
   },
   {
    "duration": 4200,
    "start_time": "2023-03-19T18:44:35.905Z"
   },
   {
    "duration": 2034,
    "start_time": "2023-03-19T18:44:40.111Z"
   },
   {
    "duration": 2,
    "start_time": "2023-03-19T18:44:42.146Z"
   },
   {
    "duration": 4,
    "start_time": "2023-03-19T18:44:42.191Z"
   },
   {
    "duration": 642,
    "start_time": "2023-03-19T18:44:42.196Z"
   },
   {
    "duration": 56,
    "start_time": "2023-03-19T18:44:42.840Z"
   },
   {
    "duration": 1204,
    "start_time": "2023-03-19T18:44:42.900Z"
   },
   {
    "duration": 0,
    "start_time": "2023-03-19T18:44:44.107Z"
   },
   {
    "duration": 0,
    "start_time": "2023-03-19T18:44:44.108Z"
   },
   {
    "duration": 0,
    "start_time": "2023-03-19T18:44:44.109Z"
   },
   {
    "duration": 0,
    "start_time": "2023-03-19T18:44:44.110Z"
   },
   {
    "duration": 0,
    "start_time": "2023-03-19T18:44:44.112Z"
   },
   {
    "duration": 0,
    "start_time": "2023-03-19T18:44:44.113Z"
   },
   {
    "duration": 0,
    "start_time": "2023-03-19T18:44:44.114Z"
   },
   {
    "duration": 28667,
    "start_time": "2023-03-19T19:16:58.029Z"
   },
   {
    "duration": 904,
    "start_time": "2023-03-19T19:17:26.699Z"
   },
   {
    "duration": 25,
    "start_time": "2023-03-19T19:17:27.605Z"
   },
   {
    "duration": 101,
    "start_time": "2023-03-19T19:17:27.632Z"
   },
   {
    "duration": 5680,
    "start_time": "2023-03-19T19:17:27.736Z"
   },
   {
    "duration": 5389,
    "start_time": "2023-03-19T19:17:33.423Z"
   },
   {
    "duration": 898,
    "start_time": "2023-03-19T19:17:38.814Z"
   },
   {
    "duration": 3728,
    "start_time": "2023-03-19T19:17:39.714Z"
   },
   {
    "duration": 1899,
    "start_time": "2023-03-19T19:17:43.445Z"
   },
   {
    "duration": 3105,
    "start_time": "2023-03-19T19:17:45.346Z"
   },
   {
    "duration": 138,
    "start_time": "2023-03-19T19:17:48.497Z"
   },
   {
    "duration": 713,
    "start_time": "2023-03-19T19:17:48.637Z"
   },
   {
    "duration": 648,
    "start_time": "2023-03-19T19:17:49.352Z"
   },
   {
    "duration": 102,
    "start_time": "2023-03-19T19:17:50.005Z"
   },
   {
    "duration": 542,
    "start_time": "2023-03-19T19:17:50.114Z"
   },
   {
    "duration": 2151,
    "start_time": "2023-03-19T19:17:50.657Z"
   },
   {
    "duration": 30,
    "start_time": "2023-03-19T19:17:52.810Z"
   },
   {
    "duration": 928,
    "start_time": "2023-03-19T19:17:52.842Z"
   },
   {
    "duration": 6,
    "start_time": "2023-03-19T19:17:53.772Z"
   },
   {
    "duration": 316,
    "start_time": "2023-03-19T19:17:53.780Z"
   },
   {
    "duration": 704,
    "start_time": "2023-03-19T19:17:54.101Z"
   },
   {
    "duration": 4003,
    "start_time": "2023-03-19T19:17:54.807Z"
   },
   {
    "duration": 1966,
    "start_time": "2023-03-19T19:17:58.824Z"
   },
   {
    "duration": 19,
    "start_time": "2023-03-19T19:18:00.804Z"
   },
   {
    "duration": 27,
    "start_time": "2023-03-19T19:18:00.828Z"
   },
   {
    "duration": 672,
    "start_time": "2023-03-19T19:18:00.857Z"
   },
   {
    "duration": 3,
    "start_time": "2023-03-19T19:18:01.535Z"
   },
   {
    "duration": 1222,
    "start_time": "2023-03-19T19:18:01.542Z"
   },
   {
    "duration": 0,
    "start_time": "2023-03-19T19:18:02.766Z"
   },
   {
    "duration": 0,
    "start_time": "2023-03-19T19:18:02.768Z"
   },
   {
    "duration": 0,
    "start_time": "2023-03-19T19:18:02.769Z"
   },
   {
    "duration": 0,
    "start_time": "2023-03-19T19:18:02.770Z"
   },
   {
    "duration": 0,
    "start_time": "2023-03-19T19:18:02.771Z"
   },
   {
    "duration": 0,
    "start_time": "2023-03-19T19:18:02.772Z"
   },
   {
    "duration": 0,
    "start_time": "2023-03-19T19:18:02.774Z"
   },
   {
    "duration": 15,
    "start_time": "2023-03-19T19:20:09.326Z"
   },
   {
    "duration": 414,
    "start_time": "2023-03-19T19:20:32.429Z"
   },
   {
    "duration": 666,
    "start_time": "2023-03-19T19:22:53.762Z"
   },
   {
    "duration": 28,
    "start_time": "2023-03-19T19:23:15.638Z"
   },
   {
    "duration": 641,
    "start_time": "2023-03-19T19:23:24.454Z"
   },
   {
    "duration": 397,
    "start_time": "2023-03-19T19:23:33.427Z"
   },
   {
    "duration": 376,
    "start_time": "2023-03-19T19:24:15.531Z"
   },
   {
    "duration": 28358,
    "start_time": "2023-03-19T19:26:21.970Z"
   },
   {
    "duration": 960,
    "start_time": "2023-03-19T19:26:50.330Z"
   },
   {
    "duration": 40,
    "start_time": "2023-03-19T19:26:51.292Z"
   },
   {
    "duration": 102,
    "start_time": "2023-03-19T19:26:51.336Z"
   },
   {
    "duration": 5360,
    "start_time": "2023-03-19T19:26:51.444Z"
   },
   {
    "duration": 5992,
    "start_time": "2023-03-19T19:26:56.807Z"
   },
   {
    "duration": 906,
    "start_time": "2023-03-19T19:27:02.801Z"
   },
   {
    "duration": 3490,
    "start_time": "2023-03-19T19:27:03.711Z"
   },
   {
    "duration": 1829,
    "start_time": "2023-03-19T19:27:07.203Z"
   },
   {
    "duration": 3702,
    "start_time": "2023-03-19T19:27:09.038Z"
   },
   {
    "duration": 175,
    "start_time": "2023-03-19T19:27:12.741Z"
   },
   {
    "duration": 818,
    "start_time": "2023-03-19T19:27:12.918Z"
   },
   {
    "duration": 568,
    "start_time": "2023-03-19T19:27:13.741Z"
   },
   {
    "duration": 110,
    "start_time": "2023-03-19T19:27:14.311Z"
   },
   {
    "duration": 887,
    "start_time": "2023-03-19T19:27:14.423Z"
   },
   {
    "duration": 2119,
    "start_time": "2023-03-19T19:27:15.311Z"
   },
   {
    "duration": 25,
    "start_time": "2023-03-19T19:27:17.431Z"
   },
   {
    "duration": 752,
    "start_time": "2023-03-19T19:27:17.490Z"
   },
   {
    "duration": 7,
    "start_time": "2023-03-19T19:27:18.246Z"
   },
   {
    "duration": 274,
    "start_time": "2023-03-19T19:27:18.255Z"
   },
   {
    "duration": 620,
    "start_time": "2023-03-19T19:27:18.531Z"
   },
   {
    "duration": 3532,
    "start_time": "2023-03-19T19:27:19.154Z"
   },
   {
    "duration": 2183,
    "start_time": "2023-03-19T19:27:22.688Z"
   },
   {
    "duration": 20,
    "start_time": "2023-03-19T19:27:24.872Z"
   },
   {
    "duration": 58,
    "start_time": "2023-03-19T19:27:24.894Z"
   },
   {
    "duration": 600,
    "start_time": "2023-03-19T19:27:24.953Z"
   },
   {
    "duration": 594,
    "start_time": "2023-03-19T19:27:25.555Z"
   },
   {
    "duration": 2,
    "start_time": "2023-03-19T19:27:26.152Z"
   },
   {
    "duration": 561,
    "start_time": "2023-03-19T19:27:26.157Z"
   },
   {
    "duration": 522,
    "start_time": "2023-03-19T19:27:26.719Z"
   },
   {
    "duration": 480,
    "start_time": "2023-03-19T19:27:27.246Z"
   },
   {
    "duration": 888,
    "start_time": "2023-03-19T19:27:27.728Z"
   },
   {
    "duration": 0,
    "start_time": "2023-03-19T19:27:28.619Z"
   },
   {
    "duration": 0,
    "start_time": "2023-03-19T19:27:28.620Z"
   },
   {
    "duration": 0,
    "start_time": "2023-03-19T19:27:28.622Z"
   },
   {
    "duration": 1952,
    "start_time": "2023-03-19T19:31:00.185Z"
   },
   {
    "duration": 1584,
    "start_time": "2023-03-19T19:31:03.941Z"
   },
   {
    "duration": 608,
    "start_time": "2023-03-19T19:31:10.820Z"
   },
   {
    "duration": 28074,
    "start_time": "2023-03-19T19:32:27.422Z"
   },
   {
    "duration": 1012,
    "start_time": "2023-03-19T19:32:55.501Z"
   },
   {
    "duration": 88,
    "start_time": "2023-03-19T19:32:56.514Z"
   },
   {
    "duration": 90,
    "start_time": "2023-03-19T19:32:56.604Z"
   },
   {
    "duration": 5599,
    "start_time": "2023-03-19T19:32:56.701Z"
   },
   {
    "duration": 6094,
    "start_time": "2023-03-19T19:33:02.302Z"
   },
   {
    "duration": 999,
    "start_time": "2023-03-19T19:33:08.399Z"
   },
   {
    "duration": 3533,
    "start_time": "2023-03-19T19:33:09.399Z"
   },
   {
    "duration": 1743,
    "start_time": "2023-03-19T19:33:12.934Z"
   },
   {
    "duration": 3253,
    "start_time": "2023-03-19T19:33:14.679Z"
   },
   {
    "duration": 159,
    "start_time": "2023-03-19T19:33:17.934Z"
   },
   {
    "duration": 1024,
    "start_time": "2023-03-19T19:33:18.094Z"
   },
   {
    "duration": 803,
    "start_time": "2023-03-19T19:33:19.119Z"
   },
   {
    "duration": 85,
    "start_time": "2023-03-19T19:33:19.935Z"
   },
   {
    "duration": 1053,
    "start_time": "2023-03-19T19:33:20.022Z"
   },
   {
    "duration": 2149,
    "start_time": "2023-03-19T19:33:21.076Z"
   },
   {
    "duration": 65,
    "start_time": "2023-03-19T19:33:23.229Z"
   },
   {
    "duration": 733,
    "start_time": "2023-03-19T19:33:23.295Z"
   },
   {
    "duration": 12,
    "start_time": "2023-03-19T19:33:24.030Z"
   },
   {
    "duration": 246,
    "start_time": "2023-03-19T19:33:24.045Z"
   },
   {
    "duration": 611,
    "start_time": "2023-03-19T19:33:24.293Z"
   },
   {
    "duration": 3750,
    "start_time": "2023-03-19T19:33:24.906Z"
   },
   {
    "duration": 2415,
    "start_time": "2023-03-19T19:33:28.658Z"
   },
   {
    "duration": 2,
    "start_time": "2023-03-19T19:33:31.075Z"
   },
   {
    "duration": 85,
    "start_time": "2023-03-19T19:33:31.090Z"
   },
   {
    "duration": 932,
    "start_time": "2023-03-19T19:33:31.177Z"
   },
   {
    "duration": 685,
    "start_time": "2023-03-19T19:33:32.111Z"
   },
   {
    "duration": 6,
    "start_time": "2023-03-19T19:33:32.798Z"
   },
   {
    "duration": 706,
    "start_time": "2023-03-19T19:33:32.805Z"
   },
   {
    "duration": 616,
    "start_time": "2023-03-19T19:33:33.517Z"
   },
   {
    "duration": 558,
    "start_time": "2023-03-19T19:33:34.135Z"
   },
   {
    "duration": 1029,
    "start_time": "2023-03-19T19:33:34.694Z"
   },
   {
    "duration": 0,
    "start_time": "2023-03-19T19:33:35.726Z"
   },
   {
    "duration": 0,
    "start_time": "2023-03-19T19:33:35.727Z"
   },
   {
    "duration": 0,
    "start_time": "2023-03-19T19:33:35.728Z"
   },
   {
    "duration": 12,
    "start_time": "2023-03-19T19:44:38.821Z"
   },
   {
    "duration": 616,
    "start_time": "2023-03-19T19:44:41.488Z"
   },
   {
    "duration": 555,
    "start_time": "2023-03-19T19:45:07.048Z"
   },
   {
    "duration": 12,
    "start_time": "2023-03-19T20:04:33.958Z"
   },
   {
    "duration": 9,
    "start_time": "2023-03-19T20:06:03.710Z"
   },
   {
    "duration": 9,
    "start_time": "2023-03-19T20:08:15.673Z"
   },
   {
    "duration": 9,
    "start_time": "2023-03-19T20:10:49.886Z"
   },
   {
    "duration": 4,
    "start_time": "2023-03-19T20:11:51.974Z"
   },
   {
    "duration": 28888,
    "start_time": "2023-03-19T20:15:04.115Z"
   },
   {
    "duration": 794,
    "start_time": "2023-03-19T20:15:33.006Z"
   },
   {
    "duration": 28,
    "start_time": "2023-03-19T20:15:33.806Z"
   },
   {
    "duration": 81,
    "start_time": "2023-03-19T20:15:33.837Z"
   },
   {
    "duration": 5511,
    "start_time": "2023-03-19T20:15:33.925Z"
   },
   {
    "duration": 5308,
    "start_time": "2023-03-19T20:15:39.439Z"
   },
   {
    "duration": 962,
    "start_time": "2023-03-19T20:15:44.749Z"
   },
   {
    "duration": 3248,
    "start_time": "2023-03-19T20:15:45.720Z"
   },
   {
    "duration": 1928,
    "start_time": "2023-03-19T20:15:48.990Z"
   },
   {
    "duration": 3195,
    "start_time": "2023-03-19T20:15:50.919Z"
   },
   {
    "duration": 92,
    "start_time": "2023-03-19T20:15:54.116Z"
   },
   {
    "duration": 709,
    "start_time": "2023-03-19T20:15:54.210Z"
   },
   {
    "duration": 520,
    "start_time": "2023-03-19T20:15:54.921Z"
   },
   {
    "duration": 107,
    "start_time": "2023-03-19T20:15:55.502Z"
   },
   {
    "duration": 708,
    "start_time": "2023-03-19T20:15:55.617Z"
   },
   {
    "duration": 2209,
    "start_time": "2023-03-19T20:15:56.327Z"
   },
   {
    "duration": 12,
    "start_time": "2023-03-19T20:15:58.538Z"
   },
   {
    "duration": 844,
    "start_time": "2023-03-19T20:15:58.594Z"
   },
   {
    "duration": 12,
    "start_time": "2023-03-19T20:15:59.489Z"
   },
   {
    "duration": 399,
    "start_time": "2023-03-19T20:15:59.503Z"
   },
   {
    "duration": 541,
    "start_time": "2023-03-19T20:15:59.903Z"
   },
   {
    "duration": 4285,
    "start_time": "2023-03-19T20:16:00.446Z"
   },
   {
    "duration": 2096,
    "start_time": "2023-03-19T20:16:04.737Z"
   },
   {
    "duration": 4,
    "start_time": "2023-03-19T20:16:06.839Z"
   },
   {
    "duration": 47,
    "start_time": "2023-03-19T20:16:06.893Z"
   },
   {
    "duration": 673,
    "start_time": "2023-03-19T20:16:06.942Z"
   },
   {
    "duration": 584,
    "start_time": "2023-03-19T20:16:07.616Z"
   },
   {
    "duration": 10,
    "start_time": "2023-03-19T20:16:08.201Z"
   },
   {
    "duration": 529,
    "start_time": "2023-03-19T20:16:08.213Z"
   },
   {
    "duration": 690,
    "start_time": "2023-03-19T20:16:08.743Z"
   },
   {
    "duration": 566,
    "start_time": "2023-03-19T20:16:09.435Z"
   },
   {
    "duration": 960,
    "start_time": "2023-03-19T20:16:10.006Z"
   },
   {
    "duration": 0,
    "start_time": "2023-03-19T20:16:10.968Z"
   },
   {
    "duration": 1,
    "start_time": "2023-03-19T20:16:10.969Z"
   },
   {
    "duration": 0,
    "start_time": "2023-03-19T20:16:10.971Z"
   },
   {
    "duration": 6,
    "start_time": "2023-03-19T20:17:36.823Z"
   },
   {
    "duration": 3,
    "start_time": "2023-03-19T20:17:42.485Z"
   },
   {
    "duration": 4,
    "start_time": "2023-03-19T20:17:45.986Z"
   },
   {
    "duration": 7,
    "start_time": "2023-03-19T20:20:32.914Z"
   },
   {
    "duration": 28885,
    "start_time": "2023-03-19T21:02:54.339Z"
   },
   {
    "duration": 896,
    "start_time": "2023-03-19T21:03:23.227Z"
   },
   {
    "duration": 73,
    "start_time": "2023-03-19T21:03:24.124Z"
   },
   {
    "duration": 42,
    "start_time": "2023-03-19T21:03:24.210Z"
   },
   {
    "duration": 5491,
    "start_time": "2023-03-19T21:03:24.253Z"
   },
   {
    "duration": 6196,
    "start_time": "2023-03-19T21:03:29.752Z"
   },
   {
    "duration": 1142,
    "start_time": "2023-03-19T21:03:35.949Z"
   },
   {
    "duration": 3882,
    "start_time": "2023-03-19T21:03:37.093Z"
   },
   {
    "duration": 1726,
    "start_time": "2023-03-19T21:03:40.977Z"
   },
   {
    "duration": 3322,
    "start_time": "2023-03-19T21:03:42.706Z"
   },
   {
    "duration": 115,
    "start_time": "2023-03-19T21:03:46.029Z"
   },
   {
    "duration": 1070,
    "start_time": "2023-03-19T21:03:46.147Z"
   },
   {
    "duration": 629,
    "start_time": "2023-03-19T21:03:47.219Z"
   },
   {
    "duration": 88,
    "start_time": "2023-03-19T21:03:47.850Z"
   },
   {
    "duration": 575,
    "start_time": "2023-03-19T21:03:47.940Z"
   },
   {
    "duration": 2232,
    "start_time": "2023-03-19T21:03:48.517Z"
   },
   {
    "duration": 19,
    "start_time": "2023-03-19T21:03:50.789Z"
   },
   {
    "duration": 834,
    "start_time": "2023-03-19T21:03:50.810Z"
   },
   {
    "duration": 6,
    "start_time": "2023-03-19T21:03:51.646Z"
   },
   {
    "duration": 341,
    "start_time": "2023-03-19T21:03:51.653Z"
   },
   {
    "duration": 603,
    "start_time": "2023-03-19T21:03:51.995Z"
   },
   {
    "duration": 3403,
    "start_time": "2023-03-19T21:03:52.599Z"
   },
   {
    "duration": 1936,
    "start_time": "2023-03-19T21:03:56.005Z"
   },
   {
    "duration": 577,
    "start_time": "2023-03-19T21:03:57.944Z"
   },
   {
    "duration": 528,
    "start_time": "2023-03-19T21:03:58.527Z"
   },
   {
    "duration": 651,
    "start_time": "2023-03-19T21:03:59.057Z"
   },
   {
    "duration": 447,
    "start_time": "2023-03-19T21:03:59.709Z"
   },
   {
    "duration": 393,
    "start_time": "2023-03-19T21:04:00.159Z"
   },
   {
    "duration": 50,
    "start_time": "2023-03-19T21:04:00.554Z"
   },
   {
    "duration": 51,
    "start_time": "2023-03-19T21:04:00.605Z"
   },
   {
    "duration": 21,
    "start_time": "2023-03-19T21:04:00.657Z"
   },
   {
    "duration": 23018,
    "start_time": "2023-03-21T08:08:01.519Z"
   },
   {
    "duration": 684,
    "start_time": "2023-03-21T08:08:24.539Z"
   },
   {
    "duration": 14,
    "start_time": "2023-03-21T08:08:25.224Z"
   },
   {
    "duration": 85,
    "start_time": "2023-03-21T08:08:25.240Z"
   },
   {
    "duration": 3616,
    "start_time": "2023-03-21T08:08:25.326Z"
   },
   {
    "duration": 3823,
    "start_time": "2023-03-21T08:08:28.944Z"
   },
   {
    "duration": 721,
    "start_time": "2023-03-21T08:08:32.822Z"
   },
   {
    "duration": 2491,
    "start_time": "2023-03-21T08:08:33.544Z"
   },
   {
    "duration": 1129,
    "start_time": "2023-03-21T08:08:36.036Z"
   },
   {
    "duration": 2373,
    "start_time": "2023-03-21T08:08:37.168Z"
   },
   {
    "duration": 97,
    "start_time": "2023-03-21T08:08:39.543Z"
   },
   {
    "duration": 922,
    "start_time": "2023-03-21T08:08:39.642Z"
   },
   {
    "duration": 658,
    "start_time": "2023-03-21T08:08:40.565Z"
   },
   {
    "duration": 25,
    "start_time": "2023-03-21T08:08:41.224Z"
   },
   {
    "duration": 482,
    "start_time": "2023-03-21T08:08:41.250Z"
   },
   {
    "duration": 1490,
    "start_time": "2023-03-21T08:08:41.733Z"
   },
   {
    "duration": 10,
    "start_time": "2023-03-21T08:08:43.225Z"
   },
   {
    "duration": 607,
    "start_time": "2023-03-21T08:08:43.236Z"
   },
   {
    "duration": 5,
    "start_time": "2023-03-21T08:08:43.844Z"
   },
   {
    "duration": 271,
    "start_time": "2023-03-21T08:08:43.851Z"
   },
   {
    "duration": 500,
    "start_time": "2023-03-21T08:08:44.124Z"
   },
   {
    "duration": 2601,
    "start_time": "2023-03-21T08:08:44.626Z"
   },
   {
    "duration": 1471,
    "start_time": "2023-03-21T08:08:47.229Z"
   },
   {
    "duration": 548,
    "start_time": "2023-03-21T08:08:48.701Z"
   },
   {
    "duration": 401,
    "start_time": "2023-03-21T08:08:49.250Z"
   },
   {
    "duration": 490,
    "start_time": "2023-03-21T08:08:49.653Z"
   },
   {
    "duration": 335,
    "start_time": "2023-03-21T08:08:50.145Z"
   },
   {
    "duration": 293,
    "start_time": "2023-03-21T08:08:50.482Z"
   },
   {
    "duration": 6,
    "start_time": "2023-03-21T08:08:50.777Z"
   },
   {
    "duration": 40,
    "start_time": "2023-03-21T08:08:50.784Z"
   },
   {
    "duration": 8,
    "start_time": "2023-03-21T08:08:50.825Z"
   },
   {
    "duration": 49,
    "start_time": "2023-03-21T09:39:14.872Z"
   },
   {
    "duration": 0,
    "start_time": "2023-03-21T09:39:14.923Z"
   },
   {
    "duration": 0,
    "start_time": "2023-03-21T09:39:14.924Z"
   },
   {
    "duration": 0,
    "start_time": "2023-03-21T09:39:14.925Z"
   },
   {
    "duration": 0,
    "start_time": "2023-03-21T09:39:14.926Z"
   },
   {
    "duration": 0,
    "start_time": "2023-03-21T09:39:14.927Z"
   },
   {
    "duration": 0,
    "start_time": "2023-03-21T09:39:14.928Z"
   },
   {
    "duration": 0,
    "start_time": "2023-03-21T09:39:14.929Z"
   },
   {
    "duration": 0,
    "start_time": "2023-03-21T09:39:14.930Z"
   },
   {
    "duration": 0,
    "start_time": "2023-03-21T09:39:14.931Z"
   },
   {
    "duration": 30,
    "start_time": "2023-03-21T09:39:14.932Z"
   },
   {
    "duration": 0,
    "start_time": "2023-03-21T09:39:14.964Z"
   },
   {
    "duration": 0,
    "start_time": "2023-03-21T09:39:14.965Z"
   },
   {
    "duration": 7,
    "start_time": "2023-03-21T09:39:14.966Z"
   },
   {
    "duration": 0,
    "start_time": "2023-03-21T09:39:14.974Z"
   },
   {
    "duration": 0,
    "start_time": "2023-03-21T09:39:14.975Z"
   },
   {
    "duration": 0,
    "start_time": "2023-03-21T09:39:14.976Z"
   },
   {
    "duration": 0,
    "start_time": "2023-03-21T09:39:14.978Z"
   },
   {
    "duration": 0,
    "start_time": "2023-03-21T09:39:14.979Z"
   },
   {
    "duration": 6,
    "start_time": "2023-03-21T09:39:14.981Z"
   },
   {
    "duration": 0,
    "start_time": "2023-03-21T09:39:14.989Z"
   },
   {
    "duration": 15,
    "start_time": "2023-03-21T09:39:14.991Z"
   },
   {
    "duration": 48,
    "start_time": "2023-03-21T09:39:15.016Z"
   },
   {
    "duration": 0,
    "start_time": "2023-03-21T09:39:15.066Z"
   },
   {
    "duration": 0,
    "start_time": "2023-03-21T09:39:15.067Z"
   },
   {
    "duration": 0,
    "start_time": "2023-03-21T09:39:15.068Z"
   },
   {
    "duration": 0,
    "start_time": "2023-03-21T09:39:15.070Z"
   },
   {
    "duration": 0,
    "start_time": "2023-03-21T09:39:15.071Z"
   },
   {
    "duration": 0,
    "start_time": "2023-03-21T09:39:15.072Z"
   },
   {
    "duration": 0,
    "start_time": "2023-03-21T09:39:15.072Z"
   },
   {
    "duration": 0,
    "start_time": "2023-03-21T09:39:15.074Z"
   },
   {
    "duration": 0,
    "start_time": "2023-03-21T09:39:15.075Z"
   },
   {
    "duration": 702,
    "start_time": "2023-03-21T09:40:59.898Z"
   },
   {
    "duration": 24580,
    "start_time": "2023-03-21T09:41:00.601Z"
   },
   {
    "duration": 795,
    "start_time": "2023-03-21T09:41:25.183Z"
   },
   {
    "duration": 13,
    "start_time": "2023-03-21T09:41:25.979Z"
   },
   {
    "duration": 28,
    "start_time": "2023-03-21T09:41:26.061Z"
   },
   {
    "duration": 4299,
    "start_time": "2023-03-21T09:41:26.090Z"
   },
   {
    "duration": 4374,
    "start_time": "2023-03-21T09:41:30.391Z"
   },
   {
    "duration": 718,
    "start_time": "2023-03-21T09:41:34.767Z"
   },
   {
    "duration": 2585,
    "start_time": "2023-03-21T09:41:35.487Z"
   },
   {
    "duration": 1491,
    "start_time": "2023-03-21T09:41:38.073Z"
   },
   {
    "duration": 2611,
    "start_time": "2023-03-21T09:41:39.566Z"
   },
   {
    "duration": 101,
    "start_time": "2023-03-21T09:41:42.179Z"
   },
   {
    "duration": 683,
    "start_time": "2023-03-21T09:41:42.282Z"
   },
   {
    "duration": 523,
    "start_time": "2023-03-21T09:41:42.968Z"
   },
   {
    "duration": 83,
    "start_time": "2023-03-21T09:41:43.493Z"
   },
   {
    "duration": 592,
    "start_time": "2023-03-21T09:41:43.578Z"
   },
   {
    "duration": 1794,
    "start_time": "2023-03-21T09:41:44.171Z"
   },
   {
    "duration": 9,
    "start_time": "2023-03-21T09:41:45.967Z"
   },
   {
    "duration": 540,
    "start_time": "2023-03-21T09:41:45.978Z"
   },
   {
    "duration": 46,
    "start_time": "2023-03-21T09:41:46.520Z"
   },
   {
    "duration": 294,
    "start_time": "2023-03-21T09:41:46.568Z"
   },
   {
    "duration": 503,
    "start_time": "2023-03-21T09:41:46.864Z"
   },
   {
    "duration": 3137,
    "start_time": "2023-03-21T09:41:47.369Z"
   },
   {
    "duration": 1975,
    "start_time": "2023-03-21T09:41:50.508Z"
   },
   {
    "duration": 677,
    "start_time": "2023-03-21T09:41:52.485Z"
   },
   {
    "duration": 499,
    "start_time": "2023-03-21T09:41:53.164Z"
   },
   {
    "duration": 516,
    "start_time": "2023-03-21T09:41:53.664Z"
   },
   {
    "duration": 486,
    "start_time": "2023-03-21T09:41:54.182Z"
   },
   {
    "duration": 358,
    "start_time": "2023-03-21T09:41:54.670Z"
   },
   {
    "duration": 542,
    "start_time": "2023-03-21T09:41:55.030Z"
   },
   {
    "duration": 395,
    "start_time": "2023-03-21T09:41:55.573Z"
   },
   {
    "duration": 495,
    "start_time": "2023-03-21T09:41:55.970Z"
   },
   {
    "duration": 323,
    "start_time": "2023-03-21T09:41:56.467Z"
   },
   {
    "duration": 776,
    "start_time": "2023-03-21T09:44:49.231Z"
   },
   {
    "duration": 25461,
    "start_time": "2023-03-21T09:44:50.009Z"
   },
   {
    "duration": 712,
    "start_time": "2023-03-21T09:45:15.473Z"
   },
   {
    "duration": 81,
    "start_time": "2023-03-21T09:45:16.188Z"
   },
   {
    "duration": 31,
    "start_time": "2023-03-21T09:45:16.270Z"
   },
   {
    "duration": 4494,
    "start_time": "2023-03-21T09:45:16.303Z"
   },
   {
    "duration": 4697,
    "start_time": "2023-03-21T09:45:20.799Z"
   },
   {
    "duration": 765,
    "start_time": "2023-03-21T09:45:25.498Z"
   },
   {
    "duration": 2867,
    "start_time": "2023-03-21T09:45:26.265Z"
   },
   {
    "duration": 1544,
    "start_time": "2023-03-21T09:45:29.166Z"
   },
   {
    "duration": 2739,
    "start_time": "2023-03-21T09:45:30.762Z"
   },
   {
    "duration": 43,
    "start_time": "2023-03-21T09:45:33.562Z"
   },
   {
    "duration": 778,
    "start_time": "2023-03-21T09:45:33.607Z"
   },
   {
    "duration": 422,
    "start_time": "2023-03-21T09:45:34.461Z"
   },
   {
    "duration": 90,
    "start_time": "2023-03-21T09:45:34.885Z"
   },
   {
    "duration": 607,
    "start_time": "2023-03-21T09:45:34.977Z"
   },
   {
    "duration": 1776,
    "start_time": "2023-03-21T09:45:35.586Z"
   },
   {
    "duration": 8,
    "start_time": "2023-03-21T09:45:37.364Z"
   },
   {
    "duration": 526,
    "start_time": "2023-03-21T09:45:37.374Z"
   },
   {
    "duration": 64,
    "start_time": "2023-03-21T09:45:37.902Z"
   },
   {
    "duration": 306,
    "start_time": "2023-03-21T09:45:37.968Z"
   },
   {
    "duration": 517,
    "start_time": "2023-03-21T09:45:38.276Z"
   },
   {
    "duration": 3276,
    "start_time": "2023-03-21T09:45:38.795Z"
   },
   {
    "duration": 1706,
    "start_time": "2023-03-21T09:45:42.073Z"
   },
   {
    "duration": 686,
    "start_time": "2023-03-21T09:45:43.781Z"
   },
   {
    "duration": 505,
    "start_time": "2023-03-21T09:45:44.469Z"
   },
   {
    "duration": 527,
    "start_time": "2023-03-21T09:45:44.977Z"
   },
   {
    "duration": 399,
    "start_time": "2023-03-21T09:45:45.564Z"
   },
   {
    "duration": 365,
    "start_time": "2023-03-21T09:45:45.965Z"
   },
   {
    "duration": 522,
    "start_time": "2023-03-21T09:45:46.363Z"
   },
   {
    "duration": 393,
    "start_time": "2023-03-21T09:45:46.887Z"
   },
   {
    "duration": 417,
    "start_time": "2023-03-21T09:45:47.282Z"
   },
   {
    "duration": 400,
    "start_time": "2023-03-21T09:45:47.701Z"
   },
   {
    "duration": 757,
    "start_time": "2023-03-21T09:57:06.023Z"
   },
   {
    "duration": 26297,
    "start_time": "2023-03-21T09:57:06.781Z"
   },
   {
    "duration": 812,
    "start_time": "2023-03-21T09:57:33.080Z"
   },
   {
    "duration": 85,
    "start_time": "2023-03-21T09:57:33.896Z"
   },
   {
    "duration": 40,
    "start_time": "2023-03-21T09:57:33.983Z"
   },
   {
    "duration": 4947,
    "start_time": "2023-03-21T09:57:34.025Z"
   },
   {
    "duration": 5392,
    "start_time": "2023-03-21T09:57:38.975Z"
   },
   {
    "duration": 824,
    "start_time": "2023-03-21T09:57:44.368Z"
   },
   {
    "duration": 3279,
    "start_time": "2023-03-21T09:57:45.196Z"
   },
   {
    "duration": 1683,
    "start_time": "2023-03-21T09:57:48.482Z"
   },
   {
    "duration": 3228,
    "start_time": "2023-03-21T09:57:50.168Z"
   },
   {
    "duration": 95,
    "start_time": "2023-03-21T09:57:53.398Z"
   },
   {
    "duration": 968,
    "start_time": "2023-03-21T09:57:53.495Z"
   },
   {
    "duration": 527,
    "start_time": "2023-03-21T09:57:54.465Z"
   },
   {
    "duration": 84,
    "start_time": "2023-03-21T09:57:54.994Z"
   },
   {
    "duration": 707,
    "start_time": "2023-03-21T09:57:55.080Z"
   },
   {
    "duration": 2190,
    "start_time": "2023-03-21T09:57:55.788Z"
   },
   {
    "duration": 9,
    "start_time": "2023-03-21T09:57:57.980Z"
   },
   {
    "duration": 598,
    "start_time": "2023-03-21T09:57:57.990Z"
   },
   {
    "duration": 6,
    "start_time": "2023-03-21T09:57:58.590Z"
   },
   {
    "duration": 294,
    "start_time": "2023-03-21T09:57:58.598Z"
   },
   {
    "duration": 568,
    "start_time": "2023-03-21T09:57:58.896Z"
   },
   {
    "duration": 4006,
    "start_time": "2023-03-21T09:57:59.466Z"
   },
   {
    "duration": 2118,
    "start_time": "2023-03-21T09:58:03.475Z"
   },
   {
    "duration": 675,
    "start_time": "2023-03-21T09:58:05.596Z"
   },
   {
    "duration": 556,
    "start_time": "2023-03-21T09:58:06.272Z"
   },
   {
    "duration": 557,
    "start_time": "2023-03-21T09:58:06.831Z"
   },
   {
    "duration": 583,
    "start_time": "2023-03-21T09:58:07.392Z"
   },
   {
    "duration": 597,
    "start_time": "2023-03-21T09:58:07.977Z"
   },
   {
    "duration": 621,
    "start_time": "2023-03-21T09:58:08.577Z"
   },
   {
    "duration": 574,
    "start_time": "2023-03-21T09:58:09.200Z"
   },
   {
    "duration": 527,
    "start_time": "2023-03-21T09:58:09.776Z"
   },
   {
    "duration": 265,
    "start_time": "2023-03-21T09:58:10.305Z"
   }
  ],
  "colab": {
   "name": "PySparkSprint.ipynb",
   "provenance": []
  },
  "kernelspec": {
   "display_name": "Python 3 (ipykernel)",
   "language": "python",
   "name": "python3"
  },
  "language_info": {
   "codemirror_mode": {
    "name": "ipython",
    "version": 3
   },
   "file_extension": ".py",
   "mimetype": "text/x-python",
   "name": "python",
   "nbconvert_exporter": "python",
   "pygments_lexer": "ipython3",
   "version": "3.9.13"
  },
  "toc": {
   "base_numbering": 1,
   "nav_menu": {},
   "number_sections": true,
   "sideBar": true,
   "skip_h1_title": true,
   "title_cell": "Table of Contents",
   "title_sidebar": "Contents",
   "toc_cell": false,
   "toc_position": {},
   "toc_section_display": true,
   "toc_window_display": false
  }
 },
 "nbformat": 4,
 "nbformat_minor": 5
}
